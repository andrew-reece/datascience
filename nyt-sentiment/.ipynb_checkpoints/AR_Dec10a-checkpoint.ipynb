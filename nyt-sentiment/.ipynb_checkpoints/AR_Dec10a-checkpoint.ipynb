{
 "metadata": {
  "name": ""
 },
 "nbformat": 3,
 "nbformat_minor": 0,
 "worksheets": [
  {
   "cells": [
    {
     "cell_type": "code",
     "collapsed": false,
     "input": [
      "# Not sure what we'll need exactly, so just importing all the usual suspects here\n",
      "%matplotlib inline\n",
      "\n",
      "\n",
      "import json\n",
      "import requests\n",
      "import pandas as pd\n",
      "import numpy as np\n",
      "import matplotlib.pyplot as plt\n",
      "\n",
      "\n",
      "from sklearn.feature_extraction.text import CountVectorizer\n",
      "from sklearn import linear_model\n",
      "import nltk\n",
      "from nltk.corpus import stopwords #If this line doesn't work, use nltk.downloads() and download corpus#\n",
      "from collections import defaultdict \n",
      "from sklearn.feature_extraction.text import CountVectorizer\n",
      "\n",
      "# set some nicer defaults for matplotlib\n",
      "from matplotlib import rcParams\n",
      "\n",
      "#these colors come from colorbrewer2.org. Each is an RGB triplet\n",
      "dark2_colors = [(0.10588235294117647, 0.6196078431372549, 0.4666666666666667),\n",
      "                (0.8509803921568627, 0.37254901960784315, 0.00784313725490196),\n",
      "                (0.4588235294117647, 0.4392156862745098, 0.7019607843137254),\n",
      "                (0.9058823529411765, 0.1607843137254902, 0.5411764705882353),\n",
      "                (0.4, 0.6509803921568628, 0.11764705882352941),\n",
      "                (0.9019607843137255, 0.6705882352941176, 0.00784313725490196),\n",
      "                (0.6509803921568628, 0.4627450980392157, 0.11372549019607843),\n",
      "                (0.4, 0.4, 0.4)]\n",
      "\n",
      "rcParams['figure.figsize'] = (10, 6)\n",
      "rcParams['figure.dpi'] = 150\n",
      "rcParams['axes.color_cycle'] = dark2_colors\n",
      "rcParams['lines.linewidth'] = 2\n",
      "rcParams['axes.grid'] = False\n",
      "rcParams['axes.facecolor'] = 'white'\n",
      "rcParams['font.size'] = 14\n",
      "rcParams['patch.edgecolor'] = 'none'\n"
     ],
     "language": "python",
     "metadata": {},
     "outputs": [],
     "prompt_number": 181
    },
    {
     "cell_type": "code",
     "collapsed": false,
     "input": [
      "## NYT API keys\n",
      "api_key_article = \"851E7D0A131BEE9BC01097470C238637:13:47475506\"\n",
      "api_key_popular = \"09dfaf288ad6c2ec46893a27ca758d41:19:47475506\"\n"
     ],
     "language": "python",
     "metadata": {},
     "outputs": [],
     "prompt_number": 182
    },
    {
     "cell_type": "heading",
     "level": 3,
     "metadata": {},
     "source": [
      "FUNCTIONS"
     ]
    },
    {
     "cell_type": "code",
     "collapsed": false,
     "input": [
      "def call_nyt_api(api, url_base, api_key, range_min, range_max, increment):\n",
      "\n",
      "    dicts = []\n",
      "    \n",
      "    ## range_min, range_max, increment, page_param and offset determine how often we request new pages of api calls\n",
      "    ## they're called different things in the two APIs, thus all the hoopla\n",
      "    ## we basically want to have about 100 unique articles in each category\n",
      "    \n",
      "    page_param = \"&offset=\" if api == \"POPULAR\" else \"&page=\"\n",
      "    \n",
      "    for offset in range(range_min, range_max, increment):\n",
      "\n",
      "        print 'running range:',offset,'to',offset+increment,'\\n'\n",
      "        \n",
      "        url = ''.join([url_base,\n",
      "                        api_key,\n",
      "                        page_param,\n",
      "                        str(offset)])\n",
      "        ## print url\n",
      "        \n",
      "## get raw html for each article\n",
      "        \n",
      "        api_response = requests.get(url).text\n",
      "        \n",
      "        jsons = json.loads(api_response)\n",
      "\n",
      "        try:\n",
      "            json_dict = jsons[\"results\"] if api == 'POPULAR' else jsons[\"response\"][\"docs\"]\n",
      "        except:\n",
      "            continue\n",
      "            \n",
      "        dicts.append(json_dict)    \n",
      "        \n",
      "    return dicts"
     ],
     "language": "python",
     "metadata": {},
     "outputs": [],
     "prompt_number": 183
    },
    {
     "cell_type": "code",
     "collapsed": false,
     "input": [
      "def make_soup(url):\n",
      "    \n",
      "## load raw html from url\n",
      "\n",
      "    raw_article_html = requests.get(url).text\n",
      "     \n",
      "## create soup object for parsing\n",
      "\n",
      "    soup = BeautifulSoup(raw_article_html)\n",
      "    \n",
      "    return soup\n",
      "    "
     ],
     "language": "python",
     "metadata": {},
     "outputs": [],
     "prompt_number": 184
    },
    {
     "cell_type": "code",
     "collapsed": false,
     "input": [
      "def get_article_title(json, api):\n",
      "    \n",
      "    title = json[\"title\"] if api == 'POPULAR' else json[\"headline\"][\"main\"]\n",
      "    \n",
      "    return title\n"
     ],
     "language": "python",
     "metadata": {},
     "outputs": [],
     "prompt_number": 185
    },
    {
     "cell_type": "code",
     "collapsed": false,
     "input": [
      "def get_article_metadata(soup, j, api):\n",
      "   \n",
      "    ## get title\n",
      "    \n",
      "    title = get_article_title(j, api)\n",
      "            \n",
      "    ## print title\n",
      "    \n",
      "    ## NB:\n",
      "    ## since it's December, \n",
      "    ## there are a few 'best of 2013' articles and reviews which are really mostly blurbs and links\n",
      "    ## this search pattern flags those articles for exclusion later\n",
      "    \n",
      "    its_a_survey = re.search('of 2013$', title)\n",
      "    \n",
      "    survey = True if its_a_survey else False\n",
      "    \n",
      "    ## get section name\n",
      "    ## eg. World, U.S., Books, Science\n",
      "    \n",
      "    section_formal = j[\"section\"] if api == 'POPULAR' else j[\"section_name\"]\n",
      "    \n",
      "    ## an exclusion criterion...'Corrections' means amendments to previous articles, they're not really articles.\n",
      "    \n",
      "    corrections = True if section_formal == \"Corrections\" else False\n",
      "    \n",
      "## after looking through the actual article page source code\n",
      "## we can see that the unique article id is stored in a meta tag:\n",
      "## <meta content=\"100000002558432\" itemprop=\"identifier\" name=\"articleid\"/>\n",
      "\n",
      "## there's also some other metadata we're interested in:\n",
      "## eg. <meta name=\"PT\" content=\"Article\">\n",
      "\n",
      "## so we parse out the content of these tags in order to get relevant metadata\n",
      "\n",
      "## first get content type and genre (eg. 'Article / News')\n",
      "\n",
      "## we make each a try/except block to prevent random errors that sometimes do show up\n",
      "\n",
      "    try:\n",
      "        content_type = soup.find(\"meta\", attrs={\"name\":\"PT\"}).attrs[\"content\"]\n",
      "    except:\n",
      "        content_type = ''\n",
      "        \n",
      "        \n",
      "    try:\n",
      "        content_genre = soup.find(\"meta\", attrs={\"name\":\"PST\"}).attrs[\"content\"]\n",
      "    except:\n",
      "        content_genre = ''\n",
      "        \n",
      "        \n",
      "    try:\n",
      "        author = soup.find(\"meta\", attrs={\"name\":\"author\"}).attrs[\"content\"]\n",
      "    except:\n",
      "        author = ''\n",
      "    \n",
      "    nyt_original = False if author == \"THE ASSOCIATED PRESS\" else True\n",
      "    \n",
      "    \n",
      "    try:\n",
      "        page_num = soup.find(\"span\", attrs={\"itemprop\":\"printPage\"}).string\n",
      "    except:\n",
      "        page_num = ''\n",
      "        ## NB: on some blogs, the page number is in a block of text, and we'd need to do regex extraction to get it.\n",
      "        ##\n",
      "        ## eg. http://well.blogs.nytimes.com/2013/11/11/women-find-orgasms-elusive-in-hookups/\n",
      "        ## at the end of the actual article text there's this <h6> tag:\n",
      "        ## <h6 class=\"metaFootnote\">A version of this article appears in print on 11/12/2013, on page D1 of the NewYork edition with the headline: In Hookups, Inequality Still Reigns.</h6>\n",
      "   \n",
      "        \n",
      "    try:\n",
      "        category = soup.find(\"meta\", attrs={\"name\":\"CG\"}).attrs[\"content\"]\n",
      "    except:\n",
      "        category = ''\n",
      "        \n",
      "        \n",
      "    try:\n",
      "        sub_category = soup.find(\"meta\", attrs={\"name\":\"SCG\"}).attrs[\"content\"]\n",
      "    except:\n",
      "        sub_category = ''\n",
      "        \n",
      "        \n",
      "    if content_type == \"Blogs\":\n",
      "        \n",
      "        id_tag = soup.find(\"meta\", attrs={\"name\":\"communityMD5\"})\n",
      "        \n",
      "    else:\n",
      "        \n",
      "        id_tag = soup.find(\"meta\", attrs={\"itemprop\": \"identifier\", \"name\":\"articleid\"})\n",
      "\n",
      "        \n",
      "    article_id = id_tag.attrs[\"content\"] if (id_tag) else ''\n",
      "                \n",
      "## NYT only gives word_length metadata on the Article API, not on Most Popular\n",
      "## we compute it later on if it doesn't show up here\n",
      "\n",
      "    try:    \n",
      "        \n",
      "        word_count = j[\"word_count\"]\n",
      "        \n",
      "    except KeyError:\n",
      "        \n",
      "        word_count = ''    \n",
      "        \n",
      "        \n",
      "## 'include' evaluates all the exclusion criteria for an article\n",
      "## ie. True = keep article, False = discard article\n",
      "\n",
      "    bad_word_count = (not(word_count > 20 or word_count == ''))\n",
      "    \n",
      "    bad_genre = ( (content_genre == \"Obituary (Obit)\") or (content_genre == \"Schedule\") or (content_genre == \"List\") or (content_genre == \"Brief\") or (content_genre == \"Text\") or corrections or survey)\n",
      "\n",
      "    good_article_type = ((content_type == \"Blogs\") or (content_type == \"Article\"))\n",
      "    \n",
      "    include = False if (not nyt_original) or bad_word_count or (not good_article_type) or bad_genre else True\n",
      "  \n",
      "    metadata = {\n",
      "                \"article_id\":article_id,\n",
      "                \"title\":title,\n",
      "                \"content_type\":content_type,\n",
      "                \"genre\":content_genre,\n",
      "                \"section_formal\":section_formal,\n",
      "                \"section\":category,\n",
      "                \"sub_category\":sub_category,\n",
      "                \"author\":author,\n",
      "                \"page_num\":page_num,\n",
      "                \"word_count\":word_count,\n",
      "                \"include\":include\n",
      "                }\n",
      "    \n",
      "    return metadata\n"
     ],
     "language": "python",
     "metadata": {},
     "outputs": [],
     "prompt_number": 286
    },
    {
     "cell_type": "code",
     "collapsed": false,
     "input": [
      "##\n",
      "## get article text\n",
      "##\n",
      "\n",
      "\n",
      "## helper function for beautiful soup\n",
      "##\n",
      "def is_p_and_has_no_class(tag):\n",
      "    \n",
      "    return (not tag.has_attr('class')) and (tag.name=='p')\n",
      "\n",
      "\n",
      "\n",
      "## main function\n",
      "##\n",
      "def get_article_text(soup, content_type, genre):\n",
      "\n",
      "    article_body = []\n",
      "        \n",
      "    ## after looking through the actual article page source code\n",
      "    ## we can see that this 'itemprop' attribute stores all blocks of article text\n",
      "    ## so we parse out only these blocks from the whole text dump (there are lots of ads, images, menus, etc)\n",
      "    \n",
      "    ## text scraping requires finding the different tags that mark article body text in each section\n",
      "    #  eg. slightly different with blogs & reviews than with regular news \n",
      "\n",
      "    if content_type == \"Blogs\":\n",
      "    \n",
      "        text = soup.findAll(is_p_and_has_no_class)\n",
      "\n",
      "    elif genre == \"Review\":\n",
      "        \n",
      "        text = soup.findAll(itemprop=\"reviewBody\")\n",
      "        \n",
      "    else:\n",
      "        \n",
      "        text = soup.findAll(\"p\", attrs={\"itemprop\":\"articleBody\"})\n",
      "    \n",
      "    ## testing\n",
      "    ## print 'this is the article text:',text\n",
      "    \n",
      "    return text\n"
     ],
     "language": "python",
     "metadata": {},
     "outputs": [],
     "prompt_number": 187
    },
    {
     "cell_type": "code",
     "collapsed": false,
     "input": [
      "def cleanup_text(text, content_type):\n",
      "    \n",
      "## apostrophes (') get turned into a funny French a\n",
      "## so we sub back in ' with regex\n",
      "## we also get rid of carriage returns and other useless whitespace \n",
      "\n",
      "    remove_a = re.compile(u'\u00e2')\n",
      "    remove_w = re.compile('[\\n\\r\\t]')  \n",
      "    remove_comma = re.compile(',')\n",
      "    \n",
      "    ptags = []\n",
      "\n",
      "    try:   \n",
      "        \n",
      "        ct = 0   ## this counter is for error handling\n",
      "        for t in text:\n",
      "            \n",
      "            ct+=1\n",
      "            \n",
      "            try:\n",
      "                \n",
      "                \n",
      "                for x in t.descendants:\n",
      "                    \n",
      "                    ad_text = re.match('(Get unlimited access)|(All print options include)', x.string)\n",
      "                    \n",
      "                    if (not x.name) and (not ad_text):\n",
      "                \n",
      "                        ptags.append(x.string)\n",
      "                \n",
      "            except:\n",
      "                \n",
      "                print 'failed at:',ct    ## some blogs barf on the <p> html structure for some reason\n",
      "                break\n",
      "   \n",
      "        ptags = [ remove_a.sub(r\"\", p) for p in ptags ]\n",
      "\n",
      "        ptags = [ remove_w.sub(r\"\", p) for p in ptags ]\n",
      "\n",
      "        ptags = [ remove_comma.sub(r\"\", p) for p in ptags ]\n",
      "\n",
      "        cleaned_text = ' '.join(ptags)\n",
      "        \n",
      "    except:\n",
      "        #print text\n",
      "        cleaned_text = 'error_text'\n",
      "     \n",
      "    #print text\n",
      "    return cleaned_text\n"
     ],
     "language": "python",
     "metadata": {},
     "outputs": [],
     "prompt_number": 278
    },
    {
     "cell_type": "code",
     "collapsed": false,
     "input": [
      "## extract article body text from raw html\n",
      "\n",
      "def extract_articles(api, jsons, target_count=0):\n",
      "\n",
      "## the API return only gives us metadata and lead paragraph\n",
      "## but we do get the URL\n",
      "## so here we load each article URL and scrape the text\n",
      "## then we store the actual article text bodies in a list\n",
      "\n",
      "    articles = []\n",
      "    \n",
      "    popular = 1 if api == \"POPULAR\" else 0\n",
      "    \n",
      "    ## counter is for matching roughly the same number of popular and non-popular articles\n",
      "    ## we do popular articles first.  so when collecting unpopular articles, we keep a running count,\n",
      "    ## and when we match the number of popular articles already collected, we can stop scraping.\n",
      "    counter = 0\n",
      "    \n",
      "## STEPS IN THIS CODE BLOCK:\n",
      "##\n",
      "## 1) loop through each article's json\n",
      "## 2) make soup for parsing\n",
      "## 3) grab metadata\n",
      "## 4) scrape article text from url\n",
      "## 5) clean article text\n",
      "## 6) store in master list of articles\n",
      "\n",
      "## NB: The Article and Most Popular APIs have different json trees, \n",
      "## so at times we need conditional branches to assign the correct paths to the nodes we want\n",
      "    \n",
      "    \n",
      "    \n",
      "    for json_set in jsons:\n",
      "    \n",
      "    #1\n",
      "        for j in json_set:\n",
      "         \n",
      "            if not popular:\n",
      "                \n",
      "                if counter >= target_count: break\n",
      "                else: counter += 1\n",
      "            \n",
      "        #2\n",
      "            url = j[\"url\"] if api == 'POPULAR' else j[\"web_url\"]\n",
      "            \n",
      "            ## print url\n",
      "            \n",
      "            soup = make_soup(url) \n",
      "   \n",
      "        #3  \n",
      "            metadata = get_article_metadata(soup, j, api)\n",
      "\n",
      "            print metadata[\"title\"]\n",
      "        #4\n",
      "            text = get_article_text(soup, content_type, content_genre)\n",
      "            \n",
      "        #5                 \n",
      "            cleaned_text = cleanup_text(text, content_type)\n",
      "                \n",
      "        #6\n",
      "            \n",
      "            if (metadata[\"include\"]):\n",
      "                    \n",
      "                articles.append([metadata[\"article_id\"], \n",
      "                                 popular, \n",
      "                                 metadata[\"content_type\"], \n",
      "                                 metadata[\"genre\"],\n",
      "                                 metadata[\"section_formal\"], \n",
      "                                 metadata[\"section\"],\n",
      "                                 metadata[\"sub_category\"],\n",
      "                                 metadata[\"title\"],\n",
      "                                 metadata[\"author\"],\n",
      "                                 metadata[\"word_count\"],\n",
      "                                 url,\n",
      "                                 metadata[\"page_num\"],  \n",
      "                                 cleaned_text])\n",
      "\n",
      "    return articles"
     ],
     "language": "python",
     "metadata": {},
     "outputs": [],
     "prompt_number": 269
    },
    {
     "cell_type": "code",
     "collapsed": false,
     "input": [
      "def make_article_df(articles):\n",
      "    \n",
      "    df = pd.DataFrame(index = range(0,len(articles)), \n",
      "                              columns = [\"article_id\",\n",
      "                                         \"popular\",\n",
      "                                         \"content_type\",\n",
      "                                         \"genre\",\n",
      "                                         \"section_formal\",\n",
      "                                         \"section\",\n",
      "                                         \"sub-category\",\n",
      "                                         \"title\",\n",
      "                                         \"author\",\n",
      "                                         \"post_length\",\n",
      "                                         \"url\",\n",
      "                                         \"page_num\",\n",
      "                                         \"text\"])\n",
      "\n",
      "    for idx, a in enumerate(articles):\n",
      "    \n",
      "        df.ix[idx, \"article_id\"] = a[0]\n",
      "        df.ix[idx, \"popular\"] = a[1]\n",
      "        df.ix[idx, \"content_type\"] = a[2]\n",
      "        df.ix[idx, \"genre\"] = a[3]\n",
      "        df.ix[idx, \"section_formal\"] = a[4]\n",
      "        df.ix[idx, \"section\"] = a[5]\n",
      "        df.ix[idx, \"sub-category\"] = a[6]\n",
      "        df.ix[idx, \"title\"] = a[7]\n",
      "        df.ix[idx, \"author\"] = a[8]\n",
      "        df.ix[idx, \"post_length\"] = a[9]\n",
      "        df.ix[idx, \"url\"] = a[10]\n",
      "        df.ix[idx, \"page_num\"] = a[11]\n",
      "        df.ix[idx, \"text\"] = a[12]\n",
      "        \n",
      "    return df\n"
     ],
     "language": "python",
     "metadata": {},
     "outputs": [],
     "prompt_number": 190
    },
    {
     "cell_type": "code",
     "collapsed": false,
     "input": [
      "def get_date_range():\n",
      "   \n",
      "    today = time.strftime(\"%Y%m%d\", time.localtime())\n",
      "    \n",
      "    days_to_subtract = 30\n",
      "    \n",
      "    one_month_ago = date.today() - timedelta(days=days_to_subtract)\n",
      "\n",
      "    one_month_ago = one_month_ago.strftime(\"%Y%m%d\")\n",
      "\n",
      "    return today, one_month_ago"
     ],
     "language": "python",
     "metadata": {},
     "outputs": [],
     "prompt_number": 191
    },
    {
     "cell_type": "code",
     "collapsed": false,
     "input": [
      "def set_regular_api_url(start, end):\n",
      "    \n",
      "    url = ''.join([\"http://api.nytimes.com/svc/search/v2/articlesearch.json?begin_date=\", \n",
      "                   start, \n",
      "                   \"&end_date=\", \n",
      "                   end,  \n",
      "                   \"&facet_filter=true&api-key=\"\n",
      "                   ])\n",
      "    \n",
      "    return url"
     ],
     "language": "python",
     "metadata": {},
     "outputs": [],
     "prompt_number": 192
    },
    {
     "cell_type": "heading",
     "level": 3,
     "metadata": {},
     "source": [
      "DATA COLLECTION STARTS HERE"
     ]
    },
    {
     "cell_type": "code",
     "collapsed": false,
     "input": [
      "## NYT: MOST POPULAR\n",
      "## here, we grab the first 120 most shared articles from the past 30 days in NYT\n",
      "\n",
      "api = \"POPULAR\"\n",
      "popular_api_url = \"http://api.nytimes.com/svc/mostpopular/v2/mostviewed/all-sections/30.json?api-key=\"\n",
      "range_min = 0\n",
      "range_max = 100\n",
      "increment = 20\n",
      "\n",
      "popular_api_calls = call_nyt_api(api, popular_api_url, api_key_popular, range_min, range_max, increment)"
     ],
     "language": "python",
     "metadata": {},
     "outputs": [
      {
       "output_type": "stream",
       "stream": "stdout",
       "text": [
        "running range: 0 to 20 \n",
        "\n",
        "running range:"
       ]
      },
      {
       "output_type": "stream",
       "stream": "stdout",
       "text": [
        " 20 to 40 \n",
        "\n",
        "running range:"
       ]
      },
      {
       "output_type": "stream",
       "stream": "stdout",
       "text": [
        " 40 to 60 \n",
        "\n",
        "running range:"
       ]
      },
      {
       "output_type": "stream",
       "stream": "stdout",
       "text": [
        " 60 to 80 \n",
        "\n",
        "running range:"
       ]
      },
      {
       "output_type": "stream",
       "stream": "stdout",
       "text": [
        " 80 to 100 \n",
        "\n"
       ]
      }
     ],
     "prompt_number": 293
    },
    {
     "cell_type": "code",
     "collapsed": false,
     "input": [
      "api_type = \"POPULAR\"\n",
      "popular_articles = extract_articles( api_type, popular_api_calls )"
     ],
     "language": "python",
     "metadata": {},
     "outputs": [
      {
       "output_type": "stream",
       "stream": "stdout",
       "text": [
        "100 Notable Books of 2013\n",
        "failed at: 2\n",
        "A Cold War Fought by Women"
       ]
      },
      {
       "output_type": "stream",
       "stream": "stdout",
       "text": [
        "\n",
        "Baffling 400,000-Year-Old Clue to Human Origins"
       ]
      },
      {
       "output_type": "stream",
       "stream": "stdout",
       "text": [
        "\n",
        "A Russian GPS Using U.S. Soil Stirs Spy Fears"
       ]
      },
      {
       "output_type": "stream",
       "stream": "stdout",
       "text": [
        "\n",
        "Focus Turns to Investigation in Fatal Bronx Train Crash"
       ]
      },
      {
       "output_type": "stream",
       "stream": "stdout",
       "text": [
        "\n",
        "Car Mechanic Dreams Up a Tool to Ease Births"
       ]
      },
      {
       "output_type": "stream",
       "stream": "stdout",
       "text": [
        "\n",
        "Experts Reshape Treatment Guide for Cholesterol"
       ]
      },
      {
       "output_type": "stream",
       "stream": "stdout",
       "text": [
        "\n",
        "Partisan Fever in Senate Likely to Rise"
       ]
      },
      {
       "output_type": "stream",
       "stream": "stdout",
       "text": [
        "\n",
        "In Landmark Vote, Senate Limits Use of the Filibuster"
       ]
      },
      {
       "output_type": "stream",
       "stream": "stdout",
       "text": [
        "\n",
        "Wage Strikes Planned at Fast-Food Outlets"
       ]
      },
      {
       "output_type": "stream",
       "stream": "stdout",
       "text": [
        "\n",
        "The Power of a Daily Bout of Exercise"
       ]
      },
      {
       "output_type": "stream",
       "stream": "stdout",
       "text": [
        "\n",
        "In Hookups, Inequality Still Reigns "
       ]
      },
      {
       "output_type": "stream",
       "stream": "stdout",
       "text": [
        "\n",
        "Backlash by the Bay: Tech Riches Alter a City"
       ]
      },
      {
       "output_type": "stream",
       "stream": "stdout",
       "text": [
        "\n",
        "The 10 Best Books of 2013"
       ]
      },
      {
       "output_type": "stream",
       "stream": "stdout",
       "text": [
        "\n",
        "failed at: 3\n",
        "24,000-Year-Old Body Shows Kinship to Europeans and American Indians"
       ]
      },
      {
       "output_type": "stream",
       "stream": "stdout",
       "text": [
        "\n",
        "The Changing American Family"
       ]
      },
      {
       "output_type": "stream",
       "stream": "stdout",
       "text": [
        "\n",
        "Inside the Race to Rescue a Health Care Site, and Obama"
       ]
      },
      {
       "output_type": "stream",
       "stream": "stdout",
       "text": [
        "\n",
        "Chilling Look at Newtown Killer, but No \u2018Why\u2019"
       ]
      },
      {
       "output_type": "stream",
       "stream": "stdout",
       "text": [
        "\n",
        "What\u2019s He Really Like? Check the Lulu App"
       ]
      },
      {
       "output_type": "stream",
       "stream": "stdout",
       "text": [
        "\n",
        "Bloody End for Iranian Rockers Seeking Musical Freedom in U.S."
       ]
      },
      {
       "output_type": "stream",
       "stream": "stdout",
       "text": [
        "\n",
        "Obama Signals a Shift From Military Might to Diplomacy"
       ]
      },
      {
       "output_type": "stream",
       "stream": "stdout",
       "text": [
        "\n",
        "As Hospital Prices Soar, a Stitch Tops $500"
       ]
      },
      {
       "output_type": "stream",
       "stream": "stdout",
       "text": [
        "\n",
        "failed at: 63\n",
        "A Deep-Water Diver From Brooklyn Dies After Trying for a Record"
       ]
      },
      {
       "output_type": "stream",
       "stream": "stdout",
       "text": [
        "\n",
        "Why a Brisk Walk Is Better"
       ]
      },
      {
       "output_type": "stream",
       "stream": "stdout",
       "text": [
        "\n",
        "U.S. Sends Two B-52 Bombers Into Air Zone Claimed by China"
       ]
      },
      {
       "output_type": "stream",
       "stream": "stdout",
       "text": [
        "\n",
        "With Glut of Lonely Men, China Has an Approved Outlet for Unrequited Lust"
       ]
      },
      {
       "output_type": "stream",
       "stream": "stdout",
       "text": [
        "\n",
        "They Loved Your G.P.A. Then They Saw Your Tweets."
       ]
      },
      {
       "output_type": "stream",
       "stream": "stdout",
       "text": [
        "\n",
        "Protesters in Kiev Topple Lenin Statue as Rallies Grow"
       ]
      },
      {
       "output_type": "stream",
       "stream": "stdout",
       "text": [
        "\n",
        "Risk Calculator for Cholesterol Appears Flawed"
       ]
      },
      {
       "output_type": "stream",
       "stream": "stdout",
       "text": [
        "\n",
        "Night Falls, and 5Pointz, a Graffiti Mecca, Is Whited Out in Queens"
       ]
      },
      {
       "output_type": "stream",
       "stream": "stdout",
       "text": [
        "\n",
        "Obamacare\u2019s Secret Success"
       ]
      },
      {
       "output_type": "stream",
       "stream": "stdout",
       "text": [
        "\n",
        "The Nakeds Next Door"
       ]
      },
      {
       "output_type": "stream",
       "stream": "stdout",
       "text": [
        "\n",
        "Dispute Over Gay Marriage Erupts in Cheney Family "
       ]
      },
      {
       "output_type": "stream",
       "stream": "stdout",
       "text": [
        "\n",
        "failed at: 1\n",
        "Mandela\u2019s Death Leaves South Africa Without Its Moral Center"
       ]
      },
      {
       "output_type": "stream",
       "stream": "stdout",
       "text": [
        "\n",
        "Sleep Therapy Seen as an Aid for Depression"
       ]
      },
      {
       "output_type": "stream",
       "stream": "stdout",
       "text": [
        "\n",
        "Quitting the N.F.L.: For John Moffitt, the Money Wasn\u2019t Worth It"
       ]
      },
      {
       "output_type": "stream",
       "stream": "stdout",
       "text": [
        "\n",
        "Switzerland\u2019s Proposal to Pay People for Being Alive"
       ]
      },
      {
       "output_type": "stream",
       "stream": "stdout",
       "text": [
        "\n",
        "Addiction Treatment With a Dark Side"
       ]
      },
      {
       "output_type": "stream",
       "stream": "stdout",
       "text": [
        "\n",
        "The Impossible Refugee Boat Lift to Christmas Island"
       ]
      },
      {
       "output_type": "stream",
       "stream": "stdout",
       "text": [
        "\n",
        "failed at: 3\n",
        "Art Makes You Smart"
       ]
      },
      {
       "output_type": "stream",
       "stream": "stdout",
       "text": [
        "\n",
        "A Permanent Slump?"
       ]
      },
      {
       "output_type": "stream",
       "stream": "stdout",
       "text": [
        "\n",
        "Sex as Exercise"
       ]
      },
      {
       "output_type": "stream",
       "stream": "stdout",
       "text": [
        "\n",
        "Jacqueline Kennedy\u2019s Smart Pink Suit, Preserved in Memory and Kept Out of View"
       ]
      },
      {
       "output_type": "stream",
       "stream": "stdout",
       "text": [
        "\n",
        "A Diver\u2019s Rise, and Swift Death, at the Limits of a Growing Sport"
       ]
      },
      {
       "output_type": "stream",
       "stream": "stdout",
       "text": [
        "\n",
        "failed at: 65\n",
        "California, Here We Come?"
       ]
      },
      {
       "output_type": "stream",
       "stream": "stdout",
       "text": [
        "\n",
        "His Honor? Toronto\u2019s Mayor Rampages On, to City\u2019s Shame"
       ]
      },
      {
       "output_type": "stream",
       "stream": "stdout",
       "text": [
        "\n",
        "The Plot Against France"
       ]
      },
      {
       "output_type": "stream",
       "stream": "stdout",
       "text": [
        "\n",
        "Young and Educated in Europe, but Desperate for Jobs"
       ]
      },
      {
       "output_type": "stream",
       "stream": "stdout",
       "text": [
        "\n",
        "failed at: 64\n",
        "Accord Reached With Iran to Halt Nuclear Program"
       ]
      },
      {
       "output_type": "stream",
       "stream": "stdout",
       "text": [
        "\n",
        "The Woman in the Breast Cancer Photo Responds to Times Readers "
       ]
      },
      {
       "output_type": "stream",
       "stream": "stdout",
       "text": [
        "\n",
        "failed at: 3\n",
        "Katherine Harris\u2019s Husband Found Dead"
       ]
      },
      {
       "output_type": "stream",
       "stream": "stdout",
       "text": [
        "\n",
        "Perks Ease Way in Health Plans for Lawmakers"
       ]
      },
      {
       "output_type": "stream",
       "stream": "stdout",
       "text": [
        "\n",
        "Nelson Mandela, South Africa\u2019s Liberator as Prisoner and President, Dies at 95"
       ]
      },
      {
       "output_type": "stream",
       "stream": "stdout",
       "text": [
        "\n",
        "Scale of Destruction Slows Relief Efforts in Philippines"
       ]
      },
      {
       "output_type": "stream",
       "stream": "stdout",
       "text": [
        "\n",
        "Where Is the Love?"
       ]
      },
      {
       "output_type": "stream",
       "stream": "stdout",
       "text": [
        "\n",
        "Does My Virginity Have a Shelf Life?"
       ]
      },
      {
       "output_type": "stream",
       "stream": "stdout",
       "text": [
        "\n",
        "failed at: 5\n",
        "Health Law Rollout\u2019s Stumbles Draw Parallels to Bush\u2019s Hurricane Response"
       ]
      },
      {
       "output_type": "stream",
       "stream": "stdout",
       "text": [
        "\n",
        "Gynecologists Run Afoul of Panel When Patient Is Male"
       ]
      },
      {
       "output_type": "stream",
       "stream": "stdout",
       "text": [
        "\n",
        "In Israel, a Push to Screen for Cancer Gene Leaves Many Conflicted"
       ]
      },
      {
       "output_type": "stream",
       "stream": "stdout",
       "text": [
        "\n",
        "failed at: 71\n",
        "Better Pay Now"
       ]
      },
      {
       "output_type": "stream",
       "stream": "stdout",
       "text": [
        "\n",
        "How Doctors Die: Showing Others the Way"
       ]
      },
      {
       "output_type": "stream",
       "stream": "stdout",
       "text": [
        "\n",
        "At $142.4 Million, Triptych Is the Most Expensive Artwork Ever Sold at an Auction"
       ]
      },
      {
       "output_type": "stream",
       "stream": "stdout",
       "text": [
        "\n",
        "Eye on 2016, Clintons Rebuild Bond With Blacks"
       ]
      },
      {
       "output_type": "stream",
       "stream": "stdout",
       "text": [
        "\n",
        "Obama Gets Real"
       ]
      },
      {
       "output_type": "stream",
       "stream": "stdout",
       "text": [
        "\n",
        "The Year the Monarch Didn\u2019t Appear"
       ]
      },
      {
       "output_type": "stream",
       "stream": "stdout",
       "text": [
        "\n",
        "Airlines Urged by U.S. to Give Notice to China"
       ]
      },
      {
       "output_type": "stream",
       "stream": "stdout",
       "text": [
        "\n",
        "Coming Out as a Modern Family"
       ]
      },
      {
       "output_type": "stream",
       "stream": "stdout",
       "text": [
        "\n",
        "Obama Moves to Avert Cancellation of Insurance"
       ]
      },
      {
       "output_type": "stream",
       "stream": "stdout",
       "text": [
        "\n",
        "A Princess Finds Her Dark Side"
       ]
      },
      {
       "output_type": "stream",
       "stream": "stdout",
       "text": [
        "\n",
        "Obama in Bind Trying to Keep Health Law Vow"
       ]
      },
      {
       "output_type": "stream",
       "stream": "stdout",
       "text": [
        "\n",
        "Metro-North Train Sped at 82 M.P.H. Ahead of Curve in Fatal Crash"
       ]
      },
      {
       "output_type": "stream",
       "stream": "stdout",
       "text": [
        "\n",
        "Rejecting Billions, Snapchat Expects a Better Offer"
       ]
      },
      {
       "output_type": "stream",
       "stream": "stdout",
       "text": [
        "\n",
        "Don\u2019t Give More Patients Statins"
       ]
      },
      {
       "output_type": "stream",
       "stream": "stdout",
       "text": [
        "\n",
        "Spies Infiltrate a Fantasy Realm of Online Games"
       ]
      },
      {
       "output_type": "stream",
       "stream": "stdout",
       "text": [
        "\n",
        "Striking Where Myth Meets Moment"
       ]
      },
      {
       "output_type": "stream",
       "stream": "stdout",
       "text": [
        "\n",
        "Wall Street Mothers, Stay-Home Fathers"
       ]
      },
      {
       "output_type": "stream",
       "stream": "stdout",
       "text": [
        "\n",
        "failed at: 54\n",
        "The Gayest Place in America?"
       ]
      },
      {
       "output_type": "stream",
       "stream": "stdout",
       "text": [
        "\n",
        "Sticking by a Murderous Brother, and Paying for It Dearly"
       ]
      },
      {
       "output_type": "stream",
       "stream": "stdout",
       "text": [
        "\n",
        "Murder Charge in a Shooting on Doorstep"
       ]
      },
      {
       "output_type": "stream",
       "stream": "stdout",
       "text": [
        "\n",
        "Democracy Returns to the Senate"
       ]
      },
      {
       "output_type": "stream",
       "stream": "stdout",
       "text": [
        "\n",
        "Wine Cellar, Well Aged, Is Revealed in Israel"
       ]
      },
      {
       "output_type": "stream",
       "stream": "stdout",
       "text": [
        "\n",
        "Are We Alone in the Universe?"
       ]
      },
      {
       "output_type": "stream",
       "stream": "stdout",
       "text": [
        "\n",
        "Are Kids Too Coddled?"
       ]
      },
      {
       "output_type": "stream",
       "stream": "stdout",
       "text": [
        "\n",
        "Long on Cutting Edge of Print, New York Magazine Cuts Back"
       ]
      },
      {
       "output_type": "stream",
       "stream": "stdout",
       "text": [
        "\n",
        "Detroit Ruling on Bankruptcy Lifts Pension Protections"
       ]
      },
      {
       "output_type": "stream",
       "stream": "stdout",
       "text": [
        "\n",
        "Learning How to Die in the Anthropocene"
       ]
      },
      {
       "output_type": "stream",
       "stream": "stdout",
       "text": [
        "\n",
        "failed at: 5\n",
        "Medicaid Growth Could Aggravate Doctor Shortage"
       ]
      },
      {
       "output_type": "stream",
       "stream": "stdout",
       "text": [
        "\n",
        "Train Engineer Was Dazed Before Crash, Lawyer Says"
       ]
      },
      {
       "output_type": "stream",
       "stream": "stdout",
       "text": [
        "\n",
        "\u2018Leave of Absence\u2019 for Lara Logan After Flawed Benghazi Report"
       ]
      },
      {
       "output_type": "stream",
       "stream": "stdout",
       "text": [
        "\n",
        "C.I.A. Collects Global Data on Transfers of Money"
       ]
      },
      {
       "output_type": "stream",
       "stream": "stdout",
       "text": [
        "\n",
        "The Punishment Cure"
       ]
      },
      {
       "output_type": "stream",
       "stream": "stdout",
       "text": [
        "\n",
        "For Son of a Nazi-Era Dealer, a Private Life Amid a Tainted Trove of Art"
       ]
      },
      {
       "output_type": "stream",
       "stream": "stdout",
       "text": [
        "\n",
        "The Sex Toys in the Attic"
       ]
      },
      {
       "output_type": "stream",
       "stream": "stdout",
       "text": [
        "\n",
        "Doris Lessing, Author Who Swept Aside Convention, Is Dead at 94"
       ]
      },
      {
       "output_type": "stream",
       "stream": "stdout",
       "text": [
        "\n",
        "Postal Service to Make Sunday Deliveries for Amazon"
       ]
      },
      {
       "output_type": "stream",
       "stream": "stdout",
       "text": [
        "\n",
        "Under My Thumb"
       ]
      },
      {
       "output_type": "stream",
       "stream": "stdout",
       "text": [
        "\n",
        "The Real Humanities Crisis "
       ]
      },
      {
       "output_type": "stream",
       "stream": "stdout",
       "text": [
        "\n",
        "failed at: 6\n",
        "Police Say Spy Found in Bag Probably Died by Accident"
       ]
      },
      {
       "output_type": "stream",
       "stream": "stdout",
       "text": [
        "\n",
        "Logistical Hurdles Paralyze Relief Effort at the Center of a Typhoon\u2019s Fury"
       ]
      },
      {
       "output_type": "stream",
       "stream": "stdout",
       "text": [
        "\n",
        "Why the Y?"
       ]
      },
      {
       "output_type": "stream",
       "stream": "stdout",
       "text": [
        "\n"
       ]
      }
     ],
     "prompt_number": 294
    },
    {
     "cell_type": "code",
     "collapsed": false,
     "input": [
      "article_df1 = make_article_df(popular_articles)\n",
      "\n",
      "## testing\n",
      "print article_df1.shape\n",
      "print article_df1.head(15)"
     ],
     "language": "python",
     "metadata": {},
     "outputs": [
      {
       "output_type": "stream",
       "stream": "stdout",
       "text": [
        "(95, 13)\n",
        "                article_id popular content_type          genre section_formal  \\\n",
        "0          100000002558432       1      Article           News        Science   \n",
        "1          100000002581357       1      Article           News        Science   \n",
        "2          100000002555962       1      Article           News          World   \n",
        "3          100000002579524       1      Article           News  N.Y. / Region   \n",
        "4          100000002551219       1      Article           News         Health   \n",
        "5          100000002546481       1      Article           News         Health   \n",
        "6          100000002564705       1      Article  News Analysis           U.S.   \n",
        "7          100000002564123       1      Article           News           U.S.   \n",
        "8          100000002579667       1      Article           News   Business Day   \n",
        "9   nYvCOuhk7iDe71QSAc8neA       1        Blogs      Blog Post         Health   \n",
        "10  WZLhHcXC62qvj1hhTIdYmA       1        Blogs      Blog Post         Health   \n",
        "11         100000002545890       1      Article           News           U.S.   \n",
        "12         100000002561881       1      Article           News        Science   \n",
        "13         100000002564912       1      Article           News         Health   \n",
        "14         100000002575138       1      Article           News           U.S.   \n",
        "\n",
        "     section sub-category                                              title  \\\n",
        "0    science                                      A Cold War Fought by Women   \n",
        "1    science                 Baffling 400,000-Year-Old Clue to Human Origins   \n",
        "2      world       europe      A Russian GPS Using U.S. Soil Stirs Spy Fears   \n",
        "3   nyregion               Focus Turns to Investigation in Fatal Bronx Tr...   \n",
        "4     health                    Car Mechanic Dreams Up a Tool to Ease Births   \n",
        "5     health                 Experts Reshape Treatment Guide for Cholesterol   \n",
        "6         us     politics            Partisan Fever in Senate Likely to Rise   \n",
        "7         us     politics  In Landmark Vote, Senate Limits Use of the Fil...   \n",
        "8   business      economy          Wage Strikes Planned at Fast-Food Outlets   \n",
        "9     Health         well              The Power of a Daily Bout of Exercise   \n",
        "10    Health         well               In Hookups, Inequality Still Reigns    \n",
        "11        us                   Backlash by the Bay: Tech Riches Alter a City   \n",
        "12   science               24,000-Year-Old Body Shows Kinship to European...   \n",
        "13    health                                    The Changing American Family   \n",
        "14        us     politics  Inside the Race to Rescue a Health Care Site, ...   \n",
        "\n",
        "                                  author post_length  \\\n",
        "0                           JOHN TIERNEY               \n",
        "1                            CARL ZIMMER               \n",
        "2        MICHAEL S. SCHMIDT;ERIC SCHMITT               \n",
        "3          JAMES BARRON;J. DAVID GOODMAN               \n",
        "4                   DONALD G. McNEIL Jr.               \n",
        "5                            GINA KOLATA               \n",
        "6                       JONATHAN WEISMAN               \n",
        "7                       JEREMY W. PETERS               \n",
        "8                      STEVEN GREENHOUSE               \n",
        "9                      GRETCHEN REYNOLDS               \n",
        "10                      NATALIE KITROEFF               \n",
        "11        ERICA GOODE;CLAIRE CAIN MILLER               \n",
        "12                         NICHOLAS WADE               \n",
        "13                        NATALIE ANGIER               \n",
        "14  SHERYL GAY STOLBERG;MICHAEL D. SHEAR               \n",
        "\n",
        "                                                  url page_num  \\\n",
        "0   http://www.nytimes.com/2013/11/19/science/a-co...        2   \n",
        "1   http://www.nytimes.com/2013/12/05/science/at-4...       10   \n",
        "2   http://www.nytimes.com/2013/11/17/world/europe...        1   \n",
        "3   http://www.nytimes.com/2013/12/02/nyregion/met...        1   \n",
        "4   http://www.nytimes.com/2013/11/14/health/new-t...        1   \n",
        "5   http://www.nytimes.com/2013/11/13/health/new-g...        1   \n",
        "6   http://www.nytimes.com/2013/11/22/us/politics/...        1   \n",
        "7   http://www.nytimes.com/2013/11/22/us/politics/...        1   \n",
        "8   http://www.nytimes.com/2013/12/02/business/eco...        2   \n",
        "9   http://well.blogs.nytimes.com/2013/11/27/the-p...            \n",
        "10  http://well.blogs.nytimes.com/2013/11/11/women...            \n",
        "11  http://www.nytimes.com/2013/11/25/us/backlash-...        1   \n",
        "12  http://www.nytimes.com/2013/11/21/science/two-...        8   \n",
        "13  http://www.nytimes.com/2013/11/26/health/famil...            \n",
        "14  http://www.nytimes.com/2013/12/01/us/politics/...        1   \n",
        "\n",
        "                                                 text  \n",
        "0   How aggressive is the human female? When the a...  \n",
        "1   Scientists have found the oldest DNA evidence ...  \n",
        "2   WASHINGTON \u0080\u0094 In the view of America\u0080\u0099s spy se...  \n",
        "3   The 5:54 from Poughkeepsie was rumbling throug...  \n",
        "4   The idea came to Jorge Od\u00c3\u00b3n as he slept. Some...  \n",
        "5   The nation\u0080\u0099s leading heart organizations rele...  \n",
        "6   WASHINGTON \u0080\u0094 President Obama will get a short...  \n",
        "7   WASHINGTON \u0080\u0094 The Senate approved the most fun...  \n",
        "8   Seeking to increase pressure on McDonald\u0080\u0099s We...  \n",
        "9   This week marks the start of the annual eat-to...  \n",
        "10  Natasha Gadinsky 23 says she doesn\u2019t have any ...  \n",
        "11  SAN FRANCISCO \u0080\u0094 If there was a tipping point ...  \n",
        "12  The genome of a young boy buried at Mal\u0080\u0099ta ne...  \n",
        "13  American households have never been more diver...  \n",
        "14  WASHINGTON \u0080\u0094 As a small coterie of grim-faced...  \n"
       ]
      },
      {
       "output_type": "stream",
       "stream": "stderr",
       "text": [
        "//anaconda/python.app/Contents/lib/python2.7/site-packages/pandas/core/config.py:570: DeprecationWarning: height has been deprecated.\n",
        "\n",
        "  warnings.warn(d.msg, DeprecationWarning)\n",
        "//anaconda/python.app/Contents/lib/python2.7/site-packages/pandas/core/config.py:570: DeprecationWarning: height has been deprecated.\n",
        "\n",
        "  warnings.warn(d.msg, DeprecationWarning)\n"
       ]
      }
     ],
     "prompt_number": 295
    },
    {
     "cell_type": "code",
     "collapsed": false,
     "input": [
      "## testing\n",
      "## print article_df1.url[11]"
     ],
     "language": "python",
     "metadata": {},
     "outputs": [
      {
       "output_type": "stream",
       "stream": "stdout",
       "text": [
        "http://well.blogs.nytimes.com/2013/11/11/women-find-orgasms-elusive-in-hookups/\n"
       ]
      }
     ],
     "prompt_number": 127
    },
    {
     "cell_type": "code",
     "collapsed": false,
     "input": [
      "## NYT: REGULAR ARTICLE SEARCH\n",
      "## here, we grab the first 100 articles from the past 30 days in NYT which are NOT in most popular\n",
      "\n",
      "today, one_month_ago = get_date_range()\n",
      "\n",
      "begindate = one_month_ago #YYYYMMDD\n",
      "enddate = today #YYYYMMDD\n",
      "\n",
      "regular_api_url = set_regular_api_url(begindate, enddate)\n",
      "\n",
      "api = \"UNPOPULAR\"\n",
      "\n",
      "## we need some way of estimating how many regular (ie. unpopular) NYT articles to scrape.\n",
      "##\n",
      "## Articles API call has a 'page' argument - each page returns 10 articles. \n",
      "## so if you want 30 articles, you'd make 3 calls, with page=1, page=2, page=3\n",
      "##\n",
      "## in order to figure out how many pages to ask for, we take the number of popular articles scraped ('popular_count')\n",
      "## then round up to the nearest 10, divide by 10 to get number of pages, and then add a buffer of 20% \n",
      "##\n",
      "## the buffer compensates for the fact that some of the articles we get from the generic Article API \n",
      "## will also have made the popular article list - these are excluded from the count.  \n",
      "## in addition, some articles are from AP, which we exclude, or they're weird - like obits and tv schedules.\n",
      "##\n",
      "## since we don't know how many popular articles will show up here, we estimate that going 40% over the actual \n",
      "## number called for should be more than enough to make up for the ones we exclude.\n",
      "\n",
      "popular_count = article_df1.shape[0]\n",
      "popular_count_roundup = int(round(popular_count/10.0)*10)\n",
      "num_pages = popular_count_roundup / 10\n",
      "page_buffer = int(round(num_pages * .5))\n",
      "\n",
      "range_max = num_pages + page_buffer\n",
      "range_min = 0\n",
      "increment = 1\n",
      "\n",
      "## testing\n",
      "print popular_count\n",
      "print popular_count_roundup\n",
      "print num_pages\n",
      "print page_buffer\n",
      "print range_max\n"
     ],
     "language": "python",
     "metadata": {},
     "outputs": [
      {
       "output_type": "stream",
       "stream": "stdout",
       "text": [
        "95\n",
        "100\n",
        "10\n",
        "5\n",
        "15\n"
       ]
      }
     ],
     "prompt_number": 296
    },
    {
     "cell_type": "code",
     "collapsed": false,
     "input": [
      "regular_api_calls = call_nyt_api(api, regular_api_url, api_key_article, range_min, range_max, increment)\n",
      "    "
     ],
     "language": "python",
     "metadata": {},
     "outputs": [
      {
       "output_type": "stream",
       "stream": "stdout",
       "text": [
        "running range: 0 to 1 \n",
        "\n",
        "running range:"
       ]
      },
      {
       "output_type": "stream",
       "stream": "stdout",
       "text": [
        " 1 to 2 \n",
        "\n",
        "running range:"
       ]
      },
      {
       "output_type": "stream",
       "stream": "stdout",
       "text": [
        " 2 to 3 \n",
        "\n",
        "running range:"
       ]
      },
      {
       "output_type": "stream",
       "stream": "stdout",
       "text": [
        " 3 to 4 \n",
        "\n",
        "running range:"
       ]
      },
      {
       "output_type": "stream",
       "stream": "stdout",
       "text": [
        " 4 to 5 \n",
        "\n",
        "running range:"
       ]
      },
      {
       "output_type": "stream",
       "stream": "stdout",
       "text": [
        " 5 to 6 \n",
        "\n",
        "running range:"
       ]
      },
      {
       "output_type": "stream",
       "stream": "stdout",
       "text": [
        " 6 to 7 \n",
        "\n",
        "running range:"
       ]
      },
      {
       "output_type": "stream",
       "stream": "stdout",
       "text": [
        " 7 to 8 \n",
        "\n",
        "running range:"
       ]
      },
      {
       "output_type": "stream",
       "stream": "stdout",
       "text": [
        " 8 to 9 \n",
        "\n",
        "running range:"
       ]
      },
      {
       "output_type": "stream",
       "stream": "stdout",
       "text": [
        " 9 to 10 \n",
        "\n",
        "running range:"
       ]
      },
      {
       "output_type": "stream",
       "stream": "stdout",
       "text": [
        " 10 to 11 \n",
        "\n",
        "running range:"
       ]
      },
      {
       "output_type": "stream",
       "stream": "stdout",
       "text": [
        " 11 to 12 \n",
        "\n",
        "running range:"
       ]
      },
      {
       "output_type": "stream",
       "stream": "stdout",
       "text": [
        " 12 to 13 \n",
        "\n",
        "running range:"
       ]
      },
      {
       "output_type": "stream",
       "stream": "stdout",
       "text": [
        " 13 to 14 \n",
        "\n",
        "running range:"
       ]
      },
      {
       "output_type": "stream",
       "stream": "stdout",
       "text": [
        " 14 to 15 \n",
        "\n"
       ]
      }
     ],
     "prompt_number": 297
    },
    {
     "cell_type": "code",
     "collapsed": false,
     "input": [
      "## extract article body text from raw html\n",
      "api_type = \"UNPOPULAR\"\n",
      "regular_articles = extract_articles(api_type, regular_api_calls, popular_count)"
     ],
     "language": "python",
     "metadata": {},
     "outputs": [
      {
       "output_type": "stream",
       "stream": "stdout",
       "text": [
        "How the Poll Was Conducted\n",
        "Lebanon Worries That Housing Will Make Syrian Refugees Stay"
       ]
      },
      {
       "output_type": "stream",
       "stream": "stdout",
       "text": [
        "\n",
        "Close to the Olympics, Far From the Bounty"
       ]
      },
      {
       "output_type": "stream",
       "stream": "stdout",
       "text": [
        "\n",
        "2 French Paratroopers Killed in Central African Republic"
       ]
      },
      {
       "output_type": "stream",
       "stream": "stdout",
       "text": [
        "\n",
        "Kerry\u2019s Statement on Ukraine"
       ]
      },
      {
       "output_type": "stream",
       "stream": "stdout",
       "text": [
        "\n",
        "Coach Named for New York M.L.S. Team"
       ]
      },
      {
       "output_type": "stream",
       "stream": "stdout",
       "text": [
        "\n",
        "Pacers Top Heat in Eastern Conference Showdown"
       ]
      },
      {
       "output_type": "stream",
       "stream": "stdout",
       "text": [
        "\n",
        "New York Court Won\u2019t Order Fox Reporter to Testify, Shoring Up State Shield Law"
       ]
      },
      {
       "output_type": "stream",
       "stream": "stdout",
       "text": [
        "\n",
        "Does Rising Inequality Make Us Hardhearted?"
       ]
      },
      {
       "output_type": "stream",
       "stream": "stdout",
       "text": [
        "\n",
        "Callahan Is Lost to Knee Injury, Adding to the Rangers\u2019 Frustration"
       ]
      },
      {
       "output_type": "stream",
       "stream": "stdout",
       "text": [
        "\n",
        "A Modest Compromise on Spending"
       ]
      },
      {
       "output_type": "stream",
       "stream": "stdout",
       "text": [
        "\n",
        "failed at: 3\n",
        "New Leadership for Lululemon in Management Shake-Up"
       ]
      },
      {
       "output_type": "stream",
       "stream": "stdout",
       "text": [
        "\n",
        "Williams and Pierce Return, and So Does Nets\u2019 Ability to Stay in a Game"
       ]
      },
      {
       "output_type": "stream",
       "stream": "stdout",
       "text": [
        "\n",
        "Jim Hall, Jazz Guitarist, Dies at 83"
       ]
      },
      {
       "output_type": "stream",
       "stream": "stdout",
       "text": [
        "\n",
        "Rise of Young Leaders Signals a Mandate for Political Change in Italy"
       ]
      },
      {
       "output_type": "stream",
       "stream": "stdout",
       "text": [
        "\n",
        "Knicks Talk Good Game but Don\u2019t Play It"
       ]
      },
      {
       "output_type": "stream",
       "stream": "stdout",
       "text": [
        "\n",
        "Iowa: Plan to Expand Medicaid Is Largely Approved"
       ]
      },
      {
       "output_type": "stream",
       "stream": "stdout",
       "text": [
        "\n",
        "Nevada: Missing Family Is Found in Mountains"
       ]
      },
      {
       "output_type": "stream",
       "stream": "stdout",
       "text": [
        "\n",
        "Poll: The President and Health Care"
       ]
      },
      {
       "output_type": "stream",
       "stream": "stdout",
       "text": [
        "\n",
        "failed at: 3\n",
        "Arizona: Auctioned Artifacts to Be Returned to Tribes"
       ]
      },
      {
       "output_type": "stream",
       "stream": "stdout",
       "text": [
        "\n",
        "California: Man Is Charged in \u2018Revenge Porn\u2019 Case"
       ]
      },
      {
       "output_type": "stream",
       "stream": "stdout",
       "text": [
        "\n",
        "Massachusetts: Democrat Wins Congressional Seat"
       ]
      },
      {
       "output_type": "stream",
       "stream": "stdout",
       "text": [
        "\n",
        "Brazilian Panel Says Ex-Leader Was Murdered"
       ]
      },
      {
       "output_type": "stream",
       "stream": "stdout",
       "text": [
        "\n",
        "Gannett to Add USA Today to Local Papers"
       ]
      },
      {
       "output_type": "stream",
       "stream": "stdout",
       "text": [
        "\n",
        "New Posting System Likely to Delay, Not Sink, Sale of a Japanese Ace"
       ]
      },
      {
       "output_type": "stream",
       "stream": "stdout",
       "text": [
        "\n",
        "After Setbacks, Online Courses Are Rethought"
       ]
      },
      {
       "output_type": "stream",
       "stream": "stdout",
       "text": [
        "\n",
        "Telling a Dark Story to Offer Some Light"
       ]
      },
      {
       "output_type": "stream",
       "stream": "stdout",
       "text": [
        "\n",
        "failed at: 4\n",
        "Vice Media Buys a Tech Company to Experiment With Content Distribution"
       ]
      },
      {
       "output_type": "stream",
       "stream": "stdout",
       "text": [
        "\n",
        "failed at: 8\n",
        "No. 19 Florida Topples No. 13 Kansas"
       ]
      },
      {
       "output_type": "stream",
       "stream": "stdout",
       "text": [
        "\n",
        "Corrections: December 11, 2013"
       ]
      },
      {
       "output_type": "stream",
       "stream": "stdout",
       "text": [
        "\n",
        "failed at: 20\n",
        "Formula One Rule Change Criticized"
       ]
      },
      {
       "output_type": "stream",
       "stream": "stdout",
       "text": [
        "\n",
        "City Council Approves an Ice Center for the Bronx"
       ]
      },
      {
       "output_type": "stream",
       "stream": "stdout",
       "text": [
        "\n",
        "Effort to Help Filipino Women Falters, U.N. Says"
       ]
      },
      {
       "output_type": "stream",
       "stream": "stdout",
       "text": [
        "\n",
        "Weather Halts Game Between Juventus and Galatasaray"
       ]
      },
      {
       "output_type": "stream",
       "stream": "stdout",
       "text": [
        "\n",
        "Port Authority Investigating New Jersey Lane Closings"
       ]
      },
      {
       "output_type": "stream",
       "stream": "stdout",
       "text": [
        "\n",
        "Winning Lottery Numbers for Dec. 10, 2013"
       ]
      },
      {
       "output_type": "stream",
       "stream": "stdout",
       "text": [
        "\n",
        "No Pacific Rim Accord by End-of-Year Target, Trade Negotiators Say"
       ]
      },
      {
       "output_type": "stream",
       "stream": "stdout",
       "text": [
        "\n",
        "3rd Death After Another Crash at Hazardous Queensboro Bridge Exit"
       ]
      },
      {
       "output_type": "stream",
       "stream": "stdout",
       "text": [
        "\n",
        "Sun Get Top W.N.B.A. Pick"
       ]
      },
      {
       "output_type": "stream",
       "stream": "stdout",
       "text": [
        "\n",
        "Obama Administration Tries to Prevent New Sanctions on Iran During Talks"
       ]
      },
      {
       "output_type": "stream",
       "stream": "stdout",
       "text": [
        "\n",
        "Modern Makeover for Wrigley Building, Long a Hallmark of Chicago\u2019s Skyline"
       ]
      },
      {
       "output_type": "stream",
       "stream": "stdout",
       "text": [
        "\n",
        "Quotation of the Day for Wednesday, December 11, 2013"
       ]
      },
      {
       "output_type": "stream",
       "stream": "stdout",
       "text": [
        "\n",
        "New York Times/CBS News Poll"
       ]
      },
      {
       "output_type": "stream",
       "stream": "stdout",
       "text": [
        "\n",
        "failed at: 3\n",
        "Lysacek Out of Olympics"
       ]
      },
      {
       "output_type": "stream",
       "stream": "stdout",
       "text": [
        "\n",
        "Israel: Law Reduces Migrant Detention"
       ]
      },
      {
       "output_type": "stream",
       "stream": "stdout",
       "text": [
        "\n",
        "$40,000 Crocodile Jacket Is Stolen From Men\u2019s Store in Manhattan"
       ]
      },
      {
       "output_type": "stream",
       "stream": "stdout",
       "text": [
        "\n",
        "Mali: French Troops Battle Islamists"
       ]
      },
      {
       "output_type": "stream",
       "stream": "stdout",
       "text": [
        "\n",
        "Eran Polack"
       ]
      },
      {
       "output_type": "stream",
       "stream": "stdout",
       "text": [
        "\n",
        "failed at: 6\n",
        "Qatar Signs Defense Accord With U.S."
       ]
      },
      {
       "output_type": "stream",
       "stream": "stdout",
       "text": [
        "\n",
        "New Projects on the Horizon at Manhattan\u2019s Piers"
       ]
      },
      {
       "output_type": "stream",
       "stream": "stdout",
       "text": [
        "\n",
        "Protest Zones to Be Set Up at Olympics"
       ]
      },
      {
       "output_type": "stream",
       "stream": "stdout",
       "text": [
        "\n",
        "Brooklyn Beach Community Changes, and Angrily Divides"
       ]
      },
      {
       "output_type": "stream",
       "stream": "stdout",
       "text": [
        "\n",
        "Congo: U.N. Forces Begin Campaign Against Rwandan Hutu Militia"
       ]
      },
      {
       "output_type": "stream",
       "stream": "stdout",
       "text": [
        "\n",
        "Obama Sees a Rebound in His Approval Ratings"
       ]
      },
      {
       "output_type": "stream",
       "stream": "stdout",
       "text": [
        "\n",
        "Expiration of Hotel Room-Tax Rate in New York City Causes Confusion"
       ]
      },
      {
       "output_type": "stream",
       "stream": "stdout",
       "text": [
        "\n",
        "N.B.A. Players Are Paying by the Rules"
       ]
      },
      {
       "output_type": "stream",
       "stream": "stdout",
       "text": [
        "\n",
        "Iraq: 13 Sunnis Killed, Then 12 Shiites"
       ]
      },
      {
       "output_type": "stream",
       "stream": "stdout",
       "text": [
        "\n",
        "New York Asks Cellphone Carriers to Explain Why They Rejected Antitheft Switch"
       ]
      },
      {
       "output_type": "stream",
       "stream": "stdout",
       "text": [
        "\n",
        "Study Finds Federal Contracts Given to Flagrant Violators of Labor Laws"
       ]
      },
      {
       "output_type": "stream",
       "stream": "stdout",
       "text": [
        "\n",
        "Worker Deaths Raise Questions at an Apple Contractor in China"
       ]
      },
      {
       "output_type": "stream",
       "stream": "stdout",
       "text": [
        "\n",
        "After 65 Years of Setting Time, a Watchmaker Shuts His Tiny Store"
       ]
      },
      {
       "output_type": "stream",
       "stream": "stdout",
       "text": [
        "\n",
        "Why Mandela Was Unique"
       ]
      },
      {
       "output_type": "stream",
       "stream": "stdout",
       "text": [
        "\n",
        "In Granderson, Mets Take Strikeouts With the Power"
       ]
      },
      {
       "output_type": "stream",
       "stream": "stdout",
       "text": [
        "\n",
        "Impasse Over Security Deal Adds to Afghan Economy\u2019s Troubles"
       ]
      },
      {
       "output_type": "stream",
       "stream": "stdout",
       "text": [
        "\n",
        "Men With Pelvic Pain Find a Path to Treatment Blocked by a Gynecology Board"
       ]
      },
      {
       "output_type": "stream",
       "stream": "stdout",
       "text": [
        "\n",
        "Ain\u2019t Nothin\u2019 Like a Dame"
       ]
      },
      {
       "output_type": "stream",
       "stream": "stdout",
       "text": [
        "\n",
        "Uruguay Acts to Legalize Marijuana"
       ]
      },
      {
       "output_type": "stream",
       "stream": "stdout",
       "text": [
        "\n",
        "Angell to Be Honored at Hall of Fame"
       ]
      },
      {
       "output_type": "stream",
       "stream": "stdout",
       "text": [
        "\n",
        "Dwindling Tools to Raise Wages"
       ]
      },
      {
       "output_type": "stream",
       "stream": "stdout",
       "text": [
        "\n",
        "Missing From Science Class"
       ]
      },
      {
       "output_type": "stream",
       "stream": "stdout",
       "text": [
        "\n",
        "failed at: 20\n",
        "Hail to the Police Chief"
       ]
      },
      {
       "output_type": "stream",
       "stream": "stdout",
       "text": [
        "\n",
        "Louis Waldon, Actor in Warhol Films, Dies at 78"
       ]
      },
      {
       "output_type": "stream",
       "stream": "stdout",
       "text": [
        "\n",
        "On Horseback, Mallet in Hand, Breaking Barriers for Women"
       ]
      },
      {
       "output_type": "stream",
       "stream": "stdout",
       "text": [
        "\n",
        "2 New York City Colleges Draft Rules That Restrict Protests"
       ]
      },
      {
       "output_type": "stream",
       "stream": "stdout",
       "text": [
        "\n",
        "Recent Commercial Real Estate"
       ]
      },
      {
       "output_type": "stream",
       "stream": "stdout",
       "text": [
        "\n",
        "A Medical Credit Card Has Surprising Costs"
       ]
      },
      {
       "output_type": "stream",
       "stream": "stdout",
       "text": [
        "\n",
        "Not Part of the Equation"
       ]
      },
      {
       "output_type": "stream",
       "stream": "stdout",
       "text": [
        "\n",
        "Volcker Rule Approved by Regulators"
       ]
      },
      {
       "output_type": "stream",
       "stream": "stdout",
       "text": [
        "\n",
        "failed at: 3\n",
        "Thousands of Ignored Child Abuse Allegations Plague Arizona Welfare Agency"
       ]
      },
      {
       "output_type": "stream",
       "stream": "stdout",
       "text": [
        "\n",
        "Illegal Hits Are Still Seen As a Problem"
       ]
      },
      {
       "output_type": "stream",
       "stream": "stdout",
       "text": [
        "\n",
        "A Profound Divide in a Neighborhood Transformed"
       ]
      },
      {
       "output_type": "stream",
       "stream": "stdout",
       "text": [
        "\n",
        "A Tool Against Poverty"
       ]
      },
      {
       "output_type": "stream",
       "stream": "stdout",
       "text": [
        "\n",
        "failed at: 3\n",
        "Jobs for Saudi Women"
       ]
      },
      {
       "output_type": "stream",
       "stream": "stdout",
       "text": [
        "\n",
        "failed at: 10\n",
        "Fiction as a Religion"
       ]
      },
      {
       "output_type": "stream",
       "stream": "stdout",
       "text": [
        "\n",
        "failed at: 9\n",
        "Understanding Suicide: Mental Illness, Not Irony"
       ]
      },
      {
       "output_type": "stream",
       "stream": "stdout",
       "text": [
        "\n",
        "failed at: 9\n",
        "Dasani\u2019s Life in a Homeless Shelter"
       ]
      },
      {
       "output_type": "stream",
       "stream": "stdout",
       "text": [
        "\n",
        "failed at: 8\n",
        "Wholesale Inventories Rose 1.4% in October, Suggesting Businesses Expect Stronger Sales"
       ]
      },
      {
       "output_type": "stream",
       "stream": "stdout",
       "text": [
        "\n",
        "Live \u2018Sound of Music\u2019 Added 3 Million Delayed Viewers"
       ]
      },
      {
       "output_type": "stream",
       "stream": "stdout",
       "text": [
        "\n",
        "Bar Bordeaux Opens at the Seafood Brasserie, Millesime"
       ]
      },
      {
       "output_type": "stream",
       "stream": "stdout",
       "text": [
        "\n",
        "failed at: 5\n",
        "Composed of Bumps, Murmurs and Sighs"
       ]
      },
      {
       "output_type": "stream",
       "stream": "stdout",
       "text": [
        "\n",
        "One\u2019s Crude, the Other\u2019s Cerebral"
       ]
      },
      {
       "output_type": "stream",
       "stream": "stdout",
       "text": [
        "\n",
        "This American Abroad Is Far From Innocent"
       ]
      },
      {
       "output_type": "stream",
       "stream": "stdout",
       "text": [
        "\n",
        "Art Collectors Show Their Chinese Prizes"
       ]
      },
      {
       "output_type": "stream",
       "stream": "stdout",
       "text": [
        "\n",
        "The Disaster Is Over, but the Effects on a Nation Are Not"
       ]
      },
      {
       "output_type": "stream",
       "stream": "stdout",
       "text": [
        "\n",
        "A Nostalgic Chord, Shared in Solitary Style"
       ]
      },
      {
       "output_type": "stream",
       "stream": "stdout",
       "text": [
        "\n"
       ]
      }
     ],
     "prompt_number": 298
    },
    {
     "cell_type": "code",
     "collapsed": false,
     "input": [
      "article_df2 = make_article_df(regular_articles)\n",
      "print article_df2.shape\n",
      "print article_df2.head(15)"
     ],
     "language": "python",
     "metadata": {},
     "outputs": [
      {
       "output_type": "stream",
       "stream": "stdout",
       "text": [
        "(63, 13)\n",
        "         article_id popular content_type          genre section_formal  \\\n",
        "0   100000002596097       0      Article           News           U.S.   \n",
        "1   100000002596090       0      Article           News          World   \n",
        "2   100000002585001       0      Article           News          World   \n",
        "3   100000002595080       0      Article           News          World   \n",
        "4   100000002596038       0      Article           News   Business Day   \n",
        "5   100000002595851       0      Article          Op-Ed        Opinion   \n",
        "6   100000002596226       0      Article           News         Sports   \n",
        "7   100000002596117       0      Article           News   Business Day   \n",
        "8   100000002596229       0      Article           News         Sports   \n",
        "9   100000002594654       0      Article  News Analysis          World   \n",
        "10  100000002596211       0      Article           News         Sports   \n",
        "11  100000002595344       0      Article           News          World   \n",
        "12  100000002596024       0      Article           News   Business Day   \n",
        "13  100000002596191       0      Article           News         Sports   \n",
        "14  100000002594781       0      Article           News           U.S.   \n",
        "\n",
        "     section sub-category                                              title  \\\n",
        "0         us     politics                         How the Poll Was Conducted   \n",
        "1      world   middleeast  Lebanon Worries That Housing Will Make Syrian ...   \n",
        "2      world       europe         Close to the Olympics, Far From the Bounty   \n",
        "3      world       africa  2 French Paratroopers Killed in Central Africa...   \n",
        "4   business        media  New York Court Won\u2019t Order Fox Reporter to Tes...   \n",
        "5    opinion                     Does Rising Inequality Make Us Hardhearted?   \n",
        "6     sports       hockey  Callahan Is Lost to Knee Injury, Adding to the...   \n",
        "7   business               New Leadership for Lululemon in Management Sha...   \n",
        "8     sports   basketball  Williams and Pierce Return, and So Does Nets\u2019 ...   \n",
        "9      world       europe  Rise of Young Leaders Signals a Mandate for Po...   \n",
        "10    sports   basketball            Knicks Talk Good Game but Don\u2019t Play It   \n",
        "11     world     americas        Brazilian Panel Says Ex-Leader Was Murdered   \n",
        "12  business        media           Gannett to Add USA Today to Local Papers   \n",
        "13    sports     baseball  New Posting System Likely to Delay, Not Sink, ...   \n",
        "14        us                    After Setbacks, Online Courses Are Rethought   \n",
        "\n",
        "                 author post_length  \\\n",
        "0                               369   \n",
        "1      NORIMITSU ONISHI        1200   \n",
        "2      STEVEN LEE MYERS        1131   \n",
        "3       ALISSA J. RUBIN         420   \n",
        "4        LESLIE KAUFMAN         683   \n",
        "5      THOMAS B. EDSALL        1156   \n",
        "6           ALLAN KREDA         620   \n",
        "7   ELIZABETH A. HARRIS         864   \n",
        "8            ANDREW KEH         826   \n",
        "9           JIM YARDLEY         869   \n",
        "10       SCOTT CACCIOLA         862   \n",
        "11         SIMON ROMERO         213   \n",
        "12   CHRISTINE HAUGHNEY         606   \n",
        "13      DAVID WALDSTEIN         870   \n",
        "14          TAMAR LEWIN        1170   \n",
        "\n",
        "                                                  url page_num  \\\n",
        "0   http://www.nytimes.com/2013/12/11/us/politics/...       21   \n",
        "1   http://www.nytimes.com/2013/12/11/world/middle...        1   \n",
        "2   http://www.nytimes.com/2013/12/11/world/europe...        9   \n",
        "3   http://www.nytimes.com/2013/12/11/world/africa...       14   \n",
        "4   http://www.nytimes.com/2013/12/11/business/med...        3   \n",
        "5   http://www.nytimes.com/2013/12/11/opinion/does...            \n",
        "6   http://www.nytimes.com/2013/12/11/sports/hocke...       14   \n",
        "7   http://www.nytimes.com/2013/12/11/business/new...        1   \n",
        "8   http://www.nytimes.com/2013/12/11/sports/baske...       17   \n",
        "9   http://www.nytimes.com/2013/12/11/world/europe...       15   \n",
        "10  http://www.nytimes.com/2013/12/11/sports/baske...       13   \n",
        "11  http://www.nytimes.com/2013/12/11/world/americ...        4   \n",
        "12  http://www.nytimes.com/2013/12/11/business/med...        4   \n",
        "13  http://www.nytimes.com/2013/12/11/sports/baseb...       15   \n",
        "14  http://www.nytimes.com/2013/12/11/us/after-set...        1   \n",
        "\n",
        "                                                 text  \n",
        "0   The latest New York Times/CBS News Poll is bas...  \n",
        "1   WADI KHALED Lebanon \u0080\u0094 The modest shelter hous...  \n",
        "2   GULRIPSHI Georgia \u0080\u0094 A little less than three ...  \n",
        "3   PARIS \u0080\u0094 President Fran\u00c3\u00a7ois Hollande of Franc...  \n",
        "4   A New York State shield law protecting journal...  \n",
        "5   Over the course of American history support fo...  \n",
        "6   Trapped in his goaltender\u0080\u0099s equipment  Henrik...  \n",
        "7   Perhaps going on television and suggesting tha...  \n",
        "8   When the Nets brought together all the luxurio...  \n",
        "9   ROME \u0080\u0094 For all its melodrama and theatrics It...  \n",
        "10  CLEVELAND \u0080\u0094 The  Knicks  lost any sense of st...  \n",
        "11  SANTIAGO Chile \u0080\u0094 The Truth Commission in S\u00c3\u00a3o...  \n",
        "12   Gannett Company  one of the nation\u0080\u0099s largest...  \n",
        "13  LAKE BUENA VISTA Fla. \u0080\u0094 It is hard to quantif...  \n",
        "14  Two years after a Stanford professor drew 1600...  \n"
       ]
      },
      {
       "output_type": "stream",
       "stream": "stderr",
       "text": [
        "//anaconda/python.app/Contents/lib/python2.7/site-packages/pandas/core/config.py:570: DeprecationWarning: height has been deprecated.\n",
        "\n",
        "  warnings.warn(d.msg, DeprecationWarning)\n",
        "//anaconda/python.app/Contents/lib/python2.7/site-packages/pandas/core/config.py:570: DeprecationWarning: height has been deprecated.\n",
        "\n",
        "  warnings.warn(d.msg, DeprecationWarning)\n"
       ]
      }
     ],
     "prompt_number": 299
    },
    {
     "cell_type": "code",
     "collapsed": false,
     "input": [
      "## testing specific urls\n",
      "## print article_df2.text[9]"
     ],
     "language": "python",
     "metadata": {},
     "outputs": [],
     "prompt_number": 289
    },
    {
     "cell_type": "code",
     "collapsed": false,
     "input": [
      "## merge popular and regular article dfs\n",
      "\n",
      "article_df3 = article_df1.append(article_df2)\n",
      "print 'total article df shape:',article_df3.shape"
     ],
     "language": "python",
     "metadata": {},
     "outputs": [
      {
       "output_type": "stream",
       "stream": "stdout",
       "text": [
        "total article df shape: (158, 13)\n"
       ]
      }
     ],
     "prompt_number": 300
    },
    {
     "cell_type": "code",
     "collapsed": false,
     "input": [
      "## remove duplicates \n",
      "df4 = article_df3.drop_duplicates(cols='article_id', take_last=True)\n",
      "\n",
      "print 'total article df shape:',df4.shape\n",
      "print 'total popular:', df4[df4.popular==1].shape[0]\n",
      "print 'total unpopular:', df4[df4.popular==0].shape[0]"
     ],
     "language": "python",
     "metadata": {},
     "outputs": [
      {
       "output_type": "stream",
       "stream": "stdout",
       "text": [
        "total article df shape: (158, 13)\n",
        "total popular: 95\n",
        "total unpopular: 63\n"
       ]
      }
     ],
     "prompt_number": 301
    },
    {
     "cell_type": "code",
     "collapsed": false,
     "input": [
      "## save article data to csv\n",
      "\n",
      "df4.to_csv('all_nyt_articles_dec11b.csv', sep=',', encoding='utf-8')"
     ],
     "language": "python",
     "metadata": {},
     "outputs": [],
     "prompt_number": 302
    },
    {
     "cell_type": "heading",
     "level": 3,
     "metadata": {},
     "source": [
      "TESTING BLOCKS"
     ]
    },
    {
     "cell_type": "code",
     "collapsed": false,
     "input": [
      "## TEST BLOCK\n",
      "##\n",
      "## this code block tests out all our helper functions which we use in the big block below\n",
      "##\n",
      "\n",
      "api = \"POPULAR\"\n",
      "popular = 1 if api == \"POPULAR\" else 0\n",
      "\n",
      "test_call = calls[0]\n",
      "## print test_call\n",
      "\n",
      "test_json = json.loads(test_call)\n",
      "## print test_json\n",
      "\n",
      "j = test_json[\"results\"] if api == 'POPULAR' else test_json[\"response\"][\"docs\"]\n",
      "## print j[1]\n",
      "\n",
      "test_url = j[1][\"url\"] if api == 'POPULAR' else j[0][\"web_url\"]\n",
      "## print test_url\n",
      "\n",
      "test_soup = make_soup(test_url)\n",
      "## print test_soup\n",
      "\n",
      "test_articleid = get_article_id(test_soup)\n",
      "## print test_articleid\n",
      "\n",
      "test_text = get_article_text(test_soup)\n",
      "## print test_text\n",
      "\n",
      "test_cleantext = cleanup_text(test_text)\n",
      "## print test_cleantext\n",
      "\n",
      "test_count, test_avg_word_len, test_happiness, test_senti_df = text_to_words(test_cleantext)\n",
      "\n",
      "## print test_count\n",
      "## print 'df:',test_senti_df.head()\n"
     ],
     "language": "python",
     "metadata": {},
     "outputs": [],
     "prompt_number": 519
    },
    {
     "cell_type": "code",
     "collapsed": false,
     "input": [
      "test_soup = make_soup(\"http://www.nytimes.com/2013/12/11/sports/basketball/williams-and-pierce-return-and-so-does-nets-ability-to-stay-in-a-game.html\")\n",
      "## print test_soup\n",
      "\n",
      "test_metadata = get_article_metadata(test_soup)\n",
      "## print test_articleid\n",
      "\n",
      "test_text = get_article_text(test_soup, content_type, content_genre)\n",
      "## print test_text\n",
      "\n",
      "test_cleaned_text = cleanup_text(test_text, content_type)\n",
      "print test_cleaned_text\n",
      "\n"
     ],
     "language": "python",
     "metadata": {},
     "outputs": [
      {
       "ename": "TypeError",
       "evalue": "get_article_metadata() takes exactly 3 arguments (1 given)",
       "output_type": "pyerr",
       "traceback": [
        "\u001b[0;31m---------------------------------------------------------------------------\u001b[0m\n\u001b[0;31mTypeError\u001b[0m                                 Traceback (most recent call last)",
        "\u001b[0;32m<ipython-input-264-2e88ce32fbd5>\u001b[0m in \u001b[0;36m<module>\u001b[0;34m()\u001b[0m\n\u001b[1;32m      2\u001b[0m \u001b[0;31m## print test_soup\u001b[0m\u001b[0;34m\u001b[0m\u001b[0;34m\u001b[0m\u001b[0m\n\u001b[1;32m      3\u001b[0m \u001b[0;34m\u001b[0m\u001b[0m\n\u001b[0;32m----> 4\u001b[0;31m \u001b[0marticle_id\u001b[0m\u001b[0;34m,\u001b[0m \u001b[0mcontent_type\u001b[0m\u001b[0;34m,\u001b[0m \u001b[0mcontent_genre\u001b[0m\u001b[0;34m,\u001b[0m \u001b[0mcategory\u001b[0m\u001b[0;34m,\u001b[0m \u001b[0msub_category\u001b[0m\u001b[0;34m,\u001b[0m \u001b[0mauthor\u001b[0m\u001b[0;34m,\u001b[0m \u001b[0mpage_num\u001b[0m\u001b[0;34m,\u001b[0m \u001b[0minclude\u001b[0m \u001b[0;34m=\u001b[0m \u001b[0mget_article_metadata\u001b[0m\u001b[0;34m(\u001b[0m\u001b[0mtest_soup\u001b[0m\u001b[0;34m)\u001b[0m\u001b[0;34m\u001b[0m\u001b[0m\n\u001b[0m\u001b[1;32m      5\u001b[0m \u001b[0;31m## print test_articleid\u001b[0m\u001b[0;34m\u001b[0m\u001b[0;34m\u001b[0m\u001b[0m\n\u001b[1;32m      6\u001b[0m \u001b[0;34m\u001b[0m\u001b[0m\n",
        "\u001b[0;31mTypeError\u001b[0m: get_article_metadata() takes exactly 3 arguments (1 given)"
       ]
      }
     ],
     "prompt_number": 264
    },
    {
     "cell_type": "code",
     "collapsed": false,
     "input": [
      "## test block for regular NYT articles\n",
      "\n",
      "test_call = article_calls[0]\n",
      "## print test_call\n",
      "\n",
      "## NB: there's a slightly different json structure for this API vs Most Popular API\n",
      "## this path gives the directory location of the actual article URL\n",
      "\n",
      "test_json = json.loads(test_call)[\"response\"][\"docs\"][0][\"web_url\"]\n",
      "##print test_json\n",
      "\n",
      "## NB: this is what the path to the article title looksl ike for Articles API\n",
      "## json[\"response\"][\"docs\"][0][\"headline\"][\"main\"]\n",
      "## ...and for section:\n",
      "## json[\"response\"][\"docs\"][0][\"section_name\"]\n",
      "\n",
      "test_soup = make_soup(test_json)\n",
      "## print test_soup\n",
      "\n",
      "test_articleid = get_article_id(test_soup)\n",
      "## print test_articleid\n",
      "\n",
      "test_text = get_article_text(test_soup)\n",
      "## print test_text\n",
      "\n",
      "test_cleantext = cleanup_text(test_text)\n",
      "## print test_cleantext\n",
      "\n",
      "test_count, test_avg_word_len, test_happiness, test_senti_df = text_to_words(test_cleantext)\n"
     ],
     "language": "python",
     "metadata": {},
     "outputs": [],
     "prompt_number": 561
    },
    {
     "cell_type": "code",
     "collapsed": false,
     "input": [
      "##\n",
      "## Here we can print out a list of all the NYT paper sections\n",
      "##\n",
      "'''\n",
      "section_list_url = \"http://api.nytimes.com/svc/mostpopular/v2/mostshared/sections-list.json?api-key=\"\n",
      "\n",
      "api=\"POPULAR\"\n",
      "range_min = 0\n",
      "range_max = 20\n",
      "increment = 20\n",
      "\n",
      "jsons = call_nyt_api(api, section_list_url, api_key_popular, range_min, range_max, increment)\n",
      "\n",
      "for item in jsons[0]:\n",
      "    print item[\"name\"]\n",
      "'''"
     ],
     "language": "python",
     "metadata": {},
     "outputs": [
      {
       "metadata": {},
       "output_type": "pyout",
       "prompt_number": 649,
       "text": [
        "'\\nsection_list_url = \"http://api.nytimes.com/svc/mostpopular/v2/mostshared/sections-list.json?api-key=\"\\n\\napi=\"POPULAR\"\\nrange_min = 0\\nrange_max = 20\\nincrement = 20\\n\\njsons = call_nyt_api(api, section_list_url, api_key_popular, range_min, range_max, increment)\\n\\nfor item in jsons[0]:\\n    print item[\"name\"]\\n'"
       ]
      }
     ],
     "prompt_number": 649
    }
   ],
   "metadata": {}
  }
 ]
}