{
 "metadata": {
  "name": ""
 },
 "nbformat": 3,
 "nbformat_minor": 0,
 "worksheets": [
  {
   "cells": [
    {
     "cell_type": "markdown",
     "metadata": {},
     "source": [
      "This file has a few different wrangling operations in it, related to the Social Evolution dataset for CS171 Final Project.\n",
      "\n",
      "Included:\n",
      "<ul>\n",
      "<li> combining sms and call data between pairs of participants for communication frequency counts every two weeks for duration of study</li>\n",
      "<li>the same thing done for the Proximity dataset - every time two subject IDs were listed as being in proximity to each other, we include that in a bi-weekly count, which accumulates over the study period\n",
      "</li>\n",
      "</ul>\n",
      "\n",
      "<br />\n",
      "NB: functions are written into the chronology of the communications data wrangling block, but they are called as well in the proximity block."
     ]
    },
    {
     "cell_type": "code",
     "collapsed": false,
     "input": [
      "# import modules\n",
      "import pandas as pd\n",
      "import numpy as np\n",
      "import re\n",
      "import datetime"
     ],
     "language": "python",
     "metadata": {},
     "outputs": [],
     "prompt_number": 1
    },
    {
     "cell_type": "code",
     "collapsed": false,
     "input": [
      "# load call and sms data\n",
      "calldata = pd.io.parsers.read_csv('../../data/Calls.csv')\n",
      "smsdata = pd.io.parsers.read_csv('../../data/SMS.csv')\n",
      "\n",
      "# read pairwise communications df from csv\n",
      "# (this is the output of all the communications code blocks below)\n",
      "#pairs_data = pd.io.parsers.read_csv('communication-tally-by-pair-full.csv')"
     ],
     "language": "python",
     "metadata": {},
     "outputs": [],
     "prompt_number": 2
    },
    {
     "cell_type": "code",
     "collapsed": false,
     "input": [
      "## format data\n",
      "\n",
      "# change sms data columns to  match call data columns\n",
      "smsdata.columns = [\"user_id\",\"time\",\"incoming\",\"dest_user_id_if_known\",\"dest_phone_hash\"]\n",
      "# add 'type' column to differentiate after merger\n",
      "smsdata['type'] = ['sms']*len(smsdata) # this repeats string 'sms' len(smsdata) times\n",
      "calldata['type'] = ['call']*len(calldata)\n",
      "# change calldata columns\n",
      "calldata=calldata.rename(columns = {'time_stamp':'time'})\n",
      "\n",
      "# concat dfs - this is like rbind in R, one on top of the other\n",
      "comdata = pd.concat([calldata, smsdata])\n",
      "# more formatting\n",
      "comdata=comdata.rename(columns = {'dest_user_id_if_known':'target_id'})\n",
      "# reset indices of original dfs\n",
      "comdata = comdata.reset_index()\n",
      "# make values in 'time' column actual datetime objects\n",
      "comdata['time'] = [datetime.datetime.strptime(stamp, \"%Y-%m-%d %H:%M:%S\") for stamp in comdata['time']]\n"
     ],
     "language": "python",
     "metadata": {},
     "outputs": [],
     "prompt_number": 3
    },
    {
     "cell_type": "code",
     "collapsed": false,
     "input": [
      "# this function makes an array of dates spaced two-weeks apart, running the length of the study\n",
      "# two weeks is an arbitrary period - the idea is to have periodic updates of data, \n",
      "# but not so fine-grained as to go day-by-day\n",
      "\n",
      "def make_time_array(data,period):\n",
      "    \n",
      "    mintime = data.time.min(axis=1) # get earliest time recorded in dataset\n",
      "    # we noticed that oct 2008 is when things really get started - so we are jumping mintime ahead to Oct 01 2008\n",
      "    mintime = datetime.datetime(2008, 10, 1, 1, 0, 0)\n",
      "    maxtime = data.time.max(axis=1) # get latest time recorded\n",
      "    jump = datetime.timedelta(days=period) # sets time jump to period argument\n",
      "    \n",
      "    # create array of two-week jumps from study start to study end\n",
      "    time_array = []\n",
      "    current_time = mintime\n",
      "    while current_time < maxtime:\n",
      "        time_array.append(current_time)\n",
      "        current_time += jump\n",
      "\n",
      "    return time_array\n"
     ],
     "language": "python",
     "metadata": {},
     "outputs": [],
     "prompt_number": 4
    },
    {
     "cell_type": "code",
     "collapsed": false,
     "input": [
      "# make time array with two-week jumps (ie. arg 'period' = 14 days)\n",
      "time_array = make_time_array(comdata,14)"
     ],
     "language": "python",
     "metadata": {},
     "outputs": [],
     "prompt_number": 5
    },
    {
     "cell_type": "code",
     "collapsed": false,
     "input": [
      "# build a set of unique participant pairs from dataset\n",
      "# each entry has source id, target it, and total communication (call & sms) count per pair\n",
      "\n",
      "def build_pairs(df):\n",
      "    \n",
      "    pairs = []\n",
      "    \n",
      "    for keys,group in df[ df['target_id'] != df['user_id'] ].groupby(['user_id','target_id']):\n",
      "\n",
      "        pairs.append( { 'source':int(keys[0]), 'target':int(keys[1]), 'total_freq':len(group) } )\n",
      "    \n",
      "    return pd.DataFrame(pairs)\n"
     ],
     "language": "python",
     "metadata": {},
     "outputs": [],
     "prompt_number": 6
    },
    {
     "cell_type": "code",
     "collapsed": false,
     "input": [
      "# initialize pairs df for communications dataset\n",
      "pair_df = build_pairs(comdata)"
     ],
     "language": "python",
     "metadata": {},
     "outputs": [],
     "prompt_number": 7
    },
    {
     "cell_type": "code",
     "collapsed": false,
     "input": [
      "# add a column to pair_df for each two-week time period in time_array\n",
      "def add_time_columns(df, times):\n",
      "    for time_chunk in times:\n",
      "        df[datetime.datetime.strftime(time_chunk,\"%Y-%m-%d %H:%M:%S\")] = 0\n",
      "    return df"
     ],
     "language": "python",
     "metadata": {},
     "outputs": [],
     "prompt_number": 8
    },
    {
     "cell_type": "code",
     "collapsed": false,
     "input": [
      "pair_df = add_time_columns(pair_df, time_array)"
     ],
     "language": "python",
     "metadata": {},
     "outputs": [],
     "prompt_number": 9
    },
    {
     "cell_type": "code",
     "collapsed": false,
     "input": [
      "# take df, group occurences by time chunk, store running tally\n",
      "def sum_by_period(df, data, times):\n",
      "    for this_time in times:\n",
      "        time_str = datetime.datetime.strftime(this_time,\"%Y-%m-%d %H:%M:%S\")\n",
      "        for keys, group in data[data.time <= this_time].groupby(['user_id','target_id']) :\n",
      "            df.ix[\n",
      "               (df['source']==keys[0]) & \n",
      "               (df['target']==keys[1]), time_str\n",
      "               ] = len(group)\n",
      "    return df"
     ],
     "language": "python",
     "metadata": {},
     "outputs": [],
     "prompt_number": 10
    },
    {
     "cell_type": "code",
     "collapsed": false,
     "input": [
      "final_pair_df = sum_by_period(pair_df, comdata, time_array)\n",
      "# get rid of time, leave only date for each column header\n",
      "final_pair_df.columns = [key.split()[0] for key in final_pair_df.keys()]"
     ],
     "language": "python",
     "metadata": {},
     "outputs": [],
     "prompt_number": 11
    },
    {
     "cell_type": "code",
     "collapsed": false,
     "input": [
      "# write to csv\n",
      "final_pair_df.to_csv('../data/com-pairs.csv')"
     ],
     "language": "python",
     "metadata": {},
     "outputs": [],
     "prompt_number": 12
    },
    {
     "cell_type": "markdown",
     "metadata": {},
     "source": [
      "This next section applies the same treatment to the proximity dataset.  It takes unique pairs of subjects and counts the number of times they were registered as being in the same proximity, both in sum total over the course of the experiment, and by two-week increments."
     ]
    },
    {
     "cell_type": "code",
     "collapsed": false,
     "input": [
      "# load proximity data\n",
      "proxdata = pd.io.parsers.read_csv('../../data/Proximity.csv')"
     ],
     "language": "python",
     "metadata": {},
     "outputs": [],
     "prompt_number": 194
    },
    {
     "cell_type": "code",
     "collapsed": false,
     "input": [
      "# format data\n",
      "proxdata=proxdata.rename(columns = {'user.id':'user_id','remote.user.id.if.known':'target_id'})\n",
      "proxdata['time'] = [datetime.datetime.strptime(stamp, \"%Y-%m-%d %H:%M:%S\") for stamp in proxdata['time']]\n"
     ],
     "language": "python",
     "metadata": {},
     "outputs": [],
     "prompt_number": 195
    },
    {
     "cell_type": "code",
     "collapsed": false,
     "input": [
      "time_array = make_time_array(proxdata,14) # see communication code block for details"
     ],
     "language": "python",
     "metadata": {},
     "outputs": [],
     "prompt_number": 196
    },
    {
     "cell_type": "code",
     "collapsed": false,
     "input": [
      "proxpair_df = build_pairs(proxdata)\n",
      "proxpair_df = add_time_columns(proxpair_df, time_array)"
     ],
     "language": "python",
     "metadata": {},
     "outputs": [],
     "prompt_number": 197
    },
    {
     "cell_type": "code",
     "collapsed": false,
     "input": [
      "final_proxpair_df = sum_by_period(proxpair_df, proxdata, time_array)\n",
      "proxpair_df.columns = [key.split()[0] for key in proxpair_df.keys()]"
     ],
     "language": "python",
     "metadata": {},
     "outputs": [],
     "prompt_number": 198
    },
    {
     "cell_type": "code",
     "collapsed": false,
     "input": [
      "final_proxpair_df.to_csv('../data/prox-pairs.csv')"
     ],
     "language": "python",
     "metadata": {},
     "outputs": [],
     "prompt_number": 199
    }
   ],
   "metadata": {}
  }
 ]
}