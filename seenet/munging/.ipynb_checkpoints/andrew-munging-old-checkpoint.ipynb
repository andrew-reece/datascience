{
 "metadata": {
  "name": ""
 },
 "nbformat": 3,
 "nbformat_minor": 0,
 "worksheets": [
  {
   "cells": [
    {
     "cell_type": "markdown",
     "metadata": {},
     "source": [
      "This file has a few different wrangling operations in it, related to the Social Evolution dataset for CS171 Final Project.\n",
      "\n",
      "Included:\n",
      "<ul>\n",
      "<li> combining sms and call data between pairs of participants for communication frequency counts every two weeks for duration of study</li>\n",
      "<li>the same thing done for the Proximity dataset - every time two subject IDs were listed as being in proximity to each other, we include that in a bi-weekly count, which accumulates over the study period\n",
      "</li>"
     ]
    },
    {
     "cell_type": "code",
     "collapsed": false,
     "input": [
      "# import modules\n",
      "import pandas as pd\n",
      "import numpy as np\n",
      "import re\n",
      "import datetime"
     ],
     "language": "python",
     "metadata": {},
     "outputs": [],
     "prompt_number": 1
    },
    {
     "cell_type": "code",
     "collapsed": false,
     "input": [
      "# load call and sms data\n",
      "calldata = pd.io.parsers.read_csv('../../data/Calls.csv')\n",
      "smsdata = pd.io.parsers.read_csv('../../data/SMS.csv')"
     ],
     "language": "python",
     "metadata": {},
     "outputs": [],
     "prompt_number": 2
    },
    {
     "cell_type": "code",
     "collapsed": false,
     "input": [
      "# format data\n",
      "\n",
      "# change sms data columns to  match call data columns\n",
      "smsdata.columns = [\"user_id\",\"time\",\"incoming\",\"dest_user_id_if_known\",\"dest_phone_hash\"]\n",
      "# add 'type' column to differentiate after merger\n",
      "smsdata['type'] = ['sms']*len(smsdata) # this repeats string 'sms' len(smsdata) times\n",
      "calldata['type'] = ['call']*len(calldata)\n",
      "# change calldata columns\n",
      "calldata=calldata.rename(columns = {'time_stamp':'time'})"
     ],
     "language": "python",
     "metadata": {},
     "outputs": [],
     "prompt_number": 3
    },
    {
     "cell_type": "code",
     "collapsed": false,
     "input": [
      "# concat dfs - this is like rbind in R, one on top of the other\n",
      "comdata = pd.concat([calldata, smsdata])\n",
      "# more formatting\n",
      "comdata=comdata.rename(columns = {'dest_user_id_if_known':'target_id'})\n",
      "# reset indices of original dfs\n",
      "comdata = comdata.reset_index()\n",
      "# make values in 'time' column actual datetime objects\n",
      "comdata['time'] = [datetime.datetime.strptime(stamp, \"%Y-%m-%d %H:%M:%S\") for stamp in comdata['time']]\n"
     ],
     "language": "python",
     "metadata": {},
     "outputs": [],
     "prompt_number": 6
    },
    {
     "cell_type": "code",
     "collapsed": false,
     "input": [
      "# this block makes an array of dates spaced two-weeks apart, running the length of the study\n",
      "# two weeks is an arbitrary period - the idea is to have periodic updates of data, \n",
      "# but not so fine-grained as to go day-by-day\n",
      "\n",
      "# just adjust the 'days' parameter below to change the periodicity of this dataset\n",
      "mintime = comdata.time.min(axis=1) # get earliest time recorded in dataset\n",
      "maxtime = comdata.time.max(axis=1) # get latest time recorded\n",
      "two_weeks = datetime.timedelta(days=14) # this represents a two-week jump in time\n",
      "\n",
      "# create array of two-week jumps from study start to study end\n",
      "time_array = []\n",
      "current_time = mintime\n",
      "while current_time < maxtime:\n",
      "    time_array.append(current_time)\n",
      "    current_time += two_weeks\n",
      "    "
     ],
     "language": "python",
     "metadata": {},
     "outputs": [],
     "prompt_number": 7
    },
    {
     "cell_type": "code",
     "collapsed": false,
     "input": [
      "# build a set of unique participant pairs found in dataset\n",
      "\n",
      "comtable = set()\n",
      "\n",
      "for idx, row in comdata.iterrows():\n",
      "\n",
      "    if (not np.isnan(row['user_id'])) and (not np.isnan(row['target_id'])):\n",
      "        \n",
      "        newtuple = (row['user_id'], row['target_id'])\n",
      "\n",
      "        comtable.add( newtuple )\n"
     ],
     "language": "python",
     "metadata": {},
     "outputs": [],
     "prompt_number": 8
    },
    {
     "cell_type": "code",
     "collapsed": false,
     "input": [
      "pairs = []\n",
      "for pair in comtable:\n",
      "    pairs.append( { 'source':pair[0], 'target':pair[1], 'total_freq':0 } )\n",
      "pair_df = pd.DataFrame(pairs)"
     ],
     "language": "python",
     "metadata": {},
     "outputs": [],
     "prompt_number": 38
    },
    {
     "cell_type": "code",
     "collapsed": false,
     "input": [
      "for time_chunk in time_array:\n",
      "    pair_df[datetime.datetime.strftime(time_chunk,\"%Y-%m-%d %H:%M:%S\")] = 0"
     ],
     "language": "python",
     "metadata": {},
     "outputs": [],
     "prompt_number": 39
    },
    {
     "cell_type": "code",
     "collapsed": false,
     "input": [
      "counter = 0\n",
      "for idx, com_row in comdata.iterrows():\n",
      "\n",
      "    if len(pair_df.ix[\n",
      "                      (pair_df['source']==com_row['user_id']) & \n",
      "                      (pair_df['target']==com_row['target_id'])\n",
      "                      ]) > 0:\n",
      "\n",
      "        pair_df.ix[\n",
      "                   (pair_df['source']==com_row['user_id']) & \n",
      "                   (pair_df['target']==com_row['target_id']), 'total_freq'\n",
      "                   ] += 1\n",
      "        \n",
      "\n",
      "        for this_time in time_array:\n",
      "            time_str = datetime.datetime.strftime(this_time,\"%Y-%m-%d %H:%M:%S\")\n",
      "            if com_row['time'] <= this_time:\n",
      "               \n",
      "                pair_df.ix[\n",
      "                   (pair_df['source']==com_row['user_id']) & \n",
      "                   (pair_df['target']==com_row['target_id']), time_str\n",
      "                   ] += 1\n",
      "            else:\n",
      "                #print 'not less than'\n",
      "                #break\n",
      "                continue\n",
      "                              "
     ],
     "language": "python",
     "metadata": {},
     "outputs": [],
     "prompt_number": 48
    },
    {
     "cell_type": "code",
     "collapsed": false,
     "input": [
      "pair_df.to_csv('../data/communication-tally-by-pair-full.csv')"
     ],
     "language": "python",
     "metadata": {},
     "outputs": [],
     "prompt_number": 50
    },
    {
     "cell_type": "code",
     "collapsed": false,
     "input": [
      "pairs_data = pd.io.parsers.read_csv('../data/communication-tally-by-pair-full.csv')"
     ],
     "language": "python",
     "metadata": {},
     "outputs": [],
     "prompt_number": 2
    },
    {
     "cell_type": "code",
     "collapsed": false,
     "input": [
      "pairs_data.columns = [key.split()[0] for key in pairs_data.keys()]"
     ],
     "language": "python",
     "metadata": {},
     "outputs": [],
     "prompt_number": 5
    },
    {
     "cell_type": "code",
     "collapsed": false,
     "input": [
      "pairs_data.to_csv('../data/communication-tally-by-pair-full.csv')"
     ],
     "language": "python",
     "metadata": {},
     "outputs": [],
     "prompt_number": 8
    },
    {
     "cell_type": "code",
     "collapsed": false,
     "input": [
      "# load proximity data\n",
      "proxdata = pd.io.parsers.read_csv('../../data/Proximity.csv')"
     ],
     "language": "python",
     "metadata": {},
     "outputs": [],
     "prompt_number": 100
    },
    {
     "cell_type": "code",
     "collapsed": false,
     "input": [
      "proxdata=proxdata.rename(columns = {'user.id':'user_id','remote.user.id.if.known':'target_id'})\n",
      "proxdata['time'] = [datetime.datetime.strptime(stamp, \"%Y-%m-%d %H:%M:%S\") for stamp in proxdata['time']]\n"
     ],
     "language": "python",
     "metadata": {},
     "outputs": [],
     "prompt_number": 4
    },
    {
     "cell_type": "code",
     "collapsed": false,
     "input": [
      "\n",
      "mintime = proxdata.time.min(axis=1)\n",
      "maxtime = proxdata.time.max(axis=1)\n",
      "two_weeks = datetime.timedelta(days=14)\n",
      "\n",
      "time_array = []\n",
      "current_time = mintime\n",
      "while current_time < maxtime:\n",
      "    time_array.append(current_time)\n",
      "    current_time += two_weeks"
     ],
     "language": "python",
     "metadata": {},
     "outputs": [],
     "prompt_number": 5
    },
    {
     "cell_type": "code",
     "collapsed": false,
     "input": [
      "proxtable = set()\n",
      "\n",
      "for idx, row in proxdata.iterrows():\n",
      "\n",
      "    if (not np.isnan(row['user_id'])) and (not np.isnan(row['target_id'])) and (not (row['target_id'],row['user_id']) in proxtable):\n",
      "        newtuple = (row['user_id'], row['target_id'])\n",
      "        proxtable.add( newtuple )\n",
      "\n",
      "proxpairs = []\n",
      "for pair in proxtable:\n",
      "    proxpairs.append( { 'source':pair[0], 'target':pair[1], 'total_freq':0 } )\n",
      "proxpair_df = pd.DataFrame(proxpairs)\n",
      "\n",
      "for time_chunk in time_array:\n",
      "    proxpair_df[datetime.datetime.strftime(time_chunk,\"%Y-%m-%d %H:%M:%S\")] = 0\n"
     ],
     "language": "python",
     "metadata": {},
     "outputs": [],
     "prompt_number": 19
    },
    {
     "cell_type": "code",
     "collapsed": false,
     "input": [
      "# \n",
      "for this_time in time_array:\n",
      "    count = 0     \n",
      "    time_str = datetime.datetime.strftime(this_time,\"%Y-%m-%d %H:%M:%S\")\n",
      "    # print time_str\n",
      "    for keys, group in proxdata[proxdata.time <= this_time].groupby(['user_id','target_id']) :\n",
      "        proxpair_df.ix[\n",
      "           (proxpair_df['source']==keys[0]) & \n",
      "           (proxpair_df['target']==keys[1]), time_str\n",
      "           ] = len(group)"
     ],
     "language": "python",
     "metadata": {},
     "outputs": [
      {
       "output_type": "stream",
       "stream": "stdout",
       "text": [
        "2007-09-05 14:02:11\n",
        "2007-09-19 14:02:11"
       ]
      },
      {
       "output_type": "stream",
       "stream": "stdout",
       "text": [
        "\n",
        "2007-10-03 14:02:11"
       ]
      },
      {
       "output_type": "stream",
       "stream": "stdout",
       "text": [
        "\n",
        "2007-10-17 14:02:11"
       ]
      },
      {
       "output_type": "stream",
       "stream": "stdout",
       "text": [
        "\n",
        "2007-10-31 14:02:11"
       ]
      },
      {
       "output_type": "stream",
       "stream": "stdout",
       "text": [
        "\n",
        "2007-11-14 14:02:11"
       ]
      },
      {
       "output_type": "stream",
       "stream": "stdout",
       "text": [
        "\n",
        "2007-11-28 14:02:11"
       ]
      },
      {
       "output_type": "stream",
       "stream": "stdout",
       "text": [
        "\n",
        "2007-12-12 14:02:11"
       ]
      },
      {
       "output_type": "stream",
       "stream": "stdout",
       "text": [
        "\n",
        "2007-12-26 14:02:11"
       ]
      },
      {
       "output_type": "stream",
       "stream": "stdout",
       "text": [
        "\n",
        "2008-01-09 14:02:11"
       ]
      },
      {
       "output_type": "stream",
       "stream": "stdout",
       "text": [
        "\n",
        "2008-01-23 14:02:11"
       ]
      },
      {
       "output_type": "stream",
       "stream": "stdout",
       "text": [
        "\n",
        "2008-02-06 14:02:11"
       ]
      },
      {
       "output_type": "stream",
       "stream": "stdout",
       "text": [
        "\n",
        "2008-02-20 14:02:11"
       ]
      },
      {
       "output_type": "stream",
       "stream": "stdout",
       "text": [
        "\n",
        "2008-03-05 14:02:11"
       ]
      },
      {
       "output_type": "stream",
       "stream": "stdout",
       "text": [
        "\n",
        "2008-03-19 14:02:11"
       ]
      },
      {
       "output_type": "stream",
       "stream": "stdout",
       "text": [
        "\n",
        "2008-04-02 14:02:11"
       ]
      },
      {
       "output_type": "stream",
       "stream": "stdout",
       "text": [
        "\n",
        "2008-04-16 14:02:11"
       ]
      },
      {
       "output_type": "stream",
       "stream": "stdout",
       "text": [
        "\n",
        "2008-04-30 14:02:11"
       ]
      },
      {
       "output_type": "stream",
       "stream": "stdout",
       "text": [
        "\n",
        "2008-05-14 14:02:11"
       ]
      },
      {
       "output_type": "stream",
       "stream": "stdout",
       "text": [
        "\n",
        "2008-05-28 14:02:11"
       ]
      },
      {
       "output_type": "stream",
       "stream": "stdout",
       "text": [
        "\n",
        "2008-06-11 14:02:11"
       ]
      },
      {
       "output_type": "stream",
       "stream": "stdout",
       "text": [
        "\n",
        "2008-06-25 14:02:11"
       ]
      },
      {
       "output_type": "stream",
       "stream": "stdout",
       "text": [
        "\n",
        "2008-07-09 14:02:11"
       ]
      },
      {
       "output_type": "stream",
       "stream": "stdout",
       "text": [
        "\n",
        "2008-07-23 14:02:11"
       ]
      },
      {
       "output_type": "stream",
       "stream": "stdout",
       "text": [
        "\n",
        "2008-08-06 14:02:11"
       ]
      },
      {
       "output_type": "stream",
       "stream": "stdout",
       "text": [
        "\n",
        "2008-08-20 14:02:11"
       ]
      },
      {
       "output_type": "stream",
       "stream": "stdout",
       "text": [
        "\n",
        "2008-09-03 14:02:11"
       ]
      },
      {
       "output_type": "stream",
       "stream": "stdout",
       "text": [
        "\n",
        "2008-09-17 14:02:11"
       ]
      },
      {
       "output_type": "stream",
       "stream": "stdout",
       "text": [
        "\n",
        "2008-10-01 14:02:11"
       ]
      },
      {
       "output_type": "stream",
       "stream": "stdout",
       "text": [
        "\n",
        "2008-10-15 14:02:11"
       ]
      },
      {
       "output_type": "stream",
       "stream": "stdout",
       "text": [
        "\n",
        "2008-10-29 14:02:11"
       ]
      },
      {
       "output_type": "stream",
       "stream": "stdout",
       "text": [
        "\n",
        "2008-11-12 14:02:11"
       ]
      },
      {
       "output_type": "stream",
       "stream": "stdout",
       "text": [
        "\n",
        "2008-11-26 14:02:11"
       ]
      },
      {
       "output_type": "stream",
       "stream": "stdout",
       "text": [
        "\n",
        "2008-12-10 14:02:11"
       ]
      },
      {
       "output_type": "stream",
       "stream": "stdout",
       "text": [
        "\n",
        "2008-12-24 14:02:11"
       ]
      },
      {
       "output_type": "stream",
       "stream": "stdout",
       "text": [
        "\n",
        "2009-01-07 14:02:11"
       ]
      },
      {
       "output_type": "stream",
       "stream": "stdout",
       "text": [
        "\n",
        "2009-01-21 14:02:11"
       ]
      },
      {
       "output_type": "stream",
       "stream": "stdout",
       "text": [
        "\n",
        "2009-02-04 14:02:11"
       ]
      },
      {
       "output_type": "stream",
       "stream": "stdout",
       "text": [
        "\n",
        "2009-02-18 14:02:11"
       ]
      },
      {
       "output_type": "stream",
       "stream": "stdout",
       "text": [
        "\n",
        "2009-03-04 14:02:11"
       ]
      },
      {
       "output_type": "stream",
       "stream": "stdout",
       "text": [
        "\n",
        "2009-03-18 14:02:11"
       ]
      },
      {
       "output_type": "stream",
       "stream": "stdout",
       "text": [
        "\n",
        "2009-04-01 14:02:11"
       ]
      },
      {
       "output_type": "stream",
       "stream": "stdout",
       "text": [
        "\n",
        "2009-04-15 14:02:11"
       ]
      },
      {
       "output_type": "stream",
       "stream": "stdout",
       "text": [
        "\n",
        "2009-04-29 14:02:11"
       ]
      },
      {
       "output_type": "stream",
       "stream": "stdout",
       "text": [
        "\n",
        "2009-05-13 14:02:11"
       ]
      },
      {
       "output_type": "stream",
       "stream": "stdout",
       "text": [
        "\n",
        "2009-05-27 14:02:11"
       ]
      },
      {
       "output_type": "stream",
       "stream": "stdout",
       "text": [
        "\n",
        "2009-06-10 14:02:11"
       ]
      },
      {
       "output_type": "stream",
       "stream": "stdout",
       "text": [
        "\n",
        "2009-06-24 14:02:11"
       ]
      },
      {
       "output_type": "stream",
       "stream": "stdout",
       "text": [
        "\n",
        "2009-07-08 14:02:11"
       ]
      },
      {
       "output_type": "stream",
       "stream": "stdout",
       "text": [
        "\n"
       ]
      }
     ],
     "prompt_number": 84
    },
    {
     "cell_type": "code",
     "collapsed": false,
     "input": [
      "# get rid of time, leave only date for each column header\n",
      "proxpair_df.columns = [key.split()[0] for key in proxpair_df.keys()]\n"
     ],
     "language": "python",
     "metadata": {},
     "outputs": [],
     "prompt_number": 97
    },
    {
     "cell_type": "code",
     "collapsed": false,
     "input": [
      "# get total freqency of proximity occurrence for each pair\n",
      "for keys, group in proxdata.groupby(['user_id','target_id']) :\n",
      "    proxpair_df.ix[\n",
      "       (proxpair_df['source']==keys[0]) & \n",
      "       (proxpair_df['target']==keys[1]), 'total_freq'\n",
      "       ] = len(group)"
     ],
     "language": "python",
     "metadata": {},
     "outputs": [],
     "prompt_number": 95
    },
    {
     "cell_type": "code",
     "collapsed": false,
     "input": [
      "proxpair_df.iloc[0:25,0:5]"
     ],
     "language": "python",
     "metadata": {},
     "outputs": [
      {
       "html": [
        "<div style=\"max-height:1000px;max-width:1500px;overflow:auto;\">\n",
        "<table border=\"1\" class=\"dataframe\">\n",
        "  <thead>\n",
        "    <tr style=\"text-align: right;\">\n",
        "      <th></th>\n",
        "      <th>source</th>\n",
        "      <th>target</th>\n",
        "      <th>total_freq</th>\n",
        "      <th>2007-09-05</th>\n",
        "      <th>2007-09-19</th>\n",
        "    </tr>\n",
        "  </thead>\n",
        "  <tbody>\n",
        "    <tr>\n",
        "      <th>0 </th>\n",
        "      <td> 31</td>\n",
        "      <td>  6</td>\n",
        "      <td>   27</td>\n",
        "      <td> 0</td>\n",
        "      <td> 0</td>\n",
        "    </tr>\n",
        "    <tr>\n",
        "      <th>1 </th>\n",
        "      <td> 14</td>\n",
        "      <td> 74</td>\n",
        "      <td>   20</td>\n",
        "      <td> 0</td>\n",
        "      <td> 0</td>\n",
        "    </tr>\n",
        "    <tr>\n",
        "      <th>2 </th>\n",
        "      <td>  4</td>\n",
        "      <td> 36</td>\n",
        "      <td> 2876</td>\n",
        "      <td> 0</td>\n",
        "      <td> 0</td>\n",
        "    </tr>\n",
        "    <tr>\n",
        "      <th>3 </th>\n",
        "      <td>  8</td>\n",
        "      <td> 63</td>\n",
        "      <td>  126</td>\n",
        "      <td> 0</td>\n",
        "      <td> 0</td>\n",
        "    </tr>\n",
        "    <tr>\n",
        "      <th>4 </th>\n",
        "      <td> 46</td>\n",
        "      <td> 12</td>\n",
        "      <td>    8</td>\n",
        "      <td> 0</td>\n",
        "      <td> 0</td>\n",
        "    </tr>\n",
        "    <tr>\n",
        "      <th>5 </th>\n",
        "      <td> 29</td>\n",
        "      <td> 44</td>\n",
        "      <td>  519</td>\n",
        "      <td> 0</td>\n",
        "      <td> 0</td>\n",
        "    </tr>\n",
        "    <tr>\n",
        "      <th>6 </th>\n",
        "      <td> 68</td>\n",
        "      <td> 25</td>\n",
        "      <td>    5</td>\n",
        "      <td> 0</td>\n",
        "      <td> 0</td>\n",
        "    </tr>\n",
        "    <tr>\n",
        "      <th>7 </th>\n",
        "      <td> 36</td>\n",
        "      <td> 34</td>\n",
        "      <td>   68</td>\n",
        "      <td> 0</td>\n",
        "      <td> 0</td>\n",
        "    </tr>\n",
        "    <tr>\n",
        "      <th>8 </th>\n",
        "      <td>  2</td>\n",
        "      <td> 78</td>\n",
        "      <td>    3</td>\n",
        "      <td> 0</td>\n",
        "      <td> 0</td>\n",
        "    </tr>\n",
        "    <tr>\n",
        "      <th>9 </th>\n",
        "      <td> 58</td>\n",
        "      <td> 19</td>\n",
        "      <td>    8</td>\n",
        "      <td> 0</td>\n",
        "      <td> 0</td>\n",
        "    </tr>\n",
        "    <tr>\n",
        "      <th>10</th>\n",
        "      <td> 41</td>\n",
        "      <td> 57</td>\n",
        "      <td>    1</td>\n",
        "      <td> 0</td>\n",
        "      <td> 0</td>\n",
        "    </tr>\n",
        "    <tr>\n",
        "      <th>11</th>\n",
        "      <td> 80</td>\n",
        "      <td> 12</td>\n",
        "      <td>    2</td>\n",
        "      <td> 0</td>\n",
        "      <td> 0</td>\n",
        "    </tr>\n",
        "    <tr>\n",
        "      <th>12</th>\n",
        "      <td> 61</td>\n",
        "      <td> 38</td>\n",
        "      <td>    2</td>\n",
        "      <td> 0</td>\n",
        "      <td> 0</td>\n",
        "    </tr>\n",
        "    <tr>\n",
        "      <th>13</th>\n",
        "      <td> 69</td>\n",
        "      <td> 23</td>\n",
        "      <td>  239</td>\n",
        "      <td> 0</td>\n",
        "      <td> 0</td>\n",
        "    </tr>\n",
        "    <tr>\n",
        "      <th>14</th>\n",
        "      <td> 12</td>\n",
        "      <td> 59</td>\n",
        "      <td>    1</td>\n",
        "      <td> 0</td>\n",
        "      <td> 0</td>\n",
        "    </tr>\n",
        "    <tr>\n",
        "      <th>15</th>\n",
        "      <td> 69</td>\n",
        "      <td> 38</td>\n",
        "      <td>   79</td>\n",
        "      <td> 0</td>\n",
        "      <td> 0</td>\n",
        "    </tr>\n",
        "    <tr>\n",
        "      <th>16</th>\n",
        "      <td> 15</td>\n",
        "      <td> 30</td>\n",
        "      <td>   15</td>\n",
        "      <td> 0</td>\n",
        "      <td> 0</td>\n",
        "    </tr>\n",
        "    <tr>\n",
        "      <th>17</th>\n",
        "      <td> 20</td>\n",
        "      <td> 75</td>\n",
        "      <td>   12</td>\n",
        "      <td> 0</td>\n",
        "      <td> 0</td>\n",
        "    </tr>\n",
        "    <tr>\n",
        "      <th>18</th>\n",
        "      <td> 41</td>\n",
        "      <td> 74</td>\n",
        "      <td>   47</td>\n",
        "      <td> 0</td>\n",
        "      <td> 0</td>\n",
        "    </tr>\n",
        "    <tr>\n",
        "      <th>19</th>\n",
        "      <td> 74</td>\n",
        "      <td>  2</td>\n",
        "      <td>    3</td>\n",
        "      <td> 0</td>\n",
        "      <td> 0</td>\n",
        "    </tr>\n",
        "    <tr>\n",
        "      <th>20</th>\n",
        "      <td> 64</td>\n",
        "      <td> 20</td>\n",
        "      <td>  532</td>\n",
        "      <td> 0</td>\n",
        "      <td> 0</td>\n",
        "    </tr>\n",
        "    <tr>\n",
        "      <th>21</th>\n",
        "      <td> 45</td>\n",
        "      <td> 78</td>\n",
        "      <td>  170</td>\n",
        "      <td> 0</td>\n",
        "      <td> 0</td>\n",
        "    </tr>\n",
        "    <tr>\n",
        "      <th>22</th>\n",
        "      <td> 50</td>\n",
        "      <td> 27</td>\n",
        "      <td>    3</td>\n",
        "      <td> 0</td>\n",
        "      <td> 0</td>\n",
        "    </tr>\n",
        "    <tr>\n",
        "      <th>23</th>\n",
        "      <td> 31</td>\n",
        "      <td> 15</td>\n",
        "      <td>   29</td>\n",
        "      <td> 0</td>\n",
        "      <td> 0</td>\n",
        "    </tr>\n",
        "    <tr>\n",
        "      <th>24</th>\n",
        "      <td>  1</td>\n",
        "      <td> 40</td>\n",
        "      <td>   10</td>\n",
        "      <td> 0</td>\n",
        "      <td> 0</td>\n",
        "    </tr>\n",
        "  </tbody>\n",
        "</table>\n",
        "</div>"
       ],
       "metadata": {},
       "output_type": "pyout",
       "prompt_number": 98,
       "text": [
        "    source  target  total_freq  2007-09-05  2007-09-19\n",
        "0       31       6          27           0           0\n",
        "1       14      74          20           0           0\n",
        "2        4      36        2876           0           0\n",
        "3        8      63         126           0           0\n",
        "4       46      12           8           0           0\n",
        "5       29      44         519           0           0\n",
        "6       68      25           5           0           0\n",
        "7       36      34          68           0           0\n",
        "8        2      78           3           0           0\n",
        "9       58      19           8           0           0\n",
        "10      41      57           1           0           0\n",
        "11      80      12           2           0           0\n",
        "12      61      38           2           0           0\n",
        "13      69      23         239           0           0\n",
        "14      12      59           1           0           0\n",
        "15      69      38          79           0           0\n",
        "16      15      30          15           0           0\n",
        "17      20      75          12           0           0\n",
        "18      41      74          47           0           0\n",
        "19      74       2           3           0           0\n",
        "20      64      20         532           0           0\n",
        "21      45      78         170           0           0\n",
        "22      50      27           3           0           0\n",
        "23      31      15          29           0           0\n",
        "24       1      40          10           0           0"
       ]
      }
     ],
     "prompt_number": 98
    },
    {
     "cell_type": "code",
     "collapsed": false,
     "input": [
      "proxpair_df.to_csv('../data/proximity-time-series.csv')"
     ],
     "language": "python",
     "metadata": {},
     "outputs": [],
     "prompt_number": 99
    },
    {
     "cell_type": "code",
     "collapsed": false,
     "input": [],
     "language": "python",
     "metadata": {},
     "outputs": []
    }
   ],
   "metadata": {}
  }
 ]
}