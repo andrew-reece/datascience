{
 "metadata": {
  "name": ""
 },
 "nbformat": 3,
 "nbformat_minor": 0,
 "worksheets": [
  {
   "cells": [
    {
     "cell_type": "code",
     "collapsed": false,
     "input": [
      "# import modules\n",
      "\n",
      "import pandas as pd\n",
      "import numpy as np\n",
      "import re\n",
      "import datetime\n",
      "import math"
     ],
     "language": "python",
     "metadata": {},
     "outputs": [],
     "prompt_number": 1
    },
    {
     "cell_type": "code",
     "collapsed": false,
     "input": [
      "# load CSVs\n",
      "\n",
      "politics = pd.io.parsers.read_csv('../../data/Politics.csv')\n",
      "health = pd.io.parsers.read_csv('../../data/Health.csv')\n",
      "flu = pd.io.parsers.read_csv('../../data/FluSymptoms.csv')\n",
      "music = pd.io.parsers.read_csv('../../data/MusicGenrePreference.csv')\n",
      "subjects = pd.io.parsers.read_csv('../../data/Subjects.csv')\n"
     ],
     "language": "python",
     "metadata": {},
     "outputs": [],
     "prompt_number": 270
    },
    {
     "cell_type": "code",
     "collapsed": false,
     "input": [
      "# formats music ratings\n",
      "\n",
      "def format_score(score):\n",
      "    \n",
      "    if (type(score) == float):\n",
      "        return 0\n",
      "    else:\n",
      "        return int(str(score)[:1])\n",
      "    "
     ],
     "language": "python",
     "metadata": {},
     "outputs": [],
     "prompt_number": 271
    },
    {
     "cell_type": "code",
     "collapsed": false,
     "input": [
      "# helper function in selecting each user's top average music genre\n",
      "\n",
      "def get_top_genre(user):\n",
      "    \n",
      "    idxmax = user[\"score\"].idxmax(axis=0)\n",
      "    return user.ix[idxmax,\"genre\"]"
     ],
     "language": "python",
     "metadata": {},
     "outputs": [],
     "prompt_number": 273
    },
    {
     "cell_type": "code",
     "collapsed": false,
     "input": [
      "# Subjects:\n",
      "\n",
      "year = [\"Freshman\", \"Sophomore\", \"Junior\", \"Senior\", \"GRT / Other\"]\n",
      "year_code = [\"FR\", \"SO\", \"JR\", \"SR\", \"OTHER\"]\n",
      "subjects[\"year_school\"].replace(to_replace=year, value=year_code, inplace=True)\n"
     ],
     "language": "python",
     "metadata": {},
     "outputs": [],
     "prompt_number": 287
    },
    {
     "cell_type": "code",
     "collapsed": false,
     "input": [
      "# Music: \n",
      "\n",
      "genres = [\"indie / alternative rock\", \"classic rock\", \"heavy metal / hardcore\",\n",
      "          \"pop / top 40\", \"techno / lounge / electronic\", \"hip-hop / r&b\",\n",
      "          \"jazz\", \"classical\", \"country / folk\", \"showtunes\", \"other\"]\n",
      "genre_code = [\"INDIE\", \"CLSRCK\", \"METAL\", \"TOP40\", \"ELECTR\", \"HIPHOP\", \n",
      "               \"JAZZ\", \"CLASS\", \"CNFLK\", \"SHOWTUN\", \"OTHER\"]\n",
      "               \n",
      "# format scores into Ints\n",
      "music[\"score\"] = music[\"score\"].apply(lambda x: format_score(x))\n",
      "\n",
      "music=music.rename(columns = {'user.id':'user_id'})\n",
      "# group by user, genre, take avg\n",
      "music_subset = music.groupby([\"user_id\",\"genre\"])[\"score\"].mean().reset_index()\n",
      "\n",
      "music_subset2 = music_subset.groupby([\"user_id\"], sort=False, as_index=False).apply(lambda x: get_top_genre(x)).reset_index()\n",
      "music_subset2.columns = [\"user_id\", \"fav_music\"]\n",
      "music_subset2[\"fav_music\"].replace(to_replace=genres, value=genre_code, inplace=True)\n"
     ],
     "language": "python",
     "metadata": {},
     "outputs": [],
     "prompt_number": 288
    },
    {
     "cell_type": "code",
     "collapsed": false,
     "input": [
      "# Flu: \n",
      "\n",
      "# average depression, stress scores across study (could do bi-weekly...but is it worth it?)\n",
      "flu=flu.rename(columns = {'sad.depressed':'sad', 'open.stressed':'stressed'})\n",
      "flu_subset = np.around(flu.groupby([\"user_id\"])[\"sad\",\"stressed\"].mean().reset_index(),1)\n"
     ],
     "language": "python",
     "metadata": {},
     "outputs": [],
     "prompt_number": 289
    },
    {
     "cell_type": "code",
     "collapsed": false,
     "input": [
      "# Health: \n",
      "\n",
      "# we only use average hrs aerobic workout per week\n",
      "health_subset = np.around(health.groupby([\"user_id\"])[\"aerobic_per_week\"].mean().reset_index(),1)\n"
     ],
     "language": "python",
     "metadata": {},
     "outputs": [],
     "prompt_number": 290
    },
    {
     "cell_type": "code",
     "collapsed": false,
     "input": [
      "# Politics: \n",
      "\n",
      "party = [\"Democrat\", \"Republican\", \"Independent\", \"Member of another party\"]\n",
      "party_code = [\"DEM\", \"REP\", \"IND\", \"OTHER\"]\n",
      "libcon = [\"Extremely conservative\", \"Conservative\", \"Slightly conservative\",\n",
      "          \"Moderate middle of the road\", \"Slightly liberal\", \"Liberal\", \"Extremely liberal\"]\n",
      "libcon_code = [\"CON3\", \"CON2\", \"CON1\", \"NEUT\", \"LIB1\", \"LIB2\", \"LIB3\"]\n",
      "\n",
      "# party and lib/consv identification\n",
      "cols = ['user_id', 'preferred_party','liberal_or_conservative']\n",
      "pol_subset =  politics.ix[politics['survey.month']==politics['survey.month'][0], cols]\n",
      "pol_subset[\"preferred_party\"].replace(to_replace=party, value=party_code, inplace=True)\n",
      "pol_subset[\"liberal_or_conservative\"].replace(to_replace=libcon, value=libcon_code, inplace=True)\n",
      "pol_subset = pol_subset.rename(columns = {'liberal_or_conservative':'libcon', 'preferred_party':'party'})\n",
      "\n"
     ],
     "language": "python",
     "metadata": {},
     "outputs": [],
     "prompt_number": 294
    },
    {
     "cell_type": "code",
     "collapsed": false,
     "input": [
      "# here we use merge(), which is only two at a time\n",
      "# join() allows for multiple dfs at once, but it requires join-on-index\n",
      "# since here we are joining on user_id, we do merge, step-by-step\n",
      "# (it may be that we can set it so that index is equivalent to user_id, but we didn't try.)\n",
      "\n",
      "temp1 = pd.merge(subjects,health_subset,on=\"user_id\")\n",
      "temp2 = pd.merge(temp1,pol_subset,on=\"user_id\")\n",
      "temp3 = pd.merge(temp2,flu_subset,on=\"user_id\")\n",
      "temp4 = pd.merge(temp3,music_subset2,on=\"user_id\")\n"
     ],
     "language": "python",
     "metadata": {},
     "outputs": [],
     "prompt_number": 295
    },
    {
     "cell_type": "code",
     "collapsed": false,
     "input": [
      "final_subjects = temp4\n",
      "final_subjects.to_csv(\"../data/subjects-master.csv\")"
     ],
     "language": "python",
     "metadata": {},
     "outputs": [],
     "prompt_number": 296
    }
   ],
   "metadata": {}
  }
 ]
}