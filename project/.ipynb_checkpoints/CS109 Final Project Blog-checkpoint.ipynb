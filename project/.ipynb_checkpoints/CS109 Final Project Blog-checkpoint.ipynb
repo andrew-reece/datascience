{
 "metadata": {
  "name": ""
 },
 "nbformat": 3,
 "nbformat_minor": 0,
 "worksheets": [
  {
   "cells": [
    {
     "cell_type": "markdown",
     "metadata": {},
     "source": [
      "-- css --\n",
      "\n",
      "<style>\n",
      "div.text_cell_render {\n",
      "    line-height: 150%;\n",
      "    font-size: 110%;\n",
      "    width: 800px;\n",
      "    margin-left:50px;\n",
      "    margin-right:auto;\n",
      "    }\n",
      "    \n",
      "div.Andrew {\n",
      "    margin: 20px;\n",
      "    padding: 20px;\n",
      "    color: maroon;\n",
      "    background-color: rgb(233,233,233);\n",
      "    font-family: calibri;\n",
      "    font-size: 14pt;\n",
      "}\n",
      "</style>"
     ]
    },
    {
     "cell_type": "heading",
     "level": 4,
     "metadata": {},
     "source": [
      "<div style='background-color:lightyellow; padding:30px; border:solid 2px navy;'>\n",
      "This is a blog for our CS109 Final Project.  \n",
      "    <br /><br />\n",
      "Update progress here.  \n",
      "    <br /><br />\n",
      "    Might be good to make different css classes so we can see who's saying what...\n",
      "<br />\n",
      "  (add classes to the css tab above)\n",
      "</div>"
     ]
    },
    {
     "cell_type": "markdown",
     "metadata": {},
     "source": [
      "<div class='Andrew'>\n",
      "These are the ideas and hypotheses I started out with (and an update from Dan as well).  \n",
      "We can update them as we go, of course, but so far they seem to be bearing at least some fruit.\n",
      "<br /><br />\n",
      "<b>The Data</b>\n",
      "<br />\n",
      "I started thinking about words in media sources (newspapers, blogs), because Dan and I are on a team of people who are (supposedly) working on a big corpus of media articles.  We don't have a lot of awesome metadata though with which to make our predictions, so I got to thinking about what sorts of things might be predictable by really low-level information.  Like word length, and article length.\n",
      "<br /><br />\n",
      "<b>The Ideas</b>\n",
      "<br />\n",
      "Imagine the droning professor at the lecture stand, versus someone who just had their day ruined by an idiot.  \n",
      "<br />\n",
      "Who is using longer words?  My guess: The professor. (Think of the saying, \"I'm so mad I can barely speak.\"\n",
      "<br />\n",
      "Imagine someone who just won the lottery, or who was just proposed to for marriage.  They don't call to mind long, polysyllabic solliloquies either.  \"OMG OMG OMG!!!1!!\"  \n",
      "<br />\n",
      "So I think that if people say less when they're emotional (and say more when they're disengaged and just listening to the sound of their own voice), they're probably going to write that way, too.\n",
      "<br /><br />\n",
      "\n",
      "<div style=\"margin-left:25px\">\n",
      "<b>[Hypothesis 1]</b>\n",
      "<br />\n",
      "As such, we should expect to see that emotionally neutral writings have longer words, and emotionally excited writings have shorter words. \n",
      "<br /><br />\n",
      "<b>[Hypothesis 2]</b>\n",
      "<br />\n",
      "It's a corrolary that emotionally neutral writings should be longer in overall length, as well.  Excited writings are shorter.  (There's a \"but\" here though, see below.) \n",
      "</div>\n",
      "<br /><br />\n",
      "Now, while I do envision emotional people acting, on the whole, different from neutral people, I can also see that there might be some difference within happy and unhappy camps.  That's where the second set of hypotheses comes in.  \n",
      "<br /><br />\n",
      "<div style=\"margin-left:25px\">\n",
      "<b>[Hypothesis 3]</b>\n",
      "<br />\n",
      "I'd guess that unhappy people write more.  Happy people would rather be out being happy!  So within emotional people, negative sentiment and longer article/post length will have a positive relationship.\n",
      "<br /><br />\n",
      "<b>[Hypothesis 4??]</b>\n",
      "<br />\n",
      "I'm not sure that I have an intuitive prediction for word length differences between happy and unhappy people.  I don't really know if positive words are longer, on average.  If they are, then we should see that show up in the articles, too.  But I don't think that'd be much of a prediction - more just a confirmatory observation.  So really there is no Hypothesis 4.\n",
      "</div>\n",
      "<br /><br /><br >\n",
      "<b>Dan and Comments</b>\n",
      "<br />\n",
      "Dan suggested looking at the sentiment of people writing comments in response to blogs and articles.  I think that's a cool idea.  I haven't thought much about what we'd find there yet.  I'm going to try and see if we have anything in the first branch of hypotheses before moving onto this one.  Dan, any thoughts?\n",
      "</div>"
     ]
    },
    {
     "cell_type": "markdown",
     "metadata": {},
     "source": [
      "<div class=\"Andrew\">\n",
      "<b>Nov 27</b>\n",
      "<br />\n",
      "So I stumbled upon a few important things since our last meeting.  \n",
      "<br />\n",
      "In short, I was doing something wrong, and now our results are more awesome.\n",
      "<br /><br />\n",
      "I had been correlating our predictors (word length, article length) with average sentiment scores per article.  But I wasn't thinking about what that really meant.  A positive correlation means that when one variable goes up, another one goes up with it.  So by correlating, say, word length and sentiment, to find a positive correlation would mean that as word length increases, the sentiment score would increase as well.  \n",
      "<br />\n",
      "But that's not what we're interested in, at least not at first.  Our prediction outcome involved average sentiment going from low-valence (ie. neutral sentiment) to high-valence (ie. fired up, in either a positive or negative direction).  But the sentiment score itself goes from 1 (very negative sentiment) to 10 (very positive sentiment).  So if word length and sentiment had a positive relationship, that would mean that as words go from short to long, they go from angry to happy.  Which, to be fair, is something we were curious about.  But the first prediction had to do with neutral versus extreme emotional content.  That is NOT what our correlation was measuring.\n",
      "<br />\n",
      "Instead, we basically want a sentiment scoring system that starts in the middle (dead neutral, no emotion) and moves out from there (to some strong emotion, although we don't care which one).  I reorganized the sentiment scores accordingly, by creating a vector of z-scores, and then taking their absolute values.  \n",
      "<br />\n",
      "A z-score (just as a quick stats refresher) is a measure of how many standard deviations a given data point lies away from the mean.  So if mean sentiment is 5, and the standard deviation is 1.5, then a data point with sentiment score 6.5 would score a 1.0 on this scale.  Conversely, a data point with sentiment of 3.5 would score -1.0 on this scale.  But if we're just interested in going from weak to strong emotion, we don't care so much about negative or positive at this point.  So we can take the absolute value of z-scores, so they're all heading positively away from zero.\n",
      "<br />\n",
      "NOW we have a vector of interest, and we can correlate our word length and article length vectors appropriately to test our hypotheses.  Sure enough, we get some good findings now! (see AR_nov27a)\n",
      "<br /><br />\n",
      "more to follow...\n",
      "</div>"
     ]
    },
    {
     "cell_type": "markdown",
     "metadata": {},
     "source": [
      "<div class=\"Andrew\">\n",
      "<b>Dec 01 Next Steps:</b>\n",
      "<br /><br />\n",
      "<ul>\n",
      "<li>Get other datasets - blog feeds, other papers, etc</li>\n",
      "<br />\n",
      "<li>Add error bars to bar graphs</li>\n",
      "<br />\n",
      "<li>Check what the average post/article length is - we may want to institute a minimum cutoff</li><br />\n",
      "<li>fiddle with the % cutoff for how much we exclude from the middle (when partitioning extremes)</li>\n",
      "<br />\n",
      "<li>check to make sure your numbers are all good and in the right format - meaning, when you use lists, dataframes, sets, are the numbers you think are there, actually the numbers you expect to be there?  sometimes when more than one person works on code, flubs can happen.</li>\n",
      "<br />\n",
      "<li>before you run a regression, consider that your IVs - word len and article len - are not independent.  how can you correct for this problem? i think one assumption of multiple regression is that factors are independent of one another...but there must be a way to correct for this.</li>\n",
      "<br />\n",
      "<li>run regression model...but what is this really telling us? is it telling us the same thing as the bayesian approach?</li>\n",
      "</ul>"
     ]
    },
    {
     "cell_type": "code",
     "collapsed": false,
     "input": [],
     "language": "python",
     "metadata": {},
     "outputs": []
    }
   ],
   "metadata": {}
  }
 ]
}