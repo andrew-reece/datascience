{
 "metadata": {
  "name": ""
 },
 "nbformat": 3,
 "nbformat_minor": 0,
 "worksheets": [
  {
   "cells": [
    {
     "cell_type": "code",
     "collapsed": false,
     "input": [
      "# Not sure what we'll need exactly, so just importing all the usual suspects here\n",
      "%matplotlib inline\n",
      "\n",
      "\n",
      "import json\n",
      "import requests\n",
      "import pandas as pd\n",
      "import numpy as np\n",
      "import matplotlib.pyplot as plt\n",
      "\n",
      "\n",
      "from sklearn.feature_extraction.text import CountVectorizer\n",
      "from sklearn import linear_model\n",
      "import nltk\n",
      "from nltk.corpus import stopwords #If this line doesn't work, use nltk.downloads() and download corpus#\n",
      "from collections import defaultdict \n",
      "from sklearn.feature_extraction.text import CountVectorizer\n",
      "\n",
      "# set some nicer defaults for matplotlib\n",
      "from matplotlib import rcParams\n",
      "\n",
      "#these colors come from colorbrewer2.org. Each is an RGB triplet\n",
      "dark2_colors = [(0.10588235294117647, 0.6196078431372549, 0.4666666666666667),\n",
      "                (0.8509803921568627, 0.37254901960784315, 0.00784313725490196),\n",
      "                (0.4588235294117647, 0.4392156862745098, 0.7019607843137254),\n",
      "                (0.9058823529411765, 0.1607843137254902, 0.5411764705882353),\n",
      "                (0.4, 0.6509803921568628, 0.11764705882352941),\n",
      "                (0.9019607843137255, 0.6705882352941176, 0.00784313725490196),\n",
      "                (0.6509803921568628, 0.4627450980392157, 0.11372549019607843),\n",
      "                (0.4, 0.4, 0.4)]\n",
      "\n",
      "rcParams['figure.figsize'] = (10, 6)\n",
      "rcParams['figure.dpi'] = 150\n",
      "rcParams['axes.color_cycle'] = dark2_colors\n",
      "rcParams['lines.linewidth'] = 2\n",
      "rcParams['axes.grid'] = False\n",
      "rcParams['axes.facecolor'] = 'white'\n",
      "rcParams['font.size'] = 14\n",
      "rcParams['patch.edgecolor'] = 'none'\n"
     ],
     "language": "python",
     "metadata": {},
     "outputs": [],
     "prompt_number": 181
    },
    {
     "cell_type": "code",
     "collapsed": false,
     "input": [
      "## NYT API keys\n",
      "api_key_article = \"851E7D0A131BEE9BC01097470C238637:13:47475506\"\n",
      "api_key_article2 = \"bed47051feee77b8c7bb5e0b6958581b:14:47475506\"\n",
      "api_key_popular = \"09dfaf288ad6c2ec46893a27ca758d41:19:47475506\"\n"
     ],
     "language": "python",
     "metadata": {},
     "outputs": [],
     "prompt_number": 336
    },
    {
     "cell_type": "heading",
     "level": 3,
     "metadata": {},
     "source": [
      "FUNCTIONS"
     ]
    },
    {
     "cell_type": "code",
     "collapsed": false,
     "input": [
      "def call_nyt_api(api, url_base, api_key, range_min, range_max, increment):\n",
      "\n",
      "    dicts = []\n",
      "    ct = 0\n",
      "    ## range_min, range_max, increment, page_param and offset determine how often we request new pages of api calls\n",
      "    ## they're called different things in the two APIs, thus all the hoopla\n",
      "    ## we basically want to have about 100 unique articles in each category\n",
      "    \n",
      "    page_param = \"&offset=\" if api == \"POPULAR\" else \"&page=\"\n",
      "    \n",
      "    for offset in range(range_min, range_max, increment):\n",
      "\n",
      "        ct +=1\n",
      "        \n",
      "        print 'running range:',offset,'to',offset+increment,'\\n'\n",
      "        \n",
      "        url = ''.join([url_base,\n",
      "                        api_key,\n",
      "                        page_param,\n",
      "                        str(offset)])\n",
      "        print url\n",
      "        \n",
      "## get raw html for each article\n",
      "        \n",
      "        api_response = requests.get(url).text\n",
      "        try:\n",
      "            jsons = json.loads(api_response)\n",
      "        except:\n",
      "            print 'error loading JSON on:',ct\n",
      "            continue\n",
      "\n",
      "        try:\n",
      "            json_dict = jsons[\"results\"] if api == 'POPULAR' else jsons[\"response\"][\"docs\"]\n",
      "        except:\n",
      "            print 'error getting RESULTS on:',ct\n",
      "            continue\n",
      "            \n",
      "        dicts.append(json_dict)    \n",
      "        \n",
      "    return dicts"
     ],
     "language": "python",
     "metadata": {},
     "outputs": [],
     "prompt_number": 343
    },
    {
     "cell_type": "code",
     "collapsed": false,
     "input": [
      "def make_soup(url):\n",
      "    \n",
      "## load raw html from url\n",
      "\n",
      "    raw_article_html = requests.get(url).text\n",
      "     \n",
      "## create soup object for parsing\n",
      "\n",
      "    soup = BeautifulSoup(raw_article_html)\n",
      "    \n",
      "    return soup\n",
      "    "
     ],
     "language": "python",
     "metadata": {},
     "outputs": [],
     "prompt_number": 184
    },
    {
     "cell_type": "code",
     "collapsed": false,
     "input": [
      "def get_article_title(json, api):\n",
      "    \n",
      "    title = json[\"title\"] if api == 'POPULAR' else json[\"headline\"][\"main\"]\n",
      "    \n",
      "    return title\n"
     ],
     "language": "python",
     "metadata": {},
     "outputs": [],
     "prompt_number": 185
    },
    {
     "cell_type": "code",
     "collapsed": false,
     "input": [
      "def get_article_metadata(soup, j, api):\n",
      "   \n",
      "    ## get title\n",
      "    \n",
      "    title = get_article_title(j, api)\n",
      "            \n",
      "    ## print title\n",
      "    \n",
      "    ## NB:\n",
      "    ## since it's December, \n",
      "    ## there are a few 'best of 2013' articles and reviews which are really mostly blurbs and links\n",
      "    ## this search pattern flags those articles for exclusion later\n",
      "    \n",
      "    its_a_survey = re.search('of 2013$', title)\n",
      "    \n",
      "    survey = True if its_a_survey else False\n",
      "    \n",
      "    ## get section name\n",
      "    ## eg. World, U.S., Books, Science\n",
      "    \n",
      "    section_formal = j[\"section\"] if api == 'POPULAR' else j[\"section_name\"]\n",
      "    \n",
      "    ## an exclusion criterion...'Corrections' means amendments to previous articles, they're not really articles.\n",
      "    \n",
      "    corrections = True if section_formal == \"Corrections\" else False\n",
      "    \n",
      "## after looking through the actual article page source code\n",
      "## we can see that the unique article id is stored in a meta tag:\n",
      "## <meta content=\"100000002558432\" itemprop=\"identifier\" name=\"articleid\"/>\n",
      "\n",
      "## there's also some other metadata we're interested in:\n",
      "## eg. <meta name=\"PT\" content=\"Article\">\n",
      "\n",
      "## so we parse out the content of these tags in order to get relevant metadata\n",
      "\n",
      "## first get content type and genre (eg. 'Article / News')\n",
      "\n",
      "## we make each a try/except block to prevent random errors that sometimes do show up\n",
      "\n",
      "    try:\n",
      "        content_type = soup.find(\"meta\", attrs={\"name\":\"PT\"}).attrs[\"content\"]\n",
      "    except:\n",
      "        content_type = ''\n",
      "        \n",
      "        \n",
      "    try:\n",
      "        content_genre = soup.find(\"meta\", attrs={\"name\":\"PST\"}).attrs[\"content\"]\n",
      "    except:\n",
      "        content_genre = ''\n",
      "        \n",
      "        \n",
      "    try:\n",
      "        author = soup.find(\"meta\", attrs={\"name\":\"author\"}).attrs[\"content\"]\n",
      "    except:\n",
      "        author = ''\n",
      "    \n",
      "    nyt_original = False if author == \"THE ASSOCIATED PRESS\" else True\n",
      "    \n",
      "    \n",
      "    try:\n",
      "        page_num = soup.find(\"span\", attrs={\"itemprop\":\"printPage\"}).string\n",
      "    except:\n",
      "        page_num = ''\n",
      "        ## NB: on some blogs, the page number is in a block of text, and we'd need to do regex extraction to get it.\n",
      "        ##\n",
      "        ## eg. http://well.blogs.nytimes.com/2013/11/11/women-find-orgasms-elusive-in-hookups/\n",
      "        ## at the end of the actual article text there's this <h6> tag:\n",
      "        ## <h6 class=\"metaFootnote\">A version of this article appears in print on 11/12/2013, on page D1 of the NewYork edition with the headline: In Hookups, Inequality Still Reigns.</h6>\n",
      "   \n",
      "        \n",
      "    try:\n",
      "        category = soup.find(\"meta\", attrs={\"name\":\"CG\"}).attrs[\"content\"]\n",
      "    except:\n",
      "        category = ''\n",
      "        \n",
      "        \n",
      "    try:\n",
      "        sub_category = soup.find(\"meta\", attrs={\"name\":\"SCG\"}).attrs[\"content\"]\n",
      "    except:\n",
      "        sub_category = ''\n",
      "        \n",
      "        \n",
      "    if content_type == \"Blogs\":\n",
      "        \n",
      "        id_tag = soup.find(\"meta\", attrs={\"name\":\"communityMD5\"})\n",
      "        \n",
      "    else:\n",
      "        \n",
      "        id_tag = soup.find(\"meta\", attrs={\"itemprop\": \"identifier\", \"name\":\"articleid\"})\n",
      "\n",
      "        \n",
      "    article_id = id_tag.attrs[\"content\"] if (id_tag) else ''\n",
      "                \n",
      "## NYT only gives word_length metadata on the Article API, not on Most Popular\n",
      "## we compute it later on if it doesn't show up here\n",
      "\n",
      "    try:    \n",
      "        \n",
      "        word_count = j[\"word_count\"]\n",
      "        \n",
      "    except KeyError:\n",
      "        \n",
      "        word_count = ''    \n",
      "        \n",
      "        \n",
      "## 'include' evaluates all the exclusion criteria for an article\n",
      "## ie. True = keep article, False = discard article\n",
      "\n",
      "    bad_word_count = (not(word_count > 100 or word_count == ''))\n",
      "    \n",
      "    bad_genre = ( (sub_category == \"weddings\") or (sub_category == \"wordplay\") or (content_genre == \"Obituary (Obit)\") or (section_formal == \"Paid Death Notices\") or (category == \"classifieds\") or (content_genre == \"Schedule\") or (content_genre == \"List\") or (content_genre == \"Brief\") or (content_genre == \"Text\") or corrections or survey)\n",
      "\n",
      "    good_article_type = ((content_type == \"Blogs\") or (content_type == \"Article\"))\n",
      "    \n",
      "    include = False if (not nyt_original) or bad_word_count or (not good_article_type) or bad_genre else True\n",
      "  \n",
      "    metadata = {\n",
      "                \"article_id\":article_id,\n",
      "                \"title\":title,\n",
      "                \"content_type\":content_type,\n",
      "                \"genre\":content_genre,\n",
      "                \"section_formal\":section_formal,\n",
      "                \"section\":category,\n",
      "                \"sub_category\":sub_category,\n",
      "                \"author\":author,\n",
      "                \"page_num\":page_num,\n",
      "                \"word_count\":word_count,\n",
      "                \"include\":include\n",
      "                }\n",
      "    \n",
      "    return metadata\n"
     ],
     "language": "python",
     "metadata": {},
     "outputs": [],
     "prompt_number": 321
    },
    {
     "cell_type": "code",
     "collapsed": false,
     "input": [
      "##\n",
      "## get article text\n",
      "##\n",
      "\n",
      "\n",
      "## helper function for beautiful soup\n",
      "##\n",
      "def is_p_and_has_no_class(tag):\n",
      "    \n",
      "    return (not tag.has_attr('class')) and (tag.name=='p')\n",
      "\n",
      "\n",
      "\n",
      "## main function\n",
      "##\n",
      "def get_article_text(soup, content_type, genre):\n",
      "\n",
      "    article_body = []\n",
      "        \n",
      "    ## after looking through the actual article page source code\n",
      "    ## we can see that this 'itemprop' attribute stores all blocks of article text\n",
      "    ## so we parse out only these blocks from the whole text dump (there are lots of ads, images, menus, etc)\n",
      "    \n",
      "    ## text scraping requires finding the different tags that mark article body text in each section\n",
      "    #  eg. slightly different with blogs & reviews than with regular news \n",
      "\n",
      "    if content_type == \"Blogs\":\n",
      "    \n",
      "        text = soup.findAll(is_p_and_has_no_class)\n",
      "\n",
      "    elif genre == \"Review\":\n",
      "        \n",
      "        text = soup.findAll(itemprop=\"reviewBody\")\n",
      "        \n",
      "    else:\n",
      "        \n",
      "        text = soup.findAll(\"p\", attrs={\"itemprop\":\"articleBody\"})\n",
      "    \n",
      "    ## testing\n",
      "    ## print 'this is the article text:',text\n",
      "    \n",
      "    return text\n"
     ],
     "language": "python",
     "metadata": {},
     "outputs": [],
     "prompt_number": 187
    },
    {
     "cell_type": "code",
     "collapsed": false,
     "input": [
      "def cleanup_text(text, content_type):\n",
      "    \n",
      "## apostrophes (') get turned into a funny French a\n",
      "## so we sub back in ' with regex\n",
      "## we also get rid of carriage returns and other useless whitespace \n",
      "\n",
      "    remove_a = re.compile(u'\u00e2')\n",
      "    remove_w = re.compile('[\\n\\r\\t]')  \n",
      "    remove_comma = re.compile(',')\n",
      "    \n",
      "    ptags = []\n",
      "\n",
      "    try:   \n",
      "        \n",
      "        ct = 0   ## this counter is for error handling\n",
      "        for t in text:\n",
      "            \n",
      "            ct+=1\n",
      "            \n",
      "            try:\n",
      "                \n",
      "                \n",
      "                for x in t.descendants:\n",
      "                    \n",
      "                    ad_text = re.match('(Get unlimited access)|(All print options include)', x.string)\n",
      "                    \n",
      "                    if (not x.name) and (not ad_text):\n",
      "                \n",
      "                        ptags.append(x.string)\n",
      "                \n",
      "            except:\n",
      "                \n",
      "                print 'failed at:',ct    ## some blogs barf on the <p> html structure for some reason\n",
      "                break\n",
      "   \n",
      "        ptags = [ remove_a.sub(r\"\", p) for p in ptags ]\n",
      "\n",
      "        ptags = [ remove_w.sub(r\"\", p) for p in ptags ]\n",
      "\n",
      "        ptags = [ remove_comma.sub(r\"\", p) for p in ptags ]\n",
      "\n",
      "        cleaned_text = ' '.join(ptags)\n",
      "        \n",
      "    except:\n",
      "        #print text\n",
      "        cleaned_text = 'error_text'\n",
      "     \n",
      "    #print text\n",
      "    return cleaned_text\n"
     ],
     "language": "python",
     "metadata": {},
     "outputs": [],
     "prompt_number": 278
    },
    {
     "cell_type": "code",
     "collapsed": false,
     "input": [
      "## extract article body text from raw html\n",
      "\n",
      "def extract_articles(api, jsons, target_count=0):\n",
      "\n",
      "## the API return only gives us metadata and lead paragraph\n",
      "## but we do get the URL\n",
      "## so here we load each article URL and scrape the text\n",
      "## then we store the actual article text bodies in a list\n",
      "\n",
      "    articles = []\n",
      "    \n",
      "    popular = 1 if api == \"POPULAR\" else 0\n",
      "    \n",
      "    ## counter is for matching roughly the same number of popular and non-popular articles\n",
      "    ## we do popular articles first.  so when collecting unpopular articles, we keep a running count,\n",
      "    ## and when we match the number of popular articles already collected, we can stop scraping.\n",
      "    counter = 0\n",
      "    \n",
      "## STEPS IN THIS CODE BLOCK:\n",
      "##\n",
      "## 1) loop through each article's json\n",
      "## 2) make soup for parsing\n",
      "## 3) grab metadata\n",
      "## 4) scrape article text from url\n",
      "## 5) clean article text\n",
      "## 6) store in master list of articles\n",
      "\n",
      "## NB: The Article and Most Popular APIs have different json trees, \n",
      "## so at times we need conditional branches to assign the correct paths to the nodes we want\n",
      "    \n",
      "    \n",
      "    \n",
      "    for json_set in jsons:\n",
      "    \n",
      "    #1\n",
      "        for j in json_set:\n",
      "         \n",
      "            if not popular:\n",
      "                \n",
      "                if counter >= target_count: break\n",
      "                else: counter += 1\n",
      "            \n",
      "                print counter\n",
      "        #2\n",
      "            url = j[\"url\"] if api == 'POPULAR' else j[\"web_url\"]\n",
      "            \n",
      "            print url\n",
      "            \n",
      "            soup = make_soup(url) \n",
      "   \n",
      "        #3  \n",
      "            metadata = get_article_metadata(soup, j, api)\n",
      "\n",
      "            print metadata[\"title\"]\n",
      "        #4\n",
      "            text = get_article_text(soup, content_type, content_genre)\n",
      "            \n",
      "        #5                 \n",
      "            cleaned_text = cleanup_text(text, content_type)\n",
      "                \n",
      "        #6\n",
      "            \n",
      "            if (metadata[\"include\"]):\n",
      "                    \n",
      "                articles.append([metadata[\"article_id\"], \n",
      "                                 popular, \n",
      "                                 metadata[\"content_type\"], \n",
      "                                 metadata[\"genre\"],\n",
      "                                 metadata[\"section_formal\"], \n",
      "                                 metadata[\"section\"],\n",
      "                                 metadata[\"sub_category\"],\n",
      "                                 metadata[\"title\"],\n",
      "                                 metadata[\"author\"],\n",
      "                                 metadata[\"word_count\"],\n",
      "                                 url,\n",
      "                                 metadata[\"page_num\"],  \n",
      "                                 cleaned_text])\n",
      "\n",
      "    return articles"
     ],
     "language": "python",
     "metadata": {},
     "outputs": [],
     "prompt_number": 322
    },
    {
     "cell_type": "code",
     "collapsed": false,
     "input": [
      "def make_article_df(articles):\n",
      "    \n",
      "    df = pd.DataFrame(index = range(0,len(articles)), \n",
      "                              columns = [\"article_id\",\n",
      "                                         \"popular\",\n",
      "                                         \"content_type\",\n",
      "                                         \"genre\",\n",
      "                                         \"section_formal\",\n",
      "                                         \"section\",\n",
      "                                         \"sub-category\",\n",
      "                                         \"title\",\n",
      "                                         \"author\",\n",
      "                                         \"post_length\",\n",
      "                                         \"url\",\n",
      "                                         \"page_num\",\n",
      "                                         \"text\"])\n",
      "\n",
      "    for idx, a in enumerate(articles):\n",
      "    \n",
      "        df.ix[idx, \"article_id\"] = a[0]\n",
      "        df.ix[idx, \"popular\"] = a[1]\n",
      "        df.ix[idx, \"content_type\"] = a[2]\n",
      "        df.ix[idx, \"genre\"] = a[3]\n",
      "        df.ix[idx, \"section_formal\"] = a[4]\n",
      "        df.ix[idx, \"section\"] = a[5]\n",
      "        df.ix[idx, \"sub-category\"] = a[6]\n",
      "        df.ix[idx, \"title\"] = a[7]\n",
      "        df.ix[idx, \"author\"] = a[8]\n",
      "        df.ix[idx, \"post_length\"] = a[9]\n",
      "        df.ix[idx, \"url\"] = a[10]\n",
      "        df.ix[idx, \"page_num\"] = a[11]\n",
      "        df.ix[idx, \"text\"] = a[12]\n",
      "        \n",
      "    return df\n"
     ],
     "language": "python",
     "metadata": {},
     "outputs": [],
     "prompt_number": 190
    },
    {
     "cell_type": "code",
     "collapsed": false,
     "input": [
      "def get_date_range():\n",
      "   \n",
      "    today = time.strftime(\"%Y%m%d\", time.localtime())\n",
      "    \n",
      "    days_to_subtract = 30\n",
      "    \n",
      "    days_to_subtract_yr = 365\n",
      "    \n",
      "    one_month_ago = date.today() - timedelta(days=days_to_subtract)\n",
      "\n",
      "    one_month_ago = one_month_ago.strftime(\"%Y%m%d\")\n",
      "\n",
      "    one_year_ago = date.today() - timedelta(days=days_to_subtract_yr)\n",
      "\n",
      "    one_year_ago = one_year_ago.strftime(\"%Y%m%d\")\n",
      "    \n",
      "    timedata = {\"today\":today,\"one_month_ago\":one_month_ago,\"long_ago\":one_year_ago}\n",
      "    \n",
      "    print today\n",
      "    print one_month_ago\n",
      "    print one_year_ago\n",
      "    return timedata"
     ],
     "language": "python",
     "metadata": {},
     "outputs": [],
     "prompt_number": 319
    },
    {
     "cell_type": "code",
     "collapsed": false,
     "input": [
      "def set_regular_api_url(start, end):\n",
      "    \n",
      "    url = ''.join([\"http://api.nytimes.com/svc/search/v2/articlesearch.json?begin_date=\", \n",
      "                   start, \n",
      "                   \"&end_date=\", \n",
      "                   end,  \n",
      "                   \"&facet_filter=true&api-key=\"\n",
      "                   ])\n",
      "    \n",
      "    return url"
     ],
     "language": "python",
     "metadata": {},
     "outputs": [],
     "prompt_number": 192
    },
    {
     "cell_type": "heading",
     "level": 3,
     "metadata": {},
     "source": [
      "DATA COLLECTION STARTS HERE"
     ]
    },
    {
     "cell_type": "code",
     "collapsed": false,
     "input": [
      "## NYT: MOST POPULAR\n",
      "## here, we grab the first 120 most shared articles from the past 30 days in NYT\n",
      "\n",
      "api = \"POPULAR\"\n",
      "popular_api_url = \"http://api.nytimes.com/svc/mostpopular/v2/mostviewed/all-sections/30.json?api-key=\"\n",
      "range_min = 0\n",
      "range_max = 100\n",
      "increment = 20\n",
      "\n",
      "popular_api_calls = call_nyt_api(api, popular_api_url, api_key_popular, range_min, range_max, increment)"
     ],
     "language": "python",
     "metadata": {},
     "outputs": [
      {
       "output_type": "stream",
       "stream": "stdout",
       "text": [
        "running range: 0 to 20 \n",
        "\n",
        "running range:"
       ]
      },
      {
       "output_type": "stream",
       "stream": "stdout",
       "text": [
        " 20 to 40 \n",
        "\n",
        "running range:"
       ]
      },
      {
       "output_type": "stream",
       "stream": "stdout",
       "text": [
        " 40 to 60 \n",
        "\n",
        "running range:"
       ]
      },
      {
       "output_type": "stream",
       "stream": "stdout",
       "text": [
        " 60 to 80 \n",
        "\n",
        "running range:"
       ]
      },
      {
       "output_type": "stream",
       "stream": "stdout",
       "text": [
        " 80 to 100 \n",
        "\n"
       ]
      }
     ],
     "prompt_number": 293
    },
    {
     "cell_type": "code",
     "collapsed": false,
     "input": [
      "api_type = \"POPULAR\"\n",
      "popular_articles = extract_articles( api_type, popular_api_calls )"
     ],
     "language": "python",
     "metadata": {},
     "outputs": [
      {
       "output_type": "stream",
       "stream": "stdout",
       "text": [
        "100 Notable Books of 2013\n",
        "failed at: 2\n",
        "A Cold War Fought by Women"
       ]
      },
      {
       "output_type": "stream",
       "stream": "stdout",
       "text": [
        "\n",
        "Baffling 400,000-Year-Old Clue to Human Origins"
       ]
      },
      {
       "output_type": "stream",
       "stream": "stdout",
       "text": [
        "\n",
        "A Russian GPS Using U.S. Soil Stirs Spy Fears"
       ]
      },
      {
       "output_type": "stream",
       "stream": "stdout",
       "text": [
        "\n",
        "Focus Turns to Investigation in Fatal Bronx Train Crash"
       ]
      },
      {
       "output_type": "stream",
       "stream": "stdout",
       "text": [
        "\n",
        "Car Mechanic Dreams Up a Tool to Ease Births"
       ]
      },
      {
       "output_type": "stream",
       "stream": "stdout",
       "text": [
        "\n",
        "Experts Reshape Treatment Guide for Cholesterol"
       ]
      },
      {
       "output_type": "stream",
       "stream": "stdout",
       "text": [
        "\n",
        "Partisan Fever in Senate Likely to Rise"
       ]
      },
      {
       "output_type": "stream",
       "stream": "stdout",
       "text": [
        "\n",
        "In Landmark Vote, Senate Limits Use of the Filibuster"
       ]
      },
      {
       "output_type": "stream",
       "stream": "stdout",
       "text": [
        "\n",
        "Wage Strikes Planned at Fast-Food Outlets"
       ]
      },
      {
       "output_type": "stream",
       "stream": "stdout",
       "text": [
        "\n",
        "The Power of a Daily Bout of Exercise"
       ]
      },
      {
       "output_type": "stream",
       "stream": "stdout",
       "text": [
        "\n",
        "In Hookups, Inequality Still Reigns "
       ]
      },
      {
       "output_type": "stream",
       "stream": "stdout",
       "text": [
        "\n",
        "Backlash by the Bay: Tech Riches Alter a City"
       ]
      },
      {
       "output_type": "stream",
       "stream": "stdout",
       "text": [
        "\n",
        "The 10 Best Books of 2013"
       ]
      },
      {
       "output_type": "stream",
       "stream": "stdout",
       "text": [
        "\n",
        "failed at: 3\n",
        "24,000-Year-Old Body Shows Kinship to Europeans and American Indians"
       ]
      },
      {
       "output_type": "stream",
       "stream": "stdout",
       "text": [
        "\n",
        "The Changing American Family"
       ]
      },
      {
       "output_type": "stream",
       "stream": "stdout",
       "text": [
        "\n",
        "Inside the Race to Rescue a Health Care Site, and Obama"
       ]
      },
      {
       "output_type": "stream",
       "stream": "stdout",
       "text": [
        "\n",
        "Chilling Look at Newtown Killer, but No \u2018Why\u2019"
       ]
      },
      {
       "output_type": "stream",
       "stream": "stdout",
       "text": [
        "\n",
        "What\u2019s He Really Like? Check the Lulu App"
       ]
      },
      {
       "output_type": "stream",
       "stream": "stdout",
       "text": [
        "\n",
        "Bloody End for Iranian Rockers Seeking Musical Freedom in U.S."
       ]
      },
      {
       "output_type": "stream",
       "stream": "stdout",
       "text": [
        "\n",
        "Obama Signals a Shift From Military Might to Diplomacy"
       ]
      },
      {
       "output_type": "stream",
       "stream": "stdout",
       "text": [
        "\n",
        "As Hospital Prices Soar, a Stitch Tops $500"
       ]
      },
      {
       "output_type": "stream",
       "stream": "stdout",
       "text": [
        "\n",
        "failed at: 63\n",
        "A Deep-Water Diver From Brooklyn Dies After Trying for a Record"
       ]
      },
      {
       "output_type": "stream",
       "stream": "stdout",
       "text": [
        "\n",
        "Why a Brisk Walk Is Better"
       ]
      },
      {
       "output_type": "stream",
       "stream": "stdout",
       "text": [
        "\n",
        "U.S. Sends Two B-52 Bombers Into Air Zone Claimed by China"
       ]
      },
      {
       "output_type": "stream",
       "stream": "stdout",
       "text": [
        "\n",
        "With Glut of Lonely Men, China Has an Approved Outlet for Unrequited Lust"
       ]
      },
      {
       "output_type": "stream",
       "stream": "stdout",
       "text": [
        "\n",
        "They Loved Your G.P.A. Then They Saw Your Tweets."
       ]
      },
      {
       "output_type": "stream",
       "stream": "stdout",
       "text": [
        "\n",
        "Protesters in Kiev Topple Lenin Statue as Rallies Grow"
       ]
      },
      {
       "output_type": "stream",
       "stream": "stdout",
       "text": [
        "\n",
        "Risk Calculator for Cholesterol Appears Flawed"
       ]
      },
      {
       "output_type": "stream",
       "stream": "stdout",
       "text": [
        "\n",
        "Night Falls, and 5Pointz, a Graffiti Mecca, Is Whited Out in Queens"
       ]
      },
      {
       "output_type": "stream",
       "stream": "stdout",
       "text": [
        "\n",
        "Obamacare\u2019s Secret Success"
       ]
      },
      {
       "output_type": "stream",
       "stream": "stdout",
       "text": [
        "\n",
        "The Nakeds Next Door"
       ]
      },
      {
       "output_type": "stream",
       "stream": "stdout",
       "text": [
        "\n",
        "Dispute Over Gay Marriage Erupts in Cheney Family "
       ]
      },
      {
       "output_type": "stream",
       "stream": "stdout",
       "text": [
        "\n",
        "failed at: 1\n",
        "Mandela\u2019s Death Leaves South Africa Without Its Moral Center"
       ]
      },
      {
       "output_type": "stream",
       "stream": "stdout",
       "text": [
        "\n",
        "Sleep Therapy Seen as an Aid for Depression"
       ]
      },
      {
       "output_type": "stream",
       "stream": "stdout",
       "text": [
        "\n",
        "Quitting the N.F.L.: For John Moffitt, the Money Wasn\u2019t Worth It"
       ]
      },
      {
       "output_type": "stream",
       "stream": "stdout",
       "text": [
        "\n",
        "Switzerland\u2019s Proposal to Pay People for Being Alive"
       ]
      },
      {
       "output_type": "stream",
       "stream": "stdout",
       "text": [
        "\n",
        "Addiction Treatment With a Dark Side"
       ]
      },
      {
       "output_type": "stream",
       "stream": "stdout",
       "text": [
        "\n",
        "The Impossible Refugee Boat Lift to Christmas Island"
       ]
      },
      {
       "output_type": "stream",
       "stream": "stdout",
       "text": [
        "\n",
        "failed at: 3\n",
        "Art Makes You Smart"
       ]
      },
      {
       "output_type": "stream",
       "stream": "stdout",
       "text": [
        "\n",
        "A Permanent Slump?"
       ]
      },
      {
       "output_type": "stream",
       "stream": "stdout",
       "text": [
        "\n",
        "Sex as Exercise"
       ]
      },
      {
       "output_type": "stream",
       "stream": "stdout",
       "text": [
        "\n",
        "Jacqueline Kennedy\u2019s Smart Pink Suit, Preserved in Memory and Kept Out of View"
       ]
      },
      {
       "output_type": "stream",
       "stream": "stdout",
       "text": [
        "\n",
        "A Diver\u2019s Rise, and Swift Death, at the Limits of a Growing Sport"
       ]
      },
      {
       "output_type": "stream",
       "stream": "stdout",
       "text": [
        "\n",
        "failed at: 65\n",
        "California, Here We Come?"
       ]
      },
      {
       "output_type": "stream",
       "stream": "stdout",
       "text": [
        "\n",
        "His Honor? Toronto\u2019s Mayor Rampages On, to City\u2019s Shame"
       ]
      },
      {
       "output_type": "stream",
       "stream": "stdout",
       "text": [
        "\n",
        "The Plot Against France"
       ]
      },
      {
       "output_type": "stream",
       "stream": "stdout",
       "text": [
        "\n",
        "Young and Educated in Europe, but Desperate for Jobs"
       ]
      },
      {
       "output_type": "stream",
       "stream": "stdout",
       "text": [
        "\n",
        "failed at: 64\n",
        "Accord Reached With Iran to Halt Nuclear Program"
       ]
      },
      {
       "output_type": "stream",
       "stream": "stdout",
       "text": [
        "\n",
        "The Woman in the Breast Cancer Photo Responds to Times Readers "
       ]
      },
      {
       "output_type": "stream",
       "stream": "stdout",
       "text": [
        "\n",
        "failed at: 3\n",
        "Katherine Harris\u2019s Husband Found Dead"
       ]
      },
      {
       "output_type": "stream",
       "stream": "stdout",
       "text": [
        "\n",
        "Perks Ease Way in Health Plans for Lawmakers"
       ]
      },
      {
       "output_type": "stream",
       "stream": "stdout",
       "text": [
        "\n",
        "Nelson Mandela, South Africa\u2019s Liberator as Prisoner and President, Dies at 95"
       ]
      },
      {
       "output_type": "stream",
       "stream": "stdout",
       "text": [
        "\n",
        "Scale of Destruction Slows Relief Efforts in Philippines"
       ]
      },
      {
       "output_type": "stream",
       "stream": "stdout",
       "text": [
        "\n",
        "Where Is the Love?"
       ]
      },
      {
       "output_type": "stream",
       "stream": "stdout",
       "text": [
        "\n",
        "Does My Virginity Have a Shelf Life?"
       ]
      },
      {
       "output_type": "stream",
       "stream": "stdout",
       "text": [
        "\n",
        "failed at: 5\n",
        "Health Law Rollout\u2019s Stumbles Draw Parallels to Bush\u2019s Hurricane Response"
       ]
      },
      {
       "output_type": "stream",
       "stream": "stdout",
       "text": [
        "\n",
        "Gynecologists Run Afoul of Panel When Patient Is Male"
       ]
      },
      {
       "output_type": "stream",
       "stream": "stdout",
       "text": [
        "\n",
        "In Israel, a Push to Screen for Cancer Gene Leaves Many Conflicted"
       ]
      },
      {
       "output_type": "stream",
       "stream": "stdout",
       "text": [
        "\n",
        "failed at: 71\n",
        "Better Pay Now"
       ]
      },
      {
       "output_type": "stream",
       "stream": "stdout",
       "text": [
        "\n",
        "How Doctors Die: Showing Others the Way"
       ]
      },
      {
       "output_type": "stream",
       "stream": "stdout",
       "text": [
        "\n",
        "At $142.4 Million, Triptych Is the Most Expensive Artwork Ever Sold at an Auction"
       ]
      },
      {
       "output_type": "stream",
       "stream": "stdout",
       "text": [
        "\n",
        "Eye on 2016, Clintons Rebuild Bond With Blacks"
       ]
      },
      {
       "output_type": "stream",
       "stream": "stdout",
       "text": [
        "\n",
        "Obama Gets Real"
       ]
      },
      {
       "output_type": "stream",
       "stream": "stdout",
       "text": [
        "\n",
        "The Year the Monarch Didn\u2019t Appear"
       ]
      },
      {
       "output_type": "stream",
       "stream": "stdout",
       "text": [
        "\n",
        "Airlines Urged by U.S. to Give Notice to China"
       ]
      },
      {
       "output_type": "stream",
       "stream": "stdout",
       "text": [
        "\n",
        "Coming Out as a Modern Family"
       ]
      },
      {
       "output_type": "stream",
       "stream": "stdout",
       "text": [
        "\n",
        "Obama Moves to Avert Cancellation of Insurance"
       ]
      },
      {
       "output_type": "stream",
       "stream": "stdout",
       "text": [
        "\n",
        "A Princess Finds Her Dark Side"
       ]
      },
      {
       "output_type": "stream",
       "stream": "stdout",
       "text": [
        "\n",
        "Obama in Bind Trying to Keep Health Law Vow"
       ]
      },
      {
       "output_type": "stream",
       "stream": "stdout",
       "text": [
        "\n",
        "Metro-North Train Sped at 82 M.P.H. Ahead of Curve in Fatal Crash"
       ]
      },
      {
       "output_type": "stream",
       "stream": "stdout",
       "text": [
        "\n",
        "Rejecting Billions, Snapchat Expects a Better Offer"
       ]
      },
      {
       "output_type": "stream",
       "stream": "stdout",
       "text": [
        "\n",
        "Don\u2019t Give More Patients Statins"
       ]
      },
      {
       "output_type": "stream",
       "stream": "stdout",
       "text": [
        "\n",
        "Spies Infiltrate a Fantasy Realm of Online Games"
       ]
      },
      {
       "output_type": "stream",
       "stream": "stdout",
       "text": [
        "\n",
        "Striking Where Myth Meets Moment"
       ]
      },
      {
       "output_type": "stream",
       "stream": "stdout",
       "text": [
        "\n",
        "Wall Street Mothers, Stay-Home Fathers"
       ]
      },
      {
       "output_type": "stream",
       "stream": "stdout",
       "text": [
        "\n",
        "failed at: 54\n",
        "The Gayest Place in America?"
       ]
      },
      {
       "output_type": "stream",
       "stream": "stdout",
       "text": [
        "\n",
        "Sticking by a Murderous Brother, and Paying for It Dearly"
       ]
      },
      {
       "output_type": "stream",
       "stream": "stdout",
       "text": [
        "\n",
        "Murder Charge in a Shooting on Doorstep"
       ]
      },
      {
       "output_type": "stream",
       "stream": "stdout",
       "text": [
        "\n",
        "Democracy Returns to the Senate"
       ]
      },
      {
       "output_type": "stream",
       "stream": "stdout",
       "text": [
        "\n",
        "Wine Cellar, Well Aged, Is Revealed in Israel"
       ]
      },
      {
       "output_type": "stream",
       "stream": "stdout",
       "text": [
        "\n",
        "Are We Alone in the Universe?"
       ]
      },
      {
       "output_type": "stream",
       "stream": "stdout",
       "text": [
        "\n",
        "Are Kids Too Coddled?"
       ]
      },
      {
       "output_type": "stream",
       "stream": "stdout",
       "text": [
        "\n",
        "Long on Cutting Edge of Print, New York Magazine Cuts Back"
       ]
      },
      {
       "output_type": "stream",
       "stream": "stdout",
       "text": [
        "\n",
        "Detroit Ruling on Bankruptcy Lifts Pension Protections"
       ]
      },
      {
       "output_type": "stream",
       "stream": "stdout",
       "text": [
        "\n",
        "Learning How to Die in the Anthropocene"
       ]
      },
      {
       "output_type": "stream",
       "stream": "stdout",
       "text": [
        "\n",
        "failed at: 5\n",
        "Medicaid Growth Could Aggravate Doctor Shortage"
       ]
      },
      {
       "output_type": "stream",
       "stream": "stdout",
       "text": [
        "\n",
        "Train Engineer Was Dazed Before Crash, Lawyer Says"
       ]
      },
      {
       "output_type": "stream",
       "stream": "stdout",
       "text": [
        "\n",
        "\u2018Leave of Absence\u2019 for Lara Logan After Flawed Benghazi Report"
       ]
      },
      {
       "output_type": "stream",
       "stream": "stdout",
       "text": [
        "\n",
        "C.I.A. Collects Global Data on Transfers of Money"
       ]
      },
      {
       "output_type": "stream",
       "stream": "stdout",
       "text": [
        "\n",
        "The Punishment Cure"
       ]
      },
      {
       "output_type": "stream",
       "stream": "stdout",
       "text": [
        "\n",
        "For Son of a Nazi-Era Dealer, a Private Life Amid a Tainted Trove of Art"
       ]
      },
      {
       "output_type": "stream",
       "stream": "stdout",
       "text": [
        "\n",
        "The Sex Toys in the Attic"
       ]
      },
      {
       "output_type": "stream",
       "stream": "stdout",
       "text": [
        "\n",
        "Doris Lessing, Author Who Swept Aside Convention, Is Dead at 94"
       ]
      },
      {
       "output_type": "stream",
       "stream": "stdout",
       "text": [
        "\n",
        "Postal Service to Make Sunday Deliveries for Amazon"
       ]
      },
      {
       "output_type": "stream",
       "stream": "stdout",
       "text": [
        "\n",
        "Under My Thumb"
       ]
      },
      {
       "output_type": "stream",
       "stream": "stdout",
       "text": [
        "\n",
        "The Real Humanities Crisis "
       ]
      },
      {
       "output_type": "stream",
       "stream": "stdout",
       "text": [
        "\n",
        "failed at: 6\n",
        "Police Say Spy Found in Bag Probably Died by Accident"
       ]
      },
      {
       "output_type": "stream",
       "stream": "stdout",
       "text": [
        "\n",
        "Logistical Hurdles Paralyze Relief Effort at the Center of a Typhoon\u2019s Fury"
       ]
      },
      {
       "output_type": "stream",
       "stream": "stdout",
       "text": [
        "\n",
        "Why the Y?"
       ]
      },
      {
       "output_type": "stream",
       "stream": "stdout",
       "text": [
        "\n"
       ]
      }
     ],
     "prompt_number": 294
    },
    {
     "cell_type": "code",
     "collapsed": false,
     "input": [
      "article_df1 = make_article_df(popular_articles)\n",
      "\n",
      "## testing\n",
      "print article_df1.shape\n",
      "print article_df1.head(15)"
     ],
     "language": "python",
     "metadata": {},
     "outputs": [
      {
       "output_type": "stream",
       "stream": "stdout",
       "text": [
        "(95, 13)\n",
        "                article_id popular content_type          genre section_formal  \\\n",
        "0          100000002558432       1      Article           News        Science   \n",
        "1          100000002581357       1      Article           News        Science   \n",
        "2          100000002555962       1      Article           News          World   \n",
        "3          100000002579524       1      Article           News  N.Y. / Region   \n",
        "4          100000002551219       1      Article           News         Health   \n",
        "5          100000002546481       1      Article           News         Health   \n",
        "6          100000002564705       1      Article  News Analysis           U.S.   \n",
        "7          100000002564123       1      Article           News           U.S.   \n",
        "8          100000002579667       1      Article           News   Business Day   \n",
        "9   nYvCOuhk7iDe71QSAc8neA       1        Blogs      Blog Post         Health   \n",
        "10  WZLhHcXC62qvj1hhTIdYmA       1        Blogs      Blog Post         Health   \n",
        "11         100000002545890       1      Article           News           U.S.   \n",
        "12         100000002561881       1      Article           News        Science   \n",
        "13         100000002564912       1      Article           News         Health   \n",
        "14         100000002575138       1      Article           News           U.S.   \n",
        "\n",
        "     section sub-category                                              title  \\\n",
        "0    science                                      A Cold War Fought by Women   \n",
        "1    science                 Baffling 400,000-Year-Old Clue to Human Origins   \n",
        "2      world       europe      A Russian GPS Using U.S. Soil Stirs Spy Fears   \n",
        "3   nyregion               Focus Turns to Investigation in Fatal Bronx Tr...   \n",
        "4     health                    Car Mechanic Dreams Up a Tool to Ease Births   \n",
        "5     health                 Experts Reshape Treatment Guide for Cholesterol   \n",
        "6         us     politics            Partisan Fever in Senate Likely to Rise   \n",
        "7         us     politics  In Landmark Vote, Senate Limits Use of the Fil...   \n",
        "8   business      economy          Wage Strikes Planned at Fast-Food Outlets   \n",
        "9     Health         well              The Power of a Daily Bout of Exercise   \n",
        "10    Health         well               In Hookups, Inequality Still Reigns    \n",
        "11        us                   Backlash by the Bay: Tech Riches Alter a City   \n",
        "12   science               24,000-Year-Old Body Shows Kinship to European...   \n",
        "13    health                                    The Changing American Family   \n",
        "14        us     politics  Inside the Race to Rescue a Health Care Site, ...   \n",
        "\n",
        "                                  author post_length  \\\n",
        "0                           JOHN TIERNEY               \n",
        "1                            CARL ZIMMER               \n",
        "2        MICHAEL S. SCHMIDT;ERIC SCHMITT               \n",
        "3          JAMES BARRON;J. DAVID GOODMAN               \n",
        "4                   DONALD G. McNEIL Jr.               \n",
        "5                            GINA KOLATA               \n",
        "6                       JONATHAN WEISMAN               \n",
        "7                       JEREMY W. PETERS               \n",
        "8                      STEVEN GREENHOUSE               \n",
        "9                      GRETCHEN REYNOLDS               \n",
        "10                      NATALIE KITROEFF               \n",
        "11        ERICA GOODE;CLAIRE CAIN MILLER               \n",
        "12                         NICHOLAS WADE               \n",
        "13                        NATALIE ANGIER               \n",
        "14  SHERYL GAY STOLBERG;MICHAEL D. SHEAR               \n",
        "\n",
        "                                                  url page_num  \\\n",
        "0   http://www.nytimes.com/2013/11/19/science/a-co...        2   \n",
        "1   http://www.nytimes.com/2013/12/05/science/at-4...       10   \n",
        "2   http://www.nytimes.com/2013/11/17/world/europe...        1   \n",
        "3   http://www.nytimes.com/2013/12/02/nyregion/met...        1   \n",
        "4   http://www.nytimes.com/2013/11/14/health/new-t...        1   \n",
        "5   http://www.nytimes.com/2013/11/13/health/new-g...        1   \n",
        "6   http://www.nytimes.com/2013/11/22/us/politics/...        1   \n",
        "7   http://www.nytimes.com/2013/11/22/us/politics/...        1   \n",
        "8   http://www.nytimes.com/2013/12/02/business/eco...        2   \n",
        "9   http://well.blogs.nytimes.com/2013/11/27/the-p...            \n",
        "10  http://well.blogs.nytimes.com/2013/11/11/women...            \n",
        "11  http://www.nytimes.com/2013/11/25/us/backlash-...        1   \n",
        "12  http://www.nytimes.com/2013/11/21/science/two-...        8   \n",
        "13  http://www.nytimes.com/2013/11/26/health/famil...            \n",
        "14  http://www.nytimes.com/2013/12/01/us/politics/...        1   \n",
        "\n",
        "                                                 text  \n",
        "0   How aggressive is the human female? When the a...  \n",
        "1   Scientists have found the oldest DNA evidence ...  \n",
        "2   WASHINGTON \u0080\u0094 In the view of America\u0080\u0099s spy se...  \n",
        "3   The 5:54 from Poughkeepsie was rumbling throug...  \n",
        "4   The idea came to Jorge Od\u00c3\u00b3n as he slept. Some...  \n",
        "5   The nation\u0080\u0099s leading heart organizations rele...  \n",
        "6   WASHINGTON \u0080\u0094 President Obama will get a short...  \n",
        "7   WASHINGTON \u0080\u0094 The Senate approved the most fun...  \n",
        "8   Seeking to increase pressure on McDonald\u0080\u0099s We...  \n",
        "9   This week marks the start of the annual eat-to...  \n",
        "10  Natasha Gadinsky 23 says she doesn\u2019t have any ...  \n",
        "11  SAN FRANCISCO \u0080\u0094 If there was a tipping point ...  \n",
        "12  The genome of a young boy buried at Mal\u0080\u0099ta ne...  \n",
        "13  American households have never been more diver...  \n",
        "14  WASHINGTON \u0080\u0094 As a small coterie of grim-faced...  \n"
       ]
      },
      {
       "output_type": "stream",
       "stream": "stderr",
       "text": [
        "//anaconda/python.app/Contents/lib/python2.7/site-packages/pandas/core/config.py:570: DeprecationWarning: height has been deprecated.\n",
        "\n",
        "  warnings.warn(d.msg, DeprecationWarning)\n",
        "//anaconda/python.app/Contents/lib/python2.7/site-packages/pandas/core/config.py:570: DeprecationWarning: height has been deprecated.\n",
        "\n",
        "  warnings.warn(d.msg, DeprecationWarning)\n"
       ]
      }
     ],
     "prompt_number": 295
    },
    {
     "cell_type": "code",
     "collapsed": false,
     "input": [
      "## testing\n",
      "## print article_df1.url[11]"
     ],
     "language": "python",
     "metadata": {},
     "outputs": [
      {
       "output_type": "stream",
       "stream": "stdout",
       "text": [
        "http://well.blogs.nytimes.com/2013/11/11/women-find-orgasms-elusive-in-hookups/\n"
       ]
      }
     ],
     "prompt_number": 127
    },
    {
     "cell_type": "code",
     "collapsed": false,
     "input": [
      "## NYT: REGULAR ARTICLE SEARCH\n",
      "## here, we grab the first 100 articles from the past 30 days in NYT which are NOT in most popular\n",
      "\n",
      "timedata = get_date_range()\n",
      "\n",
      "today = timedata[\"today\"]\n",
      "one_month_ago = timedata[\"one_month_ago\"]\n",
      "long_ago = timedata[\"long_ago\"]\n",
      "\n",
      "begindate = long_ago #YYYYMMDD\n",
      "enddate = one_month_ago #YYYYMMDD\n",
      "\n",
      "regular_api_url = set_regular_api_url(begindate, enddate)\n",
      "\n",
      "api = \"UNPOPULAR\"\n",
      "\n",
      "## we need some way of estimating how many regular (ie. unpopular) NYT articles to scrape.\n",
      "##\n",
      "## Articles API call has a 'page' argument - each page returns 10 articles. \n",
      "## so if you want 30 articles, you'd make 3 calls, with page=1, page=2, page=3\n",
      "##\n",
      "## in order to figure out how many pages to ask for, we take the number of popular articles scraped ('popular_count')\n",
      "## then round up to the nearest 10, divide by 10 to get number of pages, and then add a buffer of 20% \n",
      "##\n",
      "## the buffer compensates for the fact that some of the articles we get from the generic Article API \n",
      "## will also have made the popular article list - these are excluded from the count.  \n",
      "## in addition, some articles are from AP, which we exclude, or they're weird - like obits and tv schedules.\n",
      "##\n",
      "## since we don't know how many popular articles will show up here, we estimate that going 40% over the actual \n",
      "## number called for should be more than enough to make up for the ones we exclude.\n",
      "\n",
      "popular_count = article_df1.shape[0]\n",
      "popular_count_roundup = int(round(popular_count/10.0)*10)\n",
      "num_pages = popular_count_roundup / 10\n",
      "page_buffer = int(round(num_pages * .5))\n",
      "\n",
      "range_max = 1\n",
      "range_min = 0\n",
      "increment = 1\n",
      "\n",
      "## testing\n",
      "print popular_count\n",
      "print popular_count_roundup\n",
      "print num_pages\n",
      "print page_buffer\n",
      "print range_max\n"
     ],
     "language": "python",
     "metadata": {},
     "outputs": [
      {
       "output_type": "stream",
       "stream": "stdout",
       "text": [
        "20131212\n",
        "20131112\n",
        "20121212\n",
        "95\n",
        "100\n",
        "10\n",
        "5\n",
        "1\n"
       ]
      }
     ],
     "prompt_number": 354
    },
    {
     "cell_type": "code",
     "collapsed": false,
     "input": [
      "regular_api_calls = call_nyt_api(api, regular_api_url, api_key_article2, range_min, range_max, increment)\n",
      "    "
     ],
     "language": "python",
     "metadata": {},
     "outputs": [
      {
       "output_type": "stream",
       "stream": "stdout",
       "text": [
        "running range: 0 to 1 \n",
        "\n",
        "http://api.nytimes.com/svc/search/v2/articlesearch.json?begin_date=20121212&end_date=20131112&facet_filter=true&api-key=bed47051feee77b8c7bb5e0b6958581b:14:47475506&page=0\n",
        "error loading JSON on:"
       ]
      },
      {
       "output_type": "stream",
       "stream": "stdout",
       "text": [
        " 1\n"
       ]
      }
     ],
     "prompt_number": 355
    },
    {
     "cell_type": "code",
     "collapsed": false,
     "input": [
      "print type(regular_api_calls)\n",
      "print len(regular_api_calls)"
     ],
     "language": "python",
     "metadata": {},
     "outputs": [
      {
       "output_type": "stream",
       "stream": "stdout",
       "text": [
        "<type 'list'>\n",
        "0\n"
       ]
      }
     ],
     "prompt_number": 356
    },
    {
     "cell_type": "code",
     "collapsed": false,
     "input": [
      "## extract article body text from raw html\n",
      "api_type = \"UNPOPULAR\"\n",
      "regular_articles = extract_articles(api_type, regular_api_calls, 10000)"
     ],
     "language": "python",
     "metadata": {},
     "outputs": [
      {
       "output_type": "stream",
       "stream": "stdout",
       "text": [
        "1\n",
        "http://query.nytimes.com/gst/fullpage.html?res=9D07E1DD113AF932A25752C1A9659D8B63\n",
        "Paid Notice: Memorials  PINKAS, ROBERT P"
       ]
      },
      {
       "output_type": "stream",
       "stream": "stdout",
       "text": [
        "\n",
        "2\n",
        "http://query.nytimes.com/gst/fullpage.html?res=9C04E1DD113AF932A25752C1A9659D8B63\n",
        "Paid Notice: Memorials  GORE, GERIE"
       ]
      },
      {
       "output_type": "stream",
       "stream": "stdout",
       "text": [
        "\n",
        "3\n",
        "http://query.nytimes.com/gst/fullpage.html?res=9505E1DD113AF932A25752C1A9659D8B63\n",
        "Paid Notice: Deaths  WOOLF, ESTHER B."
       ]
      },
      {
       "output_type": "stream",
       "stream": "stdout",
       "text": [
        "\n",
        "4\n",
        "http://query.nytimes.com/gst/fullpage.html?res=9B0CE2DD113AF932A25752C1A9659D8B63\n",
        "Paid Notice: Deaths  WACHS, GERALD N."
       ]
      },
      {
       "output_type": "stream",
       "stream": "stdout",
       "text": [
        "\n",
        "5\n",
        "http://query.nytimes.com/gst/fullpage.html?res=9A0DE2DD113AF932A25752C1A9659D8B63\n",
        "Paid Notice: Deaths  STOCK, DR"
       ]
      },
      {
       "output_type": "stream",
       "stream": "stdout",
       "text": [
        "\n",
        "6\n",
        "http://query.nytimes.com/gst/fullpage.html?res=9902E2DD113AF932A25752C1A9659D8B63\n",
        "Paid Notice: Deaths  STEIN, MICHAEL"
       ]
      },
      {
       "output_type": "stream",
       "stream": "stdout",
       "text": [
        "\n",
        "7\n",
        "http://query.nytimes.com/gst/fullpage.html?res=9803E2DD113AF932A25752C1A9659D8B63\n",
        "Paid Notice: Deaths  STAHL, EDNA"
       ]
      },
      {
       "output_type": "stream",
       "stream": "stdout",
       "text": [
        "\n",
        "8\n",
        "http://query.nytimes.com/gst/fullpage.html?res=9F00E2DD113AF932A25752C1A9659D8B63\n",
        "Paid Notice: Deaths  SOUFER, MAHBOUBEH"
       ]
      },
      {
       "output_type": "stream",
       "stream": "stdout",
       "text": [
        "\n",
        "9\n",
        "http://query.nytimes.com/gst/fullpage.html?res=9E01E2DD113AF932A25752C1A9659D8B63\n",
        "Paid Notice: Deaths  SALTZMAN, ADELE ROSEN"
       ]
      },
      {
       "output_type": "stream",
       "stream": "stdout",
       "text": [
        "\n",
        "10\n",
        "http://query.nytimes.com/gst/fullpage.html?res=9D06E2DD113AF932A25752C1A9659D8B63\n",
        "Paid Notice: Deaths  RENAULT, DAVID"
       ]
      },
      {
       "output_type": "stream",
       "stream": "stdout",
       "text": [
        "\n",
        "11\n",
        "http://query.nytimes.com/gst/fullpage.html?res=9C07E2DD113AF932A25752C1A9659D8B63\n",
        "Paid Notice: Deaths  RAWLINGS, JAMES W."
       ]
      },
      {
       "output_type": "stream",
       "stream": "stdout",
       "text": [
        "\n",
        "12\n",
        "http://query.nytimes.com/gst/fullpage.html?res=9504E2DD113AF932A25752C1A9659D8B63\n",
        "Paid Notice: Deaths  NEMENS, DOUGLAS"
       ]
      },
      {
       "output_type": "stream",
       "stream": "stdout",
       "text": [
        "\n",
        "13\n",
        "http://query.nytimes.com/gst/fullpage.html?res=9405E2DD113AF932A25752C1A9659D8B63\n",
        "Paid Notice: Deaths  MILLER, SAMUEL C."
       ]
      },
      {
       "output_type": "stream",
       "stream": "stdout",
       "text": [
        "\n",
        "14\n",
        "http://query.nytimes.com/gst/fullpage.html?res=9A0CE3DD113AF932A25752C1A9659D8B63\n",
        "Paid Notice: Deaths  KAGAN SAUL"
       ]
      },
      {
       "output_type": "stream",
       "stream": "stdout",
       "text": [
        "\n",
        "15\n",
        "http://query.nytimes.com/gst/fullpage.html?res=990DE3DD113AF932A25752C1A9659D8B63\n",
        "Paid Notice: Deaths  KAGAN, SAUL"
       ]
      },
      {
       "output_type": "stream",
       "stream": "stdout",
       "text": [
        "\n",
        "16\n",
        "http://query.nytimes.com/gst/fullpage.html?res=9802E3DD113AF932A25752C1A9659D8B63\n",
        "Paid Notice: Deaths  KAGAN, SAUL"
       ]
      },
      {
       "output_type": "stream",
       "stream": "stdout",
       "text": [
        "\n",
        "17\n",
        "http://query.nytimes.com/gst/fullpage.html?res=9F03E3DD113AF932A25752C1A9659D8B63\n",
        "Paid Notice: Deaths  KAGAN, SAUL"
       ]
      },
      {
       "output_type": "stream",
       "stream": "stdout",
       "text": [
        "\n",
        "18\n",
        "http://query.nytimes.com/gst/fullpage.html?res=9E00E3DD113AF932A25752C1A9659D8B63\n",
        "Paid Notice: Deaths  GOLD, EUGENE"
       ]
      },
      {
       "output_type": "stream",
       "stream": "stdout",
       "text": [
        "\n",
        "19\n",
        "http://query.nytimes.com/gst/fullpage.html?res=9D01E3DD113AF932A25752C1A9659D8B63\n",
        "Paid Notice: Deaths  CURRAN, THOMAS J"
       ]
      },
      {
       "output_type": "stream",
       "stream": "stdout",
       "text": [
        "\n",
        "20\n",
        "http://query.nytimes.com/gst/fullpage.html?res=9C06E3DD113AF932A25752C1A9659D8B63\n",
        "Paid Notice: Deaths  BERTRAM, PAUL"
       ]
      },
      {
       "output_type": "stream",
       "stream": "stdout",
       "text": [
        "\n",
        "21\n",
        "http://www.nytimes.com/slideshow/2013/11/11/us/CITIES.html\n",
        "Destroying in Order to Build"
       ]
      },
      {
       "output_type": "stream",
       "stream": "stdout",
       "text": [
        "\n",
        "22\n",
        "http://www.nytimes.com/interactive/2013/11/11/world/asia/typhoon-haiyan-photos.html\n",
        "Pictures of Typhoon Haiyan\u2019s Wrath"
       ]
      },
      {
       "output_type": "stream",
       "stream": "stdout",
       "text": [
        "\n",
        "failed at: 3\n",
        "23\n",
        "http://www.nytimes.com/slideshow/2013/11/11/world/asia/20131112-PHILIPPINES.html\n",
        "Monday, Nov. 11, 2013"
       ]
      },
      {
       "output_type": "stream",
       "stream": "stdout",
       "text": [
        "\n",
        "24\n",
        "http://www.nytimes.com/2013/11/11/your-money/tidying-up-your-financial-life.html\n",
        "Tidying Up Your Financial Life"
       ]
      },
      {
       "output_type": "stream",
       "stream": "stdout",
       "text": [
        "\n",
        "25\n",
        "http://www.nytimes.com/slideshow/2013/11/11/technology/20131112_chinacommerce.html\n",
        "Tracking the World\u2019s Biggest E-Commerce Event"
       ]
      },
      {
       "output_type": "stream",
       "stream": "stdout",
       "text": [
        "\n",
        "26\n",
        "http://www.nytimes.com/interactive/2013/11/11/t-magazine/take-two-gay-talese-juliette-lewis.html\n",
        "Take Two"
       ]
      },
      {
       "output_type": "stream",
       "stream": "stdout",
       "text": [
        "\n",
        "27\n",
        "http://www.nytimes.com/2013/11/11/business/media/q-and-a-with-stuart-elliott.html\n",
        "Q. and A. With Stuart Elliott"
       ]
      },
      {
       "output_type": "stream",
       "stream": "stdout",
       "text": [
        "\n",
        "failed at: 6\n",
        "28\n",
        "http://www.nytimes.com/2013/11/11/business/media/accounts-and-people-of-note-in-the-advertising-industry.html\n",
        "Accounts and People of Note in the Advertising Industry"
       ]
      },
      {
       "output_type": "stream",
       "stream": "stdout",
       "text": [
        "\n",
        "29\n",
        "http://www.nytimes.com/slideshow/2013/11/11/fashion/20131111guggenheim.html\n",
        "Scene City | Starlets and Artists Toast Guggenheim"
       ]
      },
      {
       "output_type": "stream",
       "stream": "stdout",
       "text": [
        "\n",
        "30\n",
        "http://www.nytimes.com/interactive/2013/11/11/business/yuan-rebalancing-act.html\n",
        "Rebalancing Act"
       ]
      },
      {
       "output_type": "stream",
       "stream": "stdout",
       "text": [
        "\n",
        "failed at: 3\n",
        "31\n",
        "http://www.nytimes.com/interactive/2013/11/11/world/asia/typhoon-haiyan-map.html\n",
        "Mapping the Destruction of Typhoon Haiyan"
       ]
      },
      {
       "output_type": "stream",
       "stream": "stdout",
       "text": [
        "\n",
        "failed at: 3\n",
        "32\n",
        "http://www.nytimes.com/interactive/2013/11/11/business/dealbook/12ratings-document.html\n",
        "Credit Ratings Lawsuit"
       ]
      },
      {
       "output_type": "stream",
       "stream": "stdout",
       "text": [
        "\n",
        "failed at: 3\n",
        "33\n",
        "http://www.nytimes.com/2013/11/11/business/international/energy-crunch-for-britains-poor.html\n",
        "Energy Crunch for Britain\u2019s Poor"
       ]
      },
      {
       "output_type": "stream",
       "stream": "stdout",
       "text": [
        "\n",
        "34\n",
        "http://www.nytimes.com/2013/11/11/business/energy-environment/japans-delicate-search-for-a-way-to-breed-tuna-on-an-industrial-scale.html\n",
        "Japan\u2019s Delicate Search for a Way to Breed Tuna on an Industrial Scale"
       ]
      },
      {
       "output_type": "stream",
       "stream": "stdout",
       "text": [
        "\n",
        "35\n",
        "http://www.nytimes.com/2013/11/11/business/energy-environment/solar-power-begins-to-shine-as-environmental-benefits-pay-off.html\n",
        "Solar Power Begins to Shine as Environmental Benefits Pay Off"
       ]
      },
      {
       "output_type": "stream",
       "stream": "stdout",
       "text": [
        "\n",
        "36\n",
        "http://www.nytimes.com/2013/11/11/booming/the-blackout-that-exposed-the-flaws-in-the-grid.html\n",
        "The Blackout That Exposed the Flaws in the Grid"
       ]
      },
      {
       "output_type": "stream",
       "stream": "stdout",
       "text": [
        "\n",
        "37\n",
        "http://www.nytimes.com/2013/11/11/sports/football/week-10-nfl-quick-hits-a-broncos-offense-that-builds.html\n",
        "Week 10 N.F.L. Quick Hits: A Broncos Offense That Builds"
       ]
      },
      {
       "output_type": "stream",
       "stream": "stdout",
       "text": [
        "\n",
        "38\n",
        "http://www.nytimes.com/2013/11/11/pageoneplus/corrections-november-10-2013.html\n",
        "Corrections: November 11, 2013"
       ]
      },
      {
       "output_type": "stream",
       "stream": "stdout",
       "text": [
        "\n",
        "failed at: 24\n",
        "39\n",
        "http://www.nytimes.com/2013/11/11/nyregion/woman-shot-near-campus-in-new-jersey.html\n",
        "Woman Shot Near Campus in New Jersey"
       ]
      },
      {
       "output_type": "stream",
       "stream": "stdout",
       "text": [
        "\n",
        "40\n",
        "http://www.nytimes.com/2013/11/11/sports/basketball/game-to-watch-pacers-streak-toward-chicago.html\n",
        "Game to Watch: Pacers Streak Toward Chicago"
       ]
      },
      {
       "output_type": "stream",
       "stream": "stdout",
       "text": [
        "\n",
        "41\n",
        "http://www.nytimes.com/2013/11/11/sports/football/days-best-in-the-nfl.html\n",
        "Day\u2019s Best in the N.F.L."
       ]
      },
      {
       "output_type": "stream",
       "stream": "stdout",
       "text": [
        "\n",
        "42\n",
        "http://www.nytimes.com/2013/11/11/arts/television/whats-on-monday.html\n",
        "What\u2019s on Monday"
       ]
      },
      {
       "output_type": "stream",
       "stream": "stdout",
       "text": [
        "\n",
        "43\n",
        "http://www.nytimes.com/slideshow/2013/11/11/sports/WeekInPictures.html\n",
        "Photo Replay: Nov. 3-9"
       ]
      },
      {
       "output_type": "stream",
       "stream": "stdout",
       "text": [
        "\n",
        "44\n",
        "http://www.nytimes.com/2013/11/11/business/media/gun-violence-in-american-movies-is-rising-study-finds.html\n",
        "Gun Violence in American Movies Is Rising, Study Finds"
       ]
      },
      {
       "output_type": "stream",
       "stream": "stdout",
       "text": [
        "\n",
        "45\n",
        "http://www.nytimes.com/2013/11/11/business/postal-service-and-amazon-strike-deal.html\n",
        "Postal Service to Make Sunday Deliveries for Amazon"
       ]
      },
      {
       "output_type": "stream",
       "stream": "stdout",
       "text": [
        "\n",
        "46\n",
        "http://www.nytimes.com/2013/11/11/sports/us-speedskaters-win-at-world-cup.html\n",
        "U.S. Speedskaters Win at World Cup"
       ]
      },
      {
       "output_type": "stream",
       "stream": "stdout",
       "text": [
        "\n",
        "47\n",
        "http://www.nytimes.com/2013/11/11/sports/autoracing/johnson-widens-lead-as-kenseth-struggles.html\n",
        "Johnson Widens Lead as Kenseth Struggles"
       ]
      },
      {
       "output_type": "stream",
       "stream": "stdout",
       "text": [
        "\n",
        "48\n",
        "http://www.nytimes.com/2013/11/11/sports/golf/kirk-takes-win-at-mcgladrey-classic.html\n",
        "Kirk Takes Win at McGladrey Classic"
       ]
      },
      {
       "output_type": "stream",
       "stream": "stdout",
       "text": [
        "\n",
        "49\n",
        "http://www.nytimes.com/2013/11/11/sports/tennis/college-tennis-titles-decided.html\n",
        "College Tennis Titles Decided"
       ]
      },
      {
       "output_type": "stream",
       "stream": "stdout",
       "text": [
        "\n",
        "50\n",
        "http://www.nytimes.com/2013/11/11/sports/basketball/durant-caps-rally-with-win-over-wizards.html\n",
        "Durant Caps Rally With Win Over Wizards"
       ]
      },
      {
       "output_type": "stream",
       "stream": "stdout",
       "text": [
        "\n",
        "51\n",
        "http://www.nytimes.com/2013/11/11/us/in-detroit-protests-of-shooting-of-woman-who-sought-help.html\n",
        "In Detroit, Protests of Shooting of Woman Who Sought Help"
       ]
      },
      {
       "output_type": "stream",
       "stream": "stdout",
       "text": [
        "\n",
        "52\n",
        "http://www.nytimes.com/2013/11/11/sports/hockey/rangers-continue-their-run-by-adding-to-panthers-misery.html\n",
        "Rangers Continue Their Run by Adding to Panthers\u2019 Misery"
       ]
      },
      {
       "output_type": "stream",
       "stream": "stdout",
       "text": [
        "\n",
        "failed at: 13\n",
        "53\n",
        "http://www.nytimes.com/2013/11/11/nyregion/parking-rules.html\n",
        "Parking Rules"
       ]
      },
      {
       "output_type": "stream",
       "stream": "stdout",
       "text": [
        "\n",
        "54\n",
        "http://www.nytimes.com/2013/11/11/us/textbooks-reassess-kennedy-putting-camelot-under-siege.html\n",
        "Textbooks Reassess Kennedy, Putting Camelot Under Siege"
       ]
      },
      {
       "output_type": "stream",
       "stream": "stdout",
       "text": [
        "\n",
        "55\n",
        "http://www.nytimes.com/2013/11/11/sports/football/on-field-and-on-sideline-changes-bring-texans-more-of-same.html\n",
        "On Field and on Sideline, Changes Bring Same Result for Texans"
       ]
      },
      {
       "output_type": "stream",
       "stream": "stdout",
       "text": [
        "\n",
        "56\n",
        "http://www.nytimes.com/2013/11/11/business/washington-state-clears-boeing-tax-breaks.html\n",
        "Washington State Clears Boeing Tax Breaks"
       ]
      },
      {
       "output_type": "stream",
       "stream": "stdout",
       "text": [
        "\n",
        "57\n",
        "http://www.nytimes.com/2013/11/11/sports/football/football-roundup.html\n",
        "Bengals Wrest Victory From Ravens, Who Grab It Back"
       ]
      },
      {
       "output_type": "stream",
       "stream": "stdout",
       "text": [
        "\n",
        "failed at: 13\n",
        "58\n",
        "http://www.nytimes.com/interactive/2013/11/11/business/media/11mostwanted.html\n",
        "Popular Demand"
       ]
      },
      {
       "output_type": "stream",
       "stream": "stdout",
       "text": [
        "\n",
        "failed at: 3\n",
        "59\n",
        "http://www.nytimes.com/2013/11/11/us/politics/in-2014-primaries-challenges-for-gop-stem-from-divides-within.html\n",
        "For 2014, G.O.P.\u2019s Challenges Stem From Within"
       ]
      },
      {
       "output_type": "stream",
       "stream": "stdout",
       "text": [
        "\n",
        "60\n",
        "http://www.nytimes.com/2013/11/11/nyregion/mystery-of-a-257-year-old-cannon-lingers.html\n",
        "Mystery of a 257-Year-Old Cannon Lingers"
       ]
      },
      {
       "output_type": "stream",
       "stream": "stdout",
       "text": [
        "\n",
        "61\n",
        "http://www.nytimes.com/slideshow/2013/11/11/world/americas/20131111SALVADOR.html\n",
        "The Streets of Salvador"
       ]
      },
      {
       "output_type": "stream",
       "stream": "stdout",
       "text": [
        "\n",
        "62\n",
        "http://www.nytimes.com/2013/11/11/us/health-website-tests-a-tycoon-and-tinkerer.html\n",
        "Health Website Tests a Tycoon and Tinkerer"
       ]
      },
      {
       "output_type": "stream",
       "stream": "stdout",
       "text": [
        "\n",
        "63\n",
        "http://www.nytimes.com/2013/11/11/nyregion/film-on-love-and-gang-war-in-puerto-rico-is-coming-to-new-york.html\n",
        "Film on Love and Gang War in Puerto Rico Is Coming to New York"
       ]
      },
      {
       "output_type": "stream",
       "stream": "stdout",
       "text": [
        "\n",
        "64\n",
        "http://www.nytimes.com/2013/11/11/theater/reviews/twelfth-night-and-richard-iii-with-mark-rylance.html\n",
        "Boys Will Be Boys (and Sometimes Girls)"
       ]
      },
      {
       "output_type": "stream",
       "stream": "stdout",
       "text": [
        "\n",
        "failed at: 14\n",
        "65\n",
        "http://www.nytimes.com/2013/11/11/sports/ncaabasketball/college-basketball-roundup.html\n",
        "Kentucky Romps in a Tuneup"
       ]
      },
      {
       "output_type": "stream",
       "stream": "stdout",
       "text": [
        "\n",
        "failed at: 7\n",
        "66\n",
        "http://www.nytimes.com/slideshow/2013/11/11/theater/20131111TWELFTH.html\n",
        "\u2018Twelfth Night\u2019 and \u2018Richard III\u2019"
       ]
      },
      {
       "output_type": "stream",
       "stream": "stdout",
       "text": [
        "\n",
        "67\n",
        "http://www.nytimes.com/2013/11/11/sports/football/reining-in-manning-to-role-of-game-manager.html\n",
        "Reining In Manning to Role of Game Manager"
       ]
      },
      {
       "output_type": "stream",
       "stream": "stdout",
       "text": [
        "\n",
        "68\n",
        "http://www.nytimes.com/2013/11/11/nyregion/talk-of-penalty-is-missing-in-ads-for-health-care.html\n",
        "Talk of Penalty Is Missing in Ads for Health Care"
       ]
      },
      {
       "output_type": "stream",
       "stream": "stdout",
       "text": [
        "\n",
        "69\n",
        "http://www.nytimes.com/2013/11/11/sports/football/for-the-want-of-real-leaders-nfl-culture-will-stay-lost.html\n",
        "For the Want of Real Leaders, N.F.L. Culture Will Stay Lost"
       ]
      },
      {
       "output_type": "stream",
       "stream": "stdout",
       "text": [
        "\n",
        "70\n",
        "http://www.nytimes.com/2013/11/11/opinion/keller-salvaging-obama.html\n",
        "Salvaging Obama"
       ]
      },
      {
       "output_type": "stream",
       "stream": "stdout",
       "text": [
        "\n",
        "71\n",
        "http://www.nytimes.com/2013/11/11/nyregion/latino-comedian-returns-to-where-it-all-began.html\n",
        "Latino Comedian Returns to Where It All Began"
       ]
      },
      {
       "output_type": "stream",
       "stream": "stdout",
       "text": [
        "\n",
        "72\n",
        "http://www.nytimes.com/2013/11/11/business/media/vox-media-buying-curbedcom-network-of-sites.html\n",
        "Vox Media Buying Curbed.com Network of Sites"
       ]
      },
      {
       "output_type": "stream",
       "stream": "stdout",
       "text": [
        "\n",
        "73\n",
        "http://www.nytimes.com/2013/11/11/nyregion/a-word-that-turned-her-life-around-mom.html\n",
        "A Word That Turned Her Life Around: \u2018Mom\u2019"
       ]
      },
      {
       "output_type": "stream",
       "stream": "stdout",
       "text": [
        "\n",
        "failed at: 4\n",
        "74\n",
        "http://www.nytimes.com/2013/11/11/sports/hockey/border-war-brewing-for-the-olympics.html\n",
        "Border War Brewing for the Olympics"
       ]
      },
      {
       "output_type": "stream",
       "stream": "stdout",
       "text": [
        "\n",
        "75\n",
        "http://www.nytimes.com/2013/11/11/opinion/a-time-to-pause.html\n",
        "A Time to Pause"
       ]
      },
      {
       "output_type": "stream",
       "stream": "stdout",
       "text": [
        "\n",
        "76\n",
        "http://www.nytimes.com/2013/11/11/nyregion/winning-powerball-and-lottery-numbers-for-nov-10-2013.html\n",
        "Winning Powerball and Lottery Numbers for Nov. 10, 2013"
       ]
      },
      {
       "output_type": "stream",
       "stream": "stdout",
       "text": [
        "\n",
        "failed at: 22\n",
        "77\n",
        "http://www.nytimes.com/2013/11/11/opinion/low-stress-voting.html\n",
        "Low-Stress Voting"
       ]
      },
      {
       "output_type": "stream",
       "stream": "stdout",
       "text": [
        "\n",
        "78\n",
        "http://www.nytimes.com/2013/11/11/sports/football/broncos-win-but-not-without-raising-doubts-for-playoffs.html\n",
        "Broncos Win, but Not Without Raising Doubts for Playoffs"
       ]
      },
      {
       "output_type": "stream",
       "stream": "stdout",
       "text": [
        "\n",
        "79\n",
        "http://www.nytimes.com/2013/11/11/business/media/60-minutes-airs-apology-on-benghazi.html\n",
        "\u201860 Minutes\u2019 Airs Apology on Benghazi"
       ]
      },
      {
       "output_type": "stream",
       "stream": "stdout",
       "text": [
        "\n",
        "80\n",
        "http://www.nytimes.com/2013/11/11/opinion/new-faces-for-a-hobbled-commission.html\n",
        "New Faces for a Hobbled Commission"
       ]
      },
      {
       "output_type": "stream",
       "stream": "stdout",
       "text": [
        "\n",
        "81\n",
        "http://www.nytimes.com/2013/11/11/business/media/same-time-same-channel-tv-woos-kids-who-cant-wait.html\n",
        "Same Time, Same Channel? TV Woos Kids Who Can\u2019t Wait"
       ]
      },
      {
       "output_type": "stream",
       "stream": "stdout",
       "text": [
        "\n",
        "82\n",
        "http://www.nytimes.com/2013/11/11/opinion/high-and-low-premiums-in-health-care.html\n",
        "High and Low Premiums in Health Care"
       ]
      },
      {
       "output_type": "stream",
       "stream": "stdout",
       "text": [
        "\n",
        "83\n",
        "http://www.nytimes.com/2013/11/11/nyregion/conservative-republicans-recoil-at-the-notion-that-christie-is-the-partys-savior.html\n",
        "Conservative Republicans Recoil at the Notion That Christie Is the Party\u2019s Savior"
       ]
      },
      {
       "output_type": "stream",
       "stream": "stdout",
       "text": [
        "\n",
        "84\n",
        "http://www.nytimes.com/2013/11/11/opinion/krugman-the-plot-against-france.html\n",
        "The Plot Against France"
       ]
      },
      {
       "output_type": "stream",
       "stream": "stdout",
       "text": [
        "\n",
        "85\n",
        "http://www.nytimes.com/2013/11/11/world/middleeast/an-iranian-deputy-minister-is-assassinated-in-tehran.html\n",
        "An Iranian Deputy Minister Is Assassinated in Tehran"
       ]
      },
      {
       "output_type": "stream",
       "stream": "stdout",
       "text": [
        "\n",
        "86\n",
        "http://www.nytimes.com/2013/11/11/nyregion/many-black-new-yorkers-are-seeing-de-blasios-victory-as-their-own.html\n",
        "Many Black New Yorkers Are Seeing de Blasio\u2019s Victory as Their Own"
       ]
      },
      {
       "output_type": "stream",
       "stream": "stdout",
       "text": [
        "\n",
        "87\n",
        "http://www.nytimes.com/2013/11/11/business/media/marrying-companies-and-content.html\n",
        "Marrying Companies and Content"
       ]
      },
      {
       "output_type": "stream",
       "stream": "stdout",
       "text": [
        "\n",
        "88\n",
        "http://www.nytimes.com/2013/11/11/world/americas/venezuelan-soldiers-deployed-to-stores.html\n",
        "Venezuelan Soldiers Deployed to Stores"
       ]
      },
      {
       "output_type": "stream",
       "stream": "stdout",
       "text": [
        "\n",
        "89\n",
        "http://www.nytimes.com/2013/11/11/opinion/new-hope-for-homeless-vets.html\n",
        "New Hope for Homeless Vets"
       ]
      },
      {
       "output_type": "stream",
       "stream": "stdout",
       "text": [
        "\n",
        "90\n",
        "http://www.nytimes.com/2013/11/11/opinion/the-vets-we-reject-and-ignore.html\n",
        "The Vets We Reject and Ignore"
       ]
      },
      {
       "output_type": "stream",
       "stream": "stdout",
       "text": [
        "\n",
        "91\n",
        "http://www.nytimes.com/2013/11/11/sports/ncaabasketball/ncaa-dodges-a-bullet-but-change-is-on-the-way.html\n",
        "N.C.A.A. Dodges a Bullet, but Change Is on the Way"
       ]
      },
      {
       "output_type": "stream",
       "stream": "stdout",
       "text": [
        "\n",
        "92\n",
        "http://www.nytimes.com/2013/11/11/opinion/saving-kerrys-peace-plan.html\n",
        "Saving Kerry's Peace Plan"
       ]
      },
      {
       "output_type": "stream",
       "stream": "stdout",
       "text": [
        "\n",
        "failed at: 16\n",
        "93\n",
        "http://www.nytimes.com/2013/11/11/world/asia/danger-persists-for-reporters-in-pakistan-despite-vow-to-protect-them.html\n",
        "Danger Persists for Reporters in Pakistan, Despite Vow to Protect Them"
       ]
      },
      {
       "output_type": "stream",
       "stream": "stdout",
       "text": [
        "\n",
        "94\n",
        "http://www.nytimes.com/2013/11/11/opinion/aswani-egypts-two-front-war-for-democracy.html\n",
        "Egypt's Two-Front War for Democracy"
       ]
      },
      {
       "output_type": "stream",
       "stream": "stdout",
       "text": [
        "\n",
        "failed at: 18\n",
        "95\n",
        "http://www.nytimes.com/2013/11/11/sports/basketball/smith-returns-but-his-game-does-not.html\n",
        "Smith Returns, but His Game Does Not"
       ]
      },
      {
       "output_type": "stream",
       "stream": "stdout",
       "text": [
        "\n",
        "96\n",
        "http://www.nytimes.com/2013/11/11/opinion/daring-to-complain-about-obamacare.html\n",
        "Daring to Complain About Obamacare"
       ]
      },
      {
       "output_type": "stream",
       "stream": "stdout",
       "text": [
        "\n",
        "97\n",
        "http://www.nytimes.com/2013/11/11/opinion/anarchy-and-death-in-mali.html\n",
        "Anarchy and Death in Mali"
       ]
      },
      {
       "output_type": "stream",
       "stream": "stdout",
       "text": [
        "\n",
        "failed at: 18\n",
        "98\n",
        "http://www.nytimes.com/2013/11/11/us/south-florida-faces-ominous-prospects-from-rising-waters.html\n",
        "South Florida Faces Ominous Prospects From Rising Waters"
       ]
      },
      {
       "output_type": "stream",
       "stream": "stdout",
       "text": [
        "\n",
        "99\n",
        "http://www.nytimes.com/2013/11/11/world/asia/storm-track-veers-away-from-vietnam.html\n",
        "Storm Track Veers Away From Vietnam"
       ]
      },
      {
       "output_type": "stream",
       "stream": "stdout",
       "text": [
        "\n",
        "100\n",
        "http://www.nytimes.com/2013/11/11/technology/gathering-more-data-faster-to-produce-more-up-to-date-information.html\n",
        "Big Data\u2019s Little Brother"
       ]
      },
      {
       "output_type": "stream",
       "stream": "stdout",
       "text": [
        "\n",
        "101\n",
        "http://www.nytimes.com/2013/11/11/opinion/heng-chinas-president-steps-boldly-backward.html\n",
        "China\u2019s President Steps Boldly Backward"
       ]
      },
      {
       "output_type": "stream",
       "stream": "stdout",
       "text": [
        "\n",
        "102\n",
        "http://www.nytimes.com/2013/11/11/business/media/news-from-the-advertising-industry-for-the-week-of-nov-11.html\n",
        "News From the Advertising Industry for the Week of Nov. 11"
       ]
      },
      {
       "output_type": "stream",
       "stream": "stdout",
       "text": [
        "\n",
        "103\n",
        "http://www.nytimes.com/2013/11/11/business/media/using-humor-to-talk-about-birth-control.html\n",
        "Using Humor to Talk About Birth Control"
       ]
      },
      {
       "output_type": "stream",
       "stream": "stdout",
       "text": [
        "\n",
        "104\n",
        "http://www.nytimes.com/2013/11/11/world/asia/removing-fuel-rods-poses-new-risks-at-crippled-nuclear-plant-in-japan.html\n",
        "Removing Fuel Rods Poses New Risks at Crippled Nuclear Plant in Japan"
       ]
      },
      {
       "output_type": "stream",
       "stream": "stdout",
       "text": [
        "\n",
        "105\n",
        "http://www.nytimes.com/2013/11/11/world/americas/a-brazilian-boom-town-of-eternal-beauty-faces-its-dark-side.html\n",
        "A Brazilian Boom Town of \u2018Eternal Beauty\u2019 Faces Its Troubled Side"
       ]
      },
      {
       "output_type": "stream",
       "stream": "stdout",
       "text": [
        "\n",
        "106\n",
        "http://www.nytimes.com/2013/11/11/nyregion/bystanders-shot-by-police-face-uphill-fight-to-win-lawsuits.html\n",
        "Bystanders Shot by the Police Face an Uphill Fight to Win Lawsuits"
       ]
      },
      {
       "output_type": "stream",
       "stream": "stdout",
       "text": [
        "\n",
        "107\n",
        "http://www.nytimes.com/2013/11/11/world/middleeast/after-clashes-with-saudis-laborers-opt-to-go-home.html\n",
        "After Clashes With Saudis, Laborers Opt to Go Home"
       ]
      },
      {
       "output_type": "stream",
       "stream": "stdout",
       "text": [
        "\n",
        "108\n",
        "http://www.nytimes.com/2013/11/11/opinion/a-clash-over-bill-clinton.html\n",
        "A Clash Over Bill Clinton?"
       ]
      },
      {
       "output_type": "stream",
       "stream": "stdout",
       "text": [
        "\n",
        "failed at: 9\n",
        "109\n",
        "http://www.nytimes.com/2013/11/11/opinion/a-muslim-comic-book-hero.html\n",
        "A Muslim Comic Book Hero"
       ]
      },
      {
       "output_type": "stream",
       "stream": "stdout",
       "text": [
        "\n",
        "failed at: 4\n",
        "110\n",
        "http://www.nytimes.com/2013/11/11/opinion/education-for-refugees.html\n",
        "Education for Refugees"
       ]
      },
      {
       "output_type": "stream",
       "stream": "stdout",
       "text": [
        "\n",
        "failed at: 10\n",
        "111\n",
        "http://www.nytimes.com/2013/11/11/opinion/treating-mental-illness-in-the-us-and-abroad.html\n",
        "Treating Mental Illness, in the U.S. and Abroad"
       ]
      },
      {
       "output_type": "stream",
       "stream": "stdout",
       "text": [
        "\n",
        "failed at: 8\n",
        "112\n",
        "http://www.nytimes.com/slideshow/2013/11/11/arts/music/20131111COLORS.html\n",
        "Jazz and Colors"
       ]
      },
      {
       "output_type": "stream",
       "stream": "stdout",
       "text": [
        "\n",
        "113\n",
        "http://www.nytimes.com/2013/11/11/opinion/quirky-questions-for-college-applicants.html\n",
        "Quirky Questions for College Applicants"
       ]
      },
      {
       "output_type": "stream",
       "stream": "stdout",
       "text": [
        "\n",
        "failed at: 10\n",
        "114\n",
        "http://www.nytimes.com/2013/11/11/business/media/preserving-forbes-magazine-with-aggressive-digital-drive.html\n",
        "Preserving Venerable Forbes Brand, With an Aggressive Digital Drive "
       ]
      },
      {
       "output_type": "stream",
       "stream": "stdout",
       "text": [
        "\n",
        "failed at: 10\n",
        "115\n",
        "http://www.nytimes.com/2013/11/11/sports/hockey/after-falling-in-draft-rookie-rises-with-predators.html\n",
        "After Falling in Draft, Rookie Rises With Predators"
       ]
      },
      {
       "output_type": "stream",
       "stream": "stdout",
       "text": [
        "\n",
        "116\n",
        "http://www.nytimes.com/2013/11/11/business/media/biebers-manager-to-start-entertainment-investment-fund.html\n",
        "Bieber&#8217;s Manager Starts Music Investment Fund "
       ]
      },
      {
       "output_type": "stream",
       "stream": "stdout",
       "text": [
        "\n",
        "117\n",
        "http://www.nytimes.com/2013/11/11/sports/tennis/nadal-ousts-federer-in-atp-championship.html\n",
        "Federer Walks Off a Loser but Is Not Walking Away"
       ]
      },
      {
       "output_type": "stream",
       "stream": "stdout",
       "text": [
        "\n",
        "118\n",
        "http://www.nytimes.com/2013/11/11/arts/design/art-fair-in-soho.html\n",
        "Art Fair in SoHo"
       ]
      },
      {
       "output_type": "stream",
       "stream": "stdout",
       "text": [
        "\n",
        "119\n",
        "http://www.nytimes.com/2013/11/11/arts/design/awards-for-modernism.html\n",
        "Awards for Modernism"
       ]
      },
      {
       "output_type": "stream",
       "stream": "stdout",
       "text": [
        "\n",
        "120\n",
        "http://www.nytimes.com/2013/11/11/arts/music/a-britten-opera-benefit.html\n",
        "A Britten Opera Benefit"
       ]
      },
      {
       "output_type": "stream",
       "stream": "stdout",
       "text": [
        "\n",
        "121\n",
        "http://www.nytimes.com/2013/11/11/arts/music/brooklyn-philharmonic-seeks-financial-help.html\n",
        "Brooklyn Philharmonic Seeks Financial Help"
       ]
      },
      {
       "output_type": "stream",
       "stream": "stdout",
       "text": [
        "\n",
        "122\n",
        "http://www.nytimes.com/2013/11/11/business/media/city-on-fire-a-debut-novel-fetches-nearly-2-million.html\n",
        "\u2018City on Fire,\u2019 a Debut Novel, Fetches Nearly $2 Million"
       ]
      },
      {
       "output_type": "stream",
       "stream": "stdout",
       "text": [
        "\n",
        "123\n",
        "http://www.nytimes.com/2013/11/11/arts/dance/suzanne-farrells-troupe-revives-pas-de-dix.html\n",
        "A Night of Surprising Revelations and \u2018If Onlys\u2019"
       ]
      },
      {
       "output_type": "stream",
       "stream": "stdout",
       "text": [
        "\n",
        "124\n",
        "http://www.nytimes.com/2013/11/11/arts/music/jazz-and-colors-fills-central-park.html\n",
        "Finding a Groove, or a Few Dozen; Map Is Optional"
       ]
      },
      {
       "output_type": "stream",
       "stream": "stdout",
       "text": [
        "\n",
        "125\n",
        "http://www.nytimes.com/2013/11/11/arts/veterans-pursue-careers-in-the-arts.html\n",
        "War Theater, Repurposed"
       ]
      },
      {
       "output_type": "stream",
       "stream": "stdout",
       "text": [
        "\n",
        "126\n",
        "http://www.nytimes.com/2013/11/11/arts/music/making-sure-miles-stays-forever-young.html\n",
        "Making Sure Miles Stays Forever Young"
       ]
      },
      {
       "output_type": "stream",
       "stream": "stdout",
       "text": [
        "\n",
        "127\n",
        "http://www.nytimes.com/2013/11/11/books/amsterdam-by-russell-shorto.html\n",
        "A City Built on a Paradox: Cooperative Individualism"
       ]
      },
      {
       "output_type": "stream",
       "stream": "stdout",
       "text": [
        "\n",
        "128\n",
        "http://www.nytimes.com/2013/11/11/arts/television/the-wrong-mans-a-new-series-for-the-bbc-and-hulu.html\n",
        "Not Just Another Dull Day at the Government Office"
       ]
      },
      {
       "output_type": "stream",
       "stream": "stdout",
       "text": [
        "\n",
        "129\n",
        "http://www.nytimes.com/2013/11/11/arts/music/at-cincinnati-symphony-louis-langrees-inaugural-weekend.html\n",
        "Conductor and Orchestra Arrive Together"
       ]
      },
      {
       "output_type": "stream",
       "stream": "stdout",
       "text": [
        "\n",
        "130\n",
        "http://www.nytimes.com/2013/11/11/technology/to-grow-twitter-looks-to-wider-web-and-outside-developers.html\n",
        "To Grow, Twitter Looks Outside Its Own Walls"
       ]
      },
      {
       "output_type": "stream",
       "stream": "stdout",
       "text": [
        "\n",
        "131\n",
        "http://www.nytimes.com/2013/11/11/business/economic-reports-for-the-week-of-nov-11.html\n",
        "Economic Reports for the Week of Nov. 11"
       ]
      },
      {
       "output_type": "stream",
       "stream": "stdout",
       "text": [
        "\n",
        "132\n",
        "http://www.nytimes.com/2013/11/11/crosswords/bridge/two-advanced-books-to-raise-your-game.html\n",
        "Two Advanced Books to Raise Your Game"
       ]
      },
      {
       "output_type": "stream",
       "stream": "stdout",
       "text": [
        "\n",
        "133\n",
        "http://www.nytimes.com/2013/11/11/arts/design/iraqi-jewish-documents-at-the-national-archives.html\n",
        "The Remnants of a Culture\u2019s Heart and Soul"
       ]
      },
      {
       "output_type": "stream",
       "stream": "stdout",
       "text": [
        "\n",
        "134\n",
        "http://www.nytimes.com/2013/11/11/business/international/service-sector-gaining-steam-in-chinas-economy.html\n",
        "Service Sector Gaining Steam in Chinese Economy"
       ]
      },
      {
       "output_type": "stream",
       "stream": "stdout",
       "text": [
        "\n",
        "135\n",
        "http://www.nytimes.com/2013/11/11/business/treasury-auctions-set-for-the-week-of-nov-11.html\n",
        "Treasury Auctions Set for the Week of Nov. 11"
       ]
      },
      {
       "output_type": "stream",
       "stream": "stdout",
       "text": [
        "\n",
        "136\n",
        "http://www.nytimes.com/2013/11/11/sports/football/defense-lifts-giants-over-raiders-and-to-a-third-straight-win.html\n",
        "Defense Lifts Giants Over Raiders and to a Third Straight Win"
       ]
      },
      {
       "output_type": "stream",
       "stream": "stdout",
       "text": [
        "\n",
        "137\n",
        "http://www.nytimes.com/2013/11/11/business/supreme-court-to-take-up-challenges-to-union-practices.html\n",
        "Supreme Court to Take Up Challenges to Union Practices"
       ]
      },
      {
       "output_type": "stream",
       "stream": "stdout",
       "text": [
        "\n",
        "138\n",
        "http://www.nytimes.com/2013/11/11/us/texas-and-5-other-states-resist-processing-benefits-for-gay-couples.html\n",
        "Texas and 5 Other States Resist Processing Benefits for Gay Couples"
       ]
      },
      {
       "output_type": "stream",
       "stream": "stdout",
       "text": [
        "\n",
        "139\n",
        "http://www.nytimes.com/2013/11/11/sports/basketball/to-win-now-nets-take-time-to-learn-what-works.html\n",
        "To Win Now, Nets Take Time to Learn What Works"
       ]
      },
      {
       "output_type": "stream",
       "stream": "stdout",
       "text": [
        "\n",
        "140\n",
        "http://www.nytimes.com/2013/11/11/sports/basketball/for-knicks-a-slow-start-and-a-bad-ending.html\n",
        "For Knicks, a Slow Start and a Bad Ending"
       ]
      },
      {
       "output_type": "stream",
       "stream": "stdout",
       "text": [
        "\n",
        "141\n",
        "http://www.nytimes.com/2013/11/11/sports/soccer/cosmos-rewind-champions-again.html\n",
        "Cosmos Rewind: Champions Again"
       ]
      },
      {
       "output_type": "stream",
       "stream": "stdout",
       "text": [
        "\n",
        "142\n",
        "http://www.nytimes.com/2013/11/11/sports/soccer/with-victory-over-arsenal-united-shows-its-mettle.html\n",
        "With Victory Over Arsenal, United Shows Its Mettle"
       ]
      },
      {
       "output_type": "stream",
       "stream": "stdout",
       "text": [
        "\n",
        "143\n",
        "http://www.nytimes.com/2013/11/11/nyregion/robbery-attempt-unfolded-before-shooting-at-bryant-park-rink-police-say.html\n",
        "Robbery Attempt Preceded Ice Rink Shooting, Police Say"
       ]
      },
      {
       "output_type": "stream",
       "stream": "stdout",
       "text": [
        "\n",
        "144\n",
        "http://www.nytimes.com/2013/11/11/sports/football/dolphins-incognito-says-his-words-were-misinterpreted.html\n",
        "Incognito Tries to Add Context to His Statements "
       ]
      },
      {
       "output_type": "stream",
       "stream": "stdout",
       "text": [
        "\n",
        "145\n",
        "http://www.nytimes.com/2013/11/11/us/politics/harbingers-of-the-2016-us-election.html\n",
        "Harbingers of the 2016 U.S. Election"
       ]
      },
      {
       "output_type": "stream",
       "stream": "stdout",
       "text": [
        "\n",
        "146\n",
        "http://www.nytimes.com/2013/11/11/world/europe/english-proficiency-falters-among-french.html\n",
        "English Proficiency Falters Among the French"
       ]
      },
      {
       "output_type": "stream",
       "stream": "stdout",
       "text": [
        "\n",
        "147\n",
        "http://www.nytimes.com/2013/11/11/world/middleeast/kerry-no-deal-in-hand-defends-negotiating-strategy-on-iran.html\n",
        "Iran Balked at Language of Draft Nuclear Deal, Western Diplomats Say"
       ]
      },
      {
       "output_type": "stream",
       "stream": "stdout",
       "text": [
        "\n",
        "148\n",
        "http://www.nytimes.com/2013/11/11/world/americas/children-thrive-in-rural-colombias-flexible-schools.html\n",
        "Children Thrive in Rural Colombia's Flexible Schools"
       ]
      },
      {
       "output_type": "stream",
       "stream": "stdout",
       "text": [
        "\n",
        "149\n",
        "http://www.nytimes.com/2013/11/11/arts/design/pressure-mounts-to-clear-up-ownership-of-nazi-looted-art.html\n",
        "Pressure Mounts to Return Nazi-Looted Art"
       ]
      },
      {
       "output_type": "stream",
       "stream": "stdout",
       "text": [
        "\n",
        "150\n",
        "http://www.nytimes.com/2013/11/11/us/houston-texas-shooting-house-party.html\n",
        "Shots Fired Into Crowd at Party in Houston Suburb, Killing Two"
       ]
      },
      {
       "output_type": "stream",
       "stream": "stdout",
       "text": [
        "\n",
        "151\n",
        "http://www.nytimes.com/2013/11/11/sports/soccer/hanging-on-barely-in-the-premier-league.html\n",
        "Hanging on, Barely, in the Premier League"
       ]
      },
      {
       "output_type": "stream",
       "stream": "stdout",
       "text": [
        "\n",
        "152\n",
        "http://www.nytimes.com/2013/11/11/world/asia/philippines-typhoon.html\n",
        "Vast Challenges for Philippines After Typhoon"
       ]
      },
      {
       "output_type": "stream",
       "stream": "stdout",
       "text": [
        "\n",
        "153\n",
        "http://www.nytimes.com/2013/11/11/nyregion/bryant-park-shooting.html\n",
        "Woman Shot Near Campus in New Jersey"
       ]
      },
      {
       "output_type": "stream",
       "stream": "stdout",
       "text": [
        "\n",
        "154\n",
        "http://www.nytimes.com/2013/11/11/world/europe/manfred-rommel-son-of-german-field-marshal-dies-at-84.html\n",
        "Manfred Rommel, Son of German Field Marshal, Dies at 84"
       ]
      },
      {
       "output_type": "stream",
       "stream": "stdout",
       "text": [
        "\n",
        "155\n",
        "http://www.nytimes.com/2013/11/11/health/gluten-free-dessert-pastry.html\n",
        "Gluten-Free Dessert Pastry"
       ]
      },
      {
       "output_type": "stream",
       "stream": "stdout",
       "text": [
        "\n",
        "failed at: 23\n",
        "156\n",
        "http://sinosphere.blogs.nytimes.com/2013/11/10/china-shopping-up-a-storm-on-bare-branch-day/\n",
        "Behind E-Commerce Spree, a Day for 'Bare Branches'"
       ]
      },
      {
       "output_type": "stream",
       "stream": "stdout",
       "text": [
        "\n",
        "failed at: 1\n",
        "157\n",
        "http://www.nytimes.com/aponline/2013/11/10/sports/basketball/ap-bkn-timberwolves-lakers.html\n",
        "Timberwolves End 22-Game Skid vs Lakers, 113-90"
       ]
      },
      {
       "output_type": "stream",
       "stream": "stdout",
       "text": [
        "\n",
        "158\n",
        "http://www.nytimes.com/aponline/2013/11/10/world/asia/ap-as-japan-offshore-wind-farm.html\n",
        "Japan Starts Up Offshore Wind Farm Near Fukushima"
       ]
      },
      {
       "output_type": "stream",
       "stream": "stdout",
       "text": [
        "\n",
        "159\n",
        "http://www.nytimes.com/aponline/2013/11/10/world/asia/ap-as-philippines-typhoon-baby.html\n",
        "Birth Amid Typhoon Debris Cheered in Philippines"
       ]
      },
      {
       "output_type": "stream",
       "stream": "stdout",
       "text": [
        "\n",
        "160\n",
        "http://www.nytimes.com/reuters/2013/11/10/world/asia/10reuters-usa-warship.html\n",
        "U.S. Warship Hit by Technical Glitch in Singapore"
       ]
      },
      {
       "output_type": "stream",
       "stream": "stdout",
       "text": [
        "\n",
        "161\n",
        "http://www.nytimes.com/aponline/2013/11/10/sports/hockey/ap-hkn-sharks-jets.html\n",
        "Andrew Ladd Rallies Jets Past Sharks 5-4 in SO"
       ]
      },
      {
       "output_type": "stream",
       "stream": "stdout",
       "text": [
        "\n",
        "162\n",
        "http://www.nytimes.com/reuters/2013/11/10/arts/10reuters-ladygaga.html\n",
        "Lady Gaga's Latest Frock Has Her Airborne as 'ARTPOP' Launches"
       ]
      },
      {
       "output_type": "stream",
       "stream": "stdout",
       "text": [
        "\n",
        "163\n",
        "http://www.nytimes.com/aponline/2013/11/10/world/ap-cn-canada-plane-crash.html\n",
        "Police: 5 Die in Plane Crash in Northwest Ontario"
       ]
      },
      {
       "output_type": "stream",
       "stream": "stdout",
       "text": [
        "\n",
        "164\n",
        "http://www.nytimes.com/reuters/2013/11/10/sports/soccer/10reuters-soccer-england-sunderland.html\n",
        "Di Canio a 'Managerial Charlatan', Says O'Neill"
       ]
      },
      {
       "output_type": "stream",
       "stream": "stdout",
       "text": [
        "\n",
        "165\n",
        "http://www.nytimes.com/aponline/2013/11/10/world/asia/ap-as-thailand-politics.html\n",
        "Thai Senate Kills Contentious Amnesty Bill"
       ]
      },
      {
       "output_type": "stream",
       "stream": "stdout",
       "text": [
        "\n",
        "166\n",
        "http://www.nytimes.com/aponline/2013/11/10/sports/hockey/ap-hkn-canucks-ducks.html\n",
        "Ducks Improve to 15-3-1 With 3-1 Win Over Canucks"
       ]
      },
      {
       "output_type": "stream",
       "stream": "stdout",
       "text": [
        "\n",
        "167\n",
        "http://www.nytimes.com/aponline/2013/11/10/us/ap-us-prepackaged-food-recall.html\n",
        "Calif. Company Recalls Prepackaged Salad, Sandwich"
       ]
      },
      {
       "output_type": "stream",
       "stream": "stdout",
       "text": [
        "\n",
        "168\n",
        "http://www.nytimes.com/video/2013/11/10/fashion/100000002543317/anya-hindmarch-building-a-bag-brand.html\n",
        "Anya Hindmarch: Building a Bag Brand"
       ]
      },
      {
       "output_type": "stream",
       "stream": "stdout",
       "text": [
        "\n",
        "169\n",
        "http://www.nytimes.com/aponline/2013/11/10/sports/hockey/ap-hkn-capitals-avalanche.html\n",
        "Varlamov Leads Avs to 4-1 Win Over Capitals"
       ]
      },
      {
       "output_type": "stream",
       "stream": "stdout",
       "text": [
        "\n",
        "170\n",
        "http://www.nytimes.com/reuters/2013/11/10/sports/olympics/10reuters-russia-space-olympics.html\n",
        "International Space Crew Returns Olympic Torch to Earth"
       ]
      },
      {
       "output_type": "stream",
       "stream": "stdout",
       "text": [
        "\n",
        "171\n",
        "http://www.nytimes.com/aponline/2013/11/10/sports/hockey/ap-hkn-oilers-blackhawks.html\n",
        "Kruger's Goal Helps Blackhawks Edge Oilers 5-4"
       ]
      },
      {
       "output_type": "stream",
       "stream": "stdout",
       "text": [
        "\n",
        "172\n",
        "http://www.nytimes.com/aponline/2013/11/10/sports/basketball/ap-bkn-pelicans-suns.html\n",
        "Bledsoe Scores 24 Points, Suns Defeat Pelicans"
       ]
      },
      {
       "output_type": "stream",
       "stream": "stdout",
       "text": [
        "\n",
        "173\n",
        "http://nocera.blogs.nytimes.com/2013/11/10/joe-on-wnycs-money-talking-nov-8-2013/\n",
        "Joe on WNYC's \"Money Talking\": Nov. 8, 2013"
       ]
      },
      {
       "output_type": "stream",
       "stream": "stdout",
       "text": [
        "\n",
        "failed at: 2\n",
        "174\n",
        "http://www.nytimes.com/reuters/2013/11/10/sports/football/10reuters-nfl-jaguars.html\n",
        "Jaguars Claw Way to First Win of Season"
       ]
      },
      {
       "output_type": "stream",
       "stream": "stdout",
       "text": [
        "\n",
        "175\n",
        "http://www.nytimes.com/reuters/2013/11/10/world/asia/10reuters-philippines-typhoon-usa-reaction.html\n",
        "U.S. Filipinos Pray, Seek Word From Loved Ones in Wake of Deadly Typhoon"
       ]
      },
      {
       "output_type": "stream",
       "stream": "stdout",
       "text": [
        "\n",
        "176\n",
        "http://www.nytimes.com/aponline/2013/11/10/sports/basketball/ap-bkn-wizards-thunder.html\n",
        "Durant Scores 33, Thunder Beat Wizards in OT"
       ]
      },
      {
       "output_type": "stream",
       "stream": "stdout",
       "text": [
        "\n",
        "177\n",
        "http://www.nytimes.com/aponline/2013/11/10/arts/ap-us-theater-review-twelfth-night-richard-iii.html\n",
        "Review: Mark Rylance Shines in 2 Shakespeare Parts"
       ]
      },
      {
       "output_type": "stream",
       "stream": "stdout",
       "text": [
        "\n",
        "178\n",
        "http://www.nytimes.com/aponline/2013/11/10/sports/ncaabasketball/ap-bkw-t25-ut-martin-gonzaga.html\n",
        "No. 25 Gonzaga Beats UT Martin 91-54 in WNIT"
       ]
      },
      {
       "output_type": "stream",
       "stream": "stdout",
       "text": [
        "\n",
        "179\n",
        "http://www.nytimes.com/reuters/2013/11/10/business/10reuters-chatrooms-banks.html\n",
        "Big Banks May Block Traders From Online Chat Rooms-WSJ"
       ]
      },
      {
       "output_type": "stream",
       "stream": "stdout",
       "text": [
        "\n",
        "180\n",
        "http://www.nytimes.com/aponline/2013/11/10/sports/hockey/ap-hkn-predators-devils.html\n",
        "Jagr's 1,700th Point Helps Devils Blank Predators"
       ]
      },
      {
       "output_type": "stream",
       "stream": "stdout",
       "text": [
        "\n",
        "181\n",
        "http://www.nytimes.com/aponline/2013/11/10/sports/hockey/ap-hkn-panthers-rangers.html\n",
        "Rangers Top Slumping Panthers for 3rd Straight Win"
       ]
      },
      {
       "output_type": "stream",
       "stream": "stdout",
       "text": [
        "\n",
        "182\n",
        "http://www.nytimes.com/aponline/2013/11/10/sports/ap-car-nhra.html\n",
        "Jeg Coughlin Wins Fifth NHRA Pro Stock Title"
       ]
      },
      {
       "output_type": "stream",
       "stream": "stdout",
       "text": [
        "\n",
        "183\n",
        "http://www.nytimes.com/aponline/2013/11/10/world/europe/ap-eu-turkey-syria.html\n",
        "Syrian Opposition Group Aims to Attend Peace Talks"
       ]
      },
      {
       "output_type": "stream",
       "stream": "stdout",
       "text": [
        "\n",
        "184\n",
        "http://www.nytimes.com/reuters/2013/11/10/business/10reuters-jj-amazon.html\n",
        "J&J Pulled Products From Amazon.com Over Third-Party Dispute: WSJ"
       ]
      },
      {
       "output_type": "stream",
       "stream": "stdout",
       "text": [
        "\n",
        "185\n",
        "http://www.nytimes.com/aponline/2013/11/10/sports/hockey/ap-hkn-islanders-canadiens.html\n",
        "Canadiens Beat Islanders 4-2 to End 4-Game Slide"
       ]
      },
      {
       "output_type": "stream",
       "stream": "stdout",
       "text": [
        "\n",
        "186\n",
        "http://www.nytimes.com/reuters/2013/11/10/nyregion/10reuters-usa-newyork-stopandfrisk.html\n",
        "NYC Asks Court to Vacate Order Curbing Stop-And-Frisk by Police"
       ]
      },
      {
       "output_type": "stream",
       "stream": "stdout",
       "text": [
        "\n",
        "187\n",
        "http://www.nytimes.com/aponline/2013/11/10/sports/football/ap-fbn-cowboys-saints.html\n",
        "Drew Brees Leads Saints Past Cowboys, 49-17"
       ]
      },
      {
       "output_type": "stream",
       "stream": "stdout",
       "text": [
        "\n",
        "188\n",
        "http://www.nytimes.com/aponline/2013/11/10/us/ap-us-gonzaga-gun-defense.html\n",
        "2 Gonzaga Students Face Expulsion for Having Gun"
       ]
      },
      {
       "output_type": "stream",
       "stream": "stdout",
       "text": [
        "\n",
        "189\n",
        "http://www.nytimes.com/aponline/2013/11/10/us/ap-us-tv-cbs-benghazi.html\n",
        "'60 Minutes' Apologizes for Flawed Benghazi Report"
       ]
      },
      {
       "output_type": "stream",
       "stream": "stdout",
       "text": [
        "\n",
        "190\n",
        "http://www.nytimes.com/aponline/2013/11/10/sports/ncaabasketball/ap-bkw-t25-north-dakota-iowa-st.html\n",
        "Iowa St. Defeats North Dakota 84-55"
       ]
      },
      {
       "output_type": "stream",
       "stream": "stdout",
       "text": [
        "\n",
        "191\n",
        "http://www.nytimes.com/aponline/2013/11/10/us/ap-10-things-to-know-monday.html\n",
        "10 Things to Know for Monday"
       ]
      },
      {
       "output_type": "stream",
       "stream": "stdout",
       "text": [
        "\n",
        "192\n",
        "http://www.nytimes.com/reuters/2013/11/10/business/10reuters-refinery-operations-shell-scotford.html\n",
        "Shell Restarting Unit at Scotford, Alberta, Facility-Community Line"
       ]
      },
      {
       "output_type": "stream",
       "stream": "stdout",
       "text": [
        "\n",
        "193\n",
        "http://www.nytimes.com/aponline/2013/11/10/us/ap-us-people-lady-gaga.html\n",
        "Lady Gaga Unveils 'Flying Dress' at NY Album Fete"
       ]
      },
      {
       "output_type": "stream",
       "stream": "stdout",
       "text": [
        "\n",
        "194\n",
        "http://www.nytimes.com/aponline/2013/11/10/sports/ncaafootball/ap-fbc-bcs-standings.html\n",
        "Florida St Takes Firm Hold of 2nd in BCS Standings"
       ]
      },
      {
       "output_type": "stream",
       "stream": "stdout",
       "text": [
        "\n",
        "195\n",
        "http://www.nytimes.com/aponline/2013/11/10/sports/ncaabasketball/ap-bkw-t25-duke-california.html\n",
        "Gray Leads No. 2 Duke Women Past No. 9 Cal, 70-58"
       ]
      },
      {
       "output_type": "stream",
       "stream": "stdout",
       "text": [
        "\n",
        "196\n",
        "http://www.nytimes.com/aponline/2013/11/10/sports/ap-car-nascar-phoenix-harvicks-win.html\n",
        "Harvick Closing Out RCR Run With a Flourish"
       ]
      },
      {
       "output_type": "stream",
       "stream": "stdout",
       "text": [
        "\n",
        "197\n",
        "http://www.nytimes.com/reuters/2013/11/10/sports/cricket/10reuters-cricket-ashes-tour-match.html\n",
        "Prior Out of England's Last Pre-Ashes Tour Match"
       ]
      },
      {
       "output_type": "stream",
       "stream": "stdout",
       "text": [
        "\n",
        "198\n",
        "http://www.nytimes.com/aponline/2013/11/10/arts/ap-us-theater-big-fish.html\n",
        "Broadway Musical 'Big Fish' to Get the Hook"
       ]
      },
      {
       "output_type": "stream",
       "stream": "stdout",
       "text": [
        "\n",
        "199\n",
        "http://dealbook.nytimes.com/2013/11/10/blackberrys-woes-draw-canadas-contrarian-mogul-into-spotlight/\n",
        "BlackBerry's Woes Draw Canada's Contrarian Mogul Into Spotlight "
       ]
      },
      {
       "output_type": "stream",
       "stream": "stdout",
       "text": [
        "\n",
        "failed at: 52\n",
        "200\n",
        "http://www.nytimes.com/reuters/2013/11/10/us/10reuters-space-satellite.html\n",
        "Satellite Likely Incinerated After Re-entering Earth's Atmosphere - Officials"
       ]
      },
      {
       "output_type": "stream",
       "stream": "stdout",
       "text": [
        "\n",
        "201\n",
        "http://www.nytimes.com/aponline/2013/11/10/sports/football/ap-fbn-texans-cardinals.html\n",
        "Palmer, Arizona Send Texans to 7th Straight Loss"
       ]
      },
      {
       "output_type": "stream",
       "stream": "stdout",
       "text": [
        "\n",
        "202\n",
        "http://www.nytimes.com/reuters/2013/11/10/business/10reuters-facebook-andreessens.html\n",
        "Facebook Director Andreessen's Firm Sells a Third of Its Shares"
       ]
      },
      {
       "output_type": "stream",
       "stream": "stdout",
       "text": [
        "\n",
        "203\n",
        "http://www.nytimes.com/aponline/2013/11/10/sports/ncaabasketball/ap-bkw-t25-louisiana-tech-south-carolina.html\n",
        "No. 22 South Carolina Beats Louisiana Tech 68-45"
       ]
      },
      {
       "output_type": "stream",
       "stream": "stdout",
       "text": [
        "\n",
        "204\n",
        "http://dealbook.nytimes.com/2013/11/10/nitro-circus-extreme-athletics-brand-to-merge-with-touring-company/\n",
        "Nitro Circus, Extreme Athletics Brand, to Merge With Touring Company"
       ]
      },
      {
       "output_type": "stream",
       "stream": "stdout",
       "text": [
        "\n",
        "failed at: 41\n",
        "205\n",
        "http://www.nytimes.com/aponline/2013/11/10/sports/football/ap-fbn-broncos-chargers.html\n",
        "Manning Throws 4 TD Passes in Broncos' 28-20 Win"
       ]
      },
      {
       "output_type": "stream",
       "stream": "stdout",
       "text": [
        "\n",
        "206\n",
        "http://www.nytimes.com/reuters/2013/11/10/world/asia/10reuters-korea-fighter.html\n",
        "South Korea Air Force Asks for Stealthier Jets; Boosts F-35 Chances"
       ]
      },
      {
       "output_type": "stream",
       "stream": "stdout",
       "text": [
        "\n",
        "207\n",
        "http://www.nytimes.com/reuters/2013/11/10/business/10reuters-yashili-mengniu.html\n",
        "Temasek, Hopu Buy $213 Million Stake in Chinese Dairy Maker"
       ]
      },
      {
       "output_type": "stream",
       "stream": "stdout",
       "text": [
        "\n",
        "208\n",
        "http://www.nytimes.com/reuters/2013/11/10/sports/football/10reuters-nfl-giants.html\n",
        "Returning Running Back Brown Sparks Giants Win"
       ]
      },
      {
       "output_type": "stream",
       "stream": "stdout",
       "text": [
        "\n",
        "209\n",
        "http://www.nytimes.com/aponline/2013/11/10/sports/football/ap-fbn-panthers-49ers.html\n",
        "Panthers' 5th Straight Win, Beat 49ers 10-9"
       ]
      },
      {
       "output_type": "stream",
       "stream": "stdout",
       "text": [
        "\n",
        "210\n",
        "http://sinosphere.blogs.nytimes.com/2013/11/10/no-quick-fixes-for-chinas-overwhelmed-organ-transplant-system/\n",
        "No Quick Fixes for China's Overwhelmed Organ Transplant System"
       ]
      },
      {
       "output_type": "stream",
       "stream": "stdout",
       "text": [
        "\n",
        "failed at: 1\n",
        "211\n",
        "http://www.nytimes.com/aponline/2013/11/10/world/europe/ap-eu-russia-space-landing.html\n",
        "Olympic Torch Returns Home From Space Station"
       ]
      },
      {
       "output_type": "stream",
       "stream": "stdout",
       "text": [
        "\n",
        "212\n",
        "http://www.nytimes.com/reuters/2013/11/10/business/10reuters-rbs-mortgages.html\n",
        "RBS Agrees 1,080 Mortgages Through UK's 'Help to Buy' Scheme"
       ]
      },
      {
       "output_type": "stream",
       "stream": "stdout",
       "text": [
        "\n",
        "213\n",
        "http://www.nytimes.com/aponline/2013/11/10/sports/ncaabasketball/ap-bkw-t25-texas-arlington-oklahoma-st.html\n",
        "No. 21 Oklahoma State Crushes UT Arlington 74-35"
       ]
      },
      {
       "output_type": "stream",
       "stream": "stdout",
       "text": [
        "\n",
        "214\n",
        "http://www.nytimes.com/reuters/2013/11/10/business/10reuters-business-confidence.html\n",
        "Record UK Business Confidence May Not Mean Quick Hiring-Survey"
       ]
      },
      {
       "output_type": "stream",
       "stream": "stdout",
       "text": [
        "\n",
        "215\n",
        "http://www.nytimes.com/reuters/2013/11/10/world/middleeast/10reuters-gulf-food-security.html\n",
        "Regional Instability Threatens Gulf Food Security-Report"
       ]
      },
      {
       "output_type": "stream",
       "stream": "stdout",
       "text": [
        "\n",
        "216\n",
        "http://www.nytimes.com/roomfordebate/2013/11/10/prosecuting-executives-not-companies-for-wall-street-crime/\n",
        "Prosecuting Executives for Wall Street Crime"
       ]
      },
      {
       "output_type": "stream",
       "stream": "stdout",
       "text": [
        "\n",
        "217\n",
        "http://www.nytimes.com/aponline/2013/11/10/world/europe/ap-eu-greece-financial-crisis.html\n",
        "Greek Government Survives No Confidence Motion"
       ]
      },
      {
       "output_type": "stream",
       "stream": "stdout",
       "text": [
        "\n",
        "218\n",
        "http://www.nytimes.com/aponline/2013/11/10/sports/ncaabasketball/ap-bkw-t25-fordham-penn-st.html\n",
        "No. 13 Penn State Handles Fordham 78-61"
       ]
      },
      {
       "output_type": "stream",
       "stream": "stdout",
       "text": [
        "\n",
        "219\n",
        "http://www.nytimes.com/reuters/2013/11/10/world/europe/10reuters-greece-vote-bailout.html\n",
        "Greek Government Survives Confidence Vote, Kicks Out One Deputy"
       ]
      },
      {
       "output_type": "stream",
       "stream": "stdout",
       "text": [
        "\n",
        "220\n",
        "http://www.nytimes.com/aponline/2013/11/10/us/ap-bkn-nba-philippines.html\n",
        "NBA, NBPA Donate $250,000 to Philippines Efforts"
       ]
      },
      {
       "output_type": "stream",
       "stream": "stdout",
       "text": [
        "\n",
        "221\n",
        "http://www.nytimes.com/reuters/2013/11/10/business/10reuters-blackstone-chiswickpark-cic.html\n",
        "CIC Set to Buy London Business Park From Blackstone-FT"
       ]
      },
      {
       "output_type": "stream",
       "stream": "stdout",
       "text": [
        "\n",
        "222\n",
        "http://www.nytimes.com/reuters/2013/11/10/business/10reuters-markets-global.html\n",
        "Asian Shares, Currencies Fall on Fed Tapering Concerns"
       ]
      },
      {
       "output_type": "stream",
       "stream": "stdout",
       "text": [
        "\n",
        "223\n",
        "http://www.nytimes.com/aponline/2013/11/10/sports/ap-car-nascar-phoenix-.html\n",
        "Johnson Widens Points Lead on Kenseth's Bad Day"
       ]
      },
      {
       "output_type": "stream",
       "stream": "stdout",
       "text": [
        "\n",
        "224\n",
        "http://www.nytimes.com/video/2013/11/10/fashion/100000002544980/vows-diana-and-aaron.html\n",
        "Vows: Diana and Aaron"
       ]
      },
      {
       "output_type": "stream",
       "stream": "stdout",
       "text": [
        "\n",
        "225\n",
        "http://www.nytimes.com/aponline/2013/11/10/world/asia/ap-as-australia-sri-lanka.html\n",
        "Call for Australian Boycott of Sri Lanka Summit"
       ]
      },
      {
       "output_type": "stream",
       "stream": "stdout",
       "text": [
        "\n",
        "226\n",
        "http://www.nytimes.com/aponline/2013/11/10/us/ap-us-under-armour-police-search.html\n",
        "Police Say They Got False Report on Under Armour"
       ]
      },
      {
       "output_type": "stream",
       "stream": "stdout",
       "text": [
        "\n",
        "227\n",
        "http://www.nytimes.com/reuters/2013/11/10/world/asia/10reuters-climate-talks.html\n",
        "Talks Seek Modest U.N. Climate Deal for 2015, to Raise Aid"
       ]
      },
      {
       "output_type": "stream",
       "stream": "stdout",
       "text": [
        "\n",
        "228\n",
        "http://artsbeat.blogs.nytimes.com/2013/11/10/big-fish-to-close-in-late-december/\n",
        "'Big Fish' to Close in Late December"
       ]
      },
      {
       "output_type": "stream",
       "stream": "stdout",
       "text": [
        "\n",
        "failed at: 1\n",
        "229\n",
        "http://www.nytimes.com/aponline/2013/11/10/sports/golf/ap-glf-legends-tour.html\n",
        "Laurie Rinker Wins Legends Tour Open"
       ]
      },
      {
       "output_type": "stream",
       "stream": "stdout",
       "text": [
        "\n",
        "230\n",
        "http://www.nytimes.com/aponline/2013/11/10/sports/ncaabasketball/ap-bkc-t25-northern-ky-kentucky.html\n",
        "No. 1 Kentucky Blows Away Northern Kentucky, 93-63"
       ]
      },
      {
       "output_type": "stream",
       "stream": "stdout",
       "text": [
        "\n",
        "231\n",
        "http://www.nytimes.com/reuters/2013/11/10/sports/football/10reuters-nfl.html\n",
        "Jaguars Claw Way to First Win of Season"
       ]
      },
      {
       "output_type": "stream",
       "stream": "stdout",
       "text": [
        "\n",
        "232\n",
        "http://www.nytimes.com/aponline/2013/11/10/us/ap-us-smallbiz-super-bowl-ad.html\n",
        "Intuit Chooses Finalists for Super Bowl Ad Contest"
       ]
      },
      {
       "output_type": "stream",
       "stream": "stdout",
       "text": [
        "\n",
        "233\n",
        "http://artsbeat.blogs.nytimes.com/2013/11/10/curry-stone-prizes-are-awarded/\n",
        "Curry Stone Prizes Are Awarded"
       ]
      },
      {
       "output_type": "stream",
       "stream": "stdout",
       "text": [
        "\n",
        "failed at: 1\n",
        "234\n",
        "http://www.nytimes.com/aponline/2013/11/10/sports/ncaabasketball/ap-bkw-t25-dayton-iowa.html\n",
        "Iowa Upsets No. 14 Dayton 97-93 in OT"
       ]
      },
      {
       "output_type": "stream",
       "stream": "stdout",
       "text": [
        "\n",
        "235\n",
        "http://www.nytimes.com/aponline/2013/11/10/arts/ap-us-people-george-clooney.html\n",
        "George Clooney on Philippine Typhoon: 'Terrible'"
       ]
      },
      {
       "output_type": "stream",
       "stream": "stdout",
       "text": [
        "\n",
        "236\n",
        "http://www.nytimes.com/reuters/2013/11/10/arts/10reuters-mtvawards-winners.html\n",
        "Katy Perry, Eminem Triumph as MTV Rises to Google Challenge"
       ]
      },
      {
       "output_type": "stream",
       "stream": "stdout",
       "text": [
        "\n",
        "237\n",
        "http://wordplay.blogs.nytimes.com/2013/11/10/a-mixed-up-quote/\n",
        "A Mixed Up Quote"
       ]
      },
      {
       "output_type": "stream",
       "stream": "stdout",
       "text": [
        "\n",
        "failed at: 1\n",
        "238\n",
        "http://www.nytimes.com/aponline/2013/11/10/us/ap-us-transgender-youth-protections.html\n",
        "Group: Calif. Transgender Law Repeal Will Qualify"
       ]
      },
      {
       "output_type": "stream",
       "stream": "stdout",
       "text": [
        "\n",
        "239\n",
        "http://www.nytimes.com/aponline/2013/11/10/us/ap-us-tv-downton-abbey.html\n",
        "PBS' 'Downton Abbey' to Return for a 5th Season"
       ]
      },
      {
       "output_type": "stream",
       "stream": "stdout",
       "text": [
        "\n",
        "240\n",
        "http://www.nytimes.com/aponline/2013/11/10/world/europe/ap-eu-britain-downton-abbey.html\n",
        "ITV Announces 5th Series of 'Downton Abbey'"
       ]
      },
      {
       "output_type": "stream",
       "stream": "stdout",
       "text": [
        "\n",
        "241\n",
        "http://artsbeat.blogs.nytimes.com/2013/11/10/more-downton-abbey-is-ordered-up/\n",
        "More 'Downton Abbey' Is Ordered Up"
       ]
      },
      {
       "output_type": "stream",
       "stream": "stdout",
       "text": [
        "\n",
        "failed at: 1\n",
        "242\n",
        "http://www.nytimes.com/aponline/2013/11/10/sports/golf/ap-glf-golf-capsules.html\n",
        "Golf Capsules"
       ]
      },
      {
       "output_type": "stream",
       "stream": "stdout",
       "text": [
        "\n",
        "243\n",
        "http://www.nytimes.com/aponline/2013/11/10/us/ap-us-people-robert-redford.html\n",
        "Robert Redford Honored for Contributions to Utah"
       ]
      },
      {
       "output_type": "stream",
       "stream": "stdout",
       "text": [
        "\n",
        "244\n",
        "http://www.nytimes.com/aponline/2013/11/10/sports/tennis/ap-ten-national-indoor-intercollegiate.html\n",
        "Loeb, Thompson Win USTA/ITA National Indoor Titles"
       ]
      },
      {
       "output_type": "stream",
       "stream": "stdout",
       "text": [
        "\n",
        "245\n",
        "http://www.nytimes.com/aponline/2013/11/10/sports/ncaafootball/ap-fbc-t25-ballot-breakdown.html\n",
        "BALLOT BREAKDOWN: Florida State Moves to No. 2"
       ]
      },
      {
       "output_type": "stream",
       "stream": "stdout",
       "text": [
        "\n",
        "246\n",
        "http://www.nytimes.com/reuters/2013/11/10/world/africa/10reuters-congo-democratic-m23-factbox.html\n",
        "Factbox: M23 Revolt Arose From East Congo's Ethnic, Political Rivalries"
       ]
      },
      {
       "output_type": "stream",
       "stream": "stdout",
       "text": [
        "\n",
        "247\n",
        "http://www.nytimes.com/reuters/2013/11/10/sports/golf/10reuters-golf-pga.html\n",
        "Kirk Sinks Key Birdie Putt in One Stroke Win"
       ]
      },
      {
       "output_type": "stream",
       "stream": "stdout",
       "text": [
        "\n",
        "248\n",
        "http://www.nytimes.com/aponline/2013/11/10/sports/football/ap-fbn-bengals-ravens.html\n",
        "Ravens Squeeze Past Bengals in Overtime, 20-17"
       ]
      },
      {
       "output_type": "stream",
       "stream": "stdout",
       "text": [
        "\n",
        "249\n",
        "http://www.nytimes.com/aponline/2013/11/10/sports/basketball/ap-bkn-nuggets-mcgee.html\n",
        "McGee Out Indefinitely With Fractured Tibia"
       ]
      },
      {
       "output_type": "stream",
       "stream": "stdout",
       "text": [
        "\n",
        "250\n",
        "http://www.nytimes.com/reuters/2013/11/10/world/africa/10reuters-congo-democratic-m23.html\n",
        "Factbox-M23 Revolt Arose From East Congo's Ethnic, Political Rivalries"
       ]
      },
      {
       "output_type": "stream",
       "stream": "stdout",
       "text": [
        "\n",
        "251\n",
        "http://www.nytimes.com/reuters/2013/11/10/us/10reuters-congo-democratic-rebels.html\n",
        "Congo, M23 Rebels Make Peace but Other Armed Groups Still Roam"
       ]
      },
      {
       "output_type": "stream",
       "stream": "stdout",
       "text": [
        "\n",
        "252\n",
        "http://www.nytimes.com/aponline/2013/11/10/us/ap-us-atheist-megachurch.html\n",
        "Atheist 'Mega-Churches' Take Root Across US, World"
       ]
      },
      {
       "output_type": "stream",
       "stream": "stdout",
       "text": [
        "\n",
        "253\n",
        "http://www.nytimes.com/reuters/2013/11/10/sports/tennis/10reuters-tennis-atp-djokovic.html\n",
        "Clinical Djokovic Sets Up Nadal Showdown at Tour Finals"
       ]
      },
      {
       "output_type": "stream",
       "stream": "stdout",
       "text": [
        "\n",
        "254\n",
        "http://www.nytimes.com/aponline/2013/11/10/world/americas/ap-cb-bahamas-plane-crash.html\n",
        "Bahamas Police Say 4 Killed in Small Plane Crash"
       ]
      },
      {
       "output_type": "stream",
       "stream": "stdout",
       "text": [
        "\n",
        "255\n",
        "http://www.nytimes.com/aponline/2013/11/10/us/ap-us-deer-arrow-removed.html\n",
        "NJ Biologists Remove Arrow From Deer's Head"
       ]
      },
      {
       "output_type": "stream",
       "stream": "stdout",
       "text": [
        "\n",
        "256\n",
        "http://www.nytimes.com/aponline/2013/11/10/sports/ncaabasketball/ap-bkw-t25-ball-state-purdue.html\n",
        "No. 18 Purdue Narrowly Beats Ball State 63-57"
       ]
      },
      {
       "output_type": "stream",
       "stream": "stdout",
       "text": [
        "\n",
        "257\n",
        "http://www.nytimes.com/aponline/2013/11/10/sports/ncaabasketball/ap-bkw-t25-presbyterian-georgia.html\n",
        "No. 24 Georgia Takes Down Presbyterian 45-30"
       ]
      },
      {
       "output_type": "stream",
       "stream": "stdout",
       "text": [
        "\n",
        "258\n",
        "http://www.nytimes.com/aponline/2013/11/10/world/americas/ap-cb-jamaica-election.html\n",
        "Jamaica Opposition Leader Fends Off Challenge"
       ]
      },
      {
       "output_type": "stream",
       "stream": "stdout",
       "text": [
        "\n",
        "259\n",
        "http://dealbook.nytimes.com/2013/11/10/powering-employees-with-more-than-a-paycheck/\n",
        "Powering Employees With More Than a Paycheck "
       ]
      },
      {
       "output_type": "stream",
       "stream": "stdout",
       "text": [
        "\n",
        "failed at: 45\n",
        "260\n",
        "http://www.nytimes.com/aponline/2013/11/10/us/politics/ap-us-obama-typhoon.html\n",
        "Obama 'Deeply Saddened' by Philippines Devastation"
       ]
      },
      {
       "output_type": "stream",
       "stream": "stdout",
       "text": [
        "\n",
        "261\n",
        "http://www.nytimes.com/reuters/2013/11/10/sports/10reuters-drevil-anfield.html\n",
        "Dr Evil Delights Anfield Crowd Before Liverpool Play Fulham"
       ]
      },
      {
       "output_type": "stream",
       "stream": "stdout",
       "text": [
        "\n",
        "262\n",
        "http://www.nytimes.com/aponline/2013/11/10/sports/football/ap-fbn-eagles-packers.html\n",
        "Foles Stars Again, Eagles Beat Packers 27-13"
       ]
      },
      {
       "output_type": "stream",
       "stream": "stdout",
       "text": [
        "\n",
        "263\n",
        "http://www.nytimes.com/reuters/2013/11/10/sports/soccer/10reuters-soccer-spain-messi.html\n",
        "Messi, Fabregas Pick Up Injuries in Barca Win"
       ]
      },
      {
       "output_type": "stream",
       "stream": "stdout",
       "text": [
        "\n",
        "264\n",
        "http://www.nytimes.com/reuters/2013/11/10/sports/autoracing/10reuters-motor-racing-massa.html\n",
        "Ferrari Pay Tribute to Departing Massa"
       ]
      },
      {
       "output_type": "stream",
       "stream": "stdout",
       "text": [
        "\n",
        "265\n",
        "http://www.nytimes.com/reuters/2013/11/10/sports/soccer/10reuters-soccer-greece.html\n",
        "On-Loan Campbell Shines as Olympiakos Rout PAOK"
       ]
      },
      {
       "output_type": "stream",
       "stream": "stdout",
       "text": [
        "\n",
        "266\n",
        "http://www.nytimes.com/aponline/2013/11/10/sports/golf/ap-glf-mcgladrey-classic.html\n",
        "Kirk Survives Roller-Coaster Finish to Win"
       ]
      },
      {
       "output_type": "stream",
       "stream": "stdout",
       "text": [
        "\n",
        "267\n",
        "http://www.nytimes.com/aponline/2013/11/10/sports/football/ap-fbn-jaguars-titans.html\n",
        "Jaguars End Skid, Beat Titans 29-27 for 1st Win"
       ]
      },
      {
       "output_type": "stream",
       "stream": "stdout",
       "text": [
        "\n",
        "268\n",
        "http://www.nytimes.com/reuters/2013/11/10/world/americas/10reuters-venezuela-refinery.html\n",
        "Fire at Venezuela Refinery, Government Says Under Control"
       ]
      },
      {
       "output_type": "stream",
       "stream": "stdout",
       "text": [
        "\n",
        "269\n",
        "http://www.nytimes.com/aponline/2013/11/10/sports/football/ap-fbn-bills-steelers.html\n",
        "Steelers Bounce Back, Drub Bills 23-10"
       ]
      },
      {
       "output_type": "stream",
       "stream": "stdout",
       "text": [
        "\n",
        "270\n",
        "http://dealbook.nytimes.com/2013/11/10/rules-force-banks-to-innovate-for-survival/\n",
        "Rules Force Banks to Innovate for Survival"
       ]
      },
      {
       "output_type": "stream",
       "stream": "stdout",
       "text": [
        "\n",
        "failed at: 46\n",
        "271\n",
        "http://www.nytimes.com/reuters/2013/11/10/world/asia/10reuters-china-reform.html\n",
        "China's Cautious Land-Reform Tests Cast Doubt on Big Urban Vision"
       ]
      },
      {
       "output_type": "stream",
       "stream": "stdout",
       "text": [
        "\n",
        "272\n",
        "http://www.nytimes.com/aponline/2013/11/10/sports/football/ap-fbn-lions-bears.html\n",
        "Lions Hold On for 21-19 Victory Over Bears"
       ]
      },
      {
       "output_type": "stream",
       "stream": "stdout",
       "text": [
        "\n",
        "273\n",
        "http://www.nytimes.com/aponline/2013/11/10/us/ap-us-north-carolina-fiery-crash-.html\n",
        "3 Killed, 2 Hurt in Fiery North Carolina Wreck"
       ]
      },
      {
       "output_type": "stream",
       "stream": "stdout",
       "text": [
        "\n",
        "274\n",
        "http://www.nytimes.com/aponline/2013/11/10/sports/football/ap-fbn-rams-colts.html\n",
        "Austin Leads Rams to 38-8 Blowout at Indianapolis"
       ]
      },
      {
       "output_type": "stream",
       "stream": "stdout",
       "text": [
        "\n",
        "275\n",
        "http://www.nytimes.com/aponline/2013/11/10/sports/football/ap-fbn-seahawks-falcons.html\n",
        "Wilson, Lynch Lead Seahawks Past Falcons 33-10"
       ]
      },
      {
       "output_type": "stream",
       "stream": "stdout",
       "text": [
        "\n",
        "276\n",
        "http://www.nytimes.com/reuters/2013/11/10/world/asia/10reuters-india-rural.html\n",
        "Biting the Hand That Feeds: India's Small Towns Favor Opposition"
       ]
      },
      {
       "output_type": "stream",
       "stream": "stdout",
       "text": [
        "\n",
        "277\n",
        "http://www.nytimes.com/aponline/2013/11/10/sports/ncaabasketball/ap-bkw-t25-loyola-md-maryland.html\n",
        "No. 8 Maryland Beats Loyola, Md. 89-53"
       ]
      },
      {
       "output_type": "stream",
       "stream": "stdout",
       "text": [
        "\n",
        "278\n",
        "http://www.nytimes.com/aponline/2013/11/10/sports/football/ap-fbn-raiders-giants.html\n",
        "Thomas Pick, Brown TD Lead Giants, 24-20"
       ]
      },
      {
       "output_type": "stream",
       "stream": "stdout",
       "text": [
        "\n",
        "279\n",
        "http://www.nytimes.com/aponline/2013/11/10/us/ap-us-rutgers-suicide.html\n",
        "Family Visits Site of Rutgers Student's Suicide"
       ]
      },
      {
       "output_type": "stream",
       "stream": "stdout",
       "text": [
        "\n",
        "280\n",
        "http://www.nytimes.com/aponline/2013/11/10/world/middleeast/ap-ml-iran-deputy-killed.html\n",
        "Report: Gunman Kills Iranian Deputy Minister"
       ]
      },
      {
       "output_type": "stream",
       "stream": "stdout",
       "text": [
        "\n",
        "281\n",
        "http://www.nytimes.com/video/2013/11/10/world/asia/100000002544776/devastation-in-philippines-after-typhoon.html\n",
        "Devastation in Philippines After Typhoon"
       ]
      },
      {
       "output_type": "stream",
       "stream": "stdout",
       "text": [
        "\n",
        "282\n",
        "http://www.nytimes.com/reuters/2013/11/10/arts/10reuters-boxoffice.html\n",
        "Marvel's 'Thor' Soars to Top of U.S.-Canada Movie Charts"
       ]
      },
      {
       "output_type": "stream",
       "stream": "stdout",
       "text": [
        "\n",
        "283\n",
        "http://www.nytimes.com/aponline/2013/11/10/us/ap-us-stop-and-frisk.html\n",
        "Ousted Stop-Frisk Judge's Lawyer Slams NYC Motion"
       ]
      },
      {
       "output_type": "stream",
       "stream": "stdout",
       "text": [
        "\n",
        "284\n",
        "http://www.nytimes.com/aponline/2013/11/10/us/ap-us-philippines-vital-statistics-glance.html\n",
        "A Glance at the Philippines"
       ]
      },
      {
       "output_type": "stream",
       "stream": "stdout",
       "text": [
        "\n",
        "285\n",
        "http://opinionator.blogs.nytimes.com/2013/11/10/lives-during-wartime-vol4/\n",
        "Lives During Wartime, Vol. 4"
       ]
      },
      {
       "output_type": "stream",
       "stream": "stdout",
       "text": [
        "\n",
        "failed at: 1\n",
        "286\n",
        "http://www.nytimes.com/reuters/2013/11/10/world/middleeast/10reuters-iran-minister.html\n",
        "Iranian Deputy Industry Minister Shot Dead in Tehran"
       ]
      },
      {
       "output_type": "stream",
       "stream": "stdout",
       "text": [
        "\n",
        "287\n",
        "http://www.nytimes.com/reuters/2013/11/10/sports/soccer/10reuters-soccer-spain.html\n",
        "Fabregas Shines for Barca After Messi Injury"
       ]
      },
      {
       "output_type": "stream",
       "stream": "stdout",
       "text": [
        "\n",
        "288\n",
        "http://www.nytimes.com/aponline/2013/11/10/sports/ncaabasketball/ap-bkw-t25-kentucky-wagner.html\n",
        "Stallworth Helps No. 7 Kentucky Women Rout Wagner"
       ]
      },
      {
       "output_type": "stream",
       "stream": "stdout",
       "text": [
        "\n",
        "289\n",
        "http://www.nytimes.com/aponline/2013/11/10/us/ap-us-homeless-man-found-money.html\n",
        "Outpouring for Ex-Homeless NJ Man's Good Deed"
       ]
      },
      {
       "output_type": "stream",
       "stream": "stdout",
       "text": [
        "\n",
        "290\n",
        "http://opinionator.blogs.nytimes.com/2013/11/10/learning-how-to-die-in-the-anthropocene/\n",
        "Learning How to Die in the Anthropocene"
       ]
      },
      {
       "output_type": "stream",
       "stream": "stdout",
       "text": [
        "\n",
        "failed at: 5\n",
        "291\n",
        "http://www.nytimes.com/aponline/2013/11/10/sports/ncaabasketball/ap-bkc-t25-stetson-notre-dame.html\n",
        "No. 21 Notre Dame Beats Stetson 80-49"
       ]
      },
      {
       "output_type": "stream",
       "stream": "stdout",
       "text": [
        "\n",
        "292\n",
        "http://www.nytimes.com/reuters/2013/11/10/world/americas/10reuters-venezuela-economy.html\n",
        "Venezuela Arrests Looters, Store Bosses in 'Economic War'"
       ]
      },
      {
       "output_type": "stream",
       "stream": "stdout",
       "text": [
        "\n",
        "293\n",
        "http://www.nytimes.com/aponline/2013/11/10/world/middleeast/ap-ml-israel-palestinians.html\n",
        "Israel Leader: Rest of World Soft on Palestinians"
       ]
      },
      {
       "output_type": "stream",
       "stream": "stdout",
       "text": [
        "\n",
        "294\n",
        "http://www.nytimes.com/aponline/2013/11/10/sports/basketball/ap-bkn-spurs-knicks.html\n",
        "Spurs Crush Knicks 120-89, Win 4th Straight"
       ]
      },
      {
       "output_type": "stream",
       "stream": "stdout",
       "text": [
        "\n",
        "295\n",
        "http://www.nytimes.com/reuters/2013/11/10/sports/tennis/10reuters-tennis-atp-federer.html\n",
        "Federer Walks Off Into Shadows With Clock Ticking"
       ]
      },
      {
       "output_type": "stream",
       "stream": "stdout",
       "text": [
        "\n",
        "296\n",
        "http://www.nytimes.com/reuters/2013/11/10/sports/olympics/10reuters-olympics-munich-2022.html\n",
        "Munich 2022 Games Bid Ruled Out by Referendum Loss"
       ]
      },
      {
       "output_type": "stream",
       "stream": "stdout",
       "text": [
        "\n",
        "297\n",
        "http://www.nytimes.com/reuters/2013/11/10/business/10reuters-rsa-ireland.html\n",
        "RSA Launches Independent Review of Irish Unit"
       ]
      },
      {
       "output_type": "stream",
       "stream": "stdout",
       "text": [
        "\n",
        "298\n",
        "http://www.nytimes.com/reuters/2013/11/10/sports/soccer/10reuters-soccer-italy-milan.html\n",
        "Milan Crisis Goes on After Sixth Match Without a Win"
       ]
      },
      {
       "output_type": "stream",
       "stream": "stdout",
       "text": [
        "\n",
        "299\n",
        "http://www.nytimes.com/reuters/2013/11/10/business/10reuters-deutschetelekom-acquisition-gts.html\n",
        "Deutsche Telekom Buys GTS Central Europe for 546 Million Euros"
       ]
      },
      {
       "output_type": "stream",
       "stream": "stdout",
       "text": [
        "\n",
        "300\n",
        "http://www.nytimes.com/reuters/2013/11/10/world/europe/10reuters-coronavirus-oman.html\n",
        "Oman Says First MERS-Coronavirus Sufferer Dies in Hospital"
       ]
      },
      {
       "output_type": "stream",
       "stream": "stdout",
       "text": [
        "\n",
        "301\n",
        "http://www.nytimes.com/aponline/2013/11/10/us/ap-us-college-basketball-101.html\n",
        "At Temple U, Foreign Students Learn Basketball 101"
       ]
      },
      {
       "output_type": "stream",
       "stream": "stdout",
       "text": [
        "\n",
        "302\n",
        "http://thelede.blogs.nytimes.com/2013/11/10/aerial-views-of-devastation-in-the-philippines/\n",
        "Aerial Views of Devastation in the Philippines "
       ]
      },
      {
       "output_type": "stream",
       "stream": "stdout",
       "text": [
        "\n",
        "failed at: 1\n",
        "303\n",
        "http://www.nytimes.com/reuters/2013/11/10/business/10reuters-libya-oil-autonomy.html\n",
        "Autonomy Group in East Libya Forms Oil Firm in Challenge to Tripoli"
       ]
      },
      {
       "output_type": "stream",
       "stream": "stdout",
       "text": [
        "\n",
        "304\n",
        "http://www.nytimes.com/reuters/2013/11/10/sports/soccer/10reuters-soccer-england-united.html\n",
        "United's Van Persie Is Arsenal's Nemesis Again"
       ]
      },
      {
       "output_type": "stream",
       "stream": "stdout",
       "text": [
        "\n",
        "305\n",
        "http://krugman.blogs.nytimes.com/2013/11/10/a-note-on-hysteresis-and-monetary-policy/\n",
        "A Note On Hysteresis And Monetary Policy"
       ]
      },
      {
       "output_type": "stream",
       "stream": "stdout",
       "text": [
        "\n",
        "306\n",
        "http://www.nytimes.com/aponline/2013/11/10/sports/ap-car-indycar-phoenix.html\n",
        "Phoenix Raceway: Up to IndyCar on Series Return"
       ]
      },
      {
       "output_type": "stream",
       "stream": "stdout",
       "text": [
        "\n",
        "307\n",
        "http://www.nytimes.com/reuters/2013/11/10/world/americas/10reuters-peru-glacier.html\n",
        "Peru Uses Climate Twist to Lure Tourists to Shrinking Glacier"
       ]
      },
      {
       "output_type": "stream",
       "stream": "stdout",
       "text": [
        "\n",
        "308\n",
        "http://www.nytimes.com/aponline/2013/11/10/us/politics/ap-us-united-states-iran.html\n",
        "Wary Congress Eyes Fresh Sanctions Against Iran"
       ]
      },
      {
       "output_type": "stream",
       "stream": "stdout",
       "text": [
        "\n",
        "309\n",
        "http://www.nytimes.com/reuters/2013/11/10/world/americas/10reuters-jamaica-politics.html\n",
        "Ex-Prime Minister Wins Vote to Remain Jamaican Opposition Leader"
       ]
      },
      {
       "output_type": "stream",
       "stream": "stdout",
       "text": [
        "\n",
        "310\n",
        "http://www.nytimes.com/aponline/2013/11/10/us/ap-us-last-reunions.html\n",
        "WWII Reunions Poignant for Dwindling Veterans"
       ]
      },
      {
       "output_type": "stream",
       "stream": "stdout",
       "text": [
        "\n",
        "311\n",
        "http://thecaucus.blogs.nytimes.com/2013/11/10/graham-sticks-with-threat-to-block-nominees/\n",
        "Graham Sticks With Threat to Block Nominees"
       ]
      },
      {
       "output_type": "stream",
       "stream": "stdout",
       "text": [
        "\n",
        "failed at: 1\n",
        "312\n",
        "http://www.nytimes.com/reuters/2013/11/10/business/10reuters-economy-global-weekahead.html\n",
        "Global Economy: Surprise Tactics Sweep Central Banking"
       ]
      },
      {
       "output_type": "stream",
       "stream": "stdout",
       "text": [
        "\n",
        "313\n",
        "http://www.nytimes.com/aponline/2013/11/10/us/ap-us-whitey-bulger.html\n",
        "Relatives Want Say at Boston Gangster's Sentencing"
       ]
      },
      {
       "output_type": "stream",
       "stream": "stdout",
       "text": [
        "\n",
        "314\n",
        "http://www.nytimes.com/reuters/2013/11/10/sports/soccer/10reuters-soccer-africa-champions.html\n",
        "Aboutrika Steers Al Ahli to Champions League Title"
       ]
      },
      {
       "output_type": "stream",
       "stream": "stdout",
       "text": [
        "\n",
        "315\n",
        "http://www.nytimes.com/reuters/2013/11/10/sports/soccer/10reuters-soccer-england-mancity.html\n",
        "Pellegrini at a Loss to Explain City's Away Woes"
       ]
      },
      {
       "output_type": "stream",
       "stream": "stdout",
       "text": [
        "\n",
        "316\n",
        "http://www.nytimes.com/aponline/2013/11/10/us/ap-fbn-dolphins-turmoil.html\n",
        "Incognito Says Martin Sent Him Threatening Text"
       ]
      },
      {
       "output_type": "stream",
       "stream": "stdout",
       "text": [
        "\n",
        "317\n",
        "http://www.nytimes.com/aponline/2013/11/10/us/ap-us-wolf-of-wall-street.html\n",
        "Ex 'Wolf of Wall Street' Says He's a Changed Man"
       ]
      },
      {
       "output_type": "stream",
       "stream": "stdout",
       "text": [
        "\n",
        "318\n",
        "http://www.nytimes.com/aponline/2013/11/10/us/ap-us-box-office.html\n",
        "'Thor: The Dark World' Bashes Box Office With $86M"
       ]
      },
      {
       "output_type": "stream",
       "stream": "stdout",
       "text": [
        "\n",
        "319\n",
        "http://www.nytimes.com/aponline/2013/11/10/world/europe/ap-eu-netherlands-music-mtv-screamers.html\n",
        "1,000 'Screamers' Wait for MTV Red Carpet Stars"
       ]
      },
      {
       "output_type": "stream",
       "stream": "stdout",
       "text": [
        "\n",
        "320\n",
        "http://artsbeat.blogs.nytimes.com/2013/11/10/a-strong-start-for-thor-the-dark-world/\n",
        "A Strong Start for 'Thor: The Dark World'"
       ]
      },
      {
       "output_type": "stream",
       "stream": "stdout",
       "text": [
        "\n",
        "failed at: 1\n",
        "321\n",
        "http://www.nytimes.com/reuters/2013/11/10/us/politics/10reuters-usa-fed-yellen-graham.html\n",
        "Senator to Block Obama's Nominations Over Benghazi"
       ]
      },
      {
       "output_type": "stream",
       "stream": "stdout",
       "text": [
        "\n",
        "322\n",
        "http://www.nytimes.com/aponline/2013/11/10/us/politics/ap-us-bookers-balancing-act-.html\n",
        "Booker Goes to Washington a Celebrity and Senator"
       ]
      },
      {
       "output_type": "stream",
       "stream": "stdout",
       "text": [
        "\n",
        "323\n",
        "http://www.nytimes.com/aponline/2013/11/10/sports/ap-car-f1-raikkonen-surgery.html\n",
        "Raikkonen (Back Surgery) Will Miss Last 2 F1 Races"
       ]
      },
      {
       "output_type": "stream",
       "stream": "stdout",
       "text": [
        "\n",
        "324\n",
        "http://www.nytimes.com/reuters/2013/11/10/us/politics/10reuters-usa-politics-christie.html\n",
        "New Jersey Governor Christie Hedges on Serving Out Full Term"
       ]
      },
      {
       "output_type": "stream",
       "stream": "stdout",
       "text": [
        "\n",
        "325\n",
        "http://www.nytimes.com/aponline/2013/11/10/world/asia/ap-as-pakistan.html\n",
        "Pakistan Army Condemns Naming Taliban Chief Martyr"
       ]
      },
      {
       "output_type": "stream",
       "stream": "stdout",
       "text": [
        "\n",
        "326\n",
        "http://www.nytimes.com/reuters/2013/11/10/sports/golf/10reuters-golf-european-molinari.html\n",
        "No Top Player Should Be Denied Dubai Spot: Molinari"
       ]
      },
      {
       "output_type": "stream",
       "stream": "stdout",
       "text": [
        "\n",
        "327\n",
        "http://www.nytimes.com/reuters/2013/11/10/business/10reuters-apple-iphone.html\n",
        "Apple Working on Curved iPhone Screens, Enhanced Sensors: Report"
       ]
      },
      {
       "output_type": "stream",
       "stream": "stdout",
       "text": [
        "\n",
        "328\n",
        "http://www.nytimes.com/aponline/2013/11/10/sports/ncaafootball/ap-fbc-t25-college-fb-poll.html\n",
        "Florida State Is No. 2 Behind 'Bama in AP Top 25"
       ]
      },
      {
       "output_type": "stream",
       "stream": "stdout",
       "text": [
        "\n",
        "329\n",
        "http://www.nytimes.com/aponline/2013/11/10/us/ap-us-gay-congressman.html\n",
        "Gay Maine Congressman: Coming Out Has Been Good"
       ]
      },
      {
       "output_type": "stream",
       "stream": "stdout",
       "text": [
        "\n",
        "330\n",
        "http://www.nytimes.com/aponline/2013/11/10/arts/ap-us-walking-dead-andrew-lincoln.html\n",
        "Lincoln: 'Walking Dead' Battle Scenes Were 'Epic'"
       ]
      },
      {
       "output_type": "stream",
       "stream": "stdout",
       "text": [
        "\n",
        "331\n",
        "http://www.nytimes.com/aponline/2013/11/10/us/ap-us-jfk-oswald-qa.html\n",
        "Who Was Lee Harvey Oswald? Many Questions Linger"
       ]
      },
      {
       "output_type": "stream",
       "stream": "stdout",
       "text": [
        "\n",
        "332\n",
        "http://www.nytimes.com/reuters/2013/11/10/sports/soccer/10reuters-soccer-germany.html\n",
        "Late Strike Gives Mainz 1-0 Win Over Frankfurt"
       ]
      },
      {
       "output_type": "stream",
       "stream": "stdout",
       "text": [
        "\n",
        "333\n",
        "http://www.nytimes.com/aponline/2013/11/10/world/middleeast/ap-soc-egypt-violence.html\n",
        "Soccer Fans, Police Clash in Cairo Before Game"
       ]
      },
      {
       "output_type": "stream",
       "stream": "stdout",
       "text": [
        "\n",
        "334\n",
        "http://www.nytimes.com/aponline/2013/11/10/us/ap-us-houston-astrodomes-future.html\n",
        "Astrodome May See 1 Last Inning After 'No' Vote"
       ]
      },
      {
       "output_type": "stream",
       "stream": "stdout",
       "text": [
        "\n",
        "335\n",
        "http://www.nytimes.com/aponline/2013/11/10/us/ap-us-games-next-next-generation.html\n",
        "A Look at What Next-Next-Gen Games Could Offer"
       ]
      },
      {
       "output_type": "stream",
       "stream": "stdout",
       "text": [
        "\n",
        "336\n",
        "http://www.nytimes.com/reuters/2013/11/10/world/europe/10reuters-pg-czech-politics.html\n",
        "Czech Leftist Party Gives Leader Sobotka Mandate to Form Cabinet"
       ]
      },
      {
       "output_type": "stream",
       "stream": "stdout",
       "text": [
        "\n",
        "337\n",
        "http://www.nytimes.com/aponline/2013/11/10/world/middleeast/ap-ml-kerry.html\n",
        "Kerry's Agenda in Abu Dhabi Includes Iran, Syria"
       ]
      },
      {
       "output_type": "stream",
       "stream": "stdout",
       "text": [
        "\n",
        "338\n",
        "http://www.nytimes.com/aponline/2013/11/10/us/ap-us-divided-government-iowa.html\n",
        "In Iowa, Divided Government Means Compromise"
       ]
      },
      {
       "output_type": "stream",
       "stream": "stdout",
       "text": [
        "\n",
        "339\n",
        "http://www.nytimes.com/reuters/2013/11/10/sports/soccer/10reuters-soccer-england-newcastle-krul.html\n",
        "Hero Keeper Krul Hails 'Best Performance Yet'"
       ]
      },
      {
       "output_type": "stream",
       "stream": "stdout",
       "text": [
        "\n",
        "340\n",
        "http://www.nytimes.com/reuters/2013/11/10/world/middleeast/10reuters-qatar-humanrights.html\n",
        "U.N. Expert on Labor Abuse Urges Qatar to End Sponsorship System"
       ]
      },
      {
       "output_type": "stream",
       "stream": "stdout",
       "text": [
        "\n",
        "341\n",
        "http://www.nytimes.com/reuters/2013/11/10/sports/autoracing/10reuters-motorcycling-prix-spencer.html\n",
        "Marquez Triumph Good for MotoGP: Spencer"
       ]
      },
      {
       "output_type": "stream",
       "stream": "stdout",
       "text": [
        "\n",
        "342\n",
        "http://www.nytimes.com/reuters/2013/11/10/sports/soccer/10reuters-soccer-italy.html\n",
        "Juve Overpower Napoli, Close Gap on Leaders Roma"
       ]
      },
      {
       "output_type": "stream",
       "stream": "stdout",
       "text": [
        "\n",
        "343\n",
        "http://www.nytimes.com/reuters/2013/11/10/sports/tennis/10reuters-tennis-atp.html\n",
        "Nadal and Djokovic in Final as Swiss Melt Away"
       ]
      },
      {
       "output_type": "stream",
       "stream": "stdout",
       "text": [
        "\n",
        "344\n",
        "http://www.nytimes.com/reuters/2013/11/10/sports/10reuters-doping-wada.html\n",
        "Tough New Code to Double Penalty for Drug Cheats"
       ]
      },
      {
       "output_type": "stream",
       "stream": "stdout",
       "text": [
        "\n",
        "345\n",
        "http://www.nytimes.com/reuters/2013/11/10/us/10reuters-philippines-typhoon-usa-military.html\n",
        "U.S. Dispatches Aid for Philippine Typhoon Recovery, Obama Says"
       ]
      },
      {
       "output_type": "stream",
       "stream": "stdout",
       "text": [
        "\n",
        "346\n",
        "http://www.nytimes.com/reuters/2013/11/10/world/middleeast/10reuters-nuclear-iran-france.html\n",
        "Iran Standoff Sees France Winning Gulf Friends, Influence"
       ]
      },
      {
       "output_type": "stream",
       "stream": "stdout",
       "text": [
        "\n",
        "347\n",
        "http://www.nytimes.com/reuters/2013/11/10/world/africa/10reuters-libya-budget-oil.html\n",
        "Libyan Autonomy Group Forms Oil Firm, Challenges Government"
       ]
      },
      {
       "output_type": "stream",
       "stream": "stdout",
       "text": [
        "\n",
        "348\n",
        "http://www.nytimes.com/reuters/2013/11/10/world/africa/10reuters-saudi-foreignworkers-riot.html\n",
        "African Workers in Riyadh Seek Repatriation After Two Riot Deaths"
       ]
      },
      {
       "output_type": "stream",
       "stream": "stdout",
       "text": [
        "\n",
        "349\n",
        "http://www.nytimes.com/reuters/2013/11/10/world/europe/10reuters-germany-art.html\n",
        "Germany, Under Pressure, Speeds Investigation of Nazi-Looted Art"
       ]
      },
      {
       "output_type": "stream",
       "stream": "stdout",
       "text": [
        "\n",
        "350\n",
        "http://www.nytimes.com/aponline/2013/11/10/sports/tennis/ap-ten-atp-finals.html\n",
        "Djokovic Joins Nadal in ATP Final"
       ]
      },
      {
       "output_type": "stream",
       "stream": "stdout",
       "text": [
        "\n",
        "351\n",
        "http://www.nytimes.com/aponline/2013/11/10/world/americas/ap-lt-brazil-fashion-rio.html\n",
        "Brazil Designer Gives World 'Anti-Cellulite Jeans'"
       ]
      },
      {
       "output_type": "stream",
       "stream": "stdout",
       "text": [
        "\n",
        "352\n",
        "http://www.nytimes.com/reuters/2013/11/10/arts/10reuters-soccer-brazil-flamengo.html\n",
        "Flamengo Fans Angered by Rock Star's Rude Gesture"
       ]
      },
      {
       "output_type": "stream",
       "stream": "stdout",
       "text": [
        "\n",
        "353\n",
        "http://www.nytimes.com/reuters/2013/11/10/sports/soccer/10reuters-soccer-italy-nocerina.html\n",
        "Italian Derby Abandoned After Team Reduced to Six"
       ]
      },
      {
       "output_type": "stream",
       "stream": "stdout",
       "text": [
        "\n",
        "354\n",
        "http://www.nytimes.com/reuters/2013/11/10/world/europe/10reuters-bulgaria-protests.html\n",
        "Bulgarian Students Protest to Demand Government Resignation"
       ]
      },
      {
       "output_type": "stream",
       "stream": "stdout",
       "text": [
        "\n",
        "355\n",
        "http://www.nytimes.com/reuters/2013/11/10/world/europe/10reuters-amplats-sitin.html\n",
        "South African Platinum Miners Stage Sit-In at Amplats Dishaba Mine"
       ]
      },
      {
       "output_type": "stream",
       "stream": "stdout",
       "text": [
        "\n",
        "356\n",
        "http://www.nytimes.com/reuters/2013/11/10/sports/golf/10reuters-golf-european-woods.html\n",
        "Woods Unsure if He Will Return to 'Fun Event' in Turkey"
       ]
      },
      {
       "output_type": "stream",
       "stream": "stdout",
       "text": [
        "\n",
        "357\n",
        "http://www.nytimes.com/aponline/2013/11/10/world/europe/ap-eu-spain-colombia-fugitive.html\n",
        "Spain Nabs Fugitive Colombian Drug Gang Leader"
       ]
      },
      {
       "output_type": "stream",
       "stream": "stdout",
       "text": [
        "\n",
        "358\n",
        "http://www.nytimes.com/aponline/2013/11/10/us/ap-us-gay-marriage-methodists.html\n",
        "Ministers Back Colleague at Pa. Same-Sex Ceremony"
       ]
      },
      {
       "output_type": "stream",
       "stream": "stdout",
       "text": [
        "\n",
        "359\n",
        "http://www.nytimes.com/aponline/2013/11/10/world/europe/ap-eu-france-iran-nuclear.html\n",
        "French Out-Tough US Over Iran Nuclear Program"
       ]
      },
      {
       "output_type": "stream",
       "stream": "stdout",
       "text": [
        "\n",
        "360\n",
        "http://www.nytimes.com/reuters/2013/11/10/world/europe/10reuters-syria-crisis-bombs.html\n",
        "Syria Has Used Incendiary Bombs Dozens of Times: Rights Group"
       ]
      },
      {
       "output_type": "stream",
       "stream": "stdout",
       "text": [
        "\n",
        "361\n",
        "http://www.nytimes.com/aponline/2013/11/10/world/africa/ap-af-liberia-jailed-editor.html\n",
        "Liberian Editor Says Libel Case to Be Settled Soon"
       ]
      },
      {
       "output_type": "stream",
       "stream": "stdout",
       "text": [
        "\n",
        "362\n",
        "http://www.nytimes.com/aponline/2013/11/10/business/ap-us-usa-today-lady-gaga.html\n",
        "Lady Gaga Lends Image to USA Today Logo"
       ]
      },
      {
       "output_type": "stream",
       "stream": "stdout",
       "text": [
        "\n",
        "363\n",
        "http://www.nytimes.com/aponline/2013/11/10/us/ap-us-war-machines-move.html\n",
        "Silicon Valley Tank Collection Heading East"
       ]
      },
      {
       "output_type": "stream",
       "stream": "stdout",
       "text": [
        "\n",
        "364\n",
        "http://www.nytimes.com/aponline/2013/11/10/us/politics/ap-us-senate-nominations-.html\n",
        "Sen. Graham Not Backing Down on Benghazi Demands"
       ]
      },
      {
       "output_type": "stream",
       "stream": "stdout",
       "text": [
        "\n",
        "365\n",
        "http://www.nytimes.com/reuters/2013/11/10/world/europe/10reuters-philippines-typhoon-pope.html\n",
        "Pope Francis Leads Prayer for Philippines After Typhoon"
       ]
      },
      {
       "output_type": "stream",
       "stream": "stdout",
       "text": [
        "\n",
        "366\n",
        "http://www.nytimes.com/reuters/2013/11/10/world/middleeast/10reuters-yemen-court.html\n",
        "Nine Go on Trial for Plotting to Kill Yemeni President"
       ]
      },
      {
       "output_type": "stream",
       "stream": "stdout",
       "text": [
        "\n",
        "367\n",
        "http://www.nytimes.com/aponline/2013/11/10/world/middleeast/ap-ml-gaza-electricity-.html\n",
        "Gaza Faces Power Outages Amid Political Infighting"
       ]
      },
      {
       "output_type": "stream",
       "stream": "stdout",
       "text": [
        "\n",
        "368\n",
        "http://www.nytimes.com/aponline/2013/11/10/sports/ap-box-yamanaka-guevara.html\n",
        "Yamanaka Defends WBC Bantamweight Title"
       ]
      },
      {
       "output_type": "stream",
       "stream": "stdout",
       "text": [
        "\n",
        "369\n",
        "http://www.nytimes.com/reuters/2013/11/10/sports/soccer/10reuters-soccer-england.html\n",
        "Van Persie Sinks Arsenal, City Lose at Sunderland"
       ]
      },
      {
       "output_type": "stream",
       "stream": "stdout",
       "text": [
        "\n",
        "370\n",
        "http://www.nytimes.com/aponline/2013/11/10/us/ap-bc-philippines-typhoon-photo-gallery.html\n",
        "AP PHOTOS: Devastation and Death in Philippines"
       ]
      },
      {
       "output_type": "stream",
       "stream": "stdout",
       "text": [
        "\n",
        "371\n",
        "http://www.nytimes.com/reuters/2013/11/10/world/middleeast/10reuters-iran-nuclear-kerry.html\n",
        "U.S. Lawmakers Aim to Tighten Sanctions to Spur Iran Talks"
       ]
      },
      {
       "output_type": "stream",
       "stream": "stdout",
       "text": [
        "\n",
        "372\n",
        "http://www.nytimes.com/aponline/2013/11/10/world/europe/ap-eu-falling-satellite.html\n",
        "Satellite Likely to Hit Earth in Unpopulated Area"
       ]
      },
      {
       "output_type": "stream",
       "stream": "stdout",
       "text": [
        "\n",
        "373\n",
        "http://www.nytimes.com/aponline/2013/11/10/world/europe/ap-eu-bulgaria-protest.html\n",
        "Bulgaria: Thousands Urge the Government to Resign"
       ]
      },
      {
       "output_type": "stream",
       "stream": "stdout",
       "text": [
        "\n",
        "374\n",
        "http://tmagazine.blogs.nytimes.com/2013/11/10/holiday-the-daily-gift-soma-water-filter/\n",
        "Holiday | The Daily Gift: Soma Water Filter "
       ]
      },
      {
       "output_type": "stream",
       "stream": "stdout",
       "text": [
        "\n",
        "failed at: 2\n",
        "375\n",
        "http://www.nytimes.com/aponline/2013/11/10/us/politics/ap-us-christie.html\n",
        "Christie: GOP Should 'Show Up' for Minority Votes"
       ]
      },
      {
       "output_type": "stream",
       "stream": "stdout",
       "text": [
        "\n",
        "376\n",
        "http://www.nytimes.com/aponline/2013/11/10/sports/golf/ap-glf-turkish-airlines-open.html\n",
        "Dubuisson Wins Turkish Airlines Open by 2 Shots"
       ]
      },
      {
       "output_type": "stream",
       "stream": "stdout",
       "text": [
        "\n",
        "377\n",
        "http://www.nytimes.com/reuters/2013/11/10/sports/autoracing/10reuters-motorcycling-prix-valencia.html\n",
        "Marquez Is Crowned Youngest World Champion"
       ]
      },
      {
       "output_type": "stream",
       "stream": "stdout",
       "text": [
        "\n",
        "378\n",
        "http://www.nytimes.com/reuters/2013/11/10/us/10reuters-usa-texas-shooting.html\n",
        "Two Killed, 19 Hurt in Houston-Area House Party Shooting"
       ]
      },
      {
       "output_type": "stream",
       "stream": "stdout",
       "text": [
        "\n",
        "379\n",
        "http://www.nytimes.com/aponline/2013/11/10/arts/ap-eu-netherlands-music-mtv-ema.html\n",
        "Miley Cyrus Smokes a Joint at MTV EMAs"
       ]
      },
      {
       "output_type": "stream",
       "stream": "stdout",
       "text": [
        "\n",
        "380\n",
        "http://www.nytimes.com/reuters/2013/11/10/sports/golf/10reuters-golf-european.html\n",
        "Dubuisson Too Good for Woods and Company in Turkey"
       ]
      },
      {
       "output_type": "stream",
       "stream": "stdout",
       "text": [
        "\n",
        "381\n",
        "http://www.nytimes.com/reuters/2013/11/10/sports/soccer/10reuters-soccer-england-arsenal-bendtner.html\n",
        "Bendtner 'Incredibly Disappointed' to Stay at Arsenal"
       ]
      },
      {
       "output_type": "stream",
       "stream": "stdout",
       "text": [
        "\n",
        "382\n",
        "http://www.nytimes.com/reuters/2013/11/10/world/europe/10reuters-israel-politics-lieberman.html\n",
        "Israeli Right-Winger Lieberman to Return as Foreign Minister"
       ]
      },
      {
       "output_type": "stream",
       "stream": "stdout",
       "text": [
        "\n",
        "383\n",
        "http://parenting.blogs.nytimes.com/2013/11/10/at-a-swim-meet-a-ribbon-for-everyone/\n",
        "At a Swim Meet, a Ribbon for Everyone"
       ]
      },
      {
       "output_type": "stream",
       "stream": "stdout",
       "text": [
        "\n",
        "failed at: 1\n",
        "384\n",
        "http://www.nytimes.com/aponline/2013/11/10/world/asia/ap-as-philippines-deadliest-storms-glance.html\n",
        "Deadliest Storms to Hit the Philippines"
       ]
      },
      {
       "output_type": "stream",
       "stream": "stdout",
       "text": [
        "\n",
        "385\n",
        "http://www.nytimes.com/reuters/2013/11/10/technology/10reuters-usa-ipads-schools.html\n",
        "Los Angeles Schools Slow Rollout of iPads Amid Security Concerns"
       ]
      },
      {
       "output_type": "stream",
       "stream": "stdout",
       "text": [
        "\n",
        "386\n",
        "http://www.nytimes.com/reuters/2013/11/10/world/middleeast/10reuters-bahrain-court.html\n",
        "Bahrain Jails Four for Car Bomb Outside Mosque"
       ]
      },
      {
       "output_type": "stream",
       "stream": "stdout",
       "text": [
        "\n",
        "387\n",
        "http://www.nytimes.com/aponline/2013/11/10/world/middleeast/ap-ml-iraq.html\n",
        "Neighbors Iraq, Turkey Pledge to End Tensions"
       ]
      },
      {
       "output_type": "stream",
       "stream": "stdout",
       "text": [
        "\n",
        "388\n",
        "http://www.nytimes.com/aponline/2013/11/10/world/europe/ap-eu-russia-netherlands.html\n",
        "Dutch Royals Pelted With Tomatoes in Moscow"
       ]
      },
      {
       "output_type": "stream",
       "stream": "stdout",
       "text": [
        "\n",
        "389\n",
        "http://www.nytimes.com/aponline/2013/11/10/world/middleeast/ap-ml-qatar-laborers-un.html\n",
        "UN Envoy Chides Qatar on Worker Housing 'Slum'"
       ]
      },
      {
       "output_type": "stream",
       "stream": "stdout",
       "text": [
        "\n",
        "390\n",
        "http://www.nytimes.com/reuters/2013/11/10/business/10reuters-coop-dividend.html\n",
        "UK's Co-operative to Scrap Half-Year Dividend Payouts"
       ]
      },
      {
       "output_type": "stream",
       "stream": "stdout",
       "text": [
        "\n",
        "391\n",
        "http://www.nytimes.com/reuters/2013/11/10/us/10reuters-usa-religion-bishopsconference.html\n",
        "U.S. Bishops to Select Leaders as Pope Urges New Focus"
       ]
      },
      {
       "output_type": "stream",
       "stream": "stdout",
       "text": [
        "\n",
        "392\n",
        "http://www.nytimes.com/reuters/2013/11/10/world/europe/10reuters-pope-jews.html\n",
        "Pope Commemorates Nazi's Kristallnacht Attack on Jewish 'Big Brothers'"
       ]
      },
      {
       "output_type": "stream",
       "stream": "stdout",
       "text": [
        "\n",
        "393\n",
        "http://www.nytimes.com/aponline/2013/11/10/us/politics/ap-us-health-care-politics.html\n",
        "Health Law's Troubles Give GOP a Much-Needed Boost"
       ]
      },
      {
       "output_type": "stream",
       "stream": "stdout",
       "text": [
        "\n",
        "394\n",
        "http://www.nytimes.com/aponline/2013/11/10/world/middleeast/ap-iran-nuclear.html\n",
        "UN Nuke Chief Heads for Tehran to Prod Iran Probe"
       ]
      },
      {
       "output_type": "stream",
       "stream": "stdout",
       "text": [
        "\n",
        "395\n",
        "http://www.nytimes.com/aponline/2013/11/10/world/asia/ap-as-china-moving-into-town.html\n",
        "Chinese Villagers Move in From the Country"
       ]
      },
      {
       "output_type": "stream",
       "stream": "stdout",
       "text": [
        "\n",
        "396\n",
        "http://www.nytimes.com/reuters/2013/11/10/sports/rugby/10reuters-rugby-france-squad.html\n",
        "France Call Up Michalak and Ouedraogo for Tonga Game"
       ]
      },
      {
       "output_type": "stream",
       "stream": "stdout",
       "text": [
        "\n",
        "397\n",
        "http://www.nytimes.com/reuters/2013/11/10/business/10reuters-kashagan-total.html\n",
        "Total CEO Says Kashagan Oilfield Won't Restart Till 2014"
       ]
      },
      {
       "output_type": "stream",
       "stream": "stdout",
       "text": [
        "\n",
        "398\n",
        "http://www.nytimes.com/reuters/2013/11/10/business/10reuters-northam-sitin.html\n",
        "South African Platinum Miners Stage Sit-In at Northam's Dechaba"
       ]
      },
      {
       "output_type": "stream",
       "stream": "stdout",
       "text": [
        "\n",
        "399\n",
        "http://www.nytimes.com/reuters/2013/11/10/world/asia/10reuters-philippines-typhoon-scene.html\n",
        "Toppled Philippine Church Cross Overlooks Typhoon's Destruction"
       ]
      },
      {
       "output_type": "stream",
       "stream": "stdout",
       "text": [
        "\n",
        "400\n",
        "http://www.nytimes.com/aponline/2013/11/10/world/middleeast/ap-ml-gaza-hamas-spokeswoman.html\n",
        "Conservative Hamas Appoints First Spokeswoman"
       ]
      },
      {
       "output_type": "stream",
       "stream": "stdout",
       "text": [
        "\n",
        "401\n",
        "http://www.nytimes.com/reuters/2013/11/10/business/10reuters-basf-energy-costs.html\n",
        "BASF CEO Says Electricity Grid Fees Put Jobs at Risk-Paper"
       ]
      },
      {
       "output_type": "stream",
       "stream": "stdout",
       "text": [
        "\n",
        "402\n",
        "http://www.nytimes.com/aponline/2013/11/10/world/asia/ap-as-philippines-typhoon-alley.html\n",
        "Philippines Buffeted by Regular Storms"
       ]
      },
      {
       "output_type": "stream",
       "stream": "stdout",
       "text": [
        "\n",
        "403\n",
        "http://www.nytimes.com/reuters/2013/11/10/sports/golf/10reuters-golf-asia-india.html\n",
        "Nervy Siddikur Wins Second Asian Tour Title"
       ]
      },
      {
       "output_type": "stream",
       "stream": "stdout",
       "text": [
        "\n",
        "404\n",
        "http://www.nytimes.com/reuters/2013/11/10/us/politics/10reuters-usa-fed-yellen.html\n",
        "Yellen to Prevail Over Fed Critics at Senate Hearing"
       ]
      },
      {
       "output_type": "stream",
       "stream": "stdout",
       "text": [
        "\n",
        "405\n",
        "http://www.nytimes.com/aponline/2013/11/10/world/europe/ap-eu-spain-sex-slaves.html\n",
        "Spanish Police Break Up Sex Slave Ring, Arrest 25"
       ]
      },
      {
       "output_type": "stream",
       "stream": "stdout",
       "text": [
        "\n",
        "406\n",
        "http://www.nytimes.com/reuters/2013/11/10/world/middleeast/10reuters-iran-nuclear-iaea.html\n",
        "U.N. Nuclear Chief Hopes for 'Concrete Results' in Tehran Talks"
       ]
      },
      {
       "output_type": "stream",
       "stream": "stdout",
       "text": [
        "\n",
        "407\n",
        "http://www.nytimes.com/reuters/2013/11/10/us/politics/10reuters-usa-healthcare-enrollment.html\n",
        "Early Obamacare Data to Signal How Many Still Waiting to Enroll"
       ]
      },
      {
       "output_type": "stream",
       "stream": "stdout",
       "text": [
        "\n",
        "408\n",
        "http://www.nytimes.com/aponline/2013/11/10/world/europe/ap-eu-vatican-typhoon.html\n",
        "Pope Asks for Prayer, Aid for Typhoon Victims"
       ]
      },
      {
       "output_type": "stream",
       "stream": "stdout",
       "text": [
        "\n",
        "409\n",
        "http://www.nytimes.com/aponline/2013/11/10/world/asia/ap-as-pakistan-life-on-the-line.html\n",
        "India-Pakistan Border Fights Disrupt Village Life"
       ]
      },
      {
       "output_type": "stream",
       "stream": "stdout",
       "text": [
        "\n",
        "410\n",
        "http://www.nytimes.com/reuters/2013/11/10/us/10reuters-usa-crime-bulger.html\n",
        "Sentencing to Be Last Chapter in Boston Mobster's Reign of Terror"
       ]
      },
      {
       "output_type": "stream",
       "stream": "stdout",
       "text": [
        "\n",
        "411\n",
        "http://www.nytimes.com/reuters/2013/11/10/sports/rugby/10reuters-rugby-wales-davies.html\n",
        "Injured Wales Centre Davies Could Miss Six Nations"
       ]
      },
      {
       "output_type": "stream",
       "stream": "stdout",
       "text": [
        "\n",
        "412\n",
        "http://www.nytimes.com/reuters/2013/11/10/world/middleeast/10reuters-iran-nuclear-israel.html\n",
        "Netanyahu Asks U.S. Supporters to Oppose Iran Deal"
       ]
      },
      {
       "output_type": "stream",
       "stream": "stdout",
       "text": [
        "\n",
        "413\n",
        "http://www.nytimes.com/reuters/2013/11/10/sports/soccer/10reuters-soccer-england-tottenham-lloris.html\n",
        "Spurs Manager Villas-Boas Stands by Lloris Decision"
       ]
      },
      {
       "output_type": "stream",
       "stream": "stdout",
       "text": [
        "\n",
        "414\n",
        "http://www.nytimes.com/aponline/2013/11/10/world/asia/ap-as-pakistan-malala-book-ban.html\n",
        "Pakistani Private Schools Ban Malala's Book"
       ]
      },
      {
       "output_type": "stream",
       "stream": "stdout",
       "text": [
        "\n",
        "415\n",
        "http://www.nytimes.com/reuters/2013/11/10/world/asia/10reuters-china-politics-party.html\n",
        "Founder of New China Party Aims to Work Within System"
       ]
      },
      {
       "output_type": "stream",
       "stream": "stdout",
       "text": [
        "\n",
        "416\n",
        "http://www.nytimes.com/reuters/2013/11/10/world/middleeast/10reuters-iran-nuclear.html\n",
        "U.S. Lawmakers Seek Tighter Iran Sanctions Before Any Deal"
       ]
      },
      {
       "output_type": "stream",
       "stream": "stdout",
       "text": [
        "\n",
        "417\n",
        "http://www.nytimes.com/reuters/2013/11/10/business/10reuters-france-creditlyonnais.html\n",
        "France to Borrow 4.5 Billion Euros by End-2013 to Pay Credit Lyonnais Debts"
       ]
      },
      {
       "output_type": "stream",
       "stream": "stdout",
       "text": [
        "\n",
        "418\n",
        "http://www.nytimes.com/aponline/2013/11/10/world/europe/ap-eu-britain-remembrance-day.html\n",
        "In London, Queen Leads Annual Tribute to War Dead"
       ]
      },
      {
       "output_type": "stream",
       "stream": "stdout",
       "text": [
        "\n",
        "419\n",
        "http://www.nytimes.com/reuters/2013/11/10/world/europe/10reuters-austria-germany-kristallnacht.html\n",
        "Nazi Kristallnacht Against Jews Remembered as Living Memory Fades"
       ]
      },
      {
       "output_type": "stream",
       "stream": "stdout",
       "text": [
        "\n",
        "420\n",
        "http://www.nytimes.com/reuters/2013/11/10/technology/10reuters-austria-telecoms-mvno.html\n",
        "New Austrian Mobile Service to Start Next Year"
       ]
      },
      {
       "output_type": "stream",
       "stream": "stdout",
       "text": [
        "\n",
        "421\n",
        "http://www.nytimes.com/reuters/2013/11/10/arts/10reuters-bafta-awards.html\n",
        "Clooney, Cumberbatch Honored at BAFTA Britannia Awards"
       ]
      },
      {
       "output_type": "stream",
       "stream": "stdout",
       "text": [
        "\n",
        "422\n",
        "http://www.nytimes.com/reuters/2013/11/10/world/asia/10reuters-thailand-cambodia-temple.html\n",
        "Thailand Braces for Any Backlash Over World Court's Temple Ruling"
       ]
      },
      {
       "output_type": "stream",
       "stream": "stdout",
       "text": [
        "\n",
        "423\n",
        "http://www.nytimes.com/reuters/2013/11/10/technology/10reuters-africa-internet.html\n",
        "Africa's Great 'White Spaces': Tech's New Frontier"
       ]
      },
      {
       "output_type": "stream",
       "stream": "stdout",
       "text": [
        "\n",
        "424\n",
        "http://www.nytimes.com/reuters/2013/11/10/world/middleeast/10reuters-iran-france-khamenei-twitter.html\n",
        "Twitter Account Associated With Iran's Leader Criticizes France"
       ]
      },
      {
       "output_type": "stream",
       "stream": "stdout",
       "text": [
        "\n",
        "425\n",
        "http://www.nytimes.com/aponline/2013/11/10/world/middleeast/ap-ml-syria.html\n",
        "Syrian Opposition Group Aims to Attend Peace Talks"
       ]
      },
      {
       "output_type": "stream",
       "stream": "stdout",
       "text": [
        "\n",
        "426\n",
        "http://www.nytimes.com/reuters/2013/11/10/sports/autoracing/10reuters-motor-racing-raikkonen.html\n",
        "Raikkonen to Miss Last Two Races of F1 Season"
       ]
      },
      {
       "output_type": "stream",
       "stream": "stdout",
       "text": [
        "\n",
        "427\n",
        "http://www.nytimes.com/reuters/2013/11/10/sports/rugby/10reuters-rugby-france.html\n",
        "France Rue Lack of Accuracy After Stretching All Blacks"
       ]
      },
      {
       "output_type": "stream",
       "stream": "stdout",
       "text": [
        "\n",
        "428\n",
        "http://www.nytimes.com/aponline/2013/11/10/us/ap-us-party-shooting.html\n",
        "2 Killed, 16 Wounded at Houston-Area House Party"
       ]
      },
      {
       "output_type": "stream",
       "stream": "stdout",
       "text": [
        "\n",
        "429\n",
        "http://www.nytimes.com/reuters/2013/11/10/world/middleeast/10reuters-syria-crisis-opposition.html\n",
        "Syrian Opposition Agrees to Participate in Geneva Peace Talks"
       ]
      },
      {
       "output_type": "stream",
       "stream": "stdout",
       "text": [
        "\n",
        "430\n",
        "http://www.nytimes.com/reuters/2013/11/10/world/middleeast/10reuters-iran-nuclear-hague.html\n",
        "Britain's Hague Says Iranian Nuclear Deal Could Come in Weeks"
       ]
      },
      {
       "output_type": "stream",
       "stream": "stdout",
       "text": [
        "\n",
        "431\n",
        "http://www.nytimes.com/aponline/2013/11/10/world/asia/ap-as-maldives-election.html\n",
        "Maldives President Will Stay on Beyond Term"
       ]
      },
      {
       "output_type": "stream",
       "stream": "stdout",
       "text": [
        "\n",
        "432\n",
        "http://www.nytimes.com/reuters/2013/11/10/world/asia/10reuters-india-elections.html\n",
        "India's Congress Party Goes Into Election Warm-Up on the Backfoot"
       ]
      },
      {
       "output_type": "stream",
       "stream": "stdout",
       "text": [
        "\n",
        "433\n",
        "http://www.nytimes.com/reuters/2013/11/10/business/10reuters-egypt-economy-analysis.html\n",
        "Analysis-Egypt Relies on Gulf Aid for Economy: Then What?"
       ]
      },
      {
       "output_type": "stream",
       "stream": "stdout",
       "text": [
        "\n",
        "434\n",
        "http://www.nytimes.com/aponline/2013/11/10/us/ap-us-wildcat-attack.html\n",
        "Worker Killed by Wildcat at Oregon Sanctuary Named"
       ]
      },
      {
       "output_type": "stream",
       "stream": "stdout",
       "text": [
        "\n",
        "435\n",
        "http://www.nytimes.com/reuters/2013/11/10/world/middleeast/10reuters-yemen-violence.html\n",
        "Air Strikes Kill Five Al-Qaeda Suspects in Southern Yemen"
       ]
      },
      {
       "output_type": "stream",
       "stream": "stdout",
       "text": [
        "\n",
        "436\n",
        "http://www.nytimes.com/aponline/2013/11/10/us/ap-us-doolittle-raiders-final-toast.html\n",
        "Final Toast to WWII Doolittle Raiders: 'Peace'"
       ]
      },
      {
       "output_type": "stream",
       "stream": "stdout",
       "text": [
        "\n",
        "437\n",
        "http://www.nytimes.com/aponline/2013/11/10/world/europe/ap-climate-change-.html\n",
        "Will Warsaw Climate Talks Point Way to New Deal?"
       ]
      },
      {
       "output_type": "stream",
       "stream": "stdout",
       "text": [
        "\n",
        "438\n",
        "http://www.nytimes.com/aponline/2013/11/10/sports/golf/ap-glf-australian-pga.html\n",
        "Adam Scott Wins Australian PGA"
       ]
      },
      {
       "output_type": "stream",
       "stream": "stdout",
       "text": [
        "\n",
        "439\n",
        "http://www.nytimes.com/aponline/2013/11/10/arts/ap-us-people-rolling-stones.html\n",
        "Rockers Wood, Taylor Play Blues for NY Celeb Crowd"
       ]
      },
      {
       "output_type": "stream",
       "stream": "stdout",
       "text": [
        "\n",
        "440\n",
        "http://www.nytimes.com/reuters/2013/11/10/nyregion/10reuters-usa-newyork-skatingrink.html\n",
        "Two Men Shot at Outdoor Skating Rink in Midtown Manhattan"
       ]
      },
      {
       "output_type": "stream",
       "stream": "stdout",
       "text": [
        "\n",
        "441\n",
        "http://www.nytimes.com/aponline/2013/11/10/world/middleeast/ap-ml-libya-.html\n",
        "Libya PM: Citizens Must Peacefully Oppose Militias"
       ]
      },
      {
       "output_type": "stream",
       "stream": "stdout",
       "text": [
        "\n",
        "442\n",
        "http://www.nytimes.com/reuters/2013/11/10/sports/cricket/10reuters-cricket-ashes-australia.html\n",
        "Australia Put Clarke, Harris and Siddle Under Wraps"
       ]
      },
      {
       "output_type": "stream",
       "stream": "stdout",
       "text": [
        "\n",
        "443\n",
        "http://www.nytimes.com/reuters/2013/11/10/sports/golf/10reuters-golf-australia.html\n",
        "Happy Homecoming as Scott Wins Australian PGA"
       ]
      },
      {
       "output_type": "stream",
       "stream": "stdout",
       "text": [
        "\n",
        "444\n",
        "http://www.nytimes.com/aponline/2013/11/10/world/asia/ap-as-bangladesh-opposition-protest.html\n",
        "1 Dead, Scores Hurt in Latest Bangladesh Protest"
       ]
      },
      {
       "output_type": "stream",
       "stream": "stdout",
       "text": [
        "\n",
        "445\n",
        "http://www.nytimes.com/reuters/2013/11/10/world/asia/10reuters-india-lanka.html\n",
        "India PM to Skip Sri Lanka Summit Amid War Crimes Row"
       ]
      },
      {
       "output_type": "stream",
       "stream": "stdout",
       "text": [
        "\n",
        "446\n",
        "http://www.nytimes.com/reuters/2013/11/10/us/10reuters-usa-oregon-wildcat.html\n",
        "Worker Killed by Wildcat at Oregon Animal Sanctuary: Local Media"
       ]
      },
      {
       "output_type": "stream",
       "stream": "stdout",
       "text": [
        "\n",
        "447\n",
        "http://www.nytimes.com/aponline/2013/11/10/world/middleeast/ap-ml-saudi.html\n",
        "Foreigners, Police Clash in Saudi Capital, 2 Dead"
       ]
      },
      {
       "output_type": "stream",
       "stream": "stdout",
       "text": [
        "\n",
        "448\n",
        "http://www.nytimes.com/aponline/2013/11/10/world/middleeast/ap-iran-nuclear-talks.html\n",
        "Iran Nuclear Talks Shift to UN Envoy After Snag"
       ]
      },
      {
       "output_type": "stream",
       "stream": "stdout",
       "text": [
        "\n",
        "449\n",
        "http://www.nytimes.com/aponline/2013/11/10/sports/ncaafootball/ap-fbc-t25-fresno-st-wyoming.html\n",
        "No. 17 Fresno State Beats Wyoming 48-10"
       ]
      },
      {
       "output_type": "stream",
       "stream": "stdout",
       "text": [
        "\n",
        "450\n",
        "http://www.nytimes.com/reuters/2013/11/10/world/asia/10reuters-philippines-typhoon.html\n",
        "Philippines Storm Kills Estimated 10,000, Destruction Hampers Rescue Efforts"
       ]
      },
      {
       "output_type": "stream",
       "stream": "stdout",
       "text": [
        "\n",
        "451\n",
        "http://www.nytimes.com/reuters/2013/11/10/world/middleeast/10reuters-iran-nuclear-rouhani.html\n",
        "Iran's Rouhani Says Nuclear Rights Are 'Red Lines': Media"
       ]
      },
      {
       "output_type": "stream",
       "stream": "stdout",
       "text": [
        "\n",
        "452\n",
        "http://www.nytimes.com/aponline/2013/11/10/world/asia/ap-as-china-bo-xilai.html\n",
        "Bo Supporter Says She Set Up New Political Party"
       ]
      },
      {
       "output_type": "stream",
       "stream": "stdout",
       "text": [
        "\n",
        "453\n",
        "http://www.nytimes.com/aponline/2013/11/10/sports/ncaafootball/ap-fbc-t25-ucla-arizona.html\n",
        "Jack Plays Both Ways, No. 16 UCLA Beats Arizona"
       ]
      },
      {
       "output_type": "stream",
       "stream": "stdout",
       "text": [
        "\n",
        "454\n",
        "http://www.nytimes.com/aponline/2013/11/10/world/asia/ap-as-india-sri-lanka-commonwealth.html\n",
        "Aussie PM Asked to Join Colombo Summit Boycott"
       ]
      },
      {
       "output_type": "stream",
       "stream": "stdout",
       "text": [
        "\n",
        "455\n",
        "http://www.legacy.com/Link.asp?I=LS000167940867\n",
        "Paid Notice: Deaths  AUSUBEL, HILLEL "
       ]
      },
      {
       "output_type": "stream",
       "stream": "stdout",
       "text": [
        "\n",
        "456\n",
        "http://www.legacy.com/Link.asp?I=LS000167940866\n",
        "Paid Notice: Deaths  WEINSIER, JOAN T."
       ]
      },
      {
       "output_type": "stream",
       "stream": "stdout",
       "text": [
        "\n",
        "457\n",
        "http://www.legacy.com/Link.asp?I=LS000167940865\n",
        "Paid Notice: Deaths  GOLD, EUGENE P."
       ]
      },
      {
       "output_type": "stream",
       "stream": "stdout",
       "text": [
        "\n",
        "458\n",
        "http://www.legacy.com/Link.asp?I=LS000167940864\n",
        "Paid Notice: Deaths  CURRAN, THOMAS J."
       ]
      },
      {
       "output_type": "stream",
       "stream": "stdout",
       "text": [
        "\n",
        "459\n",
        "http://www.legacy.com/Link.asp?I=LS000167940863\n",
        "Paid Notice: Deaths  SADOCK, JULES "
       ]
      },
      {
       "output_type": "stream",
       "stream": "stdout",
       "text": [
        "\n",
        "460\n",
        "http://www.legacy.com/Link.asp?I=LS000167940862\n",
        "Paid Notice: Deaths  ERB, BARBARA "
       ]
      },
      {
       "output_type": "stream",
       "stream": "stdout",
       "text": [
        "\n",
        "461\n",
        "http://www.legacy.com/Link.asp?I=LS000167940861\n",
        "Paid Notice: Deaths  SPOFFORD, WILLIAM "
       ]
      },
      {
       "output_type": "stream",
       "stream": "stdout",
       "text": [
        "\n",
        "462\n",
        "http://www.legacy.com/Link.asp?I=LS000167940860\n",
        "Paid Notice: Deaths  BERTRAM, PAUL "
       ]
      },
      {
       "output_type": "stream",
       "stream": "stdout",
       "text": [
        "\n",
        "463\n",
        "http://www.legacy.com/Link.asp?I=LS000167940859\n",
        "Paid Notice: Deaths  PERSON, ETHEL "
       ]
      },
      {
       "output_type": "stream",
       "stream": "stdout",
       "text": [
        "\n",
        "464\n",
        "http://www.legacy.com/Link.asp?I=LS000167940858\n",
        "Paid Notice: Deaths  SHAPIRO, JEROME "
       ]
      },
      {
       "output_type": "stream",
       "stream": "stdout",
       "text": [
        "\n",
        "465\n",
        "http://www.legacy.com/Link.asp?I=LS000167940857\n",
        "Paid Notice: Deaths  SOUFER, MAHBOUBEH "
       ]
      },
      {
       "output_type": "stream",
       "stream": "stdout",
       "text": [
        "\n",
        "466\n",
        "http://www.legacy.com/Link.asp?I=LS000167940856\n",
        "Paid Notice: Deaths  GOTTLIEB, GEORGE R."
       ]
      },
      {
       "output_type": "stream",
       "stream": "stdout",
       "text": [
        "\n",
        "467\n",
        "http://www.legacy.com/Link.asp?I=LS000167940855\n",
        "Paid Notice: Deaths  HARRINGTON, PAMELA "
       ]
      },
      {
       "output_type": "stream",
       "stream": "stdout",
       "text": [
        "\n",
        "468\n",
        "http://www.legacy.com/Link.asp?I=LS000167940854\n",
        "Paid Notice: Deaths  GOLD, EUGENE "
       ]
      },
      {
       "output_type": "stream",
       "stream": "stdout",
       "text": [
        "\n",
        "469\n",
        "http://www.legacy.com/Link.asp?I=LS000167940853\n",
        "Paid Notice: Deaths  SAFA, HELEN I."
       ]
      },
      {
       "output_type": "stream",
       "stream": "stdout",
       "text": [
        "\n",
        "470\n",
        "http://www.legacy.com/Link.asp?I=LS000167940852\n",
        "Paid Notice: Deaths  STOCK, RICHARD J."
       ]
      },
      {
       "output_type": "stream",
       "stream": "stdout",
       "text": [
        "\n",
        "471\n",
        "http://www.legacy.com/Link.asp?I=LS000167940851\n",
        "Paid Notice: Deaths  BLOW, ELIZABETH T."
       ]
      },
      {
       "output_type": "stream",
       "stream": "stdout",
       "text": [
        "\n",
        "472\n",
        "http://www.legacy.com/Link.asp?I=LS000167940850\n",
        "Paid Notice: Deaths  STEARNS, MARI C."
       ]
      },
      {
       "output_type": "stream",
       "stream": "stdout",
       "text": [
        "\n",
        "473\n",
        "http://www.legacy.com/Link.asp?I=LS000167940849\n",
        "Paid Notice: Deaths  WRIGHT, JANE C."
       ]
      },
      {
       "output_type": "stream",
       "stream": "stdout",
       "text": [
        "\n",
        "474\n",
        "http://www.legacy.com/Link.asp?I=LS000167940848\n",
        "Paid Notice: Deaths  BERLINER, CHRISTOPHER G."
       ]
      },
      {
       "output_type": "stream",
       "stream": "stdout",
       "text": [
        "\n",
        "475\n",
        "http://www.legacy.com/Link.asp?I=LS000167940847\n",
        "Paid Notice: Deaths  PLATTEN, MARGARET "
       ]
      },
      {
       "output_type": "stream",
       "stream": "stdout",
       "text": [
        "\n",
        "476\n",
        "http://www.legacy.com/Link.asp?I=LS000167940844\n",
        "Paid Notice: Deaths  BEEBOWER, GILBERT L."
       ]
      },
      {
       "output_type": "stream",
       "stream": "stdout",
       "text": [
        "\n",
        "477\n",
        "http://www.legacy.com/Link.asp?I=LS000167940843\n",
        "Paid Notice: Deaths  WRISTON, BARBARA "
       ]
      },
      {
       "output_type": "stream",
       "stream": "stdout",
       "text": [
        "\n",
        "478\n",
        "http://www.legacy.com/Link.asp?I=LS000167940842\n",
        "Paid Notice: Deaths  MCCLENNEN, EDWARD F."
       ]
      },
      {
       "output_type": "stream",
       "stream": "stdout",
       "text": [
        "\n",
        "479\n",
        "http://www.legacy.com/Link.asp?I=LS000167940841\n",
        "Paid Notice: Deaths  SELVERSTONE, NORMAN J."
       ]
      },
      {
       "output_type": "stream",
       "stream": "stdout",
       "text": [
        "\n",
        "480\n",
        "http://www.legacy.com/Link.asp?I=LS000167940840\n",
        "Paid Notice: Deaths  HRUZA, JUDITA M."
       ]
      },
      {
       "output_type": "stream",
       "stream": "stdout",
       "text": [
        "\n",
        "481\n",
        "http://www.legacy.com/Link.asp?I=LS000167940839\n",
        "Paid Notice: Deaths  STRINGER, MARJORIE M."
       ]
      },
      {
       "output_type": "stream",
       "stream": "stdout",
       "text": [
        "\n",
        "482\n",
        "http://www.legacy.com/Link.asp?I=LS000167940838\n",
        "Paid Notice: Deaths  BLAIR, DAVID J."
       ]
      },
      {
       "output_type": "stream",
       "stream": "stdout",
       "text": [
        "\n",
        "483\n",
        "http://www.legacy.com/Link.asp?I=LS000167940837\n",
        "Paid Notice: Deaths  FRIEDMAN, ANNETTE S."
       ]
      },
      {
       "output_type": "stream",
       "stream": "stdout",
       "text": [
        "\n",
        "484\n",
        "http://www.legacy.com/Link.asp?I=LS000167940836\n",
        "Paid Notice: Deaths  STEINBERG, HAROLD "
       ]
      },
      {
       "output_type": "stream",
       "stream": "stdout",
       "text": [
        "\n",
        "485\n",
        "http://www.legacy.com/Link.asp?I=LS000167940835\n",
        "Paid Notice: Deaths  SIEGEL, DORIS "
       ]
      },
      {
       "output_type": "stream",
       "stream": "stdout",
       "text": [
        "\n",
        "486\n",
        "http://www.legacy.com/Link.asp?I=LS000167940834\n",
        "Paid Notice: Deaths  STEENLAND, PETER R."
       ]
      },
      {
       "output_type": "stream",
       "stream": "stdout",
       "text": [
        "\n",
        "487\n",
        "http://www.legacy.com/Link.asp?I=LS000167940833\n",
        "Paid Notice: Deaths  HAGEL, ROBERT "
       ]
      },
      {
       "output_type": "stream",
       "stream": "stdout",
       "text": [
        "\n",
        "488\n",
        "http://www.legacy.com/Link.asp?I=LS000167940832\n",
        "Paid Notice: Deaths  RAWLINGS, JAMES W."
       ]
      },
      {
       "output_type": "stream",
       "stream": "stdout",
       "text": [
        "\n",
        "489\n",
        "http://www.legacy.com/Link.asp?I=LS000167940831\n",
        "Paid Notice: Deaths  SIMSON, GLORIA "
       ]
      },
      {
       "output_type": "stream",
       "stream": "stdout",
       "text": [
        "\n",
        "490\n",
        "http://www.legacy.com/Link.asp?I=LS000167940830\n",
        "Paid Notice: Deaths  SKARIMBAS, ELIAS "
       ]
      },
      {
       "output_type": "stream",
       "stream": "stdout",
       "text": [
        "\n",
        "491\n",
        "http://www.legacy.com/Link.asp?I=LS000167940829\n",
        "Paid Notice: Deaths  SCHOEN, MICHAEL "
       ]
      },
      {
       "output_type": "stream",
       "stream": "stdout",
       "text": [
        "\n",
        "492\n",
        "http://www.nytimes.com/aponline/2013/11/10/us/ap-us-philippines-typhoon-aid-glance.html\n",
        "Relief Effort Begins After Philippine Typhoon"
       ]
      },
      {
       "output_type": "stream",
       "stream": "stdout",
       "text": [
        "\n",
        "493\n",
        "http://www.nytimes.com/aponline/2013/11/10/sports/ap-box-martinez-garcia.html\n",
        "Mikey Garcia Stops Rocky Martinez in 8th"
       ]
      },
      {
       "output_type": "stream",
       "stream": "stdout",
       "text": [
        "\n",
        "494\n",
        "http://www.nytimes.com/aponline/2013/11/10/sports/golf/ap-glf-lpga-tour.html\n",
        "Taiwan's Teresa Lu Wins Mizuno Classic"
       ]
      },
      {
       "output_type": "stream",
       "stream": "stdout",
       "text": [
        "\n",
        "495\n",
        "http://www.nytimes.com/reuters/2013/11/10/us/politics/10reuters-usa-palin-appearance.html\n",
        "Sarah Palin Tells Iowa Conservatives It's Time 'to Stiffen Our Backs'"
       ]
      },
      {
       "output_type": "stream",
       "stream": "stdout",
       "text": [
        "\n",
        "496\n",
        "http://www.nytimes.com/aponline/2013/11/10/sports/hockey/ap-hkn-canucks-kings.html\n",
        "Toffoli Leads LA Kings' 5-1 Rout of Vancouver"
       ]
      },
      {
       "output_type": "stream",
       "stream": "stdout",
       "text": [
        "\n",
        "497\n",
        "http://www.nytimes.com/aponline/2013/11/10/sports/basketball/ap-bkn-trail-blazers-kings.html\n",
        "Aldridge, Matthews Lead Trail Blazers Past Kings"
       ]
      },
      {
       "output_type": "stream",
       "stream": "stdout",
       "text": [
        "\n",
        "498\n",
        "http://www.nytimes.com/aponline/2013/11/10/us/ap-us-manhattan-park-shooting.html\n",
        "Police: 2 Shot, Injured at Ice Rink in NYC Park"
       ]
      },
      {
       "output_type": "stream",
       "stream": "stdout",
       "text": [
        "\n",
        "499\n",
        "http://www.nytimes.com/reuters/2013/11/10/world/asia/10reuters-maldives-election.html\n",
        "Maldives' Democratic Process Breaks Down Again Amid Bickering"
       ]
      },
      {
       "output_type": "stream",
       "stream": "stdout",
       "text": [
        "\n",
        "500\n",
        "http://www.nytimes.com/aponline/2013/11/10/sports/ncaabasketball/ap-bkc-t25-alabama-am-new-mexico.html\n",
        "No. 23 New Mexico Cruises Past Alabama A&M, 88-52"
       ]
      },
      {
       "output_type": "stream",
       "stream": "stdout",
       "text": [
        "\n",
        "501\n",
        "http://www.nytimes.com/aponline/2013/11/10/sports/basketball/ap-bkn-celtics-heat.html\n",
        "Green's 3 Lifts Celtics to 111-110 Win Over Heat"
       ]
      },
      {
       "output_type": "stream",
       "stream": "stdout",
       "text": [
        "\n",
        "502\n",
        "http://www.nytimes.com/reuters/2013/11/10/world/africa/10reuters-saudi-foreignworkers.html\n",
        "Saudi Police Clash With Foreign Workers After Visa Raids"
       ]
      },
      {
       "output_type": "stream",
       "stream": "stdout",
       "text": [
        "\n",
        "503\n",
        "http://www.nytimes.com/aponline/2013/11/10/world/asia/ap-as-philippines-typhoon.html\n",
        "Correction: Philippines-Typhoon Story"
       ]
      },
      {
       "output_type": "stream",
       "stream": "stdout",
       "text": [
        "\n",
        "504\n",
        "http://www.nytimes.com/aponline/2013/11/10/us/ap-history.html\n",
        "Today in History"
       ]
      },
      {
       "output_type": "stream",
       "stream": "stdout",
       "text": [
        "\n",
        "505\n",
        "http://query.nytimes.com/gst/fullpage.html?res=9902E1DE113AF933A25752C1A9659D8B63\n",
        "Paid Notice: Deaths  AUSUBEL, HILLEL"
       ]
      },
      {
       "output_type": "stream",
       "stream": "stdout",
       "text": [
        "\n",
        "506\n",
        "http://query.nytimes.com/gst/fullpage.html?res=9E02EEDB163AF933A25752C1A9659D8B63\n",
        "Best Illustrated Books"
       ]
      },
      {
       "output_type": "stream",
       "stream": "stdout",
       "text": [
        "\n",
        "failed at: 6\n",
        "507\n",
        "http://query.nytimes.com/gst/fullpage.html?res=9A03E1DB113BF933A25752C1A9659D8B63\n",
        "When the Gold Dust Settles"
       ]
      },
      {
       "output_type": "stream",
       "stream": "stdout",
       "text": [
        "\n",
        "508\n",
        "http://query.nytimes.com/gst/fullpage.html?res=9B07E5DD113AF933A25752C1A9659D8B63\n",
        "Paid Notice: Memorials  WEINSIER, JOAN TUBY"
       ]
      },
      {
       "output_type": "stream",
       "stream": "stdout",
       "text": [
        "\n",
        "509\n",
        "http://query.nytimes.com/gst/fullpage.html?res=9A04E5DD113AF933A25752C1A9659D8B63\n",
        "Paid Notice: Memorials  STEINBERG, HAROLD"
       ]
      },
      {
       "output_type": "stream",
       "stream": "stdout",
       "text": [
        "\n",
        "510\n",
        "http://query.nytimes.com/gst/fullpage.html?res=9905E5DD113AF933A25752C1A9659D8B63\n",
        "Paid Notice: Memorials  SKARIMBAS, ELIAS"
       ]
      },
      {
       "output_type": "stream",
       "stream": "stdout",
       "text": [
        "\n",
        "511\n",
        "http://query.nytimes.com/gst/fullpage.html?res=9F0CE6DD113AF933A25752C1A9659D8B63\n",
        "Paid Notice: Memorials  SHUMAN, ANDY 7"
       ]
      },
      {
       "output_type": "stream",
       "stream": "stdout",
       "text": [
        "\n",
        "512\n",
        "http://query.nytimes.com/gst/fullpage.html?res=9E0DE6DD113AF933A25752C1A9659D8B63\n",
        "Paid Notice: Memorials  SCHOEN, MICHAEL"
       ]
      },
      {
       "output_type": "stream",
       "stream": "stdout",
       "text": [
        "\n",
        "513\n",
        "http://query.nytimes.com/gst/fullpage.html?res=9D02E6DD113AF933A25752C1A9659D8B63\n",
        "Paid Notice: Memorials  NOWICKI, LUCILLE 11"
       ]
      },
      {
       "output_type": "stream",
       "stream": "stdout",
       "text": [
        "\n",
        "514\n",
        "http://query.nytimes.com/gst/fullpage.html?res=9C03E6DD113AF933A25752C1A9659D8B63\n",
        "Paid Notice: Memorials  WRISTON, BARBARA"
       ]
      },
      {
       "output_type": "stream",
       "stream": "stdout",
       "text": [
        "\n",
        "515\n",
        "http://query.nytimes.com/gst/fullpage.html?res=9401E6DD113AF933A25752C1A9659D8B63\n",
        "Paid Notice: Memorials  PERSON, DR"
       ]
      },
      {
       "output_type": "stream",
       "stream": "stdout",
       "text": [
        "\n",
        "516\n",
        "http://query.nytimes.com/gst/fullpage.html?res=9500E6DD113AF933A25752C1A9659D8B63\n",
        "Paid Notice: Memorials  WRIGHT, JANE COOKE M.D"
       ]
      },
      {
       "output_type": "stream",
       "stream": "stdout",
       "text": [
        "\n",
        "517\n",
        "http://query.nytimes.com/gst/fullpage.html?res=9B06E6DD113AF933A25752C1A9659D8B63\n",
        "Paid Notice: Deaths  STRINGER, MARJORIE MARY"
       ]
      },
      {
       "output_type": "stream",
       "stream": "stdout",
       "text": [
        "\n",
        "518\n",
        "http://query.nytimes.com/gst/fullpage.html?res=9A07E6DD113AF933A25752C1A9659D8B63\n",
        "Paid Notice: Deaths  STOCK, DR"
       ]
      },
      {
       "output_type": "stream",
       "stream": "stdout",
       "text": [
        "\n",
        "519\n",
        "http://query.nytimes.com/gst/fullpage.html?res=9904E6DD113AF933A25752C1A9659D8B63\n",
        "Paid Notice: Deaths  STEIN, MICHAEL"
       ]
      },
      {
       "output_type": "stream",
       "stream": "stdout",
       "text": [
        "\n",
        "520\n",
        "http://query.nytimes.com/gst/fullpage.html?res=9805E6DD113AF933A25752C1A9659D8B63\n",
        "Paid Notice: Deaths  STEENLAND, PETER RICHARD"
       ]
      },
      {
       "output_type": "stream",
       "stream": "stdout",
       "text": [
        "\n",
        "521\n",
        "http://query.nytimes.com/gst/fullpage.html?res=9E0CE7DD113AF933A25752C1A9659D8B63\n",
        "Paid Notice: Deaths  STEARNS, MARI CORROON"
       ]
      },
      {
       "output_type": "stream",
       "stream": "stdout",
       "text": [
        "\n",
        "522\n",
        "http://query.nytimes.com/gst/fullpage.html?res=9D0DE7DD113AF933A25752C1A9659D8B63\n",
        "Paid Notice: Deaths  SPOFFORD, RT"
       ]
      },
      {
       "output_type": "stream",
       "stream": "stdout",
       "text": [
        "\n",
        "523\n",
        "http://query.nytimes.com/gst/fullpage.html?res=9C02E7DD113AF933A25752C1A9659D8B63\n",
        "Paid Notice: Deaths  SOUFER, MAHBOUBEH"
       ]
      },
      {
       "output_type": "stream",
       "stream": "stdout",
       "text": [
        "\n",
        "524\n",
        "http://query.nytimes.com/gst/fullpage.html?res=9503E7DD113AF933A25752C1A9659D8B63\n",
        "Paid Notice: Deaths  SIMSON, GLORIA"
       ]
      },
      {
       "output_type": "stream",
       "stream": "stdout",
       "text": [
        "\n",
        "525\n",
        "http://query.nytimes.com/gst/fullpage.html?res=9400E7DD113AF933A25752C1A9659D8B63\n",
        "Paid Notice: Deaths  SIEGEL, DORIS"
       ]
      },
      {
       "output_type": "stream",
       "stream": "stdout",
       "text": [
        "\n",
        "526\n",
        "http://query.nytimes.com/gst/fullpage.html?res=9B01E7DD113AF933A25752C1A9659D8B63\n",
        "Paid Notice: Deaths  SHERMAN, MORRIS R."
       ]
      },
      {
       "output_type": "stream",
       "stream": "stdout",
       "text": [
        "\n",
        "527\n",
        "http://query.nytimes.com/gst/fullpage.html?res=9A06E7DD113AF933A25752C1A9659D8B63\n",
        "Paid Notice: Deaths  SHAPIRO, JEROME"
       ]
      },
      {
       "output_type": "stream",
       "stream": "stdout",
       "text": [
        "\n",
        "528\n",
        "http://query.nytimes.com/gst/fullpage.html?res=9907E7DD113AF933A25752C1A9659D8B63\n",
        "Paid Notice: Deaths  SELVERSTONE, NORMAN J."
       ]
      },
      {
       "output_type": "stream",
       "stream": "stdout",
       "text": [
        "\n",
        "529\n",
        "http://query.nytimes.com/gst/fullpage.html?res=9804E7DD113AF933A25752C1A9659D8B63\n",
        "Paid Notice: Deaths  SAFA, HELEN I."
       ]
      },
      {
       "output_type": "stream",
       "stream": "stdout",
       "text": [
        "\n",
        "530\n",
        "http://query.nytimes.com/gst/fullpage.html?res=9F05E7DD113AF933A25752C1A9659D8B63\n",
        "Paid Notice: Deaths  SADOCK, JULES"
       ]
      },
      {
       "output_type": "stream",
       "stream": "stdout",
       "text": [
        "\n",
        "531\n",
        "http://query.nytimes.com/gst/fullpage.html?res=9C0CEEDE113AF933A25752C1A9659D8B63\n",
        "Paid Notice: Deaths  ROTTENBERG, HERMAN \"H.R.\""
       ]
      },
      {
       "output_type": "stream",
       "stream": "stdout",
       "text": [
        "\n",
        "532\n",
        "http://query.nytimes.com/gst/fullpage.html?res=950DEEDE113AF933A25752C1A9659D8B63\n",
        "Paid Notice: Deaths  RAWLINGS, JAMES W."
       ]
      },
      {
       "output_type": "stream",
       "stream": "stdout",
       "text": [
        "\n",
        "533\n",
        "http://query.nytimes.com/gst/fullpage.html?res=9402EEDE113AF933A25752C1A9659D8B63\n",
        "Paid Notice: Deaths  PLATTEN, MARGARET WYCKOFF 95"
       ]
      },
      {
       "output_type": "stream",
       "stream": "stdout",
       "text": [
        "\n",
        "534\n",
        "http://query.nytimes.com/gst/fullpage.html?res=9B03EEDE113AF933A25752C1A9659D8B63\n",
        "Paid Notice: Deaths  NASS, CLIFFORD"
       ]
      },
      {
       "output_type": "stream",
       "stream": "stdout",
       "text": [
        "\n",
        "535\n",
        "http://query.nytimes.com/gst/fullpage.html?res=9A00EEDE113AF933A25752C1A9659D8B63\n",
        "Paid Notice: Deaths  MCCLENNEN, EDWARD FRANCIS II"
       ]
      },
      {
       "output_type": "stream",
       "stream": "stdout",
       "text": [
        "\n",
        "536\n",
        "http://query.nytimes.com/gst/fullpage.html?res=9901EEDE113AF933A25752C1A9659D8B63\n",
        "Paid Notice: Deaths  LOEB, CARL M"
       ]
      },
      {
       "output_type": "stream",
       "stream": "stdout",
       "text": [
        "\n",
        "537\n",
        "http://query.nytimes.com/gst/fullpage.html?res=9806EEDE113AF933A25752C1A9659D8B63\n",
        "Paid Notice: Deaths  KUCKER, HEIDI"
       ]
      },
      {
       "output_type": "stream",
       "stream": "stdout",
       "text": [
        "\n",
        "538\n",
        "http://query.nytimes.com/gst/fullpage.html?res=9E04EEDE113AF933A25752C1A9659D8B63\n",
        "Paid Notice: Deaths  KUCKER, HEIDI"
       ]
      },
      {
       "output_type": "stream",
       "stream": "stdout",
       "text": [
        "\n",
        "539\n",
        "http://query.nytimes.com/gst/fullpage.html?res=9F07EEDE113AF933A25752C1A9659D8B63\n",
        "Paid Notice: Deaths  KUCKER, HEIDI"
       ]
      },
      {
       "output_type": "stream",
       "stream": "stdout",
       "text": [
        "\n",
        "540\n",
        "http://query.nytimes.com/gst/fullpage.html?res=9D05EEDE113AF933A25752C1A9659D8B63\n",
        "Paid Notice: Deaths  KUCKER, HEIDI WHITNEY"
       ]
      },
      {
       "output_type": "stream",
       "stream": "stdout",
       "text": [
        "\n",
        "541\n",
        "http://query.nytimes.com/gst/fullpage.html?res=950CEFDE113AF933A25752C1A9659D8B63\n",
        "Paid Notice: Deaths  KAYATTA, GEORGE NAYEF"
       ]
      },
      {
       "output_type": "stream",
       "stream": "stdout",
       "text": [
        "\n",
        "542\n",
        "http://query.nytimes.com/gst/fullpage.html?res=940DEFDE113AF933A25752C1A9659D8B63\n",
        "Paid Notice: Deaths  HRUZA, JUDITA M."
       ]
      },
      {
       "output_type": "stream",
       "stream": "stdout",
       "text": [
        "\n",
        "543\n",
        "http://query.nytimes.com/gst/fullpage.html?res=9B02EFDE113AF933A25752C1A9659D8B63\n",
        "Paid Notice: Deaths  HOWARD, JOAN"
       ]
      },
      {
       "output_type": "stream",
       "stream": "stdout",
       "text": [
        "\n",
        "544\n",
        "http://query.nytimes.com/gst/fullpage.html?res=9A03EFDE113AF933A25752C1A9659D8B63\n",
        "Paid Notice: Deaths  HEINEMAN, ANDREW D."
       ]
      },
      {
       "output_type": "stream",
       "stream": "stdout",
       "text": [
        "\n",
        "545\n",
        "http://query.nytimes.com/gst/fullpage.html?res=9900EFDE113AF933A25752C1A9659D8B63\n",
        "Paid Notice: Deaths  HARRINGTON, PAMELA WATSON"
       ]
      },
      {
       "output_type": "stream",
       "stream": "stdout",
       "text": [
        "\n",
        "546\n",
        "http://query.nytimes.com/gst/fullpage.html?res=9801EFDE113AF933A25752C1A9659D8B63\n",
        "Paid Notice: Deaths  HAGEL, ROBERT (BOB)"
       ]
      },
      {
       "output_type": "stream",
       "stream": "stdout",
       "text": [
        "\n",
        "547\n",
        "http://query.nytimes.com/gst/fullpage.html?res=9F06EFDE113AF933A25752C1A9659D8B63\n",
        "Paid Notice: Deaths  GOTTLIEB, GEORGE RICHARD"
       ]
      },
      {
       "output_type": "stream",
       "stream": "stdout",
       "text": [
        "\n",
        "548\n",
        "http://query.nytimes.com/gst/fullpage.html?res=9E07EFDE113AF933A25752C1A9659D8B63\n",
        "Paid Notice: Deaths  GOLD, EUGENE"
       ]
      },
      {
       "output_type": "stream",
       "stream": "stdout",
       "text": [
        "\n",
        "549\n",
        "http://query.nytimes.com/gst/fullpage.html?res=9D04EFDE113AF933A25752C1A9659D8B63\n",
        "Paid Notice: Deaths  GOLD, EUGENE P."
       ]
      },
      {
       "output_type": "stream",
       "stream": "stdout",
       "text": [
        "\n",
        "550\n",
        "http://query.nytimes.com/gst/fullpage.html?res=9C05EFDE113AF933A25752C1A9659D8B63\n",
        "Paid Notice: Deaths  FRIEDMAN, ANNETTE SACKS"
       ]
      },
      {
       "output_type": "stream",
       "stream": "stdout",
       "text": [
        "\n",
        "551\n",
        "http://query.nytimes.com/gst/fullpage.html?res=940CE0DE113AF933A25752C1A9659D8B63\n",
        "Paid Notice: Deaths  FLASHNER, ESTHER"
       ]
      },
      {
       "output_type": "stream",
       "stream": "stdout",
       "text": [
        "\n",
        "552\n",
        "http://query.nytimes.com/gst/fullpage.html?res=9B0DE0DE113AF933A25752C1A9659D8B63\n",
        "Paid Notice: Deaths  ERB, BARBARA"
       ]
      },
      {
       "output_type": "stream",
       "stream": "stdout",
       "text": [
        "\n",
        "553\n",
        "http://query.nytimes.com/gst/fullpage.html?res=9A02E0DE113AF933A25752C1A9659D8B63\n",
        "Paid Notice: Deaths  DICKSTEIN, RICHARD"
       ]
      },
      {
       "output_type": "stream",
       "stream": "stdout",
       "text": [
        "\n",
        "554\n",
        "http://query.nytimes.com/gst/fullpage.html?res=9800E0DE113AF933A25752C1A9659D8B63\n",
        "Paid Notice: Deaths  BROCKMAN, MARJORIE MEYERS"
       ]
      },
      {
       "output_type": "stream",
       "stream": "stdout",
       "text": [
        "\n",
        "555\n",
        "http://query.nytimes.com/gst/fullpage.html?res=9903E0DE113AF933A25752C1A9659D8B63\n",
        "Paid Notice: Deaths  CURRAN, THOMAS J"
       ]
      },
      {
       "output_type": "stream",
       "stream": "stdout",
       "text": [
        "\n",
        "556\n",
        "http://query.nytimes.com/gst/fullpage.html?res=9F01E0DE113AF933A25752C1A9659D8B63\n",
        "Paid Notice: Deaths  BREVETTI, DR"
       ]
      },
      {
       "output_type": "stream",
       "stream": "stdout",
       "text": [
        "\n",
        "557\n",
        "http://query.nytimes.com/gst/fullpage.html?res=9E06E0DE113AF933A25752C1A9659D8B63\n",
        "Paid Notice: Deaths  BLOW, ELIZABETH TITCOMB"
       ]
      },
      {
       "output_type": "stream",
       "stream": "stdout",
       "text": [
        "\n",
        "558\n",
        "http://query.nytimes.com/gst/fullpage.html?res=9D07E0DE113AF933A25752C1A9659D8B63\n",
        "Paid Notice: Deaths  BLAIR, DAVID JAMES"
       ]
      },
      {
       "output_type": "stream",
       "stream": "stdout",
       "text": [
        "\n",
        "559\n",
        "http://query.nytimes.com/gst/fullpage.html?res=9C04E0DE113AF933A25752C1A9659D8B63\n",
        "Paid Notice: Deaths  BERTRAM, PAUL"
       ]
      },
      {
       "output_type": "stream",
       "stream": "stdout",
       "text": [
        "\n",
        "560\n",
        "http://query.nytimes.com/gst/fullpage.html?res=9505E0DE113AF933A25752C1A9659D8B63\n",
        "Paid Notice: Deaths  BERLINER, CHRISTOPHER G."
       ]
      },
      {
       "output_type": "stream",
       "stream": "stdout",
       "text": [
        "\n",
        "561\n",
        "http://query.nytimes.com/gst/fullpage.html?res=9B0CE1DE113AF933A25752C1A9659D8B63\n",
        "Paid Notice: Deaths  BEEBOWER, GILBERT LAWRENCE"
       ]
      },
      {
       "output_type": "stream",
       "stream": "stdout",
       "text": [
        "\n",
        "562\n",
        "http://query.nytimes.com/gst/fullpage.html?res=9A0DE1DE113AF933A25752C1A9659D8B63\n",
        "Paid Notice: Deaths  BASS, JOANNE \"COOKIE,\" 62"
       ]
      },
      {
       "output_type": "stream",
       "stream": "stdout",
       "text": [
        "\n",
        "563\n",
        "http://www.nytimes.com/interactive/2013/11/10/us/politics/evolving-portraits-of-jfk.html\n",
        "Evolving Portraits of J.F.K."
       ]
      },
      {
       "output_type": "stream",
       "stream": "stdout",
       "text": [
        "\n",
        "failed at: 3\n",
        "564\n",
        "http://www.nytimes.com/slideshow/2013/11/10/sports/football/GIANTS.html\n",
        "Giants Stretch Streak"
       ]
      },
      {
       "output_type": "stream",
       "stream": "stdout",
       "text": [
        "\n",
        "565\n",
        "http://www.nytimes.com/interactive/2013/11/10/us/politics/the-greatest-president.html\n",
        "The Greatest President"
       ]
      },
      {
       "output_type": "stream",
       "stream": "stdout",
       "text": [
        "\n",
        "failed at: 3\n",
        "566\n",
        "http://www.nytimes.com/interactive/2013/11/10/us/1110-obama-approval-versus-selected-governors.html\n",
        "Approval Ratings in Recent Polls"
       ]
      },
      {
       "output_type": "stream",
       "stream": "stdout",
       "text": [
        "\n",
        "failed at: 3\n",
        "567\n",
        "http://www.nytimes.com/2013/11/10/arts/television/whats-on-sunday.html\n",
        "What\u2019s on Sunday"
       ]
      },
      {
       "output_type": "stream",
       "stream": "stdout",
       "text": [
        "\n",
        "568\n",
        "http://www.nytimes.com/2013/11/10/pageoneplus/quotation-of-the-day-for-sunday-november-10-2013.html\n",
        "Quotation of the Day for Sunday, November 10, 2013"
       ]
      },
      {
       "output_type": "stream",
       "stream": "stdout",
       "text": [
        "\n",
        "569\n",
        "http://www.nytimes.com/2013/11/10/sports/golf/tie-in-mcgladrey-classic.html\n",
        "Tie in McGladrey Classic"
       ]
      },
      {
       "output_type": "stream",
       "stream": "stdout",
       "text": [
        "\n",
        "570\n",
        "http://www.nytimes.com/2013/11/10/sports/ncaafootball/alabama-reminds-everyone-its-no-1.html\n",
        "Alabama Reminds Everyone It\u2019s No. 1"
       ]
      },
      {
       "output_type": "stream",
       "stream": "stdout",
       "text": [
        "\n",
        "571\n",
        "http://www.nytimes.com/2013/11/10/nyregion/bryant-park-shooting.html\n",
        "Two Men Shot at Bryant Park Skating Rink"
       ]
      },
      {
       "output_type": "stream",
       "stream": "stdout",
       "text": [
        "\n",
        "572\n",
        "http://www.nytimes.com/2013/11/10/sports/arrests-made-in-death-of-teenage-boxer.html\n",
        "Arrests Made in Death of Teenage Boxer"
       ]
      },
      {
       "output_type": "stream",
       "stream": "stdout",
       "text": [
        "\n",
        "573\n",
        "http://www.nytimes.com/2013/11/10/sports/football/vikings-receiver-is-arrested.html\n",
        "Vikings Receiver Is Arrested"
       ]
      },
      {
       "output_type": "stream",
       "stream": "stdout",
       "text": [
        "\n",
        "574\n",
        "http://www.nytimes.com/2013/11/10/sports/hockey/canada-wins-hockey-tournament.html\n",
        "Canada Wins Hockey Tournament"
       ]
      },
      {
       "output_type": "stream",
       "stream": "stdout",
       "text": [
        "\n",
        "575\n",
        "http://www.nytimes.com/2013/11/10/sports/olympics/torch-is-taken-on-spacewalk.html\n",
        "Torch Is Taken on Spacewalk"
       ]
      },
      {
       "output_type": "stream",
       "stream": "stdout",
       "text": [
        "\n",
        "576\n",
        "http://www.nytimes.com/2013/11/10/sports/autoracing/kyle-busch-wins-in-phoenix.html\n",
        "Kyle Busch Wins in Phoenix"
       ]
      },
      {
       "output_type": "stream",
       "stream": "stdout",
       "text": [
        "\n",
        "577\n",
        "http://www.nytimes.com/2013/11/10/sports/tennis/federer-defeats-del-potro-to-set-up-match-with-nadal.html\n",
        "Federer Defeats Del Potro to Set Up Match With Nadal"
       ]
      },
      {
       "output_type": "stream",
       "stream": "stdout",
       "text": [
        "\n",
        "578\n",
        "http://www.nytimes.com/2013/11/10/fashion/weddings/katrina-elazegui-emily-kehe.html\n",
        "Katrina Elazegui, Emily Kehe"
       ]
      },
      {
       "output_type": "stream",
       "stream": "stdout",
       "text": [
        "\n",
        "579\n",
        "http://www.nytimes.com/2013/11/10/fashion/weddings/edmund-lefevre-jr-keith-wiggs.html\n",
        "Edmund LeFevre Jr., Keith Wiggs"
       ]
      },
      {
       "output_type": "stream",
       "stream": "stdout",
       "text": [
        "\n",
        "580\n",
        "http://www.nytimes.com/2013/11/10/fashion/weddings/caitlin-duignan-patrick-orth.html\n",
        "Caitlin Duignan, Patrick Orth"
       ]
      },
      {
       "output_type": "stream",
       "stream": "stdout",
       "text": [
        "\n",
        "581\n",
        "http://www.nytimes.com/2013/11/10/fashion/weddings/sydney-applegate-daryl-lang.html\n",
        "Sydney Applegate, Daryl Lang"
       ]
      },
      {
       "output_type": "stream",
       "stream": "stdout",
       "text": [
        "\n",
        "582\n",
        "http://www.nytimes.com/2013/11/10/fashion/weddings/robin-carter-jacob-feldman.html\n",
        "Robin Carter, Jacob Feldman"
       ]
      },
      {
       "output_type": "stream",
       "stream": "stdout",
       "text": [
        "\n",
        "583\n",
        "http://www.nytimes.com/2013/11/10/fashion/weddings/allison-bosch-jonathan-barone.html\n",
        "Allison Bosch, Jonathan Barone"
       ]
      },
      {
       "output_type": "stream",
       "stream": "stdout",
       "text": [
        "\n",
        "584\n",
        "http://www.nytimes.com/2013/11/10/fashion/weddings/lara-brody-jarad-fisher.html\n",
        "Lara Brody, Jarad Fisher"
       ]
      },
      {
       "output_type": "stream",
       "stream": "stdout",
       "text": [
        "\n",
        "585\n",
        "http://www.nytimes.com/2013/11/10/fashion/weddings/beth-levine-andrew-st-laurent.html\n",
        "Beth Levine, Andrew St. Laurent"
       ]
      },
      {
       "output_type": "stream",
       "stream": "stdout",
       "text": [
        "\n",
        "586\n",
        "http://www.nytimes.com/2013/11/10/fashion/weddings/sarah-kroll-rosenbaum-michael-wohl.html\n",
        "Sarah Kroll-Rosenbaum, Michael Wohl"
       ]
      },
      {
       "output_type": "stream",
       "stream": "stdout",
       "text": [
        "\n",
        "587\n",
        "http://www.nytimes.com/2013/11/10/fashion/weddings/elizabeth-jurinka-matthew-schumaker.html\n",
        "Elizabeth Jurinka, Matthew Schumaker"
       ]
      },
      {
       "output_type": "stream",
       "stream": "stdout",
       "text": [
        "\n",
        "588\n",
        "http://www.nytimes.com/2013/11/10/fashion/weddings/emily-stecher-and-stephen-rosenthal.html\n",
        "Emily Stecher and Stephen Rosenthal"
       ]
      },
      {
       "output_type": "stream",
       "stream": "stdout",
       "text": [
        "\n",
        "589\n",
        "http://www.nytimes.com/2013/11/10/fashion/weddings/michelle-tea-and-dashiell-lippman.html\n",
        "Michelle Tea and Dashiell Lippman"
       ]
      },
      {
       "output_type": "stream",
       "stream": "stdout",
       "text": [
        "\n",
        "590\n",
        "http://www.nytimes.com/2013/11/10/fashion/weddings/tamika-humphreys-monisha-mapp.html\n",
        "Tamika Humphreys, Monisha Mapp"
       ]
      },
      {
       "output_type": "stream",
       "stream": "stdout",
       "text": [
        "\n",
        "591\n",
        "http://www.nytimes.com/2013/11/10/fashion/weddings/katie-dang-kelly-mckernan.html\n",
        "Katie Dang, Kelly McKernan"
       ]
      },
      {
       "output_type": "stream",
       "stream": "stdout",
       "text": [
        "\n",
        "592\n",
        "http://www.nytimes.com/2013/11/10/fashion/weddings/morgan-arenson-clifford-korn.html\n",
        "Morgan Arenson, Clifford Korn"
       ]
      },
      {
       "output_type": "stream",
       "stream": "stdout",
       "text": [
        "\n",
        "593\n",
        "http://www.nytimes.com/2013/11/10/fashion/weddings/jonathan-moscone-and-darryl-carbonaro.html\n",
        "Jonathan Moscone and Darryl Carbonaro"
       ]
      },
      {
       "output_type": "stream",
       "stream": "stdout",
       "text": [
        "\n",
        "594\n",
        "http://www.nytimes.com/2013/11/10/fashion/weddings/elizabeth-callahan-stuart-schnabolk.html\n",
        "Elizabeth Callahan, Stuart Schnabolk"
       ]
      },
      {
       "output_type": "stream",
       "stream": "stdout",
       "text": [
        "\n",
        "595\n",
        "http://www.nytimes.com/2013/11/10/fashion/weddings/two-cars-passing-on-the-parkway.html\n",
        "Two Cars, Passing on the Parkway"
       ]
      },
      {
       "output_type": "stream",
       "stream": "stdout",
       "text": [
        "\n",
        "596\n",
        "http://www.nytimes.com/2013/11/10/fashion/weddings/an-acquaintance-gets-into-the-act.html\n",
        "An Acquaintance Gets Into the Act"
       ]
      },
      {
       "output_type": "stream",
       "stream": "stdout",
       "text": [
        "\n",
        "597\n",
        "http://www.nytimes.com/2013/11/10/fashion/weddings/christen-krzywonski-and-steven-glickman.html\n",
        "Christen Krzywonski and Steven Glickman"
       ]
      },
      {
       "output_type": "stream",
       "stream": "stdout",
       "text": [
        "\n",
        "598\n",
        "http://www.nytimes.com/2013/11/10/fashion/weddings/melissa-wagoner-peter-olesen.html\n",
        "Melissa Wagoner, Peter Olesen"
       ]
      },
      {
       "output_type": "stream",
       "stream": "stdout",
       "text": [
        "\n",
        "599\n",
        "http://www.nytimes.com/2013/11/10/fashion/weddings/samantha-lee-and-nicholas-tangney.html\n",
        "Samantha Lee and Nicholas Tangney"
       ]
      },
      {
       "output_type": "stream",
       "stream": "stdout",
       "text": [
        "\n",
        "600\n",
        "http://www.nytimes.com/2013/11/10/fashion/weddings/daughter-knows-best.html\n",
        "Daughter Knows Best"
       ]
      },
      {
       "output_type": "stream",
       "stream": "stdout",
       "text": [
        "\n",
        "601\n",
        "http://www.nytimes.com/2013/11/10/fashion/weddings/daniel-anderson-gregory-melanson.html\n",
        "Daniel Anderson, Gregory Melanson"
       ]
      },
      {
       "output_type": "stream",
       "stream": "stdout",
       "text": [
        "\n",
        "602\n",
        "http://www.nytimes.com/2013/11/10/fashion/weddings/samantha-blau-daniel-richman.html\n",
        "Samantha Blau, Daniel Richman"
       ]
      },
      {
       "output_type": "stream",
       "stream": "stdout",
       "text": [
        "\n",
        "603\n",
        "http://www.nytimes.com/2013/11/10/fashion/weddings/hillary-berkowitz-nathaniel-nussbaum.html\n",
        "Hillary Berkowitz, Nathaniel Nussbaum"
       ]
      },
      {
       "output_type": "stream",
       "stream": "stdout",
       "text": [
        "\n",
        "604\n",
        "http://www.nytimes.com/2013/11/10/fashion/weddings/caroline-hockmeyer-and-andrew-brown.html\n",
        "Caroline Hockmeyer and Andrew Brown"
       ]
      },
      {
       "output_type": "stream",
       "stream": "stdout",
       "text": [
        "\n",
        "605\n",
        "http://www.nytimes.com/2013/11/10/sports/golf/one-frenchman-leads-another-ties-a-tour-record.html\n",
        "One Frenchman Leads; Another Ties a Tour Record"
       ]
      },
      {
       "output_type": "stream",
       "stream": "stdout",
       "text": [
        "\n",
        "606\n",
        "http://www.nytimes.com/2013/11/10/sports/chess-match-between-anand-and-carlsen-ends-in-draw.html\n",
        "Chess Match Between Anand and Carlsen Ends in Draw"
       ]
      },
      {
       "output_type": "stream",
       "stream": "stdout",
       "text": [
        "\n",
        "607\n",
        "http://www.nytimes.com/2013/11/10/sports/takahashi-and-asada-hang-on-to-win-titles.html\n",
        "Takahashi and Asada Hang On to Win Titles"
       ]
      },
      {
       "output_type": "stream",
       "stream": "stdout",
       "text": [
        "\n",
        "608\n",
        "http://www.nytimes.com/2013/11/10/sports/basketball/basketball-roundup.html\n",
        "Last-Second 3-Point Shot Propels Celtics Past Heat"
       ]
      },
      {
       "output_type": "stream",
       "stream": "stdout",
       "text": [
        "\n",
        "failed at: 16\n",
        "609\n",
        "http://www.nytimes.com/2013/11/10/sports/hockey/hockey-roundup.html\n",
        "Islanders Fall to Columbus"
       ]
      },
      {
       "output_type": "stream",
       "stream": "stdout",
       "text": [
        "\n",
        "failed at: 6\n",
        "610\n",
        "http://www.nytimes.com/2013/11/10/us/calls-grow-to-shut-down-the-pegasus-pipeline-for-good.html\n",
        "Calls Grow to Shut Down the Pegasus Pipeline for Good"
       ]
      },
      {
       "output_type": "stream",
       "stream": "stdout",
       "text": [
        "\n",
        "611\n",
        "http://www.nytimes.com/2013/11/10/sports/basketball/nets-fail-to-match-the-moxie-of-the-pacers.html\n",
        "Pacers&#8217; Boldness Underscores the Nets&#8217; Shortage of It "
       ]
      },
      {
       "output_type": "stream",
       "stream": "stdout",
       "text": [
        "\n",
        "612\n",
        "http://www.nytimes.com/2013/11/10/us/concerns-as-residents-drill-new-wells.html\n",
        "Concerns as Austin Residents Drill New Wells"
       ]
      },
      {
       "output_type": "stream",
       "stream": "stdout",
       "text": [
        "\n",
        "613\n",
        "http://www.nytimes.com/2013/11/10/us/take-it-from-one-who-knows-race-cars-are-loud.html\n",
        "Take It From One Who Knows: Race Cars Are Loud"
       ]
      },
      {
       "output_type": "stream",
       "stream": "stdout",
       "text": [
        "\n",
        "failed at: 4\n",
        "614\n",
        "http://www.nytimes.com/2013/11/10/us/losses-follow-crowded-races-but-thats-fine.html\n",
        "Losses Follow Crowded Races, but That\u2019s Fine"
       ]
      },
      {
       "output_type": "stream",
       "stream": "stdout",
       "text": [
        "\n",
        "615\n",
        "http://www.nytimes.com/2013/11/10/arts/jack-mitchell-photographer-of-the-arts-dies-at-88.html\n",
        "Jack Mitchell, Photographer of the Arts, Dies at 88"
       ]
      },
      {
       "output_type": "stream",
       "stream": "stdout",
       "text": [
        "\n",
        "616\n",
        "http://www.nytimes.com/2013/11/10/us/politics/as-washington-keeps-sinking-governors-rise.html\n",
        "As Washington Keeps Sinking, Governors Rise"
       ]
      },
      {
       "output_type": "stream",
       "stream": "stdout",
       "text": [
        "\n",
        "617\n",
        "http://www.nytimes.com/2013/11/10/sports/ncaafootball/college-football-around-the-country.html\n",
        "College Football Around the Country"
       ]
      },
      {
       "output_type": "stream",
       "stream": "stdout",
       "text": [
        "\n",
        "618\n",
        "http://www.nytimes.com/2013/11/10/business/con-men-prey-on-confusion-over-health-care-act.html\n",
        "Con Men Prey on Confusion Over Health Care Act"
       ]
      },
      {
       "output_type": "stream",
       "stream": "stdout",
       "text": [
        "\n",
        "619\n",
        "http://www.nytimes.com/2013/11/10/pageoneplus/corrections-november-10-2013.html\n",
        "Corrections: November 10, 2013"
       ]
      },
      {
       "output_type": "stream",
       "stream": "stdout",
       "text": [
        "\n",
        "failed at: 29\n",
        "620\n",
        "http://www.nytimes.com/2013/11/10/world/americas/venezuela-releases-us-journalist-after-2-days.html\n",
        "Venezuela Releases U.S. Journalist After 2 Days"
       ]
      },
      {
       "output_type": "stream",
       "stream": "stdout",
       "text": [
        "\n",
        "621\n",
        "http://www.nytimes.com/2013/11/10/nyregion/winning-lottery-numbers-for-nov-9-2013.html\n",
        "Winning Lottery Numbers for Nov. 9, 2013"
       ]
      },
      {
       "output_type": "stream",
       "stream": "stdout",
       "text": [
        "\n",
        "622\n",
        "http://www.nytimes.com/2013/11/10/world/africa/storied-party-of-mandela-faces-south-africa-unrest.html\n",
        "Storied Party of Mandela Faces South Africa Unrest"
       ]
      },
      {
       "output_type": "stream",
       "stream": "stdout",
       "text": [
        "\n",
        "623\n",
        "http://www.nytimes.com/2013/11/10/us/conservative-us-catholics-feel-left-out-of-the-popes-embrace.html\n",
        "Conservative U.S. Catholics Feel Left Out of the Pope\u2019s Embrace"
       ]
      },
      {
       "output_type": "stream",
       "stream": "stdout",
       "text": [
        "\n",
        "624\n",
        "http://www.nytimes.com/slideshow/2013/11/10/us/20131110-CATHOLICS.html\n",
        "Debating a New Pope, Faith and Doctrine"
       ]
      },
      {
       "output_type": "stream",
       "stream": "stdout",
       "text": [
        "\n",
        "625\n",
        "http://www.nytimes.com/2013/11/10/sports/ncaafootball/east-college-football-roundup.html\n",
        "After Blunder, Fordham Uses a Perfect Finish to Get to 10-0"
       ]
      },
      {
       "output_type": "stream",
       "stream": "stdout",
       "text": [
        "\n",
        "626\n",
        "http://www.nytimes.com/2013/11/10/us/for-riot-site-in-new-mexico-a-gift-shop-but-no-ghost-stories.html\n",
        "For Riot Site in New Mexico, a Gift Shop but No Ghost Stories"
       ]
      },
      {
       "output_type": "stream",
       "stream": "stdout",
       "text": [
        "\n",
        "627\n",
        "http://www.nytimes.com/slideshow/2013/11/10/us/20131110-SANTAFE.html\n",
        "Tours Open at the Penitentiary of New Mexico"
       ]
      },
      {
       "output_type": "stream",
       "stream": "stdout",
       "text": [
        "\n",
        "628\n",
        "http://www.nytimes.com/2013/11/10/world/asia/elderly-womans-killing-lays-bare-myanmars-religious-divisions.html\n",
        "Elderly Woman\u2019s Killing Lays Bare Myanmar\u2019s Religious Divisions"
       ]
      },
      {
       "output_type": "stream",
       "stream": "stdout",
       "text": [
        "\n",
        "629\n",
        "http://www.nytimes.com/2013/11/10/world/europe/aided-by-army-of-vapers-e-cigarette-industry-woos-and-wins-europe.html\n",
        "Aided by Army of \u2018Vapers,\u2019 E-Cigarette Industry Woos and Wins Europe"
       ]
      },
      {
       "output_type": "stream",
       "stream": "stdout",
       "text": [
        "\n",
        "630\n",
        "http://www.nytimes.com/2013/11/10/sports/baseball/priceless-moment-for-pirates-but-632500-for-the-uniform.html\n",
        "Priceless Moment for Pirates, but $632,500 for the Uniform"
       ]
      },
      {
       "output_type": "stream",
       "stream": "stdout",
       "text": [
        "\n",
        "631\n",
        "http://www.nytimes.com/2013/11/10/us/politics/obamas-portable-zone-of-secrecy-some-assembly-required.html\n",
        "Obama\u2019s Portable Zone of Secrecy (Some Assembly Required)"
       ]
      },
      {
       "output_type": "stream",
       "stream": "stdout",
       "text": [
        "\n",
        "632\n",
        "http://www.nytimes.com/2013/11/10/business/richard-witkin-95-witness-to-the-history-of-aviation.html\n",
        "Richard Witkin, 95, Witness to the History of Aviation, Dies"
       ]
      },
      {
       "output_type": "stream",
       "stream": "stdout",
       "text": [
        "\n",
        "633\n",
        "http://www.nytimes.com/2013/11/10/crosswords/chess/texas-youth-is-named-mvp-of-american-league.html\n",
        "Texas Youth Is Named M.V.P. of American League"
       ]
      },
      {
       "output_type": "stream",
       "stream": "stdout",
       "text": [
        "\n",
        "634\n",
        "http://www.nytimes.com/2013/11/10/us/hawaii-nears-approval-of-gay-marriage.html\n",
        "Hawaii Nears Approval of Gay Marriage"
       ]
      },
      {
       "output_type": "stream",
       "stream": "stdout",
       "text": [
        "\n",
        "635\n",
        "http://www.nytimes.com/2013/11/10/world/asia/new-china-cities-shoddy-homes-broken-hope.html\n",
        "New China Cities: Shoddy Homes, Broken Hope"
       ]
      },
      {
       "output_type": "stream",
       "stream": "stdout",
       "text": [
        "\n",
        "636\n",
        "http://www.nytimes.com/2013/11/10/nyregion/city-asks-court-to-vacate-rulings-on-policing-tactic.html\n",
        "New York City Asks Court to Vacate Rulings on Stop-and-Frisk Tactic"
       ]
      },
      {
       "output_type": "stream",
       "stream": "stdout",
       "text": [
        "\n",
        "637\n",
        "http://www.nytimes.com/2013/11/10/sports/football/civility-need-not-be-excluded-from-the-culture-of-the-nfl.html\n",
        "Civility Need Not Be Excluded From the Culture of the N.F.L."
       ]
      },
      {
       "output_type": "stream",
       "stream": "stdout",
       "text": [
        "\n",
        "638\n",
        "http://www.nytimes.com/2013/11/10/world/middleeast/syria.html\n",
        "Syrian Rebels Said to Recapture Base"
       ]
      },
      {
       "output_type": "stream",
       "stream": "stdout",
       "text": [
        "\n",
        "639\n",
        "http://www.nytimes.com/2013/11/10/sports/ncaafootball/college-football-roundup.html\n",
        "Virginia Tech Routs 14th-Ranked Miami"
       ]
      },
      {
       "output_type": "stream",
       "stream": "stdout",
       "text": [
        "\n",
        "failed at: 23\n",
        "640\n",
        "http://www.nytimes.com/2013/11/10/sports/ncaabasketball/college-basketball-roundup.html\n",
        "Louisville and UConn Open Title Defenses With Routs"
       ]
      },
      {
       "output_type": "stream",
       "stream": "stdout",
       "text": [
        "\n",
        "641\n",
        "http://www.nytimes.com/2013/11/10/opinion/sunday/how-i-helped-teachers-cheat.html\n",
        "How I Helped Teachers Cheat"
       ]
      },
      {
       "output_type": "stream",
       "stream": "stdout",
       "text": [
        "\n",
        "642\n",
        "http://www.nytimes.com/2013/11/10/opinion/sunday/douthat-dear-governor-christie.html\n",
        "Dear Governor Christie"
       ]
      },
      {
       "output_type": "stream",
       "stream": "stdout",
       "text": [
        "\n",
        "643\n",
        "http://www.nytimes.com/2013/11/10/opinion/sunday/the-other-paris-beyond-the-boulevards.html\n",
        "The Other Paris, Beyond the Boulevards"
       ]
      },
      {
       "output_type": "stream",
       "stream": "stdout",
       "text": [
        "\n",
        "644\n",
        "http://www.nytimes.com/2013/11/10/opinion/sunday/still-dangerous.html\n",
        "Still Dangerous"
       ]
      },
      {
       "output_type": "stream",
       "stream": "stdout",
       "text": [
        "\n",
        "645\n",
        "http://www.nytimes.com/2013/11/10/opinion/sunday/reality-sets-in.html\n",
        "Reality Sets In"
       ]
      },
      {
       "output_type": "stream",
       "stream": "stdout",
       "text": [
        "\n",
        "646\n",
        "http://www.nytimes.com/2013/11/10/opinion/sunday/kenya-and-the-international-criminal-court.html\n",
        "Kenya and the International Criminal Court"
       ]
      },
      {
       "output_type": "stream",
       "stream": "stdout",
       "text": [
        "\n",
        "647\n",
        "http://www.nytimes.com/2013/11/10/business/us-seeks-864-million-from-bank-over-poor-loans.html\n",
        "U.S. Seeks $864 Million From Bank Over Poor Loans"
       ]
      },
      {
       "output_type": "stream",
       "stream": "stdout",
       "text": [
        "\n",
        "648\n",
        "http://www.nytimes.com/2013/11/10/business/treasure-hunters-of-the-financial-crisis.html\n",
        "Treasure Hunters of the Financial Crisis"
       ]
      },
      {
       "output_type": "stream",
       "stream": "stdout",
       "text": [
        "\n",
        "649\n",
        "http://www.nytimes.com/2013/11/10/sunday-review/fear-of-the-dark.html\n",
        "Fear of the Dark"
       ]
      },
      {
       "output_type": "stream",
       "stream": "stdout",
       "text": [
        "\n",
        "650\n",
        "http://www.nytimes.com/2013/11/10/opinion/sunday/after-mental-illness-an-up-and-down-life.html\n",
        "After Mental Illness, an Up and Down Life"
       ]
      },
      {
       "output_type": "stream",
       "stream": "stdout",
       "text": [
        "\n",
        "651\n",
        "http://www.nytimes.com/2013/11/10/opinion/sunday/is-it-ok-to-kill-cyclists.html\n",
        "Is It O.K. to Kill Cyclists?"
       ]
      },
      {
       "output_type": "stream",
       "stream": "stdout",
       "text": [
        "\n",
        "652\n",
        "http://www.nytimes.com/2013/11/10/opinion/sunday/bruni-violence-greed-and-the-gridiron.html\n",
        "Violence, Greed and the Gridiron"
       ]
      },
      {
       "output_type": "stream",
       "stream": "stdout",
       "text": [
        "\n",
        "653\n",
        "http://www.nytimes.com/2013/11/10/opinion/sunday/kristof-oklahoma-where-the-kids-learn-early.html\n",
        "Oklahoma! Where the Kids Learn Early"
       ]
      },
      {
       "output_type": "stream",
       "stream": "stdout",
       "text": [
        "\n",
        "654\n",
        "http://www.nytimes.com/2013/11/10/opinion/sunday/friedman-why-i-still-support-obamacare.html\n",
        "Why I (Still) Support Obamacare"
       ]
      },
      {
       "output_type": "stream",
       "stream": "stdout",
       "text": [
        "\n",
        "655\n",
        "http://www.nytimes.com/2013/11/10/public-editor/sullivan-lessons-in-a-surveillance-drama-redux.html\n",
        "Lessons in a Surveillance Drama Redux"
       ]
      },
      {
       "output_type": "stream",
       "stream": "stdout",
       "text": [
        "\n",
        "656\n",
        "http://www.nytimes.com/2013/11/10/opinion/sunday/dowd-funny-girl.html\n",
        "Funny Girl"
       ]
      },
      {
       "output_type": "stream",
       "stream": "stdout",
       "text": [
        "\n",
        "657\n",
        "http://www.nytimes.com/2013/11/10/opinion/sunday/a-cure-for-the-allergy-epidemic.html\n",
        "A Cure for the Allergy Epidemic?"
       ]
      },
      {
       "output_type": "stream",
       "stream": "stdout",
       "text": [
        "\n",
        "658\n",
        "http://www.nytimes.com/2013/11/10/opinion/sunday/alfre-woodard.html\n",
        "Alfre Woodard"
       ]
      },
      {
       "output_type": "stream",
       "stream": "stdout",
       "text": [
        "\n",
        "659\n",
        "http://www.nytimes.com/2013/11/10/world/asia/bangladesh-arrests-opposition-figures.html\n",
        "Bangladesh Arrests Opposition Figures"
       ]
      },
      {
       "output_type": "stream",
       "stream": "stdout",
       "text": [
        "\n",
        "660\n",
        "http://www.nytimes.com/2013/11/10/sports/baseball/the-mets-frank-francisco-fiasco.html\n",
        "The Mets\u2019 Frank Francisco Fiasco"
       ]
      },
      {
       "output_type": "stream",
       "stream": "stdout",
       "text": [
        "\n",
        "661\n",
        "http://www.nytimes.com/2013/11/10/sports/spurs-and-knicks-proud-era-vs-loud-errors.html\n",
        "Spurs and Knicks: Proud Era vs. Loud Errors"
       ]
      },
      {
       "output_type": "stream",
       "stream": "stdout",
       "text": [
        "\n",
        "662\n",
        "http://www.nytimes.com/2013/11/10/jobs/goodbyes-with-respect.html\n",
        "Goodbyes With Respect"
       ]
      },
      {
       "output_type": "stream",
       "stream": "stdout",
       "text": [
        "\n",
        "failed at: 4\n",
        "663\n",
        "http://www.nytimes.com/2013/11/10/sports/football/week-10-matchup-raiders-3-5-at-giants-2-6.html\n",
        "Week 10 Matchup: Raiders (3-5) at Giants (2-6)"
       ]
      },
      {
       "output_type": "stream",
       "stream": "stdout",
       "text": [
        "\n",
        "failed at: 6\n",
        "664\n",
        "http://www.nytimes.com/2013/11/10/sports/hockey/flyers-riverton-rifle-content-to-give-his-coach-the-glory.html\n",
        "Flyers\u2019 \u2018Riverton Rifle\u2019 Content to Give His Coach the Glory"
       ]
      },
      {
       "output_type": "stream",
       "stream": "stdout",
       "text": [
        "\n",
        "665\n",
        "http://www.nytimes.com/2013/11/10/opinion/sunday/my-kingdom-for-an-english-course.html\n",
        "My Kingdom for an English Course!"
       ]
      },
      {
       "output_type": "stream",
       "stream": "stdout",
       "text": [
        "\n",
        "failed at: 8\n",
        "666\n",
        "http://www.nytimes.com/2013/11/10/opinion/sunday/sunday-dialogue-how-the-justices-shape-our-democracy.html\n",
        "Sunday Dialogue: How the Justices Shape Our Democracy"
       ]
      },
      {
       "output_type": "stream",
       "stream": "stdout",
       "text": [
        "\n",
        "failed at: 14\n",
        "667\n",
        "http://www.nytimes.com/2013/11/10/jobs/embracing-the-millennials-mind-set-at-work.html\n",
        "Embracing the Millennials\u2019 Mind-Set at Work"
       ]
      },
      {
       "output_type": "stream",
       "stream": "stdout",
       "text": [
        "\n",
        "668\n",
        "http://www.nytimes.com/2013/11/10/your-money/mug-shot-websites-retreating-or-adapting.html\n",
        "Mug-Shot Websites, Retreating or Adapting"
       ]
      },
      {
       "output_type": "stream",
       "stream": "stdout",
       "text": [
        "\n",
        "669\n",
        "http://www.nytimes.com/2013/11/10/business/work-up-a-sweat-and-bargain-better.html\n",
        "Work Up a Sweat, and Bargain Better"
       ]
      },
      {
       "output_type": "stream",
       "stream": "stdout",
       "text": [
        "\n",
        "670\n",
        "http://www.nytimes.com/2013/11/10/sports/football/dolphins-a-franchise-under-fire-now-under-a-microscope.html\n",
        "Dolphins, a Franchise Under Fire, Now Under a Microscope"
       ]
      },
      {
       "output_type": "stream",
       "stream": "stdout",
       "text": [
        "\n",
        "671\n",
        "http://www.nytimes.com/2013/11/10/business/casinos-and-the-economy.html\n",
        "Casinos and the Economy"
       ]
      },
      {
       "output_type": "stream",
       "stream": "stdout",
       "text": [
        "\n",
        "672\n",
        "http://www.nytimes.com/2013/11/10/business/the-chatter-for-sunday-nov-10.html\n",
        "The Chatter for Sunday, Nov. 10"
       ]
      },
      {
       "output_type": "stream",
       "stream": "stdout",
       "text": [
        "\n",
        "673\n",
        "http://www.nytimes.com/2013/11/10/sports/ncaabasketball/mr-138-from-grinnell-a-record-setting-scorer-promises-bigger-numbers.html\n",
        "Grinnell&#8217;s Mr. 138 Is Going for Even Bigger Goals"
       ]
      },
      {
       "output_type": "stream",
       "stream": "stdout",
       "text": [
        "\n",
        "674\n",
        "http://www.nytimes.com/2013/11/10/business/the-co-villains-behind-obesitys-rise.html\n",
        "The Co-Villains Behind Obesity\u2019s Rise"
       ]
      },
      {
       "output_type": "stream",
       "stream": "stdout",
       "text": [
        "\n",
        "675\n",
        "http://www.nytimes.com/2013/11/10/sports/soccer/chinese-club-captures-asian-title.html\n",
        "Ronaldo Extends Scoring Spree as Real Madrid Coasts to Win"
       ]
      },
      {
       "output_type": "stream",
       "stream": "stdout",
       "text": [
        "\n",
        "676\n",
        "http://www.nytimes.com/2013/11/10/business/earnings-but-without-the-bad-stuff.html\n",
        "Earnings, but Without the Bad Stuff"
       ]
      },
      {
       "output_type": "stream",
       "stream": "stdout",
       "text": [
        "\n",
        "677\n",
        "http://www.nytimes.com/2013/11/10/nyregion/for-grieving-mother-many-more-challenges.html\n",
        "For Grieving Mother, Many More Challenges"
       ]
      },
      {
       "output_type": "stream",
       "stream": "stdout",
       "text": [
        "\n",
        "failed at: 4\n",
        "678\n",
        "http://www.nytimes.com/2013/11/10/sunday-review/good-deals-on-pills-its-anyones-guess.html\n",
        "Good Deals on Pills? It\u2019s Anyone\u2019s Guess"
       ]
      },
      {
       "output_type": "stream",
       "stream": "stdout",
       "text": [
        "\n",
        "679\n",
        "http://www.nytimes.com/2013/11/10/sports/basketball/what-sets-spurs-apart-is-lost-on-knicks.html\n",
        "What Sets Spurs Apart Is Lost on Knicks"
       ]
      },
      {
       "output_type": "stream",
       "stream": "stdout",
       "text": [
        "\n",
        "680\n",
        "http://www.nytimes.com/2013/11/10/business/they-loved-your-gpa-then-they-saw-your-tweets.html\n",
        "They Loved Your G.P.A. Then They Saw Your Tweets."
       ]
      },
      {
       "output_type": "stream",
       "stream": "stdout",
       "text": [
        "\n",
        "681\n",
        "http://www.nytimes.com/2013/11/10/sports/football/nfl-coaches-in-charge-and-at-risk.html\n",
        "N.F.L. Coaches: In Charge and at Risk"
       ]
      },
      {
       "output_type": "stream",
       "stream": "stdout",
       "text": [
        "\n",
        "682\n",
        "http://www.nytimes.com/2013/11/10/world/asia/in-maldives-3rd-try-to-pick-a-president.html\n",
        "Maldives Court Orders Another Delay After Presidential Vote Sets Up Runoff "
       ]
      },
      {
       "output_type": "stream",
       "stream": "stdout",
       "text": [
        "\n",
        "683\n",
        "http://www.nytimes.com/2013/11/10/business/bernard-tyson-of-kaiser-permanente-on-speaking-your-mind.html\n",
        "Bernard Tyson of Kaiser Permanente, on Speaking Your Mind"
       ]
      },
      {
       "output_type": "stream",
       "stream": "stdout",
       "text": [
        "\n",
        "failed at: 3\n",
        "684\n",
        "http://www.nytimes.com/2013/11/10/us/transition-begins-in-boston-for-first-time-in-a-generation.html\n",
        "Transition Begins in Boston, for First Time in a Generation"
       ]
      },
      {
       "output_type": "stream",
       "stream": "stdout",
       "text": [
        "\n",
        "685\n",
        "http://www.nytimes.com/2013/11/10/sports/baseball/mets-alderson-can-finally-spend-assuming-he-wants-to.html\n",
        "Mets\u2019 Alderson Can Finally Spend, Assuming He Wants To"
       ]
      },
      {
       "output_type": "stream",
       "stream": "stdout",
       "text": [
        "\n",
        "686\n",
        "http://www.nytimes.com/2013/11/10/us/philadelphia-police-find-online-list-of-witnesses.html\n",
        "Philadelphia Police Find Online List of Witnesses"
       ]
      },
      {
       "output_type": "stream",
       "stream": "stdout",
       "text": [
        "\n",
        "687\n",
        "http://www.nytimes.com/2013/11/10/sports/football/giants-defensive-revival-coincides-with-their-opponents-woes.html\n",
        "Giants\u2019 Defensive Revival Coincides With Their Opponents\u2019 Woes"
       ]
      },
      {
       "output_type": "stream",
       "stream": "stdout",
       "text": [
        "\n",
        "688\n",
        "http://www.nytimes.com/2013/11/10/us/ex-prosecutor-is-punished-for-a-wrongful-conviction.html\n",
        "Ex-Prosecutor in Texas Is Punished for a Wrongful Conviction"
       ]
      },
      {
       "output_type": "stream",
       "stream": "stdout",
       "text": [
        "\n",
        "689\n",
        "http://www.nytimes.com/2013/11/10/world/asia/reporter-for-reuters-wont-receive-china-visa.html\n",
        "Reporter for Reuters Won\u2019t Receive China Visa"
       ]
      },
      {
       "output_type": "stream",
       "stream": "stdout",
       "text": [
        "\n",
        "690\n",
        "http://www.nytimes.com/2013/11/10/sports/ncaafootball/yellow-jackets-run-first-but-receivers-are-stars.html\n",
        "Georgia Tech Runs First, But Receivers Still Excel "
       ]
      },
      {
       "output_type": "stream",
       "stream": "stdout",
       "text": [
        "\n",
        "691\n",
        "http://www.nytimes.com/2013/11/10/sports/letters-to-the-editor.html\n",
        "Letters to the Editor"
       ]
      },
      {
       "output_type": "stream",
       "stream": "stdout",
       "text": [
        "\n",
        "692\n",
        "http://www.nytimes.com/2013/11/10/business/a-founder-of-twitter-goes-long.html\n",
        "A Founder of Twitter Goes Long"
       ]
      },
      {
       "output_type": "stream",
       "stream": "stdout",
       "text": [
        "\n",
        "693\n",
        "http://www.nytimes.com/2013/11/10/world/iran-nuclear-talks.html\n",
        "Talks With Iran Fail to Produce a Nuclear Agreement"
       ]
      },
      {
       "output_type": "stream",
       "stream": "stdout",
       "text": [
        "\n",
        "694\n",
        "http://www.nytimes.com/2013/11/10/booming/the-sex-toys-in-the-attic.html\n",
        "The Sex Toys in the Attic"
       ]
      },
      {
       "output_type": "stream",
       "stream": "stdout",
       "text": [
        "\n",
        "695\n",
        "http://www.nytimes.com/2013/11/10/world/asia/philippines-typhoon.html\n",
        "Philippine Typhoon Death Toll Feared in Thousands"
       ]
      },
      {
       "output_type": "stream",
       "stream": "stdout",
       "text": [
        "\n",
        "696\n",
        "http://www.nytimes.com/2013/11/10/sports/football/bobby-thomason-pro-bowl-quarterterback-dies-at-85.html\n",
        "Bobby Thomason, Pro Bowl Quarterback, Dies at 85"
       ]
      },
      {
       "output_type": "stream",
       "stream": "stdout",
       "text": [
        "\n",
        "697\n",
        "http://www.nytimes.com/2013/11/09/us/john-hawk-hero-of-normandy-battle-dies-at-89.html\n",
        "John Hawk, Hero of Normandy Battle, Dies at 89"
       ]
      },
      {
       "output_type": "stream",
       "stream": "stdout",
       "text": [
        "\n",
        "698\n",
        "http://www.nytimes.com/2013/11/10/nyregion/newburgh-ny-seeks-renewal-without-gentrification.html\n",
        "Revivals Victorian, Gothic and Civic"
       ]
      },
      {
       "output_type": "stream",
       "stream": "stdout",
       "text": [
        "\n",
        "699\n",
        "http://www.nytimes.com/slideshow/2013/11/10/automobiles/10ego-slides.html\n",
        "A Soft Spot for G.M.\u2019s Bad Old Days"
       ]
      },
      {
       "output_type": "stream",
       "stream": "stdout",
       "text": [
        "\n",
        "700\n",
        "http://www.nytimes.com/2013/11/10/fashion/Robert-Rhinehart-Soylent-Inventor-Loves-to-Fly-.html\n",
        "Robert Rhinehart: Dreaming of the Skies and Traveling Light"
       ]
      },
      {
       "output_type": "stream",
       "stream": "stdout",
       "text": [
        "\n",
        "701\n",
        "http://www.nytimes.com/2013/11/10/arts/dance/lallegro-mark-morriss-renowned-masterwork-returns.html\n",
        "Still Tingling Spines, After 25 Years"
       ]
      },
      {
       "output_type": "stream",
       "stream": "stdout",
       "text": [
        "\n",
        "702\n",
        "http://www.nytimes.com/slideshow/2013/11/10/arts/dance/20131110-ALLEGRO.html\n",
        "\u2018L\u2019Allegro\u2019 at 25"
       ]
      },
      {
       "output_type": "stream",
       "stream": "stdout",
       "text": [
        "\n",
        "703\n",
        "http://www.nytimes.com/slideshow/2013/11/10/nyregion/20131110NEWBURGHss.html\n",
        "Feels Like Old Brooklyn"
       ]
      },
      {
       "output_type": "stream",
       "stream": "stdout",
       "text": [
        "\n",
        "704\n",
        "http://www.nytimes.com/2013/11/10/fashion/how-the-internet-has-changed-the-rsvp.html\n",
        "How the Internet Has Changed the R.S.V.P."
       ]
      },
      {
       "output_type": "stream",
       "stream": "stdout",
       "text": [
        "\n",
        "705\n",
        "http://www.nytimes.com/2013/11/10/nyregion/the-pop-up-activist-of-the-lower-east-side.html\n",
        "The Pop-Up Activist of the Lower East Side"
       ]
      },
      {
       "output_type": "stream",
       "stream": "stdout",
       "text": [
        "\n",
        "706\n",
        "http://www.nytimes.com/2013/11/10/opinion/sunday/how-hipsters-ruined-paris.html\n",
        "How Hipsters Ruined Paris"
       ]
      },
      {
       "output_type": "stream",
       "stream": "stdout",
       "text": [
        "\n",
        "707\n",
        "http://www.nytimes.com/2013/11/10/fashion/bill-cunningham-on-the-run.html\n",
        "Bill Cunningham | On the Run"
       ]
      },
      {
       "output_type": "stream",
       "stream": "stdout",
       "text": [
        "\n",
        "708\n",
        "http://www.nytimes.com/2013/11/10/fashion/On-TV-or-in-Fashion-Adam-Driver-from-hbo-Girls-is-an-Unlikely-Face-.html\n",
        "Adam Driver, an Unlikely Face on TV or in Fashion"
       ]
      },
      {
       "output_type": "stream",
       "stream": "stdout",
       "text": [
        "\n",
        "709\n",
        "http://www.nytimes.com/2013/11/10/arts/television/how-dare-you-take-your-own-life.html\n",
        "\u2018How Dare You Take Your Own Life?\u2019"
       ]
      },
      {
       "output_type": "stream",
       "stream": "stdout",
       "text": [
        "\n",
        "710\n",
        "http://www.nytimes.com/2013/11/10/arts/dance/exploding-in-unison.html\n",
        "Exploding in Unison"
       ]
      },
      {
       "output_type": "stream",
       "stream": "stdout",
       "text": [
        "\n",
        "711\n",
        "http://www.nytimes.com/2013/11/10/arts/design/the-future-is-african.html\n",
        "The Future Is African"
       ]
      },
      {
       "output_type": "stream",
       "stream": "stdout",
       "text": [
        "\n",
        "712\n",
        "http://www.nytimes.com/2013/11/10/arts/music/italian-light-on-monteverdi.html\n",
        "Italian Light on Monteverdi"
       ]
      },
      {
       "output_type": "stream",
       "stream": "stdout",
       "text": [
        "\n",
        "713\n",
        "http://www.nytimes.com/2013/11/10/movies/people-as-puzzles-of-infinite-variety.html\n",
        "People as Puzzles of Infinite Variety"
       ]
      },
      {
       "output_type": "stream",
       "stream": "stdout",
       "text": [
        "\n",
        "714\n",
        "http://www.nytimes.com/2013/11/10/arts/music/different-side-of-a-continent.html\n",
        "Different Side of a Continent"
       ]
      },
      {
       "output_type": "stream",
       "stream": "stdout",
       "text": [
        "\n",
        "715\n",
        "http://www.nytimes.com/2013/11/10/fashion/In-a-final-plot-twist-Gore-Vidal-leaves-his-estate-to-Harvard-Universtity.html\n",
        "For Gore Vidal, a Final Plot Twist"
       ]
      },
      {
       "output_type": "stream",
       "stream": "stdout",
       "text": [
        "\n",
        "716\n",
        "http://www.nytimes.com/slideshow/2013/11/10/fashion/20131110-DRIVER.html\n",
        "Adam Driver, Unconventional Looks and a Brooding Manner"
       ]
      },
      {
       "output_type": "stream",
       "stream": "stdout",
       "text": [
        "\n",
        "717\n",
        "http://www.nytimes.com/2013/11/10/nyregion/de-blasio-could-help-the-rich-see-the-poor-living-next-door.html\n",
        "Neighbors, Yet Worlds Apart"
       ]
      },
      {
       "output_type": "stream",
       "stream": "stdout",
       "text": [
        "\n",
        "718\n",
        "http://www.nytimes.com/2013/11/10/fashion/Group-dating-Getting-to-Know-You-and-You-and-You-.html\n",
        "Through Group Dating, Getting to Know You (and You and You)"
       ]
      },
      {
       "output_type": "stream",
       "stream": "stdout",
       "text": [
        "\n",
        "719\n",
        "http://www.nytimes.com/2013/11/10/automobiles/chamber-music-of-a-very-different-kind.html\n",
        "Chamber Music of a Very Different Kind"
       ]
      },
      {
       "output_type": "stream",
       "stream": "stdout",
       "text": [
        "\n",
        "720\n",
        "http://www.nytimes.com/slideshow/2013/11/10/automobiles/10wheel-slides.html\n",
        "Roar, Britannia"
       ]
      },
      {
       "output_type": "stream",
       "stream": "stdout",
       "text": [
        "\n",
        "721\n",
        "http://www.nytimes.com/2013/11/10/automobiles/autoreviews/more-muscle-same-magic.html\n",
        "More Muscle, Same Magic"
       ]
      },
      {
       "output_type": "stream",
       "stream": "stdout",
       "text": [
        "\n",
        "722\n",
        "http://www.nytimes.com/2013/11/10/automobiles/collectibles/an-artifact-from-a-grim-era-in-detroits-showrooms.html\n",
        "An Artifact From a Grim Era in Detroit\u2019s Showrooms"
       ]
      },
      {
       "output_type": "stream",
       "stream": "stdout",
       "text": [
        "\n",
        "723\n",
        "http://www.nytimes.com/2013/11/10/automobiles/collectibles/an-early-import-fighter-that-only-embarrassed.html\n",
        "An Early Import Fighter That Only Embarrassed"
       ]
      },
      {
       "output_type": "stream",
       "stream": "stdout",
       "text": [
        "\n",
        "724\n",
        "http://www.nytimes.com/2013/11/10/automobiles/autoreviews/a-new-type-of-cat-ready-to-rumble.html\n",
        "A New Type of Cat, Ready to Rumble"
       ]
      },
      {
       "output_type": "stream",
       "stream": "stdout",
       "text": [
        "\n",
        "725\n",
        "http://www.nytimes.com/slideshow/2013/11/10/realestate/20131110-OTMREG.html\n",
        "On the Market in the Region"
       ]
      },
      {
       "output_type": "stream",
       "stream": "stdout",
       "text": [
        "\n",
        "726\n",
        "http://www.nytimes.com/2013/11/10/fashion/Waking-the-New-York-Nightclub-AREA-From-the-Dead.html\n",
        "Waking Area Nightclub From the Dead"
       ]
      },
      {
       "output_type": "stream",
       "stream": "stdout",
       "text": [
        "\n",
        "727\n",
        "http://www.nytimes.com/2013/11/10/nyregion/an-app-for-job-seekers.html\n",
        "An App for Job Seekers"
       ]
      },
      {
       "output_type": "stream",
       "stream": "stdout",
       "text": [
        "\n",
        "failed at: 6\n",
        "728\n",
        "http://www.nytimes.com/slideshow/2013/11/10/realestate/20131110-OTMNYC.html\n",
        "On the Market in New York City"
       ]
      },
      {
       "output_type": "stream",
       "stream": "stdout",
       "text": [
        "\n",
        "729\n",
        "http://www.nytimes.com/slideshow/2013/11/10/fashion/weddings/20131110-REGISTRY.html\n",
        "Bring Out the Good Stuff for the Guests"
       ]
      },
      {
       "output_type": "stream",
       "stream": "stdout",
       "text": [
        "\n",
        "730\n",
        "http://www.nytimes.com/2013/11/10/nyregion/that-rangers-rush.html\n",
        "That Rangers Rush"
       ]
      },
      {
       "output_type": "stream",
       "stream": "stdout",
       "text": [
        "\n",
        "731\n",
        "http://www.nytimes.com/2013/11/10/fashion/weddings/a-horse-of-a-different-color.html\n",
        "A Horse of a Different Color"
       ]
      },
      {
       "output_type": "stream",
       "stream": "stdout",
       "text": [
        "\n",
        "732\n",
        "http://www.nytimes.com/2013/11/10/realestate/bonus-work-space-right-in-the-lobby.html\n",
        "Bonus Work Space, Right in the Lobby"
       ]
      },
      {
       "output_type": "stream",
       "stream": "stdout",
       "text": [
        "\n",
        "733\n",
        "http://www.nytimes.com/2013/11/10/opinion/sunday/against-disclosure.html\n",
        "Against Disclosure"
       ]
      },
      {
       "output_type": "stream",
       "stream": "stdout",
       "text": [
        "\n",
        "734\n",
        "http://www.nytimes.com/2013/11/10/fashion/tailgating-gets-online-playbooks-with-websites-and-apps.html\n",
        "Tailgating Gets Online Playbooks"
       ]
      },
      {
       "output_type": "stream",
       "stream": "stdout",
       "text": [
        "\n",
        "735\n",
        "http://www.nytimes.com/2013/11/10/fashion/Cathy-Horyn-on-Nicolas-Ghesquire-Choice-by-Louis-Vuitton.html\n",
        "On Nicolas Ghesqui\u00e8re, and Sweatpants"
       ]
      },
      {
       "output_type": "stream",
       "stream": "stdout",
       "text": [
        "\n",
        "736\n",
        "http://www.nytimes.com/2013/11/10/movies/ed-pincus-ailing-films-one-last-time-with-lucia-small.html\n",
        "Grasping at Life, Petals, Pain and All"
       ]
      },
      {
       "output_type": "stream",
       "stream": "stdout",
       "text": [
        "\n",
        "737\n",
        "http://www.nytimes.com/2013/11/10/arts/music/music-from-mar-seck-wooden-shjips-and-simona-premazzi.html\n",
        "Sounds of Senegal, San Francisco and Beyond"
       ]
      },
      {
       "output_type": "stream",
       "stream": "stdout",
       "text": [
        "\n",
        "738\n",
        "http://www.nytimes.com/2013/11/10/arts/television/jenny-slates-quirky-performance-hybrid.html\n",
        "Equal Parts Teeny and Terrifying"
       ]
      },
      {
       "output_type": "stream",
       "stream": "stdout",
       "text": [
        "\n",
        "739\n",
        "http://www.nytimes.com/2013/11/10/arts/television/alpha-house-amazons-original-series-years-in-the-making.html\n",
        "Animal House (Republican Style)"
       ]
      },
      {
       "output_type": "stream",
       "stream": "stdout",
       "text": [
        "\n",
        "740\n",
        "http://www.nytimes.com/2013/11/10/arts/television/the-good-wife-stands-out-among-newer-fall-shows.html\n",
        "Familiar Drama Shines Among Guts and Gore"
       ]
      },
      {
       "output_type": "stream",
       "stream": "stdout",
       "text": [
        "\n",
        "741\n",
        "http://www.nytimes.com/2013/11/10/arts/television/new-tv-series-powered-by-pairs-for-better-or-worse.html\n",
        "2-Way Chemistry, Crackle to Fizzle"
       ]
      },
      {
       "output_type": "stream",
       "stream": "stdout",
       "text": [
        "\n",
        "742\n",
        "http://www.nytimes.com/2013/11/10/nyregion/at-the-cecil-nourished-and-inspired.html\n",
        "At the Cecil, Nourished and Inspired"
       ]
      },
      {
       "output_type": "stream",
       "stream": "stdout",
       "text": [
        "\n",
        "743\n",
        "http://www.nytimes.com/2013/11/10/nyregion/love-is-giants-blue.html\n",
        "Love Is Giants Blue"
       ]
      },
      {
       "output_type": "stream",
       "stream": "stdout",
       "text": [
        "\n",
        "744\n",
        "http://www.nytimes.com/2013/11/10/realestate/upper-east-side-to-live-in-an-artwork.html\n",
        "Upper East Side: To Live in an Artwork"
       ]
      },
      {
       "output_type": "stream",
       "stream": "stdout",
       "text": [
        "\n",
        "745\n",
        "http://www.nytimes.com/slideshow/2013/11/10/realestate/20131110-EXCLUSIVE.html\n",
        "Exclusive | 130 East 64th Street"
       ]
      },
      {
       "output_type": "stream",
       "stream": "stdout",
       "text": [
        "\n",
        "746\n",
        "http://www.nytimes.com/2013/11/10/realestate/up-to-date-homes-in-antique-packaging.html\n",
        "Up-to-Date Homes in Antique Packaging"
       ]
      },
      {
       "output_type": "stream",
       "stream": "stdout",
       "text": [
        "\n",
        "747\n",
        "http://www.nytimes.com/2013/11/10/magazine/where-have-all-the-sopranos-gone.html\n",
        "Where Have All the Sopranos Gone?"
       ]
      },
      {
       "output_type": "stream",
       "stream": "stdout",
       "text": [
        "\n",
        "failed at: 44\n",
        "748\n",
        "http://www.nytimes.com/2013/11/10/nyregion/answers-to-questions-about-new-york.html\n",
        "Answers to Questions About New York"
       ]
      },
      {
       "output_type": "stream",
       "stream": "stdout",
       "text": [
        "\n",
        "749\n",
        "http://www.nytimes.com/slideshow/2013/11/10/magazine/10leipzig-ss.html\n",
        "Faces of the St. Thomas Boys Choir"
       ]
      },
      {
       "output_type": "stream",
       "stream": "stdout",
       "text": [
        "\n",
        "750\n",
        "http://www.nytimes.com/2013/11/10/realestate/townhouse-turnaround.html\n",
        "Townhouse Turnaround"
       ]
      },
      {
       "output_type": "stream",
       "stream": "stdout",
       "text": [
        "\n",
        "751\n",
        "http://www.nytimes.com/2013/11/10/books/review/editors-choice.html\n",
        "Editors\u2019 Choice"
       ]
      },
      {
       "output_type": "stream",
       "stream": "stdout",
       "text": [
        "\n",
        "failed at: 1\n",
        "752\n",
        "http://www.nytimes.com/2013/11/10/books/review/paperback-row.html\n",
        "Paperback Row"
       ]
      },
      {
       "output_type": "stream",
       "stream": "stdout",
       "text": [
        "\n",
        "failed at: 1\n",
        "753\n",
        "http://www.nytimes.com/2013/11/10/books/review/sam-zuppardis-nowhere-box-and-more.html\n",
        "Bookshelf: Siblings"
       ]
      },
      {
       "output_type": "stream",
       "stream": "stdout",
       "text": [
        "\n",
        "failed at: 1\n",
        "754\n",
        "http://www.nytimes.com/2013/11/10/travel/national-parks-open-just-in-time-for-snow.html\n",
        "National Parks Open Just in Time for Snow"
       ]
      },
      {
       "output_type": "stream",
       "stream": "stdout",
       "text": [
        "\n",
        "755\n",
        "http://www.nytimes.com/2013/11/10/travel/in-france-honoring-the-fallen-in-the-war-to-end-all-wars.html\n",
        "In France, Honoring the Fallen in the War to End All Wars"
       ]
      },
      {
       "output_type": "stream",
       "stream": "stdout",
       "text": [
        "\n",
        "756\n",
        "http://www.nytimes.com/2013/11/10/books/review/how-big-could-your-pumpkin-grow-and-more.html\n",
        "Bookshelf: Harvest"
       ]
      },
      {
       "output_type": "stream",
       "stream": "stdout",
       "text": [
        "\n",
        "failed at: 1\n",
        "757\n",
        "http://www.nytimes.com/interactive/2013/11/10/theater/multiple-choices.html\n",
        "Multiple Choices"
       ]
      },
      {
       "output_type": "stream",
       "stream": "stdout",
       "text": [
        "\n",
        "failed at: 3\n",
        "758\n",
        "http://www.nytimes.com/2013/11/10/books/review/atinukes-splash-anna-hibiscus-and-more.html\n",
        "Bookshelf: Africa"
       ]
      },
      {
       "output_type": "stream",
       "stream": "stdout",
       "text": [
        "\n",
        "failed at: 1\n",
        "759\n",
        "http://www.nytimes.com/2013/11/10/books/review/my-basmati-bat-mitzvah-and-mira-in-the-present-tense.html\n",
        "Matzo Masala"
       ]
      },
      {
       "output_type": "stream",
       "stream": "stdout",
       "text": [
        "\n",
        "760\n",
        "http://www.nytimes.com/2013/11/10/magazine/doug-rauch-wants-to-sell-outdated-food-at-junk-food-prices.html\n",
        "\u2018In the Old Days, You\u2019d Smell the Milk\u2019"
       ]
      },
      {
       "output_type": "stream",
       "stream": "stdout",
       "text": [
        "\n",
        "failed at: 3\n",
        "761\n",
        "http://www.nytimes.com/2013/11/10/magazine/speculation-is-the-new-spoiler.html\n",
        "\u2018Speculation Is the New Spoiler\u2019"
       ]
      },
      {
       "output_type": "stream",
       "stream": "stdout",
       "text": [
        "\n",
        "762\n",
        "http://www.nytimes.com/2013/11/10/magazine/who-made-that-college-application.html\n",
        "Who Made That College Application?"
       ]
      },
      {
       "output_type": "stream",
       "stream": "stdout",
       "text": [
        "\n",
        "763\n",
        "http://www.nytimes.com/interactive/2013/11/10/magazine/10look-hanging-around.html\n",
        "The Art of Hanging Around"
       ]
      },
      {
       "output_type": "stream",
       "stream": "stdout",
       "text": [
        "\n",
        "failed at: 3\n",
        "764\n",
        "http://www.nytimes.com/interactive/2013/11/10/magazine/10-one-page-magazine.html\n",
        "Isn\u2019t It . . . Ironic?"
       ]
      },
      {
       "output_type": "stream",
       "stream": "stdout",
       "text": [
        "\n",
        "failed at: 3\n",
        "765\n",
        "http://www.nytimes.com/2013/11/10/magazine/the-10-27-13-issue.html\n",
        "The 10.27.13 Issue"
       ]
      },
      {
       "output_type": "stream",
       "stream": "stdout",
       "text": [
        "\n",
        "766\n",
        "http://www.nytimes.com/2013/11/10/magazine/a-prairie-home-abandoned.html\n",
        "A Prairie Home, Abandoned"
       ]
      },
      {
       "output_type": "stream",
       "stream": "stdout",
       "text": [
        "\n",
        "767\n",
        "http://www.nytimes.com/2013/11/10/magazine/the-art-of-hanging-around.html\n",
        "The Art of Hanging Around"
       ]
      },
      {
       "output_type": "stream",
       "stream": "stdout",
       "text": [
        "\n",
        "failed at: 3\n",
        "768\n",
        "http://www.nytimes.com/2013/11/10/magazine/is-it-wrong-to-steer-business-away-from-a-philanderer.html\n",
        "Is It Wrong to Steer Business Away From a Philanderer?"
       ]
      },
      {
       "output_type": "stream",
       "stream": "stdout",
       "text": [
        "\n",
        "769\n",
        "http://www.nytimes.com/2013/11/10/books/review/great-american-dust-bowl-and-donner-dinner-party.html\n",
        "No Man\u2019s Land"
       ]
      },
      {
       "output_type": "stream",
       "stream": "stdout",
       "text": [
        "\n",
        "770\n",
        "http://www.nytimes.com/2013/11/10/books/review/treasure-hunters-and-the-very-nearly-honorable-league-of-pirates.html\n",
        "Daring Deeds"
       ]
      },
      {
       "output_type": "stream",
       "stream": "stdout",
       "text": [
        "\n",
        "771\n",
        "http://www.nytimes.com/2013/11/10/books/review/all-the-truth-thats-in-me-by-julie-berry.html\n",
        "Without a Voice"
       ]
      },
      {
       "output_type": "stream",
       "stream": "stdout",
       "text": [
        "\n",
        "772\n",
        "http://www.nytimes.com/2013/11/10/books/review/unhooking-the-moon-by-gregory-hughes.html\n",
        "Lost in New York"
       ]
      },
      {
       "output_type": "stream",
       "stream": "stdout",
       "text": [
        "\n",
        "773\n",
        "http://www.nytimes.com/2013/11/10/books/review/the-living-by-matt-de-la-pena.html\n",
        "The Wave"
       ]
      },
      {
       "output_type": "stream",
       "stream": "stdout",
       "text": [
        "\n",
        "774\n",
        "http://www.nytimes.com/2013/11/10/books/review/the-real-boy-by-anne-ursu.html\n",
        "What You\u2019re Made Of"
       ]
      },
      {
       "output_type": "stream",
       "stream": "stdout",
       "text": [
        "\n",
        "775\n",
        "http://www.nytimes.com/2013/11/10/books/review/how-to-hide-a-lion-by-helen-stephens-and-more.html\n",
        "Acting Like Animals"
       ]
      },
      {
       "output_type": "stream",
       "stream": "stdout",
       "text": [
        "\n",
        "776\n",
        "http://www.nytimes.com/2013/11/10/books/review/this-song-will-save-your-life-by-leila-sales.html\n",
        "In the Mix"
       ]
      },
      {
       "output_type": "stream",
       "stream": "stdout",
       "text": [
        "\n",
        "777\n",
        "http://www.nytimes.com/2013/11/10/books/review/with-a-mighty-hand-and-the-barefoot-book-of-jewish-tales.html\n",
        "In the Beginning"
       ]
      },
      {
       "output_type": "stream",
       "stream": "stdout",
       "text": [
        "\n",
        "778\n",
        "http://www.nytimes.com/2013/11/10/books/review/marc-browns-playtime-rhymes-and-more.html\n",
        "Running the Rhymes"
       ]
      },
      {
       "output_type": "stream",
       "stream": "stdout",
       "text": [
        "\n",
        "779\n",
        "http://www.nytimes.com/2013/11/10/books/review/fallout-by-todd-strasser.html\n",
        "Nuclear Families"
       ]
      },
      {
       "output_type": "stream",
       "stream": "stdout",
       "text": [
        "\n",
        "780\n",
        "http://www.nytimes.com/2013/11/10/books/review/anna-was-here-by-jane-kurtz.html\n",
        "Leaving Home"
       ]
      },
      {
       "output_type": "stream",
       "stream": "stdout",
       "text": [
        "\n",
        "781\n",
        "http://www.nytimes.com/2013/11/10/books/review/hostage-three-by-nick-lake.html\n",
        "Rough Waters"
       ]
      },
      {
       "output_type": "stream",
       "stream": "stdout",
       "text": [
        "\n",
        "782\n",
        "http://www.nytimes.com/2013/11/10/books/review/the-twistrose-key-by-tone-almhjell.html\n",
        "In a Cold Country"
       ]
      },
      {
       "output_type": "stream",
       "stream": "stdout",
       "text": [
        "\n",
        "783\n",
        "http://www.nytimes.com/2013/11/10/books/review/picture-me-gone-by-meg-rosoff.html\n",
        "Vanishing Acts"
       ]
      },
      {
       "output_type": "stream",
       "stream": "stdout",
       "text": [
        "\n",
        "784\n",
        "http://www.nytimes.com/2013/11/10/books/review/tales-from-the-brothers-grimm-and-more.html\n",
        "Beauties and Beasts"
       ]
      },
      {
       "output_type": "stream",
       "stream": "stdout",
       "text": [
        "\n",
        "785\n",
        "http://www.nytimes.com/2013/11/10/books/review/five-billion-years-of-solitude-by-lee-billings.html\n",
        "Lonely Planet"
       ]
      },
      {
       "output_type": "stream",
       "stream": "stdout",
       "text": [
        "\n",
        "786\n",
        "http://www.nytimes.com/2013/11/10/books/review/jo-nesbos-police-and-more.html\n",
        "Watch Your Back"
       ]
      },
      {
       "output_type": "stream",
       "stream": "stdout",
       "text": [
        "\n",
        "787\n",
        "http://www.nytimes.com/2013/11/10/books/review/sycamore-row-by-john-grisham.html\n",
        "A Time to Die"
       ]
      },
      {
       "output_type": "stream",
       "stream": "stdout",
       "text": [
        "\n",
        "788\n",
        "http://www.nytimes.com/2013/11/10/books/review/richard-a-posners-reflections-on-judging.html\n",
        "Holding Court"
       ]
      },
      {
       "output_type": "stream",
       "stream": "stdout",
       "text": [
        "\n",
        "789\n",
        "http://www.nytimes.com/2013/11/10/books/review/on-the-front-line-and-under-the-wire.html\n",
        "Dispatches"
       ]
      },
      {
       "output_type": "stream",
       "stream": "stdout",
       "text": [
        "\n",
        "790\n",
        "http://www.nytimes.com/2013/11/10/books/review/simon-winchesters-men-who-united-the-states.html\n",
        "Nation Builders"
       ]
      },
      {
       "output_type": "stream",
       "stream": "stdout",
       "text": [
        "\n",
        "791\n",
        "http://www.nytimes.com/2013/11/10/books/review/republic-of-outsiders-by-alissa-quart.html\n",
        "Gate Crashers"
       ]
      },
      {
       "output_type": "stream",
       "stream": "stdout",
       "text": [
        "\n",
        "792\n",
        "http://www.nytimes.com/2013/11/10/books/review/british-invasion.html\n",
        "British Invasion"
       ]
      },
      {
       "output_type": "stream",
       "stream": "stdout",
       "text": [
        "\n",
        "793\n",
        "http://www.nytimes.com/2013/11/10/books/review/taking-the-stand-by-alan-dershowitz.html\n",
        "Legal Zelig"
       ]
      },
      {
       "output_type": "stream",
       "stream": "stdout",
       "text": [
        "\n",
        "794\n",
        "http://www.nytimes.com/2013/11/10/books/review/amy-tans-valley-of-amazement.html\n",
        "Ladies From Shanghai"
       ]
      },
      {
       "output_type": "stream",
       "stream": "stdout",
       "text": [
        "\n",
        "795\n",
        "http://www.nytimes.com/2013/11/10/books/review/the-beginning-of-everything-and-living-with-jackie-chan.html\n",
        "Fields of Endeavor"
       ]
      },
      {
       "output_type": "stream",
       "stream": "stdout",
       "text": [
        "\n",
        "796\n",
        "http://www.nytimes.com/2013/11/10/books/review/the-brothers-by-stephen-kinzer.html\n",
        "Overt and Covert"
       ]
      },
      {
       "output_type": "stream",
       "stream": "stdout",
       "text": [
        "\n",
        "797\n",
        "http://www.nytimes.com/2013/11/10/fashion/weddings/wedding-q-and-a.html\n",
        "Wedding Q. and A."
       ]
      },
      {
       "output_type": "stream",
       "stream": "stdout",
       "text": [
        "\n",
        "798\n",
        "http://www.nytimes.com/2013/11/10/books/review/white-girls-by-hilton-als.html\n",
        "Shades of Influence"
       ]
      },
      {
       "output_type": "stream",
       "stream": "stdout",
       "text": [
        "\n",
        "799\n",
        "http://www.nytimes.com/2013/11/10/books/review/jack-obriens-jack-be-nimble-and-more.html\n",
        "Stage and Screen"
       ]
      },
      {
       "output_type": "stream",
       "stream": "stdout",
       "text": [
        "\n",
        "failed at: 1\n",
        "800\n",
        "http://www.nytimes.com/2013/11/10/books/review/locomotive-by-brian-floca-and-more.html\n",
        "All Aboard!"
       ]
      },
      {
       "output_type": "stream",
       "stream": "stdout",
       "text": [
        "\n",
        "801\n",
        "http://www.nytimes.com/2013/11/10/theater/playing-the-crazy-women.html\n",
        "Playing the \u2018Crazy Women\u2019"
       ]
      },
      {
       "output_type": "stream",
       "stream": "stdout",
       "text": [
        "\n",
        "802\n",
        "http://www.nytimes.com/2013/11/10/arts/design/sidestepping-the-digital-demimonde.html\n",
        "Sidestepping the Digital Demimonde"
       ]
      },
      {
       "output_type": "stream",
       "stream": "stdout",
       "text": [
        "\n",
        "803\n",
        "http://www.nytimes.com/2013/11/10/movies/reaching-for-the-moon-a-film-about-elizabeth-bishop.html\n",
        "Love Story That Was a Challenge to Tell"
       ]
      },
      {
       "output_type": "stream",
       "stream": "stdout",
       "text": [
        "\n",
        "804\n",
        "http://www.nytimes.com/2013/11/10/movies/homevideo/tcm-offers-john-ford-the-columbia-films-collection.html\n",
        "John Ford, on Uncommon Ground"
       ]
      },
      {
       "output_type": "stream",
       "stream": "stdout",
       "text": [
        "\n",
        "failed at: 16\n",
        "805\n",
        "http://www.nytimes.com/2013/11/10/movies/a-star-turn-at-77-in-alexander-paynes-nebraska.html\n",
        "Dern Has a Story for You"
       ]
      },
      {
       "output_type": "stream",
       "stream": "stdout",
       "text": [
        "\n",
        "806\n",
        "http://www.nytimes.com/2013/11/10/nyregion/a-zingone-in-every-aisle.html\n",
        "A Zingone in Every Aisle"
       ]
      },
      {
       "output_type": "stream",
       "stream": "stdout",
       "text": [
        "\n",
        "807\n",
        "http://www.nytimes.com/slideshow/2013/11/10/nyregion/20131110JOINTss.html\n",
        "A Family Grocery, With a Long Pedigree"
       ]
      },
      {
       "output_type": "stream",
       "stream": "stdout",
       "text": [
        "\n",
        "808\n",
        "http://www.nytimes.com/2013/11/10/nyregion/broken-fix-it-exhibition-at-long-island-childrens-museum.html\n",
        "Everything\u2019s Broken? Then Let the Show Begin"
       ]
      },
      {
       "output_type": "stream",
       "stream": "stdout",
       "text": [
        "\n",
        "809\n",
        "http://www.nytimes.com/2013/11/10/nyregion/peter-max-art-that-wasnt-on-the-dorm-wall.html\n",
        "Peter Max Art That Wasn\u2019t on the Dorm Wall"
       ]
      },
      {
       "output_type": "stream",
       "stream": "stdout",
       "text": [
        "\n",
        "810\n",
        "http://www.nytimes.com/2013/11/10/nyregion/events-on-long-island.html\n",
        "Events on Long Island"
       ]
      },
      {
       "output_type": "stream",
       "stream": "stdout",
       "text": [
        "\n",
        "811\n",
        "http://www.nytimes.com/2013/11/10/nyregion/a-review-of-the-tapp-in-tarrytown.html\n",
        "For the Beer, for the Food, for the Feeling"
       ]
      },
      {
       "output_type": "stream",
       "stream": "stdout",
       "text": [
        "\n",
        "failed at: 14\n",
        "812\n",
        "http://www.nytimes.com/2013/11/10/nyregion/a-review-of-4000-miles-at-pace-university.html\n",
        "Across Generations, Gathering Insights"
       ]
      },
      {
       "output_type": "stream",
       "stream": "stdout",
       "text": [
        "\n",
        "813\n",
        "http://www.nytimes.com/2013/11/10/realestate/west-57ths-hodgepodge-block.html\n",
        "West 57th\u2019s Hodgepodge Block"
       ]
      },
      {
       "output_type": "stream",
       "stream": "stdout",
       "text": [
        "\n",
        "814\n",
        "http://www.nytimes.com/2013/11/10/nyregion/long-island-bakeries-prepare-for-holiday-pie-demand.html\n",
        "Long Island Bakeries Prepare for Holiday Pie Demand"
       ]
      },
      {
       "output_type": "stream",
       "stream": "stdout",
       "text": [
        "\n",
        "failed at: 24\n",
        "815\n",
        "http://www.nytimes.com/2013/11/10/nyregion/events-in-new-jersey.html\n",
        "Events in New Jersey"
       ]
      },
      {
       "output_type": "stream",
       "stream": "stdout",
       "text": [
        "\n",
        "816\n",
        "http://www.nytimes.com/2013/11/10/fashion/After-a-Parents-Death-a-Rush-of-Change-modern-love.html\n",
        "After a Parent\u2019s Death, a Rush of Change"
       ]
      },
      {
       "output_type": "stream",
       "stream": "stdout",
       "text": [
        "\n",
        "817\n",
        "http://www.nytimes.com/2013/11/10/fashion/love-is-its-own-reward.html\n",
        "Love Is Its Own Reward"
       ]
      },
      {
       "output_type": "stream",
       "stream": "stdout",
       "text": [
        "\n",
        "818\n",
        "http://www.nytimes.com/2013/11/10/books/review/want-not-by-jonathan-miles.html\n",
        "At Your Disposal"
       ]
      },
      {
       "output_type": "stream",
       "stream": "stdout",
       "text": [
        "\n",
        "819\n",
        "http://www.nytimes.com/2013/11/10/books/review/double-down-by-mark-halperin-and-john-heilemann.html\n",
        "War of Umbrage"
       ]
      },
      {
       "output_type": "stream",
       "stream": "stdout",
       "text": [
        "\n",
        "820\n",
        "http://www.nytimes.com/2013/11/10/magazine/the-great-old-fashioned-debate.html\n",
        "The Great Old-Fashioned Debate"
       ]
      },
      {
       "output_type": "stream",
       "stream": "stdout",
       "text": [
        "\n",
        "821\n",
        "http://www.nytimes.com/2013/11/10/books/review/letters-searching-for-kennedy.html\n",
        "Letters: Searching for Kennedy"
       ]
      },
      {
       "output_type": "stream",
       "stream": "stdout",
       "text": [
        "\n",
        "822\n",
        "http://www.nytimes.com/2013/11/10/nyregion/a-review-of-our-town-at-the-shakespeare-theater-of-new-jersey.html\n",
        "A Portrait of Eternally Beguiling Americana"
       ]
      },
      {
       "output_type": "stream",
       "stream": "stdout",
       "text": [
        "\n",
        "823\n",
        "http://www.nytimes.com/slideshow/2013/11/10/arts/design/20131110-UNDERGROUND.html\n",
        "Photos From the Underground"
       ]
      },
      {
       "output_type": "stream",
       "stream": "stdout",
       "text": [
        "\n",
        "824\n",
        "http://www.nytimes.com/2013/11/10/booming/when-nest-emptied-discontent-entered.html\n",
        "When Nest Emptied, Discontent Entered"
       ]
      },
      {
       "output_type": "stream",
       "stream": "stdout",
       "text": [
        "\n",
        "825\n",
        "http://www.nytimes.com/2013/11/10/realestate/qualified-loans-redefined.html\n",
        "\u2018Qualified\u2019 Loans, Redefined"
       ]
      },
      {
       "output_type": "stream",
       "stream": "stdout",
       "text": [
        "\n",
        "826\n",
        "http://www.nytimes.com/slideshow/2013/11/10/movies/20131110-DERN.html\n",
        "Bruce Dern in Pictures"
       ]
      },
      {
       "output_type": "stream",
       "stream": "stdout",
       "text": [
        "\n",
        "827\n",
        "http://www.nytimes.com/2013/11/10/nyregion/a-review-of-norimaki-in-washington-depot.html\n",
        "Touches of Tokyo, but California Rolls, Too"
       ]
      },
      {
       "output_type": "stream",
       "stream": "stdout",
       "text": [
        "\n",
        "828\n",
        "http://www.nytimes.com/2013/11/10/nyregion/a-review-of-owners-at-yale-repertory-theater.html\n",
        "The Implications of Ownership"
       ]
      },
      {
       "output_type": "stream",
       "stream": "stdout",
       "text": [
        "\n",
        "829\n",
        "http://www.nytimes.com/2013/11/08/nyregion/rev-eugene-callender-who-saw-potential-of-disadvantaged-school-dropouts-dies-at-87.html\n",
        "Rev. Eugene Callender, Who Saw Potential of School Dropouts, Dies at 87"
       ]
      },
      {
       "output_type": "stream",
       "stream": "stdout",
       "text": [
        "\n",
        "830\n",
        "http://www.nytimes.com/2013/11/10/nyregion/events-in-connecticut.html\n",
        "Events in Connecticut"
       ]
      },
      {
       "output_type": "stream",
       "stream": "stdout",
       "text": [
        "\n",
        "831\n",
        "http://www.nytimes.com/2013/11/10/travel/festivals-where-the-beat-makes-you-move.html\n",
        "Festivals Where the Beat Makes You Move"
       ]
      },
      {
       "output_type": "stream",
       "stream": "stdout",
       "text": [
        "\n",
        "failed at: 7\n",
        "832\n",
        "http://www.nytimes.com/2013/11/10/travel/my-caribbean-5-vignettes.html\n",
        "My Caribbean: 5 Vignettes"
       ]
      },
      {
       "output_type": "stream",
       "stream": "stdout",
       "text": [
        "\n",
        "833\n",
        "http://www.nytimes.com/2013/11/10/nyregion/events-in-westchester.html\n",
        "Events in Westchester"
       ]
      },
      {
       "output_type": "stream",
       "stream": "stdout",
       "text": [
        "\n",
        "834\n",
        "http://www.nytimes.com/2013/11/10/nyregion/a-review-of-lisas-mediterranean-cuisine-in-ridgewood.html\n",
        "Imported From Turkey, a Taste of Home"
       ]
      },
      {
       "output_type": "stream",
       "stream": "stdout",
       "text": [
        "\n",
        "failed at: 19\n",
        "835\n",
        "http://www.nytimes.com/2013/11/10/arts/music/anthony-tommasini-weighs-in-on-opera-what-ifs.html\n",
        "Liberating the Librettos"
       ]
      },
      {
       "output_type": "stream",
       "stream": "stdout",
       "text": [
        "\n",
        "836\n",
        "http://www.nytimes.com/2013/11/10/books/review/sherman-alexie-by-the-book.html\n",
        "Sherman Alexie: By the Book"
       ]
      },
      {
       "output_type": "stream",
       "stream": "stdout",
       "text": [
        "\n",
        "837\n",
        "http://www.nytimes.com/2013/11/10/sports/ncaafootball/fresno-adopts-its-college-team-but-so-does-a-gang.html\n",
        "Fresno State Loves Its Bulldogs, but So Does a Gang"
       ]
      },
      {
       "output_type": "stream",
       "stream": "stdout",
       "text": [
        "\n",
        "838\n",
        "http://www.nytimes.com/slideshow/2013/11/10/sports/ncaafootball/BULLDOG.html\n",
        "Identifying With the Bulldogs"
       ]
      },
      {
       "output_type": "stream",
       "stream": "stdout",
       "text": [
        "\n",
        "839\n",
        "http://www.nytimes.com/2013/11/10/magazine/lee-harvey-oswald-was-my-friend.html\n",
        "Lee Harvey Oswald Was My Friend"
       ]
      },
      {
       "output_type": "stream",
       "stream": "stdout",
       "text": [
        "\n",
        "840\n",
        "http://www.nytimes.com/2013/11/07/business/clifford-nass-researcher-on-multitasking-dies-at-55.html\n",
        "Clifford Nass, Who Warned of a Data Deluge, Dies at 55"
       ]
      },
      {
       "output_type": "stream",
       "stream": "stdout",
       "text": [
        "\n",
        "841\n",
        "http://www.nytimes.com/slideshow/2013/11/10/travel/10ARUBA.html\n",
        "From Architecture to Art in Aruba"
       ]
      },
      {
       "output_type": "stream",
       "stream": "stdout",
       "text": [
        "\n",
        "842\n",
        "http://www.nytimes.com/2013/11/10/travel/36-hours-in-aruba.html\n",
        "36 Hours in Aruba"
       ]
      },
      {
       "output_type": "stream",
       "stream": "stdout",
       "text": [
        "\n",
        "failed at: 4\n",
        "843\n",
        "http://www.nytimes.com/2013/11/10/movies/tom-hiddleston-gets-mythic-for-thor-the-dark-world.html\n",
        "Thor\u2019s Nemesis Makes Some Thunder"
       ]
      },
      {
       "output_type": "stream",
       "stream": "stdout",
       "text": [
        "\n",
        "844\n",
        "http://www.nytimes.com/2013/11/10/travel/hotel-review-hotel-monaco-in-philadelphia.html\n",
        "Hotel Review: Hotel Monaco in Philadelphia"
       ]
      },
      {
       "output_type": "stream",
       "stream": "stdout",
       "text": [
        "\n",
        "failed at: 19\n",
        "845\n",
        "http://www.nytimes.com/2013/11/10/travel/beyond-orlandos-theme-parks-a-beer-culture-grows.html\n",
        "Beyond Orlando\u2019s Theme Parks, a Beer Culture Grows"
       ]
      },
      {
       "output_type": "stream",
       "stream": "stdout",
       "text": [
        "\n",
        "846\n",
        "http://www.nytimes.com/slideshow/2013/11/10/travel/10cesaire.html\n",
        "Exploring Aim\u00e9 C\u00e9saire\u2019s Martinique"
       ]
      },
      {
       "output_type": "stream",
       "stream": "stdout",
       "text": [
        "\n",
        "847\n",
        "http://www.nytimes.com/2013/11/10/travel/beneath-martiniques-beauty-guided-by-a-poet.html\n",
        "Beneath Martinique\u2019s Beauty, Guided by a Poet"
       ]
      },
      {
       "output_type": "stream",
       "stream": "stdout",
       "text": [
        "\n",
        "848\n",
        "http://www.nytimes.com/2013/11/10/realestate/a-larger-place-in-park-slope-this-time-ours.html\n",
        "A Larger Place in Park Slope, This Time Ours"
       ]
      },
      {
       "output_type": "stream",
       "stream": "stdout",
       "text": [
        "\n",
        "849\n",
        "http://www.nytimes.com/2013/11/10/magazine/remembering-marcella.html\n",
        "Remembering Marcella"
       ]
      },
      {
       "output_type": "stream",
       "stream": "stdout",
       "text": [
        "\n",
        "850\n",
        "http://www.nytimes.com/2013/11/10/theater/backstage-nerves-through-the-ages.html\n",
        "Backstage Nerves Through the Ages"
       ]
      },
      {
       "output_type": "stream",
       "stream": "stdout",
       "text": [
        "\n",
        "851\n",
        "http://www.nytimes.com/2013/11/10/arts/music/blurring-art-artifice-and-pop-culture.html\n",
        "Blurring Art, Artifice and Pop Culture"
       ]
      },
      {
       "output_type": "stream",
       "stream": "stdout",
       "text": [
        "\n",
        "852\n",
        "http://www.nytimes.com/2013/11/10/magazine/the-coach-who-exploded.html\n",
        "The Coach Who Exploded"
       ]
      },
      {
       "output_type": "stream",
       "stream": "stdout",
       "text": [
        "\n",
        "853\n",
        "http://www.nytimes.com/2013/11/10/travel/restaurant-report-curate-in-asheville-nc.html\n",
        "Restaurant Report: C\u00farate in Asheville, N.C."
       ]
      },
      {
       "output_type": "stream",
       "stream": "stdout",
       "text": [
        "\n",
        "failed at: 10\n",
        "854\n",
        "http://www.nytimes.com/2013/11/10/travel/tasting-tokyo-guided-by-a-chef.html\n",
        "Tasting Tokyo With a Chef\u2019s Notes"
       ]
      },
      {
       "output_type": "stream",
       "stream": "stdout",
       "text": [
        "\n",
        "failed at: 8\n",
        "855\n",
        "http://www.nytimes.com/2013/11/10/realestate/on-staten-island-wilderness-with-creature-comforts.html\n",
        "On Staten Island, Wilderness With Creature Comforts"
       ]
      },
      {
       "output_type": "stream",
       "stream": "stdout",
       "text": [
        "\n",
        "856\n",
        "http://www.nytimes.com/2013/11/10/travel/in-rio-and-sao-paulo-go-north.html\n",
        "In Rio and S\u00e3o Paulo, Go North"
       ]
      },
      {
       "output_type": "stream",
       "stream": "stdout",
       "text": [
        "\n",
        "857\n",
        "http://www.nytimes.com/2013/11/10/books/review/what-would-aldous-huxley-make-of-the-way-we-consume-media-and-popular-culture.html\n",
        "What Would Aldous Huxley Make of the Way We Consume Media and Popular Culture?"
       ]
      },
      {
       "output_type": "stream",
       "stream": "stdout",
       "text": [
        "\n",
        "failed at: 10\n",
        "858\n",
        "http://www.nytimes.com/2013/11/10/magazine/outsource-your-way-to-success.html\n",
        "Outsource Your Way to Success"
       ]
      },
      {
       "output_type": "stream",
       "stream": "stdout",
       "text": [
        "\n",
        "859\n",
        "http://www.nytimes.com/2013/11/10/books/review/inside-the-list.html\n",
        "Inside the List"
       ]
      },
      {
       "output_type": "stream",
       "stream": "stdout",
       "text": [
        "\n",
        "860\n",
        "http://www.nytimes.com/aponline/2013/11/09/sports/ncaafootball/ap-fbc-t25-notre-dame-pittsburgh.html\n",
        "Pittsburgh Rallies, Upsets No. 24 Notre Dame 28-21"
       ]
      },
      {
       "output_type": "stream",
       "stream": "stdout",
       "text": [
        "\n",
        "861\n",
        "http://www.nytimes.com/aponline/2013/11/09/sports/ncaafootball/ap-fbc-t25-lsu-alabama.html\n",
        "No. 1 Alabama Overwhelms No. 10 LSU, 38-17"
       ]
      },
      {
       "output_type": "stream",
       "stream": "stdout",
       "text": [
        "\n",
        "862\n",
        "http://www.nytimes.com/aponline/2013/11/09/world/asia/ap-as-new-zealand-sex-club.html\n",
        "New Zealand Police Criticized in Facebook Sex Case"
       ]
      },
      {
       "output_type": "stream",
       "stream": "stdout",
       "text": [
        "\n",
        "863\n",
        "http://www.nytimes.com/aponline/2013/11/09/sports/hockey/ap-hkn-capitals-coyotes.html\n",
        "Coyotes Beat Capitals 4-3 in Shootout"
       ]
      },
      {
       "output_type": "stream",
       "stream": "stdout",
       "text": [
        "\n",
        "864\n",
        "http://www.nytimes.com/aponline/2013/11/09/sports/basketball/ap-bkn-mavericks-bucks.html\n",
        "Ellis Scores 18, Mavericks Beat Bucks 91-83"
       ]
      },
      {
       "output_type": "stream",
       "stream": "stdout",
       "text": [
        "\n",
        "865\n",
        "http://www.nytimes.com/aponline/2013/11/09/sports/basketball/ap-bkn-76ers-cavaliers.html\n",
        "Irving Lifts Cavs Over 76ers 127-125 in 2OT"
       ]
      },
      {
       "output_type": "stream",
       "stream": "stdout",
       "text": [
        "\n",
        "866\n",
        "http://www.nytimes.com/aponline/2013/11/09/sports/hockey/ap-hkn-penguins-blues.html\n",
        "Shattenkirk's Goal Helps Blues Beat Penguins 2-1"
       ]
      },
      {
       "output_type": "stream",
       "stream": "stdout",
       "text": [
        "\n",
        "867\n",
        "http://www.nytimes.com/aponline/2013/11/09/us/ap-as-philippines-typhoon-aid-glance.html\n",
        "Relief Efforts Begin After Philippine Typhoon"
       ]
      },
      {
       "output_type": "stream",
       "stream": "stdout",
       "text": [
        "\n",
        "868\n",
        "http://www.nytimes.com/reuters/2013/11/09/business/09reuters-boeing-dreamliner-jal.html\n",
        "JAL Reports Problem With 787 Battery on Helsinki-Tokyo Flight"
       ]
      },
      {
       "output_type": "stream",
       "stream": "stdout",
       "text": [
        "\n",
        "869\n",
        "http://www.nytimes.com/aponline/2013/11/09/sports/basketball/ap-bkn-clippers-rockets.html\n",
        "Griffin, Redick Lead Clippers Past Rockets, 107-94"
       ]
      },
      {
       "output_type": "stream",
       "stream": "stdout",
       "text": [
        "\n",
        "870\n",
        "http://www.nytimes.com/aponline/2013/11/09/sports/ncaafootball/ap-fbc-t25-houston-ucf.html\n",
        "No. 19 UCF Hangs On for 19-14 Win Over Houston"
       ]
      },
      {
       "output_type": "stream",
       "stream": "stdout",
       "text": [
        "\n",
        "871\n",
        "http://www.nytimes.com/aponline/2013/11/09/sports/basketball/ap-bkn-warriors-grizzlies.html\n",
        "Randolph Leads Grizzlies Over Golden State"
       ]
      },
      {
       "output_type": "stream",
       "stream": "stdout",
       "text": [
        "\n",
        "872\n",
        "http://www.nytimes.com/aponline/2013/11/09/sports/hockey/ap-hkn-blackhawks-stars.html\n",
        "Blackhawks Topple Stars 5-2"
       ]
      },
      {
       "output_type": "stream",
       "stream": "stdout",
       "text": [
        "\n",
        "873\n",
        "http://www.nytimes.com/aponline/2013/11/09/sports/ncaafootball/ap-fbc-t25-virginia-tech-miami.html\n",
        "Virginia Tech Rolls Past No. 14 Miami, 42-24"
       ]
      },
      {
       "output_type": "stream",
       "stream": "stdout",
       "text": [
        "\n",
        "874\n",
        "http://www.nytimes.com/aponline/2013/11/09/sports/hockey/ap-hkn-islanders-blue-jackets.html\n",
        "Blue Jackets Beat Islanders 5-2 to End 5-Game Skid"
       ]
      },
      {
       "output_type": "stream",
       "stream": "stdout",
       "text": [
        "\n",
        "875\n",
        "http://www.nytimes.com/aponline/2013/11/09/sports/basketball/ap-bkn-celtics-heat.html\n",
        "Green's 3 Lifts Celtics to 111-110 Win Over Heat"
       ]
      },
      {
       "output_type": "stream",
       "stream": "stdout",
       "text": [
        "\n",
        "876\n",
        "http://www.nytimes.com/aponline/2013/11/09/sports/ncaabasketball/ap-bkw-t25-grambling-st-baylor.html\n",
        "Sims 28 Points, No. 10 Baylor 110-55 Over GSU"
       ]
      },
      {
       "output_type": "stream",
       "stream": "stdout",
       "text": [
        "\n",
        "877\n",
        "http://www.nytimes.com/aponline/2013/11/09/sports/basketball/ap-bkn-magic-hawks.html\n",
        "Teague, Millsap Pace Hawks Past Magic"
       ]
      },
      {
       "output_type": "stream",
       "stream": "stdout",
       "text": [
        "\n",
        "878\n",
        "http://www.nytimes.com/aponline/2013/11/09/sports/hockey/ap-hkn-wild-hurricanes.html\n",
        "Pominville Lifts Wild Over Hurricanes 3-2 in SO"
       ]
      },
      {
       "output_type": "stream",
       "stream": "stdout",
       "text": [
        "\n",
        "879\n",
        "http://www.nytimes.com/aponline/2013/11/09/sports/basketball/ap-bkn-pacers-nets.html\n",
        "Pacers Beat Nets to Improve NBA-Best Start to 7-0"
       ]
      },
      {
       "output_type": "stream",
       "stream": "stdout",
       "text": [
        "\n",
        "880\n",
        "http://www.nytimes.com/aponline/2013/11/09/sports/hockey/ap-hkn-maple-leafs-bruins.html\n",
        "Bergeron Scores Winner; Bruins Beat Leafs 3-1"
       ]
      },
      {
       "output_type": "stream",
       "stream": "stdout",
       "text": [
        "\n",
        "881\n",
        "http://www.nytimes.com/aponline/2013/11/09/sports/hockey/ap-hkn-lightning-red-wings.html\n",
        "Lightning Slip Past Red Wings 4-3 in OT"
       ]
      },
      {
       "output_type": "stream",
       "stream": "stdout",
       "text": [
        "\n",
        "882\n",
        "http://www.nytimes.com/aponline/2013/11/09/sports/ap-car-nhra.html\n",
        "Shawn Langdon Wins Top Fuel Season Title"
       ]
      },
      {
       "output_type": "stream",
       "stream": "stdout",
       "text": [
        "\n",
        "883\n",
        "http://www.nytimes.com/aponline/2013/11/09/sports/ncaabasketball/ap-bkc-t25-bryant-gonzaga.html\n",
        "No. 15 Gonzaga Tops Bryant 100-76 in Season Opener"
       ]
      },
      {
       "output_type": "stream",
       "stream": "stdout",
       "text": [
        "\n",
        "884\n",
        "http://www.nytimes.com/reuters/2013/11/09/us/09reuters-usa-balloon-explosion.html\n",
        "Hot Air Balloon Explosion in California Injures Four"
       ]
      },
      {
       "output_type": "stream",
       "stream": "stdout",
       "text": [
        "\n",
        "885\n",
        "http://www.nytimes.com/aponline/2013/11/09/us/ap-us-stop-and-frisk.html\n",
        "NYC Moves to Vacate Judge's Stop-Frisk Decisions"
       ]
      },
      {
       "output_type": "stream",
       "stream": "stdout",
       "text": [
        "\n",
        "886\n",
        "http://www.nytimes.com/aponline/2013/11/09/sports/basketball/ap-bkn-jazz-raptors.html\n",
        "Hansbrough Has 23, Leads Raptors Over Winless Jazz"
       ]
      },
      {
       "output_type": "stream",
       "stream": "stdout",
       "text": [
        "\n",
        "887\n",
        "http://www.nytimes.com/aponline/2013/11/09/sports/ncaabasketball/ap-bkw-t25-loyola-chicago-louisville.html\n",
        "Smith Leads Louisville to Rout of Loyola Chicago"
       ]
      },
      {
       "output_type": "stream",
       "stream": "stdout",
       "text": [
        "\n",
        "888\n",
        "http://www.nytimes.com/2013/11/09/world/europe/09iht-germany09.html\n",
        "Germany Looks Back on Pogroms and Saviors"
       ]
      },
      {
       "output_type": "stream",
       "stream": "stdout",
       "text": [
        "\n",
        "889\n",
        "http://www.nytimes.com/aponline/2013/11/09/us/ap-us-middle-school-shooting.html\n",
        "Schools Chief: No Evidence Nevada Shooter Bullied"
       ]
      },
      {
       "output_type": "stream",
       "stream": "stdout",
       "text": [
        "\n",
        "890\n",
        "http://www.nytimes.com/reuters/2013/11/09/world/middleeast/09reuters-iran-nuclear-kerry.html\n",
        "Kerry Says World Powers Closer to Nuclear Deal With Iran"
       ]
      },
      {
       "output_type": "stream",
       "stream": "stdout",
       "text": [
        "\n",
        "891\n",
        "http://www.nytimes.com/aponline/2013/11/09/sports/golf/ap-glf-legends-tour.html\n",
        "Rinker Leads Legends Tour Open"
       ]
      },
      {
       "output_type": "stream",
       "stream": "stdout",
       "text": [
        "\n",
        "892\n",
        "http://www.nytimes.com/reuters/2013/11/09/world/asia/09reuters-philippines-typhoon-casualty.html\n",
        "Philippines Estimates at Least 10,000 Died From Super Typhoon"
       ]
      },
      {
       "output_type": "stream",
       "stream": "stdout",
       "text": [
        "\n",
        "893\n",
        "http://www.nytimes.com/reuters/2013/11/09/world/americas/09reuters-venezuela-missuniverse.html\n",
        "Brief Unity in Venezuela Over Miss Universe Win"
       ]
      },
      {
       "output_type": "stream",
       "stream": "stdout",
       "text": [
        "\n",
        "894\n",
        "http://www.nytimes.com/aponline/2013/11/09/sports/ncaafootball/ap-fbc-t25-mississippi-st-texas-am.html\n",
        "Manziel Leads No. 11 A&M Over Mississippi St 51-41"
       ]
      },
      {
       "output_type": "stream",
       "stream": "stdout",
       "text": [
        "\n",
        "895\n",
        "http://www.nytimes.com/aponline/2013/11/09/sports/ncaafootball/ap-fbc-t25-kansas-oklahoma-st.html\n",
        "Chelf Leads Oklahoma St to 42-6 Win Over Kansas"
       ]
      },
      {
       "output_type": "stream",
       "stream": "stdout",
       "text": [
        "\n",
        "896\n",
        "http://www.nytimes.com/aponline/2013/11/09/sports/ncaafootball/ap-fbc-t25-arizona-st-utah.html\n",
        "Kelly Leads No. 23 Arizona St Rally to Beat Utah"
       ]
      },
      {
       "output_type": "stream",
       "stream": "stdout",
       "text": [
        "\n",
        "897\n",
        "http://www.nytimes.com/aponline/2013/11/09/us/ap-us-powerball-winner-nj.html\n",
        "NJ Man, Ex-Girlfriend in Court Over Powerball Win"
       ]
      },
      {
       "output_type": "stream",
       "stream": "stdout",
       "text": [
        "\n",
        "898\n",
        "http://www.nytimes.com/aponline/2013/11/09/us/ap-us-balloon-crash.html\n",
        "4 Hurt in S. California Hot Air Balloon Explosion"
       ]
      },
      {
       "output_type": "stream",
       "stream": "stdout",
       "text": [
        "\n",
        "899\n",
        "http://www.nytimes.com/reuters/2013/11/09/world/middleeast/09reuters-iran-nuclear-ashton.html\n",
        "Iran Says Hopes for Nuclear Deal at Next Meeting"
       ]
      },
      {
       "output_type": "stream",
       "stream": "stdout",
       "text": [
        "\n",
        "900\n",
        "http://www.nytimes.com/aponline/2013/11/09/sports/ncaafootball/ap-fbc-t25-byu-wisconsin.html\n",
        "White Has 3 TDs, No. 21 Badgers Ground BYU 27-17"
       ]
      },
      {
       "output_type": "stream",
       "stream": "stdout",
       "text": [
        "\n",
        "901\n",
        "http://www.nytimes.com/reuters/2013/11/09/sports/cricket/09reuters-cricket-ashes-england.html\n",
        "England Sweat on Pietersen, Prior Ahead of Ashes"
       ]
      },
      {
       "output_type": "stream",
       "stream": "stdout",
       "text": [
        "\n",
        "902\n",
        "http://www.nytimes.com/aponline/2013/11/09/sports/tennis/ap-ten-gasquet-coach.html\n",
        "Coach Piatti Dumps Gasquet at ATP Finals"
       ]
      },
      {
       "output_type": "stream",
       "stream": "stdout",
       "text": [
        "\n",
        "903\n",
        "http://www.nytimes.com/reuters/2013/11/09/sports/football/09reuters-nfl-dolphins-incognito.html\n",
        "Dolphins Say Took Action on Incognito After 2012 Incident"
       ]
      },
      {
       "output_type": "stream",
       "stream": "stdout",
       "text": [
        "\n",
        "904\n",
        "http://www.nytimes.com/aponline/2013/11/09/sports/ap-car-nascar-phoenix-nationwide.html\n",
        "Kyle Busch Picks Up 12th Nationwide Series Victory"
       ]
      },
      {
       "output_type": "stream",
       "stream": "stdout",
       "text": [
        "\n",
        "905\n",
        "http://www.nytimes.com/reuters/2013/11/09/world/middleeast/09reuters-iran-nuclear-talks.html\n",
        "Iran Nuclear Talks in Geneva Conclude, No Word on Outcome"
       ]
      },
      {
       "output_type": "stream",
       "stream": "stdout",
       "text": [
        "\n",
        "906\n",
        "http://www.nytimes.com/aponline/2013/11/09/us/ap-us-gay-marriage-hawaii.html\n",
        "Key Hawaii Senator: Gay Marriage to Easily Pass"
       ]
      },
      {
       "output_type": "stream",
       "stream": "stdout",
       "text": [
        "\n",
        "907\n",
        "http://www.nytimes.com/reuters/2013/11/09/world/asia/09reuters-japan-quake.html\n",
        "Tokyo Area Hit by Magnitude 5.5 Earthquake"
       ]
      },
      {
       "output_type": "stream",
       "stream": "stdout",
       "text": [
        "\n",
        "908\n",
        "http://www.nytimes.com/aponline/2013/11/09/sports/ncaabasketball/ap-bkw-t25-hartford-uconn.html\n",
        "No. 1 UConn Routs Hartford 89-34 in Season Opener"
       ]
      },
      {
       "output_type": "stream",
       "stream": "stdout",
       "text": [
        "\n",
        "909\n",
        "http://www.nytimes.com/reuters/2013/11/09/sports/golf/09reuters-golf-pga.html\n",
        "Birdie Blitz Puts Baird and Kirk in Front at Sea Island"
       ]
      },
      {
       "output_type": "stream",
       "stream": "stdout",
       "text": [
        "\n",
        "910\n",
        "http://www.nytimes.com/aponline/2013/11/09/us/ap-us-people-anthony-mackie.html\n",
        "Actor Mackie Charged With Drunken Driving in NYC"
       ]
      },
      {
       "output_type": "stream",
       "stream": "stdout",
       "text": [
        "\n",
        "911\n",
        "http://www.nytimes.com/aponline/2013/11/09/world/americas/ap-lt-venezuela-miss-universe.html\n",
        "Venezuela Churning Out Beauty Queens Amid Crisis"
       ]
      },
      {
       "output_type": "stream",
       "stream": "stdout",
       "text": [
        "\n",
        "912\n",
        "http://wordplay.blogs.nytimes.com/2013/11/09/bye-lines/\n",
        "Bye-Lines"
       ]
      },
      {
       "output_type": "stream",
       "stream": "stdout",
       "text": [
        "\n",
        "failed at: 1\n",
        "913\n",
        "http://www.nytimes.com/aponline/2013/11/09/sports/ap-car-nascar-phoenix-.html\n",
        "Kenseth Playing With House Money in Title Race"
       ]
      },
      {
       "output_type": "stream",
       "stream": "stdout",
       "text": [
        "\n",
        "914\n",
        "http://www.nytimes.com/reuters/2013/11/09/world/africa/09reuters-libya-security.html\n",
        "Two Policemen Killed in Libya's Benghazi After Army Vows to Restore Order"
       ]
      },
      {
       "output_type": "stream",
       "stream": "stdout",
       "text": [
        "\n",
        "915\n",
        "http://www.nytimes.com/aponline/2013/11/09/us/ap-ap-philippines-typhoon-photo-gallery.html\n",
        "AP PHOTOS: High Death Toll Feared in Typhoon"
       ]
      },
      {
       "output_type": "stream",
       "stream": "stdout",
       "text": [
        "\n",
        "916\n",
        "http://www.nytimes.com/reuters/2013/11/09/sports/soccer/09reuters-soccer-italy.html\n",
        "Howler by Inter's On-Loan Keeper Helps Them Beat Livorno"
       ]
      },
      {
       "output_type": "stream",
       "stream": "stdout",
       "text": [
        "\n",
        "917\n",
        "http://www.nytimes.com/reuters/2013/11/09/business/09reuters-usa-boeing-assembly.html\n",
        "Washington State Lawmakers Pass Tax Breaks, Aiming to Win Boeing Work"
       ]
      },
      {
       "output_type": "stream",
       "stream": "stdout",
       "text": [
        "\n",
        "918\n",
        "http://www.nytimes.com/aponline/2013/11/09/sports/hockey/ap-hkn-panthers-senators.html\n",
        "Turris Leads Senators Past Panthers, 3-2"
       ]
      },
      {
       "output_type": "stream",
       "stream": "stdout",
       "text": [
        "\n",
        "919\n",
        "http://thecaucus.blogs.nytimes.com/2013/11/09/sunday-breakfast-menu-nov-10/\n",
        "Sunday Breakfast Menu, Nov. 10"
       ]
      },
      {
       "output_type": "stream",
       "stream": "stdout",
       "text": [
        "\n",
        "failed at: 1\n",
        "920\n",
        "http://www.nytimes.com/reuters/2013/11/09/sports/rugby/09reuters-rugby-france.html\n",
        "New Zealand Keep Perfect 2013 Record With France Win"
       ]
      },
      {
       "output_type": "stream",
       "stream": "stdout",
       "text": [
        "\n",
        "921\n",
        "http://www.nytimes.com/reuters/2013/11/09/us/09reuters-usa-florida-school.html\n",
        "Florida School Board Votes to Remove Name of Confederate General"
       ]
      },
      {
       "output_type": "stream",
       "stream": "stdout",
       "text": [
        "\n",
        "922\n",
        "http://www.nytimes.com/reuters/2013/11/09/sports/rugby/09reuters-rugby-ireland-schmidt.html\n",
        "Ireland's Schmidt Just Relieved to Get Going"
       ]
      },
      {
       "output_type": "stream",
       "stream": "stdout",
       "text": [
        "\n",
        "923\n",
        "http://www.nytimes.com/aponline/2013/11/09/sports/golf/ap-glf-mcgladrey-classic.html\n",
        "Kirk, Baird Tied for Lead at Sea Island"
       ]
      },
      {
       "output_type": "stream",
       "stream": "stdout",
       "text": [
        "\n",
        "924\n",
        "http://kristof.blogs.nytimes.com/2013/11/09/the-oklahoma-model-for-american-pre-k/\n",
        "The Oklahoma Model for American Pre-K"
       ]
      },
      {
       "output_type": "stream",
       "stream": "stdout",
       "text": [
        "\n",
        "925\n",
        "http://www.nytimes.com/aponline/2013/11/09/sports/ncaabasketball/ap-bkc-t25-emporia-st-wichita-st.html\n",
        "No. 16 Wichita State Crushes Emporia State 93-50"
       ]
      },
      {
       "output_type": "stream",
       "stream": "stdout",
       "text": [
        "\n",
        "926\n",
        "http://www.nytimes.com/aponline/2013/11/09/sports/football/ap-fbn-vikings-simpson-dwi.html\n",
        "Vikings WR Simpson Arrested on Suspicion of DWI"
       ]
      },
      {
       "output_type": "stream",
       "stream": "stdout",
       "text": [
        "\n",
        "927\n",
        "http://www.nytimes.com/reuters/2013/11/09/world/africa/09reuters-saudi-foreignworkers.html\n",
        "Saudi Police Clash With Foreign Workers After Visa Raids"
       ]
      },
      {
       "output_type": "stream",
       "stream": "stdout",
       "text": [
        "\n",
        "928\n",
        "http://www.nytimes.com/aponline/2013/11/09/sports/hockey/ap-hkn-oilers-flyers.html\n",
        "Giroux Scores for Flyers in 4-2 Win vs Oilers"
       ]
      },
      {
       "output_type": "stream",
       "stream": "stdout",
       "text": [
        "\n",
        "929\n",
        "http://www.nytimes.com/aponline/2013/11/09/sports/ncaafootball/ap-fbc-t25-kansas-st-texas-tech.html\n",
        "Kansas St Beats No. 25 Texas Tech 49-26"
       ]
      },
      {
       "output_type": "stream",
       "stream": "stdout",
       "text": [
        "\n",
        "930\n",
        "http://www.nytimes.com/aponline/2013/11/09/world/europe/ap-eu-russia-miss-universe.html\n",
        "Venezuelan Is the New Miss Universe"
       ]
      },
      {
       "output_type": "stream",
       "stream": "stdout",
       "text": [
        "\n",
        "931\n",
        "http://www.nytimes.com/aponline/2013/11/09/sports/ncaabasketball/ap-bkc-t25-coll-of-charleston-louisville.html\n",
        "No. 3 Louisville Opens Title Defense With Easy Win"
       ]
      },
      {
       "output_type": "stream",
       "stream": "stdout",
       "text": [
        "\n",
        "932\n",
        "http://www.nytimes.com/aponline/2013/11/09/us/ap-fbn-dolphins-turmoil.html\n",
        "Dolphins Fend Off Questions About Harassment Case"
       ]
      },
      {
       "output_type": "stream",
       "stream": "stdout",
       "text": [
        "\n",
        "933\n",
        "http://www.nytimes.com/aponline/2013/11/09/sports/ncaafootball/ap-fbc-t25-missouri-kentucky.html\n",
        "Mauk Leads No. 9 Missouri Past Kentucky, 48-17"
       ]
      },
      {
       "output_type": "stream",
       "stream": "stdout",
       "text": [
        "\n",
        "934\n",
        "http://www.nytimes.com/aponline/2013/11/09/sports/ncaafootball/ap-fbc-t25-florida-state-wake-forest.html\n",
        "Winston, Defense Lead No. 3 FSU Past Wake, 59-3"
       ]
      },
      {
       "output_type": "stream",
       "stream": "stdout",
       "text": [
        "\n",
        "935\n",
        "http://www.nytimes.com/reuters/2013/11/09/us/politics/09reuters-usa-unesco-whitehouse.html\n",
        "White House Urges Congress to Regain U.S. UNESCO Vote"
       ]
      },
      {
       "output_type": "stream",
       "stream": "stdout",
       "text": [
        "\n",
        "936\n",
        "http://www.nytimes.com/aponline/2013/11/09/sports/ncaabasketball/ap-bkw-t25-stanford-boston-college.html\n",
        "No. 3 Stanford Tops Boston College 83-71"
       ]
      },
      {
       "output_type": "stream",
       "stream": "stdout",
       "text": [
        "\n",
        "937\n",
        "http://www.nytimes.com/reuters/2013/11/09/sports/soccer/09reuters-soccer-germany-technology.html\n",
        "New Bundesliga Goal Line Controversy as Nuremberg Denied"
       ]
      },
      {
       "output_type": "stream",
       "stream": "stdout",
       "text": [
        "\n",
        "938\n",
        "http://www.nytimes.com/aponline/2013/11/09/sports/ncaafootball/ap-fbc-t25-auburn-tennessee.html\n",
        "No. 7 Auburn Beats Tennessee in 55-23 Runaway"
       ]
      },
      {
       "output_type": "stream",
       "stream": "stdout",
       "text": [
        "\n",
        "939\n",
        "http://www.nytimes.com/reuters/2013/11/09/sports/rugby/09reuters-rugby-ireland.html\n",
        "Ireland Beat Samoa to Give Schmidt a Winning Start"
       ]
      },
      {
       "output_type": "stream",
       "stream": "stdout",
       "text": [
        "\n",
        "940\n",
        "http://www.nytimes.com/aponline/2013/11/09/sports/ncaabasketball/ap-bkw-t25-nc-wilmington-notre-dame.html\n",
        "No. 6 Notre Dame Beats NC Wilmington"
       ]
      },
      {
       "output_type": "stream",
       "stream": "stdout",
       "text": [
        "\n",
        "941\n",
        "http://www.nytimes.com/aponline/2013/11/09/sports/tennis/ap-ten-atp-finals-bryans.html\n",
        "Bryan Brothers Advance to Semifinal at ATP Finals"
       ]
      },
      {
       "output_type": "stream",
       "stream": "stdout",
       "text": [
        "\n",
        "942\n",
        "http://www.nytimes.com/reuters/2013/11/09/sports/rugby/09reuters-rugby-wales.html\n",
        "Springboks Continue Wales Domination With Cardiff Win"
       ]
      },
      {
       "output_type": "stream",
       "stream": "stdout",
       "text": [
        "\n",
        "943\n",
        "http://www.nytimes.com/reuters/2013/11/09/sports/tennis/09reuters-tennis-atp-federer.html\n",
        "Underdog Federer to Come Out Swinging Against Nadal"
       ]
      },
      {
       "output_type": "stream",
       "stream": "stdout",
       "text": [
        "\n",
        "944\n",
        "http://www.nytimes.com/reuters/2013/11/09/sports/football/09reuters-usa-football-simpson.html\n",
        "Vikings' Wide Receiver Simpson Arrested on DWI Charge"
       ]
      },
      {
       "output_type": "stream",
       "stream": "stdout",
       "text": [
        "\n",
        "945\n",
        "http://www.nytimes.com/reuters/2013/11/09/sports/soccer/09reuters-soccer-england-chelsea.html\n",
        "Mourinho and Clarke Share the Points-And a Kiss"
       ]
      },
      {
       "output_type": "stream",
       "stream": "stdout",
       "text": [
        "\n",
        "946\n",
        "http://www.nytimes.com/reuters/2013/11/09/world/asia/09reuters-maldives-election-result.html\n",
        "Maldives Election Result May Prolong Unrest"
       ]
      },
      {
       "output_type": "stream",
       "stream": "stdout",
       "text": [
        "\n",
        "947\n",
        "http://www.nytimes.com/aponline/2013/11/09/science/ap-ap-us-sci-hurricane-vs-typhoon.html\n",
        "Hurricane? Cyclone? Typhoon? Here's the Difference"
       ]
      },
      {
       "output_type": "stream",
       "stream": "stdout",
       "text": [
        "\n",
        "948\n",
        "http://www.nytimes.com/aponline/2013/11/09/sports/ncaabasketball/ap-bkc-t25-morgan-st-ohio-st.html\n",
        "Scott, Ross Start, Star for No. 11 OSU"
       ]
      },
      {
       "output_type": "stream",
       "stream": "stdout",
       "text": [
        "\n",
        "949\n",
        "http://www.nytimes.com/reuters/2013/11/09/arts/09reuters-ncaa-tv-lawsuit.html\n",
        "College Athletes Can Seek Cut of TV Money: U.S. Judge"
       ]
      },
      {
       "output_type": "stream",
       "stream": "stdout",
       "text": [
        "\n",
        "950\n",
        "http://www.nytimes.com/aponline/2013/11/09/sports/ncaafootball/ap-fbc-e-michigan-coach-fired.html\n",
        "EMU Fired Coach Regrets 'Inappropriate Language'"
       ]
      },
      {
       "output_type": "stream",
       "stream": "stdout",
       "text": [
        "\n",
        "951\n",
        "http://www.nytimes.com/reuters/2013/11/09/sports/soccer/09reuters-soccer-england-fulham.html\n",
        "Jol Vows to Fight on Despite Woeful Fulham Performance"
       ]
      },
      {
       "output_type": "stream",
       "stream": "stdout",
       "text": [
        "\n",
        "952\n",
        "http://www.nytimes.com/reuters/2013/11/09/sports/tennis/09reuters-tennis-atp.html\n",
        "Fighting Federer Claws His Way to Semi-Finals"
       ]
      },
      {
       "output_type": "stream",
       "stream": "stdout",
       "text": [
        "\n",
        "953\n",
        "http://www.nytimes.com/reuters/2013/11/09/business/09reuters-france-tax.html\n",
        "France to Postpone Contested New Truck Tax by Six Months-Paper"
       ]
      },
      {
       "output_type": "stream",
       "stream": "stdout",
       "text": [
        "\n",
        "954\n",
        "http://www.nytimes.com/aponline/2013/11/09/us/ap-us-malcolm-x-diaries.html\n",
        "Malcolm X Heirs Seek to Block Diary Publication"
       ]
      },
      {
       "output_type": "stream",
       "stream": "stdout",
       "text": [
        "\n",
        "955\n",
        "http://www.nytimes.com/reuters/2013/11/09/world/americas/09reuters-colombia-shooting-bar.html\n",
        "Gunman Kills Eight in Bar in Cali, Colombia"
       ]
      },
      {
       "output_type": "stream",
       "stream": "stdout",
       "text": [
        "\n",
        "956\n",
        "http://www.nytimes.com/aponline/2013/11/09/us/ap-us-bank-of-america-countrywide.html\n",
        "US Seeks $864M From BofA Over Countrywide Loans"
       ]
      },
      {
       "output_type": "stream",
       "stream": "stdout",
       "text": [
        "\n",
        "957\n",
        "http://www.nytimes.com/reuters/2013/11/09/sports/soccer/09reuters-soccer-france.html\n",
        "Ibrahimovic Hat-Trick Puts PSG Four Points Clear"
       ]
      },
      {
       "output_type": "stream",
       "stream": "stdout",
       "text": [
        "\n",
        "958\n",
        "http://www.nytimes.com/reuters/2013/11/09/us/09reuters-space-satellite.html\n",
        "European Satellite Heading Back Toward Earth"
       ]
      },
      {
       "output_type": "stream",
       "stream": "stdout",
       "text": [
        "\n",
        "959\n",
        "http://www.nytimes.com/aponline/2013/11/09/us/ap-box-boxer-killed-arrests.html\n",
        "Arrests Made in Death of National Champ Boxer"
       ]
      },
      {
       "output_type": "stream",
       "stream": "stdout",
       "text": [
        "\n",
        "960\n",
        "http://www.nytimes.com/aponline/2013/11/09/world/africa/ap-af-mali-tuareg-attack.html\n",
        "3 Tuareg Rebels Killed in Northern Mali"
       ]
      },
      {
       "output_type": "stream",
       "stream": "stdout",
       "text": [
        "\n",
        "961\n",
        "http://www.nytimes.com/reuters/2013/11/09/sports/rugby/09reuters-rugby-england-quotes.html\n",
        "England Take Positives From Game of Two Halves"
       ]
      },
      {
       "output_type": "stream",
       "stream": "stdout",
       "text": [
        "\n",
        "962\n",
        "http://krugman.blogs.nytimes.com/2013/11/09/more-notes-on-france-bashing/\n",
        "More Notes On France-Bashing"
       ]
      },
      {
       "output_type": "stream",
       "stream": "stdout",
       "text": [
        "\n",
        "963\n",
        "http://www.nytimes.com/reuters/2013/11/09/world/africa/09reuters-mali-army.html\n",
        "Mali's President Replaces Junta-Linked Army Chief"
       ]
      },
      {
       "output_type": "stream",
       "stream": "stdout",
       "text": [
        "\n",
        "964\n",
        "http://www.nytimes.com/aponline/2013/11/09/us/ap-us-aircraft-carrier-christening.html\n",
        "Navy Christens Next Generation of Aircraft Carrier"
       ]
      },
      {
       "output_type": "stream",
       "stream": "stdout",
       "text": [
        "\n",
        "965\n",
        "http://www.nytimes.com/reuters/2013/11/09/business/09reuters-airindia-dreamliners-software.html\n",
        "Air India Dreamliners to Get Software Upgrade Starting Dec"
       ]
      },
      {
       "output_type": "stream",
       "stream": "stdout",
       "text": [
        "\n",
        "966\n",
        "http://www.nytimes.com/reuters/2013/11/09/sports/soccer/09reuters-soccer-asian-champions.html\n",
        "China Rejoices as Guangzhou Win Champions League"
       ]
      },
      {
       "output_type": "stream",
       "stream": "stdout",
       "text": [
        "\n",
        "967\n",
        "http://www.nytimes.com/aponline/2013/11/09/world/middleeast/ap-ml-israel-us.html\n",
        "Crisis Brewing in Israeli-US Relations"
       ]
      },
      {
       "output_type": "stream",
       "stream": "stdout",
       "text": [
        "\n",
        "968\n",
        "http://www.nytimes.com/aponline/2013/11/09/us/ap-us-doolittle-raiders-glance.html\n",
        "Only 4 of Original 80 WWII Raiders Left"
       ]
      },
      {
       "output_type": "stream",
       "stream": "stdout",
       "text": [
        "\n",
        "969\n",
        "http://www.nytimes.com/aponline/2013/11/09/us/ap-us-homeless-veteran-makeover-video.html\n",
        "Video of Homeless Vet's Makeover Viewed 5M Times"
       ]
      },
      {
       "output_type": "stream",
       "stream": "stdout",
       "text": [
        "\n",
        "970\n",
        "http://www.nytimes.com/aponline/2013/11/09/world/middleeast/ap-ml-iraq.html\n",
        "Bombings Around Iraqi Capital Baghdad Kill 5"
       ]
      },
      {
       "output_type": "stream",
       "stream": "stdout",
       "text": [
        "\n",
        "971\n",
        "http://www.nytimes.com/reuters/2013/11/09/sports/soccer/09reuters-soccer-england.html\n",
        "Chelsea Survive, Liverpool and Saints Shine"
       ]
      },
      {
       "output_type": "stream",
       "stream": "stdout",
       "text": [
        "\n",
        "972\n",
        "http://www.nytimes.com/aponline/2013/11/09/us/ap-us-people-larry-king.html\n",
        "Larry King Returns to the Radio"
       ]
      },
      {
       "output_type": "stream",
       "stream": "stdout",
       "text": [
        "\n",
        "973\n",
        "http://www.nytimes.com/aponline/2013/11/09/sports/tennis/ap-ten-atp-finals.html\n",
        "Federer Advances to Face Nadal in ATP Semifinal"
       ]
      },
      {
       "output_type": "stream",
       "stream": "stdout",
       "text": [
        "\n",
        "974\n",
        "http://www.nytimes.com/aponline/2013/11/09/us/ap-us-teenager-executed.html\n",
        "New Trial Sought for SC Boy, 14, Executed in 1944"
       ]
      },
      {
       "output_type": "stream",
       "stream": "stdout",
       "text": [
        "\n",
        "975\n",
        "http://www.nytimes.com/reuters/2013/11/09/sports/golf/09reuters-golf-european-stenson.html\n",
        "Stenson Fumes at Mobile Phone Noise and Camera Flashes"
       ]
      },
      {
       "output_type": "stream",
       "stream": "stdout",
       "text": [
        "\n",
        "976\n",
        "http://www.nytimes.com/reuters/2013/11/09/world/middleeast/09reuters-iran-nuclear-talks-resume.html\n",
        "Iran Nuclear Talks Likely to End Without Agreement: Diplomats"
       ]
      },
      {
       "output_type": "stream",
       "stream": "stdout",
       "text": [
        "\n",
        "977\n",
        "http://www.nytimes.com/aponline/2013/11/09/us/ap-us-rapper-dmx-bankruptcy.html\n",
        "Judge in NY Rejects DMX's Bankruptcy Filing"
       ]
      },
      {
       "output_type": "stream",
       "stream": "stdout",
       "text": [
        "\n",
        "978\n",
        "http://www.nytimes.com/aponline/2013/11/09/us/ap-us-harvard-finances.html\n",
        "Harvard's Deficit Soars to $34 Million"
       ]
      },
      {
       "output_type": "stream",
       "stream": "stdout",
       "text": [
        "\n",
        "979\n",
        "http://www.nytimes.com/aponline/2013/11/09/us/ap-us-jfk-across-the-generations.html\n",
        "AP Essay: For Boomers, JFK Death Ripples Still"
       ]
      },
      {
       "output_type": "stream",
       "stream": "stdout",
       "text": [
        "\n",
        "980\n",
        "http://www.nytimes.com/reuters/2013/11/09/world/africa/09reuters-nigeria-bokoharam.html\n",
        "Nigerian Army Clashes With Boko Haram in Kano, Seven Killed"
       ]
      },
      {
       "output_type": "stream",
       "stream": "stdout",
       "text": [
        "\n",
        "981\n",
        "http://www.nytimes.com/reuters/2013/11/09/sports/soccer/09reuters-soccer-spain.html\n",
        "Remarkable Ronaldo Leads Real Romp"
       ]
      },
      {
       "output_type": "stream",
       "stream": "stdout",
       "text": [
        "\n",
        "982\n",
        "http://wordplay.blogs.nytimes.com/2013/11/09/variety-split-decisions-5/\n",
        "Variety: Split Decisions"
       ]
      },
      {
       "output_type": "stream",
       "stream": "stdout",
       "text": [
        "\n",
        "failed at: 1\n",
        "983\n",
        "http://www.nytimes.com/reuters/2013/11/09/us/09reuters-usa-crime-doctor.html\n",
        "Utah Doctor Convicted of Drugging, Drowning Wife in Bathtub"
       ]
      },
      {
       "output_type": "stream",
       "stream": "stdout",
       "text": [
        "\n",
        "984\n",
        "http://www.nytimes.com/aponline/2013/11/09/us/ap-us-obama-golf.html\n",
        "Obama, Former NBA Star Golf at 'Caddyshack' Course"
       ]
      },
      {
       "output_type": "stream",
       "stream": "stdout",
       "text": [
        "\n",
        "985\n",
        "http://www.nytimes.com/aponline/2013/11/09/us/ap-us-ny-casinos-saratoga.html\n",
        "New Casino Not a Sure Bet Among Saratoga Residents"
       ]
      },
      {
       "output_type": "stream",
       "stream": "stdout",
       "text": [
        "\n",
        "986\n",
        "http://www.nytimes.com/aponline/2013/11/09/world/africa/ap-af-ghana-cabinet-minister-fired.html\n",
        "Ghana: President Sacks Minister After Leaked Tape"
       ]
      },
      {
       "output_type": "stream",
       "stream": "stdout",
       "text": [
        "\n",
        "987\n",
        "http://www.nytimes.com/reuters/2013/11/09/sports/soccer/09reuters-soccer-germany.html\n",
        "Dortmund Lose Again While Bayern Set New Record"
       ]
      },
      {
       "output_type": "stream",
       "stream": "stdout",
       "text": [
        "\n",
        "988\n",
        "http://www.nytimes.com/reuters/2013/11/09/sports/golf/09reuters-golf-european-woods.html\n",
        "Good, Bad and Ugly as Tiger Takes on the Trees in Turkey"
       ]
      },
      {
       "output_type": "stream",
       "stream": "stdout",
       "text": [
        "\n",
        "989\n",
        "http://www.nytimes.com/reuters/2013/11/09/sports/rugby/09reuters-rugby-england.html\n",
        "Solid England Tame Pumas at Gloomy Twickenham"
       ]
      },
      {
       "output_type": "stream",
       "stream": "stdout",
       "text": [
        "\n",
        "990\n",
        "http://www.nytimes.com/reuters/2013/11/09/sports/rugby/09reuters-rugby-italy.html\n",
        "Seven-Try Australia Put Italy to the Sword"
       ]
      },
      {
       "output_type": "stream",
       "stream": "stdout",
       "text": [
        "\n",
        "991\n",
        "http://www.nytimes.com/aponline/2013/11/09/us/ap-us-alabama-greek-construction.html\n",
        "'Bama Greeks in $202 Million Building Boom"
       ]
      },
      {
       "output_type": "stream",
       "stream": "stdout",
       "text": [
        "\n",
        "992\n",
        "http://www.nytimes.com/aponline/2013/11/09/world/americas/ap-lt-colombia-club-shooting.html\n",
        "Colombia Club Shooting Leaves 8 Dead"
       ]
      },
      {
       "output_type": "stream",
       "stream": "stdout",
       "text": [
        "\n",
        "993\n",
        "http://www.nytimes.com/aponline/2013/11/09/us/ap-us-offerman-bat-attack.html\n",
        "Ex-Major Leaguer Offerman Missing Amid Attack Suit"
       ]
      },
      {
       "output_type": "stream",
       "stream": "stdout",
       "text": [
        "\n",
        "994\n",
        "http://www.nytimes.com/aponline/2013/11/09/us/ap-us-celeb-britannia-awards.html\n",
        "Sacha Baron Cohen Spices Up Newly Televised Awards"
       ]
      },
      {
       "output_type": "stream",
       "stream": "stdout",
       "text": [
        "\n",
        "995\n",
        "http://www.nytimes.com/aponline/2013/11/09/arts/ap-us-theater-porgy-and-bess-tour-list.html\n",
        "'The Gershwins' Porgy and Bess' Tour Cities"
       ]
      },
      {
       "output_type": "stream",
       "stream": "stdout",
       "text": [
        "\n",
        "996\n",
        "http://www.nytimes.com/aponline/2013/11/09/arts/ap-us-theater-porgy-and-bess-tour.html\n",
        "Cast of 'Porgy and Bess' Excited for National Tour"
       ]
      },
      {
       "output_type": "stream",
       "stream": "stdout",
       "text": [
        "\n",
        "997\n",
        "http://www.nytimes.com/aponline/2013/11/09/world/africa/ap-af-somalia-fighting.html\n",
        "Militants Attack Somalia Prison; 3 Guards Killed"
       ]
      },
      {
       "output_type": "stream",
       "stream": "stdout",
       "text": [
        "\n",
        "998\n",
        "http://www.nytimes.com/aponline/2013/11/09/us/ap-us-ride-for-asylum.html\n",
        "Legless Cyclist Rides for Asylum Seekers"
       ]
      },
      {
       "output_type": "stream",
       "stream": "stdout",
       "text": [
        "\n",
        "999\n",
        "http://krugman.blogs.nytimes.com/2013/11/09/mario-and-the-austerians/\n",
        "Mario and the Austerians"
       ]
      },
      {
       "output_type": "stream",
       "stream": "stdout",
       "text": [
        "\n",
        "1000\n",
        "http://www.nytimes.com/reuters/2013/11/09/world/middleeast/09reuters-iran-nuclear-zarif.html\n",
        "Iran Says Nuclear Talks Could Resume Soon if No Deal on Saturday"
       ]
      },
      {
       "output_type": "stream",
       "stream": "stdout",
       "text": [
        "\n",
        "1001\n",
        "http://www.nytimes.com/aponline/2013/11/09/us/ap-us-homeless-man-found-money.html\n",
        "Honesty Doesn't Pay Off for Ex-Homeless Man"
       ]
      },
      {
       "output_type": "stream",
       "stream": "stdout",
       "text": [
        "\n",
        "1002\n",
        "http://www.nytimes.com/aponline/2013/11/09/us/ap-us-food-and-farm-sleeping-apples.html\n",
        "Michigan Growers Trying to Get Apples to Doze Off"
       ]
      },
      {
       "output_type": "stream",
       "stream": "stdout",
       "text": [
        "\n",
        "1003\n",
        "http://www.nytimes.com/reuters/2013/11/09/sports/soccer/09reuters-soccer-qatar-fifa.html\n",
        "Blatter Rules Out Co-Hosting of 2022 World Cup"
       ]
      },
      {
       "output_type": "stream",
       "stream": "stdout",
       "text": [
        "\n",
        "1004\n",
        "http://www.nytimes.com/aponline/2013/11/09/world/africa/ap-af-nigeria-kano-fighting.html\n",
        "Nigerian Military Kills 5 in Kano Shoot-Out"
       ]
      },
      {
       "output_type": "stream",
       "stream": "stdout",
       "text": [
        "\n",
        "1005\n",
        "http://www.nytimes.com/reuters/2013/11/09/technology/09reuters-russia-space-olympics.html\n",
        "Cosmonauts Take Sochi Olympic Torch on Spacewalk"
       ]
      },
      {
       "output_type": "stream",
       "stream": "stdout",
       "text": [
        "\n",
        "1006\n",
        "http://www.nytimes.com/aponline/2013/11/09/sports/golf/ap-glf-turkish-airlines-open.html\n",
        "Dubuisson Leads by 5 in Turkey; Woods in the Mix"
       ]
      },
      {
       "output_type": "stream",
       "stream": "stdout",
       "text": [
        "\n",
        "1007\n",
        "http://www.nytimes.com/aponline/2013/11/09/nyregion/ap-us-nyc-mayor.html\n",
        "New Leadership Style Coming to NYC City Hall"
       ]
      },
      {
       "output_type": "stream",
       "stream": "stdout",
       "text": [
        "\n",
        "1008\n",
        "http://www.nytimes.com/aponline/2013/11/09/world/europe/ap-eu-netherlands-music-mtv-ema.html\n",
        "Afrojack: It's Fun Hosting Pop Stars in Amsterdam"
       ]
      },
      {
       "output_type": "stream",
       "stream": "stdout",
       "text": [
        "\n",
        "1009\n",
        "http://www.nytimes.com/aponline/2013/11/09/world/europe/ap-eu-britain-spying.html\n",
        "Guardian Editor to Face Lawmakers on Snowden Leaks"
       ]
      },
      {
       "output_type": "stream",
       "stream": "stdout",
       "text": [
        "\n",
        "1010\n",
        "http://www.nytimes.com/aponline/2013/11/09/sports/olympics/ap-oly-sochi-torch-in-space.html\n",
        "Olympic Torch Taken on First Spacewalk"
       ]
      },
      {
       "output_type": "stream",
       "stream": "stdout",
       "text": [
        "\n"
       ]
      }
     ],
     "prompt_number": 332
    },
    {
     "cell_type": "code",
     "collapsed": false,
     "input": [
      "article_df2 = make_article_df(regular_articles)\n",
      "print article_df2.shape\n",
      "print article_df2.head(15)"
     ],
     "language": "python",
     "metadata": {},
     "outputs": [
      {
       "output_type": "stream",
       "stream": "stdout",
       "text": [
        "(328, 13)\n",
        "         article_id popular content_type        genre section_formal  \\\n",
        "0   100000002546391       0      Article         News     Your Money   \n",
        "1   100000002544782       0      Article     Question   Business Day   \n",
        "2   100000002540735       0      Article         News   Business Day   \n",
        "3   100000002545519       0      Article         News   Business Day   \n",
        "4   100000002545517       0      Article         News   Business Day   \n",
        "5   100000002545518       0      Article         News   Business Day   \n",
        "6   100000002538217       0      Article         News        Booming   \n",
        "7   100000002545349       0      Article  An Analysis         Sports   \n",
        "8   100000002545377       0      Article         News  N.Y. / Region   \n",
        "9   100000002545363       0      Article         News         Sports   \n",
        "10  100000002545202       0      Article         News         Sports   \n",
        "11  100000002544882       0      Article         News   Business Day   \n",
        "12  100000002545113       0      Article         News   Business Day   \n",
        "13  100000002545324       0      Article         News           U.S.   \n",
        "14  100000002545030       0      Article         News  N.Y. / Region   \n",
        "\n",
        "       section        sub-category  \\\n",
        "0   your-money                       \n",
        "1     business               media   \n",
        "2     business               media   \n",
        "3     business       international   \n",
        "4     business  energy-environment   \n",
        "5     business  energy-environment   \n",
        "6      booming                       \n",
        "7       sports            football   \n",
        "8     nyregion                       \n",
        "9       sports          basketball   \n",
        "10      sports            football   \n",
        "11    business               media   \n",
        "12    business                       \n",
        "13          us                       \n",
        "14    nyregion                       \n",
        "\n",
        "                                                title  \\\n",
        "0                      Tidying Up Your Financial Life   \n",
        "1                       Q. and A. With Stuart Elliott   \n",
        "2   Accounts and People of Note in the Advertising...   \n",
        "3                    Energy Crunch for Britain\u2019s Poor   \n",
        "4   Japan\u2019s Delicate Search for a Way to Breed Tun...   \n",
        "5   Solar Power Begins to Shine as Environmental B...   \n",
        "6     The Blackout That Exposed the Flaws in the Grid   \n",
        "7   Week 10 N.F.L. Quick Hits: A Broncos Offense T...   \n",
        "8                Woman Shot Near Campus in New Jersey   \n",
        "9         Game to Watch: Pacers Streak Toward Chicago   \n",
        "10                           Day\u2019s Best in the N.F.L.   \n",
        "11  Gun Violence in American Movies Is Rising, Stu...   \n",
        "12  Postal Service to Make Sunday Deliveries for A...   \n",
        "13  In Detroit, Protests of Shooting of Woman Who ...   \n",
        "14                                      Parking Rules   \n",
        "\n",
        "                               author post_length  \\\n",
        "0                       CARL RICHARDS         706   \n",
        "1                      STUART ELLIOTT         319   \n",
        "2                  THE NEW YORK TIMES        1126   \n",
        "3                       BETH GARDINER        1496   \n",
        "4                       YURIKO NAGANO        1082   \n",
        "5                     DIANA S. POWERS        1373   \n",
        "6                     MATTHEW L. WALD        1345   \n",
        "7                         ANDY BENOIT        1705   \n",
        "8                                             131   \n",
        "9                      JONAH BROMWICH         692   \n",
        "10  THE ASSOCIATED PRESS;TONY GERVINO         612   \n",
        "11                     MICHAEL CIEPLY         434   \n",
        "12                          RON NIXON         780   \n",
        "13                       RAVI SOMAIYA         417   \n",
        "14                                             21   \n",
        "\n",
        "                                                  url page_num  \\\n",
        "0   http://www.nytimes.com/2013/11/11/your-money/t...            \n",
        "1   http://www.nytimes.com/2013/11/11/business/med...            \n",
        "2   http://www.nytimes.com/2013/11/11/business/med...            \n",
        "3   http://www.nytimes.com/2013/11/11/business/int...            \n",
        "4   http://www.nytimes.com/2013/11/11/business/ene...            \n",
        "5   http://www.nytimes.com/2013/11/11/business/ene...            \n",
        "6   http://www.nytimes.com/2013/11/11/booming/the-...            \n",
        "7   http://www.nytimes.com/2013/11/11/sports/footb...            \n",
        "8   http://www.nytimes.com/2013/11/11/nyregion/wom...            \n",
        "9   http://www.nytimes.com/2013/11/11/sports/baske...            \n",
        "10  http://www.nytimes.com/2013/11/11/sports/footb...        4   \n",
        "11  http://www.nytimes.com/2013/11/11/business/med...        5   \n",
        "12  http://www.nytimes.com/2013/11/11/business/pos...        1   \n",
        "13  http://www.nytimes.com/2013/11/11/us/in-detroi...       15   \n",
        "14  http://www.nytimes.com/2013/11/11/nyregion/par...       23   \n",
        "\n",
        "                                                 text  \n",
        "0   From buying a home to paying for college our f...  \n",
        "1   Stuart Elliott the advertising columnist answe...  \n",
        "2   American Advertising Federation Washington ren...  \n",
        "3   LONDON \u0080\u0094 Avagay Mowatt knows that there will ...  \n",
        "4   NAGASAKI Japan \u0080\u0094 Keiichi Mushiake slowly push...  \n",
        "5   PARIS \u0080\u0094 Amid polemics over rising electricity...  \n",
        "6    On a late Thursday afternoon in the summer of...  \n",
        "7    Broncos 28 Chargers 20   Demaryius Thomas\u0080\u0099s ...  \n",
        "8   shortarticle A gunman shot a 27-year-old woman...  \n",
        "9   Each week during the N.B.A. season The New Yor...  \n",
        "10  The Colts could not catch the Rams rookie  Tav...  \n",
        "11  LOS ANGELES \u0080\u0094 A study set for publication in ...  \n",
        "12  WASHINGTON \u0080\u0094 The cash-short United States Pos...  \n",
        "13  Civil rights groups protested in Detroit this ...  \n",
        "14  shortarticle Because of Veterans Day alternate...  \n"
       ]
      },
      {
       "output_type": "stream",
       "stream": "stderr",
       "text": [
        "//anaconda/python.app/Contents/lib/python2.7/site-packages/pandas/core/config.py:570: DeprecationWarning: height has been deprecated.\n",
        "\n",
        "  warnings.warn(d.msg, DeprecationWarning)\n",
        "//anaconda/python.app/Contents/lib/python2.7/site-packages/pandas/core/config.py:570: DeprecationWarning: height has been deprecated.\n",
        "\n",
        "  warnings.warn(d.msg, DeprecationWarning)\n"
       ]
      }
     ],
     "prompt_number": 333
    },
    {
     "cell_type": "code",
     "collapsed": false,
     "input": [
      "## testing specific urls\n",
      "## print article_df2.text[9]"
     ],
     "language": "python",
     "metadata": {},
     "outputs": [],
     "prompt_number": 289
    },
    {
     "cell_type": "code",
     "collapsed": false,
     "input": [
      "## merge popular and regular article dfs\n",
      "\n",
      "article_df3 = article_df1.append(article_df2)\n",
      "print 'total article df shape:',article_df3.shape"
     ],
     "language": "python",
     "metadata": {},
     "outputs": [
      {
       "output_type": "stream",
       "stream": "stdout",
       "text": [
        "total article df shape: (158, 13)\n"
       ]
      }
     ],
     "prompt_number": 300
    },
    {
     "cell_type": "code",
     "collapsed": false,
     "input": [
      "## remove duplicates \n",
      "df4 = article_df3.drop_duplicates(cols='article_id', take_last=True)\n",
      "\n",
      "print 'total article df shape:',df4.shape\n",
      "print 'total popular:', df4[df4.popular==1].shape[0]\n",
      "print 'total unpopular:', df4[df4.popular==0].shape[0]"
     ],
     "language": "python",
     "metadata": {},
     "outputs": [
      {
       "output_type": "stream",
       "stream": "stdout",
       "text": [
        "total article df shape: (158, 13)\n",
        "total popular: 95\n",
        "total unpopular: 63\n"
       ]
      }
     ],
     "prompt_number": 301
    },
    {
     "cell_type": "code",
     "collapsed": false,
     "input": [
      "## save article data to csv\n",
      "\n",
      "article_df2.to_csv('going_back_test2.csv', sep=',', encoding='utf-8')"
     ],
     "language": "python",
     "metadata": {},
     "outputs": [],
     "prompt_number": 318
    },
    {
     "cell_type": "heading",
     "level": 3,
     "metadata": {},
     "source": [
      "TESTING BLOCKS"
     ]
    },
    {
     "cell_type": "code",
     "collapsed": false,
     "input": [
      "## TEST BLOCK\n",
      "##\n",
      "## this code block tests out all our helper functions which we use in the big block below\n",
      "##\n",
      "\n",
      "api = \"POPULAR\"\n",
      "popular = 1 if api == \"POPULAR\" else 0\n",
      "\n",
      "test_call = calls[0]\n",
      "## print test_call\n",
      "\n",
      "test_json = json.loads(test_call)\n",
      "## print test_json\n",
      "\n",
      "j = test_json[\"results\"] if api == 'POPULAR' else test_json[\"response\"][\"docs\"]\n",
      "## print j[1]\n",
      "\n",
      "test_url = j[1][\"url\"] if api == 'POPULAR' else j[0][\"web_url\"]\n",
      "## print test_url\n",
      "\n",
      "test_soup = make_soup(test_url)\n",
      "## print test_soup\n",
      "\n",
      "test_articleid = get_article_id(test_soup)\n",
      "## print test_articleid\n",
      "\n",
      "test_text = get_article_text(test_soup)\n",
      "## print test_text\n",
      "\n",
      "test_cleantext = cleanup_text(test_text)\n",
      "## print test_cleantext\n",
      "\n",
      "test_count, test_avg_word_len, test_happiness, test_senti_df = text_to_words(test_cleantext)\n",
      "\n",
      "## print test_count\n",
      "## print 'df:',test_senti_df.head()\n"
     ],
     "language": "python",
     "metadata": {},
     "outputs": [],
     "prompt_number": 519
    },
    {
     "cell_type": "code",
     "collapsed": false,
     "input": [
      "test_soup = make_soup(\"http://www.nytimes.com/2013/12/11/sports/basketball/williams-and-pierce-return-and-so-does-nets-ability-to-stay-in-a-game.html\")\n",
      "## print test_soup\n",
      "\n",
      "test_metadata = get_article_metadata(test_soup)\n",
      "## print test_articleid\n",
      "\n",
      "test_text = get_article_text(test_soup, content_type, content_genre)\n",
      "## print test_text\n",
      "\n",
      "test_cleaned_text = cleanup_text(test_text, content_type)\n",
      "print test_cleaned_text\n",
      "\n"
     ],
     "language": "python",
     "metadata": {},
     "outputs": [
      {
       "ename": "TypeError",
       "evalue": "get_article_metadata() takes exactly 3 arguments (1 given)",
       "output_type": "pyerr",
       "traceback": [
        "\u001b[0;31m---------------------------------------------------------------------------\u001b[0m\n\u001b[0;31mTypeError\u001b[0m                                 Traceback (most recent call last)",
        "\u001b[0;32m<ipython-input-353-e2faf6eea648>\u001b[0m in \u001b[0;36m<module>\u001b[0;34m()\u001b[0m\n\u001b[1;32m      2\u001b[0m \u001b[0;31m## print test_soup\u001b[0m\u001b[0;34m\u001b[0m\u001b[0;34m\u001b[0m\u001b[0m\n\u001b[1;32m      3\u001b[0m \u001b[0;34m\u001b[0m\u001b[0m\n\u001b[0;32m----> 4\u001b[0;31m \u001b[0mtest_metadata\u001b[0m \u001b[0;34m=\u001b[0m \u001b[0mget_article_metadata\u001b[0m\u001b[0;34m(\u001b[0m\u001b[0mtest_soup\u001b[0m\u001b[0;34m)\u001b[0m\u001b[0;34m\u001b[0m\u001b[0m\n\u001b[0m\u001b[1;32m      5\u001b[0m \u001b[0;31m## print test_articleid\u001b[0m\u001b[0;34m\u001b[0m\u001b[0;34m\u001b[0m\u001b[0m\n\u001b[1;32m      6\u001b[0m \u001b[0;34m\u001b[0m\u001b[0m\n",
        "\u001b[0;31mTypeError\u001b[0m: get_article_metadata() takes exactly 3 arguments (1 given)"
       ]
      }
     ],
     "prompt_number": 353
    },
    {
     "cell_type": "code",
     "collapsed": false,
     "input": [
      "## test block for regular NYT articles\n",
      "\n",
      "test_call = article_calls[0]\n",
      "## print test_call\n",
      "\n",
      "## NB: there's a slightly different json structure for this API vs Most Popular API\n",
      "## this path gives the directory location of the actual article URL\n",
      "\n",
      "test_json = json.loads(test_call)[\"response\"][\"docs\"][0][\"web_url\"]\n",
      "##print test_json\n",
      "\n",
      "## NB: this is what the path to the article title looksl ike for Articles API\n",
      "## json[\"response\"][\"docs\"][0][\"headline\"][\"main\"]\n",
      "## ...and for section:\n",
      "## json[\"response\"][\"docs\"][0][\"section_name\"]\n",
      "\n",
      "test_soup = make_soup(test_json)\n",
      "## print test_soup\n",
      "\n",
      "test_articleid = get_article_id(test_soup)\n",
      "## print test_articleid\n",
      "\n",
      "test_text = get_article_text(test_soup)\n",
      "## print test_text\n",
      "\n",
      "test_cleantext = cleanup_text(test_text)\n",
      "## print test_cleantext\n",
      "\n",
      "test_count, test_avg_word_len, test_happiness, test_senti_df = text_to_words(test_cleantext)\n"
     ],
     "language": "python",
     "metadata": {},
     "outputs": [],
     "prompt_number": 561
    },
    {
     "cell_type": "code",
     "collapsed": false,
     "input": [
      "##\n",
      "## Here we can print out a list of all the NYT paper sections\n",
      "##\n",
      "'''\n",
      "section_list_url = \"http://api.nytimes.com/svc/mostpopular/v2/mostshared/sections-list.json?api-key=\"\n",
      "\n",
      "api=\"POPULAR\"\n",
      "range_min = 0\n",
      "range_max = 20\n",
      "increment = 20\n",
      "\n",
      "jsons = call_nyt_api(api, section_list_url, api_key_popular, range_min, range_max, increment)\n",
      "\n",
      "for item in jsons[0]:\n",
      "    print item[\"name\"]\n",
      "'''"
     ],
     "language": "python",
     "metadata": {},
     "outputs": [
      {
       "metadata": {},
       "output_type": "pyout",
       "prompt_number": 649,
       "text": [
        "'\\nsection_list_url = \"http://api.nytimes.com/svc/mostpopular/v2/mostshared/sections-list.json?api-key=\"\\n\\napi=\"POPULAR\"\\nrange_min = 0\\nrange_max = 20\\nincrement = 20\\n\\njsons = call_nyt_api(api, section_list_url, api_key_popular, range_min, range_max, increment)\\n\\nfor item in jsons[0]:\\n    print item[\"name\"]\\n'"
       ]
      }
     ],
     "prompt_number": 649
    }
   ],
   "metadata": {}
  }
 ]
}