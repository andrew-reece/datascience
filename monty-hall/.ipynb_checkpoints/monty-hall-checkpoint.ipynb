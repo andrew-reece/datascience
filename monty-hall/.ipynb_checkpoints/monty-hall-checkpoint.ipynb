{
 "metadata": {
  "name": ""
 },
 "nbformat": 3,
 "nbformat_minor": 0,
 "worksheets": [
  {
   "cells": [
    {
     "cell_type": "markdown",
     "metadata": {},
     "source": [
      "# The Monty Hall Problem - A Pythonic Implementation"
     ]
    },
    {
     "cell_type": "markdown",
     "metadata": {},
     "source": [
      "In a gameshow, contestants try to guess which of 3 closed doors contain a cash prize (goats are behind the other two doors). Of course, the odds of choosing the correct door are 1 in 3. As a twist, the host of the show occasionally opens a door after a contestant makes his or her choice. This door is always one of the two the contestant did not pick, and is also always one of the goat doors (note that it is always possible to do this, since there are two goat doors). At this point, the contestant has the option of keeping his or her original choice, or swtiching to the other unopened door. The question is: is there any benefit to switching doors? The answer surprises many people who haven't heard the question before.\n",
      "\n",
      "We can answer the problem by running simulations in Python. We'll do it in several parts.\n",
      "\n",
      "First, write a function called `simulate_prizedoor`. This function will simulate the location of the prize in many games -- see the detailed specification below:"
     ]
    },
    {
     "cell_type": "code",
     "collapsed": false,
     "input": [
      "import IPython\n",
      "import numpy as np\n",
      "import scipy as sp\n",
      "import pandas as pd\n",
      "import matplotlib\n",
      "import sklearn\n",
      "import requests\n",
      "import networkx as nx\n",
      "import BeautifulSoup\n",
      "import mrjob\n",
      "import pattern\n",
      "%matplotlib inline  \n",
      "\n",
      "# this actually imports matplotlib\n",
      "import matplotlib.pyplot as plt  "
     ],
     "language": "python",
     "metadata": {},
     "outputs": [
      {
       "output_type": "stream",
       "stream": "stdout",
       "text": [
        "IPython version:       1.0.0 (need at least 1.0)\n",
        "Numpy version:         1.7.1 (need at least 1.7.1)\n",
        "SciPy version:        0.12.0 (need at least 0.12.0)"
       ]
      },
      {
       "output_type": "stream",
       "stream": "stdout",
       "text": [
        "\n",
        "Pandas version:       0.11.0 (need at least 0.11.0)"
       ]
      },
      {
       "output_type": "stream",
       "stream": "stdout",
       "text": [
        "\n",
        "Mapltolib version:     1.2.1 (need at least 1.2.1)\n",
        "Scikit-Learn version: 0.13.1 (need at least 0.13.1)"
       ]
      },
      {
       "output_type": "stream",
       "stream": "stdout",
       "text": [
        "\n",
        "requests version:      1.2.3 (need at least 1.2.3)"
       ]
      },
      {
       "output_type": "stream",
       "stream": "stdout",
       "text": [
        "\n",
        "NetworkX version:        1.7 (need at least 1.7)"
       ]
      },
      {
       "output_type": "stream",
       "stream": "stdout",
       "text": [
        "\n",
        "BeautifulSoup version: 3.2.1 (need at least 3.2)"
       ]
      },
      {
       "output_type": "stream",
       "stream": "stdout",
       "text": [
        "\n",
        "Mr Job version:          0.4 (need at least 0.4)\n",
        "Pattern version:         2.6 (need at least 2.6)"
       ]
      },
      {
       "output_type": "stream",
       "stream": "stdout",
       "text": [
        "\n"
       ]
      }
     ],
     "prompt_number": 2
    },
    {
     "cell_type": "code",
     "collapsed": false,
     "input": [
      "\"\"\"\n",
      "Function\n",
      "--------\n",
      "simulate_prizedoor\n",
      "\n",
      "Generate a random array of 0s, 1s, and 2s, representing\n",
      "hiding a prize between door 0, door 1, and door 2\n",
      "\n",
      "Parameters\n",
      "----------\n",
      "nsim : int\n",
      "    The number of simulations to run\n",
      "\n",
      "Returns\n",
      "-------\n",
      "sims : array\n",
      "    Random array of 0s, 1s, and 2s\n",
      "\n",
      "Example\n",
      "-------\n",
      ">>> print simulate_prizedoor(3)\n",
      "array([0, 0, 2])\n",
      "\"\"\""
     ],
     "language": "python",
     "metadata": {},
     "outputs": [],
     "prompt_number": 251
    },
    {
     "cell_type": "markdown",
     "metadata": {},
     "source": [
      "**AR NOTES**\n",
      "\n",
      "The following code should work now for any number of games and any number of doors.\n",
      "\n",
      "One way to keep # games and # doors open-ended is to query the user using input(), but this barfs in iPython.\n",
      "eg.:\n",
      "    number_of_games = input('How many games would you like to run? ')\n",
      "    same for num_doors and num_goats_revealed"
     ]
    },
    {
     "cell_type": "code",
     "collapsed": false,
     "input": [
      "# for now we can just set these values at the head of the code file\n",
      "number_of_games = 10\n",
      "number_of_doors = 3\n",
      "number_of_goats_revealed = number_of_doors - 2\n",
      "\n",
      "def simulate_prizedoor(nsim):\n",
      "    #compute here\n",
      "    \n",
      "    # initialize list\n",
      "    sims=[]\n",
      "    # populate with random doors of [#doors-1] (this accounts for 0-indexing)\n",
      "    sims = [np.random.random_integers(0,number_of_doors-1) for _ in range(0, nsim)]\n",
      "    return sims\n",
      "\n",
      "#your code here\n",
      "\n",
      "# assign list of doors to 'simDoors'\n",
      "simDoors = simulate_prizedoor(number_of_games)\n",
      "\n",
      "# display output\n",
      "# print 'The prize doors:', simDoors"
     ],
     "language": "python",
     "metadata": {},
     "outputs": [
      {
       "output_type": "stream",
       "stream": "stdout",
       "text": [
        "The prize doors: [2, 2, 2, 0, 1, 2, 1, 0, 0, 0]\n"
       ]
      }
     ],
     "prompt_number": 8
    },
    {
     "cell_type": "markdown",
     "metadata": {},
     "source": [
      "Next, write a function that simulates the contestant's guesses for `nsim` simulations. Call this function `simulate_guess`. The specs:"
     ]
    },
    {
     "cell_type": "code",
     "collapsed": false,
     "input": [
      "\"\"\"\n",
      "Function\n",
      "--------\n",
      "simulate_guess\n",
      "\n",
      "Return any strategy for guessing which door a prize is behind. This\n",
      "could be a random strategy, one that always guesses 2, whatever.\n",
      "\n",
      "Parameters\n",
      "----------\n",
      "nsim : int\n",
      "    The number of simulations to generate guesses for\n",
      "\n",
      "Returns\n",
      "-------\n",
      "guesses : array\n",
      "    An array of guesses. Each guess is a 0, 1, or 2\n",
      "\n",
      "Example\n",
      "-------\n",
      ">>> print simulate_guess(5)\n",
      "array([0, 0, 0, 0, 0])\n",
      "\"\"\""
     ],
     "language": "python",
     "metadata": {},
     "outputs": [],
     "prompt_number": 252
    },
    {
     "cell_type": "code",
     "collapsed": false,
     "input": [
      "#your code here\n",
      "def simulate_guess(nsim):\n",
      "    # initialize\n",
      "    guesses = []\n",
      "    # populate - same as simDoors routine\n",
      "    guesses = [np.random.random_integers(0,number_of_doors-1) for _ in xrange(nsim)]\n",
      "    return guesses\n",
      "\n",
      "simGuesses = simulate_guess(number_of_games)\n",
      "\n",
      "# display output\n",
      "# print 'The guesses: ', simGuesses"
     ],
     "language": "python",
     "metadata": {},
     "outputs": [
      {
       "output_type": "stream",
       "stream": "stdout",
       "text": [
        "The guesses:  [2, 2, 2, 1, 1, 0, 1, 1, 2, 0]\n"
       ]
      }
     ],
     "prompt_number": 9
    },
    {
     "cell_type": "markdown",
     "metadata": {},
     "source": [
      "Next, write a function, `goat_door`, to simulate randomly revealing one of the goat doors that a contestant didn't pick."
     ]
    },
    {
     "cell_type": "code",
     "collapsed": false,
     "input": [
      "\"\"\"\n",
      "Function\n",
      "--------\n",
      "goat_door\n",
      "\n",
      "Simulate the opening of a \"goat door\" that doesn't contain the prize,\n",
      "and is different from the contestants guess\n",
      "\n",
      "Parameters\n",
      "----------\n",
      "prizedoors : array\n",
      "    The door that the prize is behind in each simulation\n",
      "guesses : array\n",
      "    THe door that the contestant guessed in each simulation\n",
      "\n",
      "Returns\n",
      "-------\n",
      "goats : array\n",
      "    The goat door that is opened for each simulation. Each item is 0, 1, or 2, and is different\n",
      "    from both prizedoors and guesses\n",
      "\n",
      "Examples\n",
      "--------\n",
      ">>> print goat_door(np.array([0, 1, 2]), np.array([1, 1, 1]))\n",
      ">>> array([2, 2, 0])\n",
      "\"\"\""
     ],
     "language": "python",
     "metadata": {},
     "outputs": [],
     "prompt_number": 253
    },
    {
     "cell_type": "code",
     "collapsed": false,
     "input": [
      "#your code here\n",
      "\n",
      "# load math for fabs() \n",
      "import math\n",
      "\n",
      "# FUNCTION: goat_door\n",
      "# input: arrays of prize doors and guesses\n",
      "# output: array of revealed goat doors\n",
      "def goat_door(prizedoors, guesses):\n",
      "    \n",
      "    # initialize goats array\n",
      "    goats = []\n",
      "    \n",
      "    # LOOP\n",
      "    # iterate through each 'game' where there's a prize door and a guessed door"
     ],
     "language": "python",
     "metadata": {},
     "outputs": []
    },
    {
     "cell_type": "markdown",
     "metadata": {},
     "source": [
      "**QUESTION**\n",
      "\n",
      "I understand how to vectorize single operations in python, such as computing doors/guesses and populating arrays\n",
      "\n",
      "But can you vectorize/array-orient series of commands, like with the apply family functions in R?"
     ]
    },
    {
     "cell_type": "code",
     "collapsed": false,
     "input": [
      "for i in xrange(number_of_games):\n",
      "        \n",
      "        # make an array with all possible door choices\n",
      "        doors = range(0, number_of_doors)\n",
      "        # for readability \n",
      "        this_prize = prizedoors[i]\n",
      "        this_guess = guesses[i]\n",
      "        \n",
      "        # remove prize, guess, from doors[] and return what's left over in goats[]\n",
      "        # (slightly redundant if prize == guess, but when len(doors) gets big, this is the easiest omnibus implementation)\n",
      "        if this_prize in doors: doors.remove(this_prize)\n",
      "        if this_guess in doors: doors.remove(this_guess)\n",
      "        goats.append(doors[0:number_of_goats_revealed])\n",
      "    \n",
      "    return goats\n",
      "\n",
      "# execute\n",
      "simGoats = goat_door(simDoors, simGuesses)\n",
      "\n",
      "# display output\n",
      "#print 'The prize doors: ', simDoors\n",
      "#print 'The guesses:     ', simGuesses\n",
      "#print 'The goat doors:  ', simGoats\n"
     ],
     "language": "python",
     "metadata": {},
     "outputs": []
    },
    {
     "cell_type": "markdown",
     "metadata": {},
     "source": [
      "Write a function, `switch_guess`, that represents the strategy of always switching a guess after the goat door is opened."
     ]
    },
    {
     "cell_type": "code",
     "collapsed": false,
     "input": [
      "\"\"\"\n",
      "Function\n",
      "--------\n",
      "switch_guess\n",
      "\n",
      "The strategy that always switches a guess after the goat door is opened\n",
      "\n",
      "Parameters\n",
      "----------\n",
      "guesses : array\n",
      "     Array of original guesses, for each simulation\n",
      "goatdoors : array\n",
      "     Array of revealed goat doors for each simulation\n",
      "\n",
      "Returns\n",
      "-------\n",
      "The new door after switching. Should be different from both guesses and goatdoors\n",
      "\n",
      "Examples\n",
      "--------\n",
      ">>> print switch_guess(np.array([0, 1, 2]), np.array([1, 2, 1]))\n",
      ">>> array([2, 0, 0])\n",
      "\"\"\"\n",
      "#your code here\n",
      "\n",
      "def switch_guess(guesses, goatdoors):\n",
      "    # initialize array for new (ie. switched) choices\n",
      "    new_picks = []\n",
      "    \n",
      "    # LOOP\n",
      "    # iterate through all games, switch choice in each one\n",
      "    for i in xrange(number_of_games):\n",
      "        doors = range(0, number_of_doors)\n",
      "        these_goats = goatdoors[i]\n",
      "        this_guess = guesses[i]\n",
      "        \n",
      "        # go through each goat in the revealed goat doors\n",
      "        # remove that value from doors()\n",
      "        for i in xrange(len(these_goats)):\n",
      "            if these_goats[i] in doors: doors.remove(these_goats[i])\n",
      "        # then remove the guess value from doors()\n",
      "        if this_guess in doors: doors.remove(this_guess)\n",
      "        # what's left is the door you'd switch to\n",
      "        new_picks.append(doors[0])\n",
      "    return new_picks\n",
      "\n",
      "simSwitches = switch_guess(simGuesses, simGoats)\n",
      "\n",
      "# display output\n",
      "#print 'The guesses:     ', simGuesses\n",
      "#print 'The prize doors: ', simDoors\n",
      "#print 'The goat doors:  ', simGoats\n",
      "#print 'New picks:       ', simSwitches"
     ],
     "language": "python",
     "metadata": {},
     "outputs": [],
     "prompt_number": 254
    },
    {
     "cell_type": "markdown",
     "metadata": {},
     "source": [
      "Last function: write a `win_percentage` function that takes an array of `guesses` and `prizedoors`, and returns the percent of correct guesses"
     ]
    },
    {
     "cell_type": "code",
     "collapsed": false,
     "input": [
      "\"\"\"\n",
      "Function\n",
      "--------\n",
      "win_percentage\n",
      "\n",
      "Calculate the percent of times that a simulation of guesses is correct\n",
      "\n",
      "Parameters\n",
      "-----------\n",
      "guesses : array\n",
      "    Guesses for each simulation\n",
      "prizedoors : array\n",
      "    Location of prize for each simulation\n",
      "\n",
      "Returns\n",
      "--------\n",
      "percentage : number between 0 and 100\n",
      "    The win percentage\n",
      "\n",
      "Examples\n",
      "---------\n",
      ">>> print win_percentage(np.array([0, 1, 2]), np.array([0, 0, 0]))\n",
      "33.333\n",
      "\"\"\"\n",
      "#your code here\n",
      "def win_percentage(guesses, prizedoors):\n",
      "    \n",
      "    wins = 0\n",
      "    \n",
      "    for i in xrange(number_of_games):\n",
      "        this_guess = guesses[i]\n",
      "        this_prizedoor = prizedoors[i]\n",
      "        if this_guess == this_prizedoor: wins += 1\n",
      "\n",
      "    return float(wins)/number_of_games*100\n",
      "\n",
      "no_switch_winrate = str(win_percentage(simGuesses, simDoors))\n",
      "switch_winrate = str(win_percentage(simSwitches, simDoors))"
     ],
     "language": "python",
     "metadata": {},
     "outputs": [],
     "prompt_number": 255
    },
    {
     "cell_type": "markdown",
     "metadata": {},
     "source": [
      "Now, put it together. Simulate 10000 games where contestant keeps his original guess, and 10000 games where the contestant switches his door after a  goat door is revealed. Compute the percentage of time the contestant wins under either strategy. Is one strategy better than the other?"
     ]
    },
    {
     "cell_type": "code",
     "collapsed": false,
     "input": [
      "#your code here\n",
      "print 'If you stuck with your original choice always, you won', no_switch_winrate, '% of the time.'\n",
      "print 'If you changed your original choice always, you won', switch_winrate, '% of the time.'\n",
      "\n",
      "phrases = {\n",
      "           'switch':'So it turns out that switching is better than staying.', \n",
      "           'stay':'So it turns out that staying is better than switching.',\n",
      "           'same':'So it turns out that switching and staying are about the same.'\n",
      "           }\n",
      "\n",
      "\n",
      "if switch_winrate > no_switch_winrate: print phrases['switch']\n",
      "elif switch_winrate < no_switch_winrate: print phrases['stay']\n",
      "else: print phrases['same']\n",
      "    "
     ],
     "language": "python",
     "metadata": {},
     "outputs": [
      {
       "output_type": "stream",
       "stream": "stdout",
       "text": [
        "If you stuck with your original choice always, you won 34.04 % of the time.\n",
        "If you changed your original choice always, you won 65.96 % of the time.\n",
        "So it turns out that switching is better than staying.\n"
       ]
      }
     ],
     "prompt_number": 256
    },
    {
     "cell_type": "markdown",
     "metadata": {},
     "source": [
      "Many people find this answer counter-intuitive (famously, PhD mathematicians have incorrectly claimed the result must be wrong. Clearly, none of them knew Python). \n",
      "\n",
      "One of the best ways to build intuition about why opening a Goat door affects the odds is to re-run the experiment with 100 doors and one prize. If the game show host opens 98 goat doors after you make your initial selection, would you want to keep your first pick or switch? Can you generalize your simulation code to handle the case of `n` doors?"
     ]
    }
   ],
   "metadata": {}
  }
 ]
}